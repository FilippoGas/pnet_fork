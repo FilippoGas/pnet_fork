{
 "cells": [
  {
   "cell_type": "markdown",
   "id": "6b99104d-cd13-4414-9ce4-ebcc3aaf83e9",
   "metadata": {},
   "source": [
    "We will look at the performance of Pnet against:\n",
    " - an equally sparse but randomly connected feed forward neural network (sparseNN)\n",
    " - a fully connected feed forward neural network (fcNN)\n",
    " - a random forest classifier model (RF)\n",
    " - a svm classifier model (SVM)\n",
    "\n",
    "The benchmarking task is done on the original prostate dataset from the 2019 paper"
   ]
  },
  {
   "cell_type": "markdown",
   "id": "5f9ff9cd-f7ff-41e5-8f27-ca8b94171636",
   "metadata": {},
   "source": [
    "### Loading the data"
   ]
  },
  {
   "cell_type": "code",
   "execution_count": 1,
   "id": "dac7fdef-ab5c-4da2-a50c-e38fce3e4a3c",
   "metadata": {},
   "outputs": [],
   "source": [
    "import pnet_loader\n",
    "import util\n",
    "import Pnet\n",
    "import torch\n",
    "import random\n",
    "import seaborn as sns\n",
    "import pandas as pd\n",
    "import os\n",
    "from sklearn import metrics\n",
    "import matplotlib.pyplot as plt\n",
    "from sklearn.metrics import roc_auc_score\n",
    "from sklearn.ensemble import RandomForestClassifier\n",
    "from sklearn.datasets import make_classification\n",
    "from sklearn.svm import SVC\n",
    "import torch.nn.functional as F\n",
    "import torch.nn as nn\n",
    "\n",
    "\n",
    "%load_ext autoreload\n",
    "%autoreload 2"
   ]
  },
  {
   "cell_type": "code",
   "execution_count": 2,
   "id": "888a6ca3-db1e-47a7-8f59-7cd360908582",
   "metadata": {},
   "outputs": [],
   "source": [
    "prostate_mutations = pd.read_csv('/mnt/disks/pancan/pnet_database/prostate/processed/P1000_final_analysis_set_cross_important_only.csv')\n",
    "prostate_mutations.set_index('Tumor_Sample_Barcode', inplace=True)\n",
    "\n",
    "prostate_cnv = pd.read_csv('/mnt/disks/pancan/pnet_database/prostate/processed/P1000_data_CNA_paper.csv')\n",
    "prostate_cnv.rename(columns={\"Unnamed: 0\": \"Tumor_Sample_Barcode\"}, inplace=True)\n",
    "prostate_cnv.set_index('Tumor_Sample_Barcode', inplace=True)\n",
    "\n",
    "prostate_response = pd.read_csv('/mnt/disks/pancan/pnet_database/prostate/processed/response_paper.csv')\n",
    "prostate_response.rename(columns={'id': \"Tumor_Sample_Barcode\"}, inplace=True)\n",
    "prostate_response.set_index('Tumor_Sample_Barcode', inplace=True)\n",
    "\n",
    "prostate_genes = pd.read_csv('/mnt/disks/pancan/pnet_database/genes/tcga_prostate_expressed_genes_and_cancer_genes.csv')\n",
    "prostate_genes = list(set(prostate_genes['genes']).intersection(set(prostate_mutations.columns)).intersection(set(prostate_cnv.columns)))\n",
    "\n",
    "# prostate_mutations = pd.read_csv('../../data/pnet_database/prostate/processed/P1000_final_analysis_set_cross_important_only.csv')\n",
    "# prostate_mutations.set_index('Tumor_Sample_Barcode', inplace=True)\n",
    "\n",
    "# prostate_cnv = pd.read_csv('../../data/pnet_database/prostate/processed/P1000_data_CNA_paper.csv')\n",
    "# prostate_cnv.rename(columns={\"Unnamed: 0\": \"Tumor_Sample_Barcode\"}, inplace=True)\n",
    "# prostate_cnv.set_index('Tumor_Sample_Barcode', inplace=True)\n",
    "\n",
    "# prostate_response = pd.read_csv('../../data/pnet_database/prostate/processed/response_paper.csv')\n",
    "# prostate_response.rename(columns={'id': \"Tumor_Sample_Barcode\"}, inplace=True)\n",
    "# prostate_response.set_index('Tumor_Sample_Barcode', inplace=True)\n",
    "\n",
    "# prostate_genes = pd.read_csv('../../data/pnet_database/genes/tcga_prostate_expressed_genes_and_cancer_genes.csv')\n",
    "# prostate_genes = list(set(prostate_genes['genes']).intersection(set(prostate_mutations.columns)).intersection(set(prostate_cnv.columns)))\n",
    "\n",
    "prostate_cnv = prostate_cnv[prostate_genes].copy()\n",
    "prostate_mutations = prostate_mutations[prostate_genes].copy()\n",
    "\n",
    "# prostate_genes = util.select_highly_variable_genes(prostate_mutations)\n",
    "# prostate_genes = prostate_genes['level_1']\n",
    "prostate_mutations = prostate_mutations[list(set(prostate_mutations.columns).intersection(prostate_genes))].copy()\n",
    "prostate_cnv = prostate_cnv[list(set(prostate_cnv.columns).intersection(prostate_genes))].copy()\n",
    "\n",
    "# Regenerate input as specified in prostate_paper\n",
    "prostate_mutations = (prostate_mutations > 0).astype(int)\n",
    "prostate_amp = (prostate_cnv > 1).astype(int)\n",
    "prostate_del = (prostate_cnv < -1).astype(int)\n",
    "\n",
    "genetic_data = {'mut': prostate_mutations, 'amp': prostate_amp, 'del': prostate_del}\n",
    "\n",
    "canc_genes = list(pd.read_csv('../../pnet_database/genes/cancer_genes.txt').values.reshape(-1))"
   ]
  },
  {
   "cell_type": "markdown",
   "id": "d4bb6e50-7bf0-497c-beeb-1159780d2aef",
   "metadata": {},
   "source": [
    "Generate train test splits for 10 fold CV, not to run again if saved splits are available"
   ]
  },
  {
   "cell_type": "code",
   "execution_count": 3,
   "id": "c9c5088c-3b9a-4222-9328-918eeb5cf597",
   "metadata": {
    "tags": []
   },
   "outputs": [],
   "source": [
    "# prostate_inds = pnet_loader.get_indicies(genetic_data, prostate_response)\n",
    "# random.shuffle(prostate_inds)\n",
    "\n",
    "# def chunks(lst, n):\n",
    "#     \"\"\"Yield successive n-sized chunks from lst.\"\"\"\n",
    "#     for i in range(0, len(lst), n):\n",
    "#         yield lst[i:i + n]\n",
    "        \n",
    "# test_splits = chunks(prostate_inds, int(len(prostate_inds)/10)+1)\n",
    "# for i, s in enumerate(test_splits):\n",
    "#     train_dataset, test_dataset = pnet_loader.generate_train_test(genetic_data, prostate_response, test_inds=s)\n",
    "#     train_dataset.save_indicies('../data/splits/train_set_{}.csv'.format(i))\n",
    "#     test_dataset.save_indicies('../data/splits/test_set_{}.csv'.format(i))"
   ]
  },
  {
   "cell_type": "code",
   "execution_count": 4,
   "id": "073f20b7-4c66-484b-ac4d-b2956e8071aa",
   "metadata": {},
   "outputs": [],
   "source": [
    "# from sklearn.model_selection import StratifiedKFold\n",
    "\n",
    "# prostate_inds = pnet_loader.get_indicies(genetic_data, prostate_response)\n",
    "# y = list(prostate_response.loc[prostate_inds]['response'])\n",
    "# # Assuming `y` contains the labels for your training data\n",
    "# # and `prostate_inds` contains the indices of the training data\n",
    "# # Make sure `y` and `prostate_inds` have the same length\n",
    "\n",
    "# # Create an instance of StratifiedKFold with 10 splits\n",
    "# skf = StratifiedKFold(n_splits=10)\n",
    "\n",
    "# # Initialize an empty list to store the sublists of indices\n",
    "# sublists = []\n",
    "\n",
    "# # Split the indices into sublists stratified by labels\n",
    "# for train_index, _ in skf.split(prostate_inds, y):\n",
    "#     sublist = [prostate_inds[i] for i in train_index]\n",
    "#     sublists.append(sublist)\n",
    "    \n",
    "# for i, s in enumerate(sublists):\n",
    "#     s_ = [x for x in prostate_inds if x not in s]\n",
    "#     train_dataset, test_dataset = pnet_loader.generate_train_test(genetic_data, prostate_response, train_inds=s, test_inds=s_)\n",
    "#     train_dataset.save_indicies('../data/splits/train_set_{}.csv'.format(i))\n",
    "#     test_dataset.save_indicies('../data/splits/test_set_{}.csv'.format(i))"
   ]
  },
  {
   "cell_type": "code",
   "execution_count": 6,
   "id": "bd438f00-45f4-4768-b147-b6ed718fc3e7",
   "metadata": {},
   "outputs": [
    {
     "name": "stdout",
     "output_type": "stream",
     "text": [
      "Task defined: BC \n",
      " if this is not the intended task please specify task\n",
      "Given 3 Input modalities\n",
      "Found 1011 overlapping indicies\n",
      "Initializing Train Dataset\n",
      "Found 443 overlapping genes\n",
      "generated input DataFrame of size (909, 1329)\n",
      "Initializing Test Dataset\n",
      "Found 443 overlapping genes\n",
      "generated input DataFrame of size (102, 1329)\n",
      "Found 443 overlapping genes\n",
      "We are sending to cuda\n",
      "Hit early stopping criteria\n",
      "Task defined: BC \n",
      " if this is not the intended task please specify task\n",
      "Given 3 Input modalities\n",
      "Found 1011 overlapping indicies\n",
      "Initializing Train Dataset\n",
      "Found 443 overlapping genes\n",
      "generated input DataFrame of size (910, 1329)\n",
      "Initializing Test Dataset\n",
      "Found 443 overlapping genes\n",
      "generated input DataFrame of size (101, 1329)\n",
      "Found 443 overlapping genes\n",
      "We are sending to cuda\n",
      "Hit early stopping criteria\n",
      "Task defined: BC \n",
      " if this is not the intended task please specify task\n",
      "Given 3 Input modalities\n",
      "Found 1011 overlapping indicies\n",
      "Initializing Train Dataset\n",
      "Found 443 overlapping genes\n",
      "generated input DataFrame of size (910, 1329)\n",
      "Initializing Test Dataset\n",
      "Found 443 overlapping genes\n",
      "generated input DataFrame of size (101, 1329)\n",
      "Found 443 overlapping genes\n",
      "We are sending to cuda\n",
      "Hit early stopping criteria\n",
      "Task defined: BC \n",
      " if this is not the intended task please specify task\n",
      "Given 3 Input modalities\n",
      "Found 1011 overlapping indicies\n",
      "Initializing Train Dataset\n",
      "Found 443 overlapping genes\n",
      "generated input DataFrame of size (910, 1329)\n",
      "Initializing Test Dataset\n",
      "Found 443 overlapping genes\n",
      "generated input DataFrame of size (101, 1329)\n",
      "Found 443 overlapping genes\n",
      "We are sending to cuda\n",
      "Hit early stopping criteria\n",
      "Task defined: BC \n",
      " if this is not the intended task please specify task\n",
      "Given 3 Input modalities\n",
      "Found 1011 overlapping indicies\n",
      "Initializing Train Dataset\n",
      "Found 443 overlapping genes\n",
      "generated input DataFrame of size (910, 1329)\n",
      "Initializing Test Dataset\n",
      "Found 443 overlapping genes\n",
      "generated input DataFrame of size (101, 1329)\n",
      "Found 443 overlapping genes\n",
      "We are sending to cuda\n",
      "Hit early stopping criteria\n",
      "Task defined: BC \n",
      " if this is not the intended task please specify task\n",
      "Given 3 Input modalities\n",
      "Found 1011 overlapping indicies\n",
      "Initializing Train Dataset\n",
      "Found 443 overlapping genes\n",
      "generated input DataFrame of size (910, 1329)\n",
      "Initializing Test Dataset\n",
      "Found 443 overlapping genes\n",
      "generated input DataFrame of size (101, 1329)\n",
      "Found 443 overlapping genes\n",
      "We are sending to cuda\n",
      "Hit early stopping criteria\n",
      "Task defined: BC \n",
      " if this is not the intended task please specify task\n",
      "Given 3 Input modalities\n",
      "Found 1011 overlapping indicies\n",
      "Initializing Train Dataset\n",
      "Found 443 overlapping genes\n",
      "generated input DataFrame of size (910, 1329)\n",
      "Initializing Test Dataset\n",
      "Found 443 overlapping genes\n",
      "generated input DataFrame of size (101, 1329)\n",
      "Found 443 overlapping genes\n",
      "We are sending to cuda\n",
      "Hit early stopping criteria\n",
      "Task defined: BC \n",
      " if this is not the intended task please specify task\n",
      "Given 3 Input modalities\n",
      "Found 1011 overlapping indicies\n",
      "Initializing Train Dataset\n",
      "Found 443 overlapping genes\n",
      "generated input DataFrame of size (910, 1329)\n",
      "Initializing Test Dataset\n",
      "Found 443 overlapping genes\n",
      "generated input DataFrame of size (101, 1329)\n",
      "Found 443 overlapping genes\n",
      "We are sending to cuda\n",
      "Hit early stopping criteria\n",
      "Task defined: BC \n",
      " if this is not the intended task please specify task\n",
      "Given 3 Input modalities\n",
      "Found 1011 overlapping indicies\n",
      "Initializing Train Dataset\n",
      "Found 443 overlapping genes\n",
      "generated input DataFrame of size (910, 1329)\n",
      "Initializing Test Dataset\n",
      "Found 443 overlapping genes\n",
      "generated input DataFrame of size (101, 1329)\n",
      "Found 443 overlapping genes\n",
      "We are sending to cuda\n",
      "Hit early stopping criteria\n",
      "Task defined: BC \n",
      " if this is not the intended task please specify task\n",
      "Given 3 Input modalities\n",
      "Found 1011 overlapping indicies\n",
      "Initializing Train Dataset\n",
      "Found 443 overlapping genes\n",
      "generated input DataFrame of size (910, 1329)\n",
      "Initializing Test Dataset\n",
      "Found 443 overlapping genes\n",
      "generated input DataFrame of size (101, 1329)\n",
      "Found 443 overlapping genes\n",
      "We are sending to cuda\n",
      "Hit early stopping criteria\n"
     ]
    },
    {
     "data": {
      "image/png": "[encoded data removed]",
      "text/plain": [
       "<Figure size 432x288 with 1 Axes>"
      ]
     },
     "metadata": {
      "needs_background": "light"
     },
     "output_type": "display_data"
    }
   ],
   "source": [
    "class_weights = util.get_class_weights(torch.tensor(prostate_response.values).view(-1))\n",
    "for i in range(10):\n",
    "    train_inds = list(pd.read_csv('../data/splits/train_set_{}.csv'.format(i))['indicies'])\n",
    "    test_inds = list(pd.read_csv('../data/splits/test_set_{}.csv'.format(i))['indicies'])\n",
    "    model, train_scores, test_scores, train_dataset, test_dataset = Pnet.run_geneset(genetic_data, prostate_response, \n",
    "                                                                                     geneset_path='/mnt/disks/pancan/pnet/data/hallmark/h.all.v2022.1.Hs.symbols.gmt',\n",
    "                                                                                     seed=0, dropout=0.2, input_dropout=0.5, lr=1e-3, weight_decay=1e-3,\n",
    "                                                                               batch_size=64, epochs=400, early_stopping=True, train_inds=train_inds,\n",
    "                                                                               test_inds=test_inds, loss_weight=class_weights, \n",
    "                                                                                     save_path='../results/prostate_val_hallmark/model',\n",
    "                                                                             loss_fn=nn.BCEWithLogitsLoss(reduce=None), genes=canc_genes)\n",
    "    plt.clf()\n",
    "    Pnet.evaluate_interpret_save(model, test_dataset, '../results/prostate_val_hallmark/run{}'.format(i))"
   ]
  },
  {
   "cell_type": "code",
   "execution_count": 7,
   "id": "e3a7eda4-4376-41ad-8461-c11d40b7bf4f",
   "metadata": {},
   "outputs": [],
   "source": [
    "# model.interpret_flag=True\n",
    "# cond = captum.attr.LayerConductance(model, model.first_gene_layer)  # ReLU output of masked layer at each level\n",
    "# cond_vals = cond.attribute((test_dataset.x, test_dataset.additional), target=0)\n",
    "# cols = [model.reactome_network.pathway_encoding.set_index('ID').loc[col]['pathway'] for col in model.reactome_network.pathway_layers[0].index]\n",
    "# cond_vals_genomic = pd.DataFrame(cond_vals.detach().numpy(),\n",
    "#                                  columns=cols,\n",
    "#                                  index=test_dataset.input_df.index)\n",
    "# pathway_imp_by_target = cond_vals_genomic\n",
    "# model.interpret_flag=False\n",
    "# pathway_imp_by_target"
   ]
  },
  {
   "cell_type": "code",
   "execution_count": 8,
   "id": "df5cc928-0616-4f81-bc34-71fe492305b2",
   "metadata": {},
   "outputs": [
    {
     "data": {
      "text/plain": [
       "[tensor(0.8932),\n",
       " tensor(0.9004),\n",
       " tensor(0.8196),\n",
       " tensor(0.9140),\n",
       " tensor(0.8957),\n",
       " tensor(0.8870),\n",
       " tensor(0.9332),\n",
       " tensor(0.8632),\n",
       " tensor(0.8770),\n",
       " tensor(0.9189)]"
      ]
     },
     "execution_count": 8,
     "metadata": {},
     "output_type": "execute_result"
    }
   ],
   "source": [
    "pnet_aucs = []\n",
    "for i in range(10):\n",
    "    auc = torch.load('../results/prostate_val_hallmark/run{}/AUC.pt'.format(i))\n",
    "    pnet_aucs.append(auc)\n",
    "pnet_aucs"
   ]
  },
  {
   "cell_type": "code",
   "execution_count": 14,
   "id": "e10ddb1a-0f65-4584-baa1-b21ed53df7b5",
   "metadata": {},
   "outputs": [
    {
     "data": {
      "text/plain": [
       "tensor(0.8967)"
      ]
     },
     "execution_count": 14,
     "metadata": {},
     "output_type": "execute_result"
    }
   ],
   "source": [
    "torch.tensor(pnet_aucs).mean()"
   ]
  },
  {
   "cell_type": "code",
   "execution_count": 15,
   "id": "f5058b35-2633-4904-b2a3-5dc28ea5ebab",
   "metadata": {},
   "outputs": [
    {
     "data": {
      "text/plain": [
       "tensor(0.8967)"
      ]
     },
     "execution_count": 15,
     "metadata": {},
     "output_type": "execute_result"
    }
   ],
   "source": [
    "torch.tensor(pnet_aucs).mean()"
   ]
  },
  {
   "cell_type": "code",
   "execution_count": null,
   "id": "148ec3b3-9660-4020-b379-cd4b1d0ae53c",
   "metadata": {},
   "outputs": [],
   "source": []
  },
  {
   "cell_type": "markdown",
   "id": "27d193d5-b4f9-4858-945f-cee3f3041003",
   "metadata": {},
   "source": [
    "Pnet performance:"
   ]
  },
  {
   "cell_type": "code",
   "execution_count": 5,
   "id": "7e9f4b6f-3e57-455e-be56-8a75c4e684b4",
   "metadata": {},
   "outputs": [
    {
     "name": "stdout",
     "output_type": "stream",
     "text": [
      "Task defined: BC \n",
      " if this is not the intended task please specify task\n",
      "Given 3 Input modalities\n",
      "Found 1011 overlapping indicies\n",
      "Initializing Train Dataset\n",
      "Found 443 overlapping genes\n",
      "generated input DataFrame of size (909, 1329)\n",
      "Initializing Test Dataset\n",
      "Found 443 overlapping genes\n",
      "generated input DataFrame of size (102, 1329)\n",
      "Found 443 overlapping genes\n",
      "We are sending to cuda\n",
      "Hit early stopping criteria\n",
      "Task defined: BC \n",
      " if this is not the intended task please specify task\n",
      "Given 3 Input modalities\n",
      "Found 1011 overlapping indicies\n",
      "Initializing Train Dataset\n",
      "Found 443 overlapping genes\n",
      "generated input DataFrame of size (910, 1329)\n",
      "Initializing Test Dataset\n",
      "Found 443 overlapping genes\n",
      "generated input DataFrame of size (101, 1329)\n",
      "Found 443 overlapping genes\n",
      "We are sending to cuda\n",
      "Hit early stopping criteria\n",
      "Task defined: BC \n",
      " if this is not the intended task please specify task\n",
      "Given 3 Input modalities\n",
      "Found 1011 overlapping indicies\n",
      "Initializing Train Dataset\n",
      "Found 443 overlapping genes\n",
      "generated input DataFrame of size (910, 1329)\n",
      "Initializing Test Dataset\n",
      "Found 443 overlapping genes\n",
      "generated input DataFrame of size (101, 1329)\n",
      "Found 443 overlapping genes\n",
      "We are sending to cuda\n",
      "Hit early stopping criteria\n",
      "Task defined: BC \n",
      " if this is not the intended task please specify task\n",
      "Given 3 Input modalities\n",
      "Found 1011 overlapping indicies\n",
      "Initializing Train Dataset\n",
      "Found 443 overlapping genes\n",
      "generated input DataFrame of size (910, 1329)\n",
      "Initializing Test Dataset\n",
      "Found 443 overlapping genes\n",
      "generated input DataFrame of size (101, 1329)\n",
      "Found 443 overlapping genes\n",
      "We are sending to cuda\n",
      "Hit early stopping criteria\n",
      "Task defined: BC \n",
      " if this is not the intended task please specify task\n",
      "Given 3 Input modalities\n",
      "Found 1011 overlapping indicies\n",
      "Initializing Train Dataset\n",
      "Found 443 overlapping genes\n",
      "generated input DataFrame of size (910, 1329)\n",
      "Initializing Test Dataset\n",
      "Found 443 overlapping genes\n",
      "generated input DataFrame of size (101, 1329)\n",
      "Found 443 overlapping genes\n",
      "We are sending to cuda\n",
      "Hit early stopping criteria\n",
      "Task defined: BC \n",
      " if this is not the intended task please specify task\n",
      "Given 3 Input modalities\n",
      "Found 1011 overlapping indicies\n",
      "Initializing Train Dataset\n",
      "Found 443 overlapping genes\n",
      "generated input DataFrame of size (910, 1329)\n",
      "Initializing Test Dataset\n",
      "Found 443 overlapping genes\n",
      "generated input DataFrame of size (101, 1329)\n",
      "Found 443 overlapping genes\n",
      "We are sending to cuda\n",
      "Hit early stopping criteria\n",
      "Task defined: BC \n",
      " if this is not the intended task please specify task\n",
      "Given 3 Input modalities\n",
      "Found 1011 overlapping indicies\n",
      "Initializing Train Dataset\n",
      "Found 443 overlapping genes\n",
      "generated input DataFrame of size (910, 1329)\n",
      "Initializing Test Dataset\n",
      "Found 443 overlapping genes\n",
      "generated input DataFrame of size (101, 1329)\n",
      "Found 443 overlapping genes\n",
      "We are sending to cuda\n",
      "Hit early stopping criteria\n",
      "Task defined: BC \n",
      " if this is not the intended task please specify task\n",
      "Given 3 Input modalities\n",
      "Found 1011 overlapping indicies\n",
      "Initializing Train Dataset\n",
      "Found 443 overlapping genes\n",
      "generated input DataFrame of size (910, 1329)\n",
      "Initializing Test Dataset\n",
      "Found 443 overlapping genes\n",
      "generated input DataFrame of size (101, 1329)\n",
      "Found 443 overlapping genes\n",
      "We are sending to cuda\n",
      "Hit early stopping criteria\n",
      "Task defined: BC \n",
      " if this is not the intended task please specify task\n",
      "Given 3 Input modalities\n",
      "Found 1011 overlapping indicies\n",
      "Initializing Train Dataset\n",
      "Found 443 overlapping genes\n",
      "generated input DataFrame of size (910, 1329)\n",
      "Initializing Test Dataset\n",
      "Found 443 overlapping genes\n",
      "generated input DataFrame of size (101, 1329)\n",
      "Found 443 overlapping genes\n",
      "We are sending to cuda\n",
      "Hit early stopping criteria\n",
      "Task defined: BC \n",
      " if this is not the intended task please specify task\n",
      "Given 3 Input modalities\n",
      "Found 1011 overlapping indicies\n",
      "Initializing Train Dataset\n",
      "Found 443 overlapping genes\n",
      "generated input DataFrame of size (910, 1329)\n",
      "Initializing Test Dataset\n",
      "Found 443 overlapping genes\n",
      "generated input DataFrame of size (101, 1329)\n",
      "Found 443 overlapping genes\n",
      "We are sending to cuda\n",
      "Hit early stopping criteria\n"
     ]
    },
    {
     "data": {
      "image/png": "[encoded data removed]",
      "text/plain": [
       "<Figure size 432x288 with 1 Axes>"
      ]
     },
     "metadata": {
      "needs_background": "light"
     },
     "output_type": "display_data"
    }
   ],
   "source": [
    "class_weights = util.get_class_weights(torch.tensor(prostate_response.values).view(-1))\n",
    "for i in range(10):\n",
    "    train_inds = list(pd.read_csv('../data/splits/train_set_{}.csv'.format(i))['indicies'])\n",
    "    test_inds = list(pd.read_csv('../data/splits/test_set_{}.csv'.format(i))['indicies'])\n",
    "    model, train_scores, test_scores, train_dataset, test_dataset = Pnet.run(genetic_data, prostate_response, seed=0, dropout=0.2, input_dropout=0.5, lr=1e-3, weight_decay=1e-3,\n",
    "                                                                               batch_size=64, epochs=400, early_stopping=True, train_inds=train_inds,\n",
    "                                                                               test_inds=test_inds, loss_weight=class_weights, save_path='../results/prostate_val/model',\n",
    "                                                                             loss_fn=nn.BCEWithLogitsLoss(reduce=None), gene_set=canc_genes)\n",
    "    plt.clf()\n",
    "    Pnet.evaluate_interpret_save(model, test_dataset, '../results/prostate_val/run{}'.format(i))"
   ]
  },
  {
   "cell_type": "code",
   "execution_count": 17,
   "id": "0804e8ab-94fd-41a3-a57e-89ca4e847021",
   "metadata": {
    "jupyter": {
     "source_hidden": true
    },
    "tags": []
   },
   "outputs": [],
   "source": [
    "# for i in range(10):\n",
    "#     train_inds = list(pd.read_csv('../data/splits/train_set_{}.csv'.format(i))['indicies'])\n",
    "#     test_inds = list(pd.read_csv('../data/splits/test_set_{}.csv'.format(i))['indicies'])\n",
    "#     model, train_scores, test_scores, train_dataset, test_dataset = Pnet.run(genetic_data, prostate_response, seed=0, dropout=0.2, lr=1e-3, weight_decay=1,\n",
    "#                                                                            batch_size=64, epochs=300, early_stopping=True, train_inds=train_inds,\n",
    "#                                                                            test_inds=test_inds)\n",
    "#     plt.clf()\n",
    "#     Pnet.evaluate_interpret_save(model, test_dataset, '../results/prostate_val/run{}'.format(i))"
   ]
  },
  {
   "cell_type": "code",
   "execution_count": 18,
   "id": "9b72efe4-1729-4b0d-bda7-d61f58c868be",
   "metadata": {},
   "outputs": [
    {
     "data": {
      "text/plain": [
       "[0.8599059581756592,\n",
       " 0.8801746368408203,\n",
       " 0.798488974571228,\n",
       " 0.8853947520256042,\n",
       " 0.8627687096595764,\n",
       " 0.8610366582870483,\n",
       " 0.8441952466964722,\n",
       " 0.7464096546173096,\n",
       " 0.8494458198547363,\n",
       " 0.8820420503616333]"
      ]
     },
     "execution_count": 18,
     "metadata": {},
     "output_type": "execute_result"
    }
   ],
   "source": [
    "pnet_aucs = []\n",
    "for i in range(10):\n",
    "    auc = torch.load('../results/prostate_val/run{}/AUC_PRC.pt'.format(i))\n",
    "    pnet_aucs.append(auc)\n",
    "pnet_aucs"
   ]
  },
  {
   "cell_type": "code",
   "execution_count": 19,
   "id": "d1ed5218-a593-4d05-bd46-650af5affdca",
   "metadata": {},
   "outputs": [
    {
     "data": {
      "text/plain": [
       "tensor(0.8470)"
      ]
     },
     "execution_count": 19,
     "metadata": {},
     "output_type": "execute_result"
    }
   ],
   "source": [
    "torch.tensor(pnet_aucs).mean()"
   ]
  },
  {
   "cell_type": "markdown",
   "id": "480a1240-781b-41f1-950e-943d9c4f1473",
   "metadata": {},
   "source": [
    "Pnet but with random gene and pathway connections:"
   ]
  },
  {
   "cell_type": "code",
   "execution_count": 20,
   "id": "9de5703c-766d-4339-85ff-e6b93057192b",
   "metadata": {
    "tags": []
   },
   "outputs": [
    {
     "name": "stdout",
     "output_type": "stream",
     "text": [
      "Task defined: BC \n",
      " if this is not the intended task please specify task\n",
      "Given 3 Input modalities\n",
      "Found 1011 overlapping indicies\n",
      "Initializing Train Dataset\n",
      "Found 443 overlapping genes\n",
      "generated input DataFrame of size (909, 1329)\n",
      "Initializing Test Dataset\n",
      "Found 443 overlapping genes\n",
      "generated input DataFrame of size (102, 1329)\n",
      "Found 443 overlapping genes\n",
      "We are sending to cuda\n",
      "Hit early stopping criteria\n",
      "Task defined: BC \n",
      " if this is not the intended task please specify task\n",
      "Given 3 Input modalities\n",
      "Found 1011 overlapping indicies\n",
      "Initializing Train Dataset\n",
      "Found 443 overlapping genes\n",
      "generated input DataFrame of size (910, 1329)\n",
      "Initializing Test Dataset\n",
      "Found 443 overlapping genes\n",
      "generated input DataFrame of size (101, 1329)\n",
      "Found 443 overlapping genes\n",
      "We are sending to cuda\n",
      "Hit early stopping criteria\n",
      "Task defined: BC \n",
      " if this is not the intended task please specify task\n",
      "Given 3 Input modalities\n",
      "Found 1011 overlapping indicies\n",
      "Initializing Train Dataset\n",
      "Found 443 overlapping genes\n",
      "generated input DataFrame of size (910, 1329)\n",
      "Initializing Test Dataset\n",
      "Found 443 overlapping genes\n",
      "generated input DataFrame of size (101, 1329)\n",
      "Found 443 overlapping genes\n",
      "We are sending to cuda\n",
      "Hit early stopping criteria\n",
      "Task defined: BC \n",
      " if this is not the intended task please specify task\n",
      "Given 3 Input modalities\n",
      "Found 1011 overlapping indicies\n",
      "Initializing Train Dataset\n",
      "Found 443 overlapping genes\n",
      "generated input DataFrame of size (910, 1329)\n",
      "Initializing Test Dataset\n",
      "Found 443 overlapping genes\n",
      "generated input DataFrame of size (101, 1329)\n",
      "Found 443 overlapping genes\n",
      "We are sending to cuda\n",
      "Hit early stopping criteria\n",
      "Task defined: BC \n",
      " if this is not the intended task please specify task\n",
      "Given 3 Input modalities\n",
      "Found 1011 overlapping indicies\n",
      "Initializing Train Dataset\n",
      "Found 443 overlapping genes\n",
      "generated input DataFrame of size (910, 1329)\n",
      "Initializing Test Dataset\n",
      "Found 443 overlapping genes\n",
      "generated input DataFrame of size (101, 1329)\n",
      "Found 443 overlapping genes\n",
      "We are sending to cuda\n",
      "Hit early stopping criteria\n",
      "Task defined: BC \n",
      " if this is not the intended task please specify task\n",
      "Given 3 Input modalities\n",
      "Found 1011 overlapping indicies\n",
      "Initializing Train Dataset\n",
      "Found 443 overlapping genes\n",
      "generated input DataFrame of size (910, 1329)\n",
      "Initializing Test Dataset\n",
      "Found 443 overlapping genes\n",
      "generated input DataFrame of size (101, 1329)\n",
      "Found 443 overlapping genes\n",
      "We are sending to cuda\n",
      "Hit early stopping criteria\n",
      "Task defined: BC \n",
      " if this is not the intended task please specify task\n",
      "Given 3 Input modalities\n",
      "Found 1011 overlapping indicies\n",
      "Initializing Train Dataset\n",
      "Found 443 overlapping genes\n",
      "generated input DataFrame of size (910, 1329)\n",
      "Initializing Test Dataset\n",
      "Found 443 overlapping genes\n",
      "generated input DataFrame of size (101, 1329)\n",
      "Found 443 overlapping genes\n",
      "We are sending to cuda\n",
      "Hit early stopping criteria\n",
      "Task defined: BC \n",
      " if this is not the intended task please specify task\n",
      "Given 3 Input modalities\n",
      "Found 1011 overlapping indicies\n",
      "Initializing Train Dataset\n",
      "Found 443 overlapping genes\n",
      "generated input DataFrame of size (910, 1329)\n",
      "Initializing Test Dataset\n",
      "Found 443 overlapping genes\n",
      "generated input DataFrame of size (101, 1329)\n",
      "Found 443 overlapping genes\n",
      "We are sending to cuda\n",
      "Hit early stopping criteria\n",
      "Task defined: BC \n",
      " if this is not the intended task please specify task\n",
      "Given 3 Input modalities\n",
      "Found 1011 overlapping indicies\n",
      "Initializing Train Dataset\n",
      "Found 443 overlapping genes\n",
      "generated input DataFrame of size (910, 1329)\n",
      "Initializing Test Dataset\n",
      "Found 443 overlapping genes\n",
      "generated input DataFrame of size (101, 1329)\n",
      "Found 443 overlapping genes\n",
      "We are sending to cuda\n",
      "Hit early stopping criteria\n",
      "Task defined: BC \n",
      " if this is not the intended task please specify task\n",
      "Given 3 Input modalities\n",
      "Found 1011 overlapping indicies\n",
      "Initializing Train Dataset\n",
      "Found 443 overlapping genes\n",
      "generated input DataFrame of size (910, 1329)\n",
      "Initializing Test Dataset\n",
      "Found 443 overlapping genes\n",
      "generated input DataFrame of size (101, 1329)\n",
      "Found 443 overlapping genes\n",
      "We are sending to cuda\n",
      "Hit early stopping criteria\n"
     ]
    },
    {
     "data": {
      "image/png": "[encoded data removed]",
      "text/plain": [
       "<Figure size 432x288 with 1 Axes>"
      ]
     },
     "metadata": {
      "needs_background": "light"
     },
     "output_type": "display_data"
    }
   ],
   "source": [
    "class_weights = util.get_class_weights(torch.tensor(prostate_response.values).view(-1))\n",
    "for i in range(10):\n",
    "    train_inds = list(pd.read_csv('../data/splits/train_set_{}.csv'.format(i))['indicies'])\n",
    "    test_inds = list(pd.read_csv('../data/splits/test_set_{}.csv'.format(i))['indicies'])\n",
    "    model, train_scores, test_scores, train_dataset, test_dataset = Pnet.run(genetic_data, prostate_response, seed=0, dropout=0.2, input_dropout=0.5, lr=1e-3, weight_decay=1e-3,\n",
    "                                                                               batch_size=64, epochs=400, early_stopping=True, train_inds=train_inds,\n",
    "                                                                               test_inds=test_inds, loss_weight=class_weights, save_path='../results/prostate_val_random_net/model',\n",
    "                                                                             loss_fn=nn.BCEWithLogitsLoss(reduce=None), gene_set=canc_genes, random_network=True)\n",
    "    plt.clf()\n",
    "    Pnet.evaluate_interpret_save(model, test_dataset, '../results/prostate_val_random_net/run{}'.format(i))"
   ]
  },
  {
   "cell_type": "code",
   "execution_count": 21,
   "id": "2d5a994e-8960-443d-b3d3-52a637684cd9",
   "metadata": {},
   "outputs": [
    {
     "data": {
      "text/plain": [
       "[0.8901383876800537,\n",
       " 0.9148375988006592,\n",
       " 0.8792800307273865,\n",
       " 0.936274528503418,\n",
       " 0.8373440504074097,\n",
       " 0.8672013878822327,\n",
       " 0.8899286985397339,\n",
       " 0.8658645153045654,\n",
       " 0.8841354846954346,\n",
       " 0.9117647409439087]"
      ]
     },
     "execution_count": 21,
     "metadata": {},
     "output_type": "execute_result"
    }
   ],
   "source": [
    "pnet_aucs = []\n",
    "for i in range(10):\n",
    "    auc = torch.load('../results/prostate_val_random_net/run{}/AUC.pt'.format(i))\n",
    "    pnet_aucs.append(auc.item())\n",
    "pnet_aucs"
   ]
  },
  {
   "cell_type": "markdown",
   "id": "ba6bb217-724e-4a7f-8167-a37eed41603f",
   "metadata": {},
   "source": [
    "0.8850"
   ]
  },
  {
   "cell_type": "code",
   "execution_count": 22,
   "id": "a75d8c77-5816-437b-9f83-1f90b68587cc",
   "metadata": {},
   "outputs": [
    {
     "data": {
      "text/plain": [
       "tensor(0.8841)"
      ]
     },
     "execution_count": 22,
     "metadata": {},
     "output_type": "execute_result"
    }
   ],
   "source": [
    "torch.tensor(pnet_aucs).median()"
   ]
  },
  {
   "cell_type": "markdown",
   "id": "f0fcf009-564e-493f-8ba0-5d3d33719e68",
   "metadata": {},
   "source": [
    "Pnet but as a fully connected feed forward neural network:"
   ]
  },
  {
   "cell_type": "code",
   "execution_count": 23,
   "id": "4a56500b-51a4-49ec-bfa9-6d7d266504c7",
   "metadata": {
    "tags": []
   },
   "outputs": [
    {
     "name": "stdout",
     "output_type": "stream",
     "text": [
      "Task defined: BC \n",
      " if this is not the intended task please specify task\n",
      "Given 3 Input modalities\n",
      "Found 1011 overlapping indicies\n",
      "Initializing Train Dataset\n",
      "Found 443 overlapping genes\n",
      "generated input DataFrame of size (909, 1329)\n",
      "Initializing Test Dataset\n",
      "Found 443 overlapping genes\n",
      "generated input DataFrame of size (102, 1329)\n",
      "Found 443 overlapping genes\n",
      "We are sending to cuda\n",
      "Hit early stopping criteria\n",
      "Task defined: BC \n",
      " if this is not the intended task please specify task\n",
      "Given 3 Input modalities\n",
      "Found 1011 overlapping indicies\n",
      "Initializing Train Dataset\n",
      "Found 443 overlapping genes\n",
      "generated input DataFrame of size (910, 1329)\n",
      "Initializing Test Dataset\n",
      "Found 443 overlapping genes\n",
      "generated input DataFrame of size (101, 1329)\n",
      "Found 443 overlapping genes\n",
      "We are sending to cuda\n",
      "Hit early stopping criteria\n",
      "Task defined: BC \n",
      " if this is not the intended task please specify task\n",
      "Given 3 Input modalities\n",
      "Found 1011 overlapping indicies\n",
      "Initializing Train Dataset\n",
      "Found 443 overlapping genes\n",
      "generated input DataFrame of size (910, 1329)\n",
      "Initializing Test Dataset\n",
      "Found 443 overlapping genes\n",
      "generated input DataFrame of size (101, 1329)\n",
      "Found 443 overlapping genes\n",
      "We are sending to cuda\n",
      "Hit early stopping criteria\n",
      "Task defined: BC \n",
      " if this is not the intended task please specify task\n",
      "Given 3 Input modalities\n",
      "Found 1011 overlapping indicies\n",
      "Initializing Train Dataset\n",
      "Found 443 overlapping genes\n",
      "generated input DataFrame of size (910, 1329)\n",
      "Initializing Test Dataset\n",
      "Found 443 overlapping genes\n",
      "generated input DataFrame of size (101, 1329)\n",
      "Found 443 overlapping genes\n",
      "We are sending to cuda\n",
      "Hit early stopping criteria\n",
      "Task defined: BC \n",
      " if this is not the intended task please specify task\n",
      "Given 3 Input modalities\n",
      "Found 1011 overlapping indicies\n",
      "Initializing Train Dataset\n",
      "Found 443 overlapping genes\n",
      "generated input DataFrame of size (910, 1329)\n",
      "Initializing Test Dataset\n",
      "Found 443 overlapping genes\n",
      "generated input DataFrame of size (101, 1329)\n",
      "Found 443 overlapping genes\n",
      "We are sending to cuda\n",
      "Hit early stopping criteria\n",
      "Task defined: BC \n",
      " if this is not the intended task please specify task\n",
      "Given 3 Input modalities\n",
      "Found 1011 overlapping indicies\n",
      "Initializing Train Dataset\n",
      "Found 443 overlapping genes\n",
      "generated input DataFrame of size (910, 1329)\n",
      "Initializing Test Dataset\n",
      "Found 443 overlapping genes\n",
      "generated input DataFrame of size (101, 1329)\n",
      "Found 443 overlapping genes\n",
      "We are sending to cuda\n",
      "Hit early stopping criteria\n",
      "Task defined: BC \n",
      " if this is not the intended task please specify task\n",
      "Given 3 Input modalities\n",
      "Found 1011 overlapping indicies\n",
      "Initializing Train Dataset\n",
      "Found 443 overlapping genes\n",
      "generated input DataFrame of size (910, 1329)\n",
      "Initializing Test Dataset\n",
      "Found 443 overlapping genes\n",
      "generated input DataFrame of size (101, 1329)\n",
      "Found 443 overlapping genes\n",
      "We are sending to cuda\n",
      "Hit early stopping criteria\n",
      "Task defined: BC \n",
      " if this is not the intended task please specify task\n",
      "Given 3 Input modalities\n",
      "Found 1011 overlapping indicies\n",
      "Initializing Train Dataset\n",
      "Found 443 overlapping genes\n",
      "generated input DataFrame of size (910, 1329)\n",
      "Initializing Test Dataset\n",
      "Found 443 overlapping genes\n",
      "generated input DataFrame of size (101, 1329)\n",
      "Found 443 overlapping genes\n",
      "We are sending to cuda\n",
      "Hit early stopping criteria\n",
      "Task defined: BC \n",
      " if this is not the intended task please specify task\n",
      "Given 3 Input modalities\n",
      "Found 1011 overlapping indicies\n",
      "Initializing Train Dataset\n",
      "Found 443 overlapping genes\n",
      "generated input DataFrame of size (910, 1329)\n",
      "Initializing Test Dataset\n",
      "Found 443 overlapping genes\n",
      "generated input DataFrame of size (101, 1329)\n",
      "Found 443 overlapping genes\n",
      "We are sending to cuda\n",
      "Hit early stopping criteria\n",
      "Task defined: BC \n",
      " if this is not the intended task please specify task\n",
      "Given 3 Input modalities\n",
      "Found 1011 overlapping indicies\n",
      "Initializing Train Dataset\n",
      "Found 443 overlapping genes\n",
      "generated input DataFrame of size (910, 1329)\n",
      "Initializing Test Dataset\n",
      "Found 443 overlapping genes\n",
      "generated input DataFrame of size (101, 1329)\n",
      "Found 443 overlapping genes\n",
      "We are sending to cuda\n",
      "Hit early stopping criteria\n"
     ]
    },
    {
     "data": {
      "image/png": "[encoded data removed]",
      "text/plain": [
       "<Figure size 432x288 with 1 Axes>"
      ]
     },
     "metadata": {
      "needs_background": "light"
     },
     "output_type": "display_data"
    }
   ],
   "source": [
    "class_weights = util.get_class_weights(torch.tensor(prostate_response.values).view(-1))\n",
    "for i in range(10):\n",
    "    train_inds = list(pd.read_csv('../data/splits/train_set_{}.csv'.format(i))['indicies'])\n",
    "    test_inds = list(pd.read_csv('../data/splits/test_set_{}.csv'.format(i))['indicies'])\n",
    "    model, train_scores, test_scores, train_dataset, test_dataset = Pnet.run(genetic_data, prostate_response, seed=0, dropout=0.2, input_dropout=0.5, lr=1e-3, weight_decay=1e-3,\n",
    "                                                                               batch_size=64, epochs=400, early_stopping=True, train_inds=train_inds,\n",
    "                                                                               test_inds=test_inds, loss_weight=class_weights, save_path='../results/prostate_val_fcnn/model',\n",
    "                                                                             loss_fn=nn.BCEWithLogitsLoss(reduce=None), gene_set=canc_genes, fcnn=True)\n",
    "    plt.clf()\n",
    "    Pnet.evaluate_interpret_save(model, test_dataset, '../results/prostate_val_fcnn/run{}'.format(i))"
   ]
  },
  {
   "cell_type": "code",
   "execution_count": 24,
   "id": "d068a005-d50d-4124-96b5-a7550a6bba89",
   "metadata": {},
   "outputs": [
    {
     "data": {
      "text/plain": [
       "[0.8771625757217407,\n",
       " 0.9218611717224121,\n",
       " 0.8107989430427551,\n",
       " 0.897504448890686,\n",
       " 0.9113190770149231,\n",
       " 0.9021835327148438,\n",
       " 0.9264705181121826,\n",
       " 0.8462567329406738,\n",
       " 0.8850266933441162,\n",
       " 0.9438502192497253]"
      ]
     },
     "execution_count": 24,
     "metadata": {},
     "output_type": "execute_result"
    }
   ],
   "source": [
    "pnet_aucs = []\n",
    "for i in range(10):\n",
    "    auc = torch.load('../results/prostate_val_fcnn/run{}/AUC.pt'.format(i))\n",
    "    pnet_aucs.append(auc.item())\n",
    "pnet_aucs"
   ]
  },
  {
   "cell_type": "code",
   "execution_count": 25,
   "id": "db1e61d3-0025-4ff2-95a4-aa60fd020070",
   "metadata": {},
   "outputs": [
    {
     "data": {
      "text/plain": [
       "tensor(0.8975)"
      ]
     },
     "execution_count": 25,
     "metadata": {},
     "output_type": "execute_result"
    }
   ],
   "source": [
    "torch.tensor(pnet_aucs).median()"
   ]
  },
  {
   "cell_type": "code",
   "execution_count": null,
   "id": "3fb75a90-fe43-4620-9651-e20891b7842c",
   "metadata": {
    "tags": []
   },
   "outputs": [],
   "source": [
    "for i in range(10):\n",
    "    path = '../results/prostate_val_rf/run{}'.format(i)\n",
    "    if not os.path.exists(path):\n",
    "        os.makedirs(path)\n",
    "    train_inds = list(pd.read_csv('../data/splits/train_set_{}.csv'.format(i))['indicies'])\n",
    "    test_inds = list(pd.read_csv('../data/splits/test_set_{}.csv'.format(i))['indicies'])\n",
    "    train_dataset, test_dataset = pnet_loader.generate_train_test(genetic_data, target=prostate_response, train_inds=train_inds, test_inds=test_inds, gene_set=canc_genes)\n",
    "    \n",
    "    x_train = train_dataset.x\n",
    "    additional_train = train_dataset.additional\n",
    "    y_train = train_dataset.y.ravel()\n",
    "    x_test = test_dataset.x\n",
    "    additional_test = test_dataset.additional\n",
    "    y_test = test_dataset.y.ravel()\n",
    "    \n",
    "    rfc = RandomForestClassifier(max_depth=None, random_state=0)\n",
    "    rfc.fit(x_train, y_train)\n",
    "    preds = rfc.predict(x_test)\n",
    "    preds_prob = rfc.predict_proba(x_test)\n",
    "    plt.clf()\n",
    "    auc = util.get_auc(torch.tensor(preds_prob[:,1], dtype=torch.float), y_test, save=path+'/auc_curve.pdf')\n",
    "    auc_prc = util.get_auc_prc(torch.tensor(preds_prob[:,1], dtype=torch.float), y_test)\n",
    "    f1_score = util.get_f1(torch.tensor(preds, dtype=torch.float), y_test)\n",
    "    importances = rfc.feature_importances_\n",
    "    forest_importances = pd.Series(importances, index=test_dataset.input_df.columns)\n",
    "    forest_importances.to_csv(path+'/gene_feature_importances.csv')\n",
    "    torch.save(auc, path+'/AUC.pt')\n",
    "    torch.save(auc_prc, path+'/AUC_PRC.pt')\n",
    "    torch.save(f1_score, path+'/F1.pt')"
   ]
  },
  {
   "cell_type": "code",
   "execution_count": 26,
   "id": "730881c0-cc2a-4c1d-9493-d29caa38f4c9",
   "metadata": {},
   "outputs": [
    {
     "data": {
      "text/plain": [
       "[0.9035466909408569,\n",
       " 0.9007901549339294,\n",
       " 0.8557945489883423,\n",
       " 0.8763368725776672,\n",
       " 0.8879233598709106,\n",
       " 0.8765597343444824,\n",
       " 0.885026752948761,\n",
       " 0.8611854314804077,\n",
       " 0.8622994422912598,\n",
       " 0.896390438079834]"
      ]
     },
     "execution_count": 26,
     "metadata": {},
     "output_type": "execute_result"
    }
   ],
   "source": [
    "pnet_aucs = []\n",
    "for i in range(10):\n",
    "    auc = torch.load('../results/prostate_val_rf/run{}/AUC.pt'.format(i))\n",
    "    pnet_aucs.append(auc.item())\n",
    "pnet_aucs"
   ]
  },
  {
   "cell_type": "code",
   "execution_count": 27,
   "id": "049707c6-6b90-4e49-bbf2-e87a38de34ef",
   "metadata": {},
   "outputs": [
    {
     "data": {
      "text/plain": [
       "tensor(0.8766)"
      ]
     },
     "execution_count": 27,
     "metadata": {},
     "output_type": "execute_result"
    }
   ],
   "source": [
    "torch.tensor(pnet_aucs).median()"
   ]
  },
  {
   "cell_type": "code",
   "execution_count": null,
   "id": "1f566922-0220-49ee-8a3a-9b4c637078a6",
   "metadata": {},
   "outputs": [],
   "source": [
    "for i in range(10):\n",
    "    path = '../results/prostate_val_svm/run{}'.format(i)\n",
    "    if not os.path.exists(path):\n",
    "        os.makedirs(path)\n",
    "    train_inds = list(pd.read_csv('../data/splits/train_set_{}.csv'.format(i))['indicies'])\n",
    "    test_inds = list(pd.read_csv('../data/splits/test_set_{}.csv'.format(i))['indicies'])\n",
    "    train_dataset, test_dataset = pnet_loader.generate_train_test(genetic_data, target=prostate_response, train_inds=train_inds, test_inds=test_inds)\n",
    "    \n",
    "    x_train = train_dataset.x\n",
    "    additional_train = train_dataset.additional\n",
    "    y_train = train_dataset.y.ravel()\n",
    "    x_test = test_dataset.x\n",
    "    additional_test = test_dataset.additional\n",
    "    y_test = test_dataset.y.ravel()\n",
    "    \n",
    "    svm = SVC(gamma='auto', kernel='linear', probability=True)\n",
    "    svm.fit(x_train, y_train)\n",
    "    \n",
    "    preds = svm.predict(x_test)\n",
    "    preds_prob = svm.predict_proba(x_test)\n",
    "    plt.clf()\n",
    "    auc = util.get_auc(torch.tensor(preds_prob[:,1], dtype=torch.float), y_test, save=path+'/auc_curve.pdf')\n",
    "    auc_prc = util.get_auc_prc(torch.tensor(preds_prob[:,1], dtype=torch.float), y_test)\n",
    "    f1_score = util.get_f1(torch.tensor(preds, dtype=torch.float), y_test)\n",
    "    importances = svm.coef_\n",
    "    print(len(importances[0]))\n",
    "    svm_importances = pd.Series(importances[0], index=test_dataset.input_df.columns)\n",
    "    svm_importances.to_csv(path+'/gene_feature_importances.csv')\n",
    "    torch.save(auc, path+'/AUC.pt')\n",
    "    torch.save(auc_prc, path+'/AUC_PRC.pt')\n",
    "    torch.save(f1_score, path+'/F1.pt')\n",
    "    "
   ]
  },
  {
   "cell_type": "markdown",
   "id": "3bc0a31d-1af6-4d1e-9fb4-6944687fc643",
   "metadata": {},
   "source": [
    "### Generate Figures"
   ]
  },
  {
   "cell_type": "code",
   "execution_count": 28,
   "id": "6e47897d-359c-451c-bad8-772925827bfd",
   "metadata": {},
   "outputs": [],
   "source": [
    "auc_df = pd.DataFrame()\n",
    "models = ['prostate_val_random_net', 'prostate_val', 'prostate_val_fcnn']\n",
    "for mod in models:\n",
    "    aucs = []\n",
    "    for i in range(10):\n",
    "        auc = torch.load('../results/{}/run{}/AUC.pt'.format(mod, i))\n",
    "        aucs.append(auc.item())\n",
    "    auc_df[mod] = aucs\n",
    "models = ['prostate_val_rf', 'prostate_val_svm']\n",
    "for mod in models:\n",
    "    aucs = []\n",
    "    for i in range(10):\n",
    "        auc = torch.load('../results/{}/run{}/AUC.pt'.format(mod, i))\n",
    "        aucs.append(auc.item())\n",
    "    auc_df[mod] = aucs\n",
    "auc_df\n",
    "\n",
    "auc_df = auc_df[auc_df.median().sort_values(ascending=False).index]\n",
    "auc_df.rename(columns={'prostate_val': 'PNET', 'prostate_val_fcnn': 'FCNN', 'prostate_val_random_net': 'Sparse-NN',\n",
    "       'prostate_val_svm': 'SVM', 'prostate_val_rf': 'RF'}, inplace=True)"
   ]
  },
  {
   "cell_type": "code",
   "execution_count": 29,
   "id": "5742eaa8-ca11-4bf4-8a72-5a78a673ef18",
   "metadata": {},
   "outputs": [
    {
     "data": {
      "text/plain": [
       "FCNN         0.892243\n",
       "PNET         0.897395\n",
       "Sparse-NN    0.887677\n",
       "SVM          0.875403\n",
       "RF           0.880585\n",
       "dtype: float64"
      ]
     },
     "execution_count": 29,
     "metadata": {},
     "output_type": "execute_result"
    }
   ],
   "source": [
    "auc_df.mean()"
   ]
  },
  {
   "cell_type": "code",
   "execution_count": 30,
   "id": "bc3d4bd5-1e13-4315-a6c0-1392c453e979",
   "metadata": {},
   "outputs": [
    {
     "data": {
      "image/png": "[encoded data removed]",
      "text/plain": [
       "<Figure size 432x288 with 1 Axes>"
      ]
     },
     "metadata": {
      "needs_background": "light"
     },
     "output_type": "display_data"
    }
   ],
   "source": [
    "auc_df.plot(kind='box', showfliers=False, patch_artist=True, boxprops={'facecolor': 'lightgrey', 'color': 'lightgrey'},\n",
    "                      whiskerprops={'color': 'gainsboro'},\n",
    "                      capprops={'color': 'gainsboro'},\n",
    "                      medianprops={'color': 'dimgrey'})\n",
    "ax = plt.gca()\n",
    "\n",
    "ax.spines[['top', 'right']].set_visible(False)\n",
    "plt.axhline(y=auc_df.median().min(), color='coral', linestyle='--', label=f'y_min = {auc_df.median().min()}', alpha=0.5)\n",
    "ax.set_ylabel('AUC', size=14)\n",
    "ax.set_xlabel('Model', size=14)\n",
    "ax.set_ylim((0.5,1))\n",
    "plt.savefig('../figures/pnet_performance_benchmark_AUC.pdf')"
   ]
  },
  {
   "cell_type": "code",
   "execution_count": null,
   "id": "367beb6a-9c24-4051-9a16-dcdba98fdc2e",
   "metadata": {
    "tags": []
   },
   "outputs": [],
   "source": [
    "df_imps = pd.DataFrame()\n",
    "df_ranks = pd.DataFrame()\n",
    "for i in range(10):\n",
    "    imps = pd.read_csv('../results/prostate_val/run{}/gene_importances.csv'.format(i)).set_index('Unnamed: 0')\n",
    "    imps = imps.join(prostate_response).groupby('response').mean().diff(axis=0).iloc[1]\n",
    "    ranks = imps.rank(ascending=False)\n",
    "    df_imps['run{}'.format(i)] = imps\n",
    "    df_ranks['run{}'.format(i)] = ranks\n",
    "\n",
    "df_imps.mean(axis=1).nlargest(20)"
   ]
  },
  {
   "cell_type": "code",
   "execution_count": null,
   "id": "3ce4a383-32c9-4aec-83f8-43cfc3b4f4e7",
   "metadata": {},
   "outputs": [],
   "source": [
    "df_imps_rand = pd.DataFrame()\n",
    "df_ranks_rand = pd.DataFrame()\n",
    "for i in range(10):\n",
    "    imps = pd.read_csv('../results/prostate_val_random_net/run{}/gene_importances.csv'.format(i)).set_index('Unnamed: 0')\n",
    "    imps = imps.join(prostate_response).groupby('response').mean().diff(axis=0).iloc[1]\n",
    "    ranks = imps.rank(ascending=False)\n",
    "    df_imps_rand['run{}'.format(i)] = imps\n",
    "    df_ranks_rand['run{}'.format(i)] = ranks"
   ]
  },
  {
   "cell_type": "code",
   "execution_count": null,
   "id": "25b0c4a8-1b96-4bde-9775-1f20b2905521",
   "metadata": {},
   "outputs": [],
   "source": [
    "df_imps_rf = pd.DataFrame()\n",
    "df_ranks_rf = pd.DataFrame()\n",
    "for i in range(10):\n",
    "    imps = pd.read_csv('../results/prostate_val_rf/run{}/gene_feature_importances.csv'.format(i)).set_index('Unnamed: 0')\n",
    "    ranks = imps.rank(ascending=False)\n",
    "    df_imps_rf['run{}'.format(i)] = imps\n",
    "    df_ranks_rf['run{}'.format(i)] = ranks\n",
    "    \n",
    "num_sections = 3\n",
    "section_size = len(df_imps_rf) // num_sections\n",
    "\n",
    "# Split the original DataFrame into three sub-sections\n",
    "dfs = [df_imps_rf[i * section_size : (i + 1) * section_size] for i in range(num_sections)]\n",
    "\n",
    "for df in dfs:\n",
    "    df.index = [ind.split('_')[0] for ind in dfs[1].index]\n",
    "\n",
    "# Sum the sub-sections element-wise to obtain the final DataFrame\n",
    "df_imps_rf = dfs[0] + dfs[1] + dfs[2]"
   ]
  },
  {
   "cell_type": "code",
   "execution_count": null,
   "id": "1bb56c3c-9303-4aeb-96c0-b1564d54ca13",
   "metadata": {},
   "outputs": [],
   "source": [
    "plotting_df = pd.DataFrame()\n",
    "custom_colors = {'P-Net': '#41B6E6', 'Sparse-NN': '#00629B', 'RF':'#FFA300'}\n",
    "plotting_df['P-Net'] = df_imps.mean(axis=1).nlargest(10)/df_imps.mean(axis=1).sum()\n",
    "plotting_df['Sparse-NN'] = df_imps_rand.loc[df_imps.mean(axis=1).nlargest(10).index].mean(axis=1)/df_imps_rand.mean(axis=1).sum()\n",
    "plotting_df['RF'] = df_imps_rf.loc[df_imps.mean(axis=1).nlargest(10).index].mean(axis=1)/df_imps_rf.mean(axis=1).sum()\n",
    "plotting_df.plot(kind='barh', color=custom_colors, width=0.8)\n",
    "sns.despine()\n",
    "plt.gca().invert_yaxis()\n",
    "plt.xlabel('Gene Importance Score', size='14')\n",
    "plt.xscale('log')\n",
    "plt.savefig('../figures/prostate_metastatic_top_genes.pdf')"
   ]
  },
  {
   "cell_type": "code",
   "execution_count": null,
   "id": "7b75e2ab-df99-47a4-b97a-5072dbcaf214",
   "metadata": {},
   "outputs": [],
   "source": [
    "df_ranks.mean(axis=1).nsmallest(20)"
   ]
  },
  {
   "cell_type": "code",
   "execution_count": null,
   "id": "350e8d05-888e-4a99-b8e0-0b239d4bab09",
   "metadata": {},
   "outputs": [],
   "source": [
    "rank_stab = {}\n",
    "for m in ['val', 'val_fcnn', 'val_random_net', 'val_rf', 'val_svm']:\n",
    "    df = pd.DataFrame()\n",
    "    for i in range(10):\n",
    "        imps = pd.read_csv('../results/prostate_{}/run{}/gene_feature_importances.csv'.format(m, i)).set_index('Unnamed: 0')\n",
    "        m_imps = abs(imps).mean()\n",
    "        df['run{}'.format(i)] = m_imps\n",
    "\n",
    "    most_imp_50 = df.mean(axis=1).nlargest(50).index\n",
    "    rank_stab[m] = df.loc[most_imp_50].std(axis=1).sum()\n",
    "    # filtered_df = df[~(df > 20).any(axis=1)]\n",
    "    # rank_stab[m] = filtered_df.shape[0]"
   ]
  },
  {
   "cell_type": "code",
   "execution_count": null,
   "id": "c8f8c4d2-90f7-43e0-a81a-05a4e1ebca2f",
   "metadata": {},
   "outputs": [],
   "source": [
    "rank_stab = pd.Series(rank_stab).rename(index={'val': 'PNET', 'val_fcnn': 'FCNN', 'val_random_net': 'Sparse-NN',\n",
    "       'val_svm': 'SVM', 'val_rf': 'RF'})"
   ]
  },
  {
   "cell_type": "code",
   "execution_count": null,
   "id": "818eb574-e895-42f0-866b-324179ace879",
   "metadata": {},
   "outputs": [],
   "source": [
    "df = pd.DataFrame(index=rank_stab.index)\n",
    "df['AUC'] = auc_df.mean()\n",
    "df['Rank Stability'] = rank_stab"
   ]
  },
  {
   "cell_type": "code",
   "execution_count": null,
   "id": "14e9e395-1ec8-4182-9b4c-6d4aa518ba34",
   "metadata": {},
   "outputs": [],
   "source": [
    "df.plot(kind='scatter', x='Rank Stability', y='AUC', color='#41B6E6')\n",
    "sns.despine()\n",
    "for index, row in df.iterrows():\n",
    "    plt.annotate(index, (row['Rank Stability'], row['AUC']), xytext=(5, 0), textcoords='offset points', fontsize=12)\n",
    "plt.ylim((0.85, 0.95))\n",
    "plt.xlabel('Rank Stability', fontsize=14)\n",
    "plt.ylabel('AUC', fontsize=14)\n",
    "plt.savefig('../figures/pnet_performance_rank_variance.pdf')\n",
    "plt.show()"
   ]
  },
  {
   "cell_type": "code",
   "execution_count": null,
   "id": "32444ae7-ba4e-4e57-9028-e0491928b258",
   "metadata": {},
   "outputs": [],
   "source": [
    "df_imps = pd.DataFrame()\n",
    "df_ranks = pd.DataFrame()\n",
    "for i in range(10):\n",
    "    imps = pd.read_csv('../results/prostate_val_hallmark/run{}/gene_importances.csv'.format(i)).set_index('Unnamed: 0')\n",
    "    imps = imps.join(prostate_response).groupby('response').mean().diff(axis=0).iloc[1]\n",
    "    ranks = imps.rank(ascending=False)\n",
    "    df_imps['run{}'.format(i)] = imps\n",
    "    df_ranks['run{}'.format(i)] = ranks\n",
    "\n",
    "df_imps.mean(axis=1).nlargest(20)"
   ]
  },
  {
   "cell_type": "code",
   "execution_count": null,
   "id": "82818e20-675f-4107-89c4-8c32ab4e9446",
   "metadata": {},
   "outputs": [],
   "source": [
    "df_imps = pd.DataFrame()\n",
    "df_ranks = pd.DataFrame()\n",
    "for i in range(10):\n",
    "    imps = pd.read_csv('../results/prostate_val_hallmark/run{}/layer_0_importances.csv'.format(i)).set_index('Unnamed: 0')\n",
    "    imps = abs(imps.join(prostate_response).groupby('response').mean().diff(axis=0).iloc[1])\n",
    "    ranks = imps.rank(ascending=False)\n",
    "    df_imps['run{}'.format(i)] = imps\n",
    "    df_ranks['run{}'.format(i)] = ranks"
   ]
  },
  {
   "cell_type": "code",
   "execution_count": null,
   "id": "09776f31-5efe-4083-9629-e078d1849e4c",
   "metadata": {},
   "outputs": [],
   "source": [
    "rn = model.reactome_network\n",
    "'CSMD3' in list(rn.genes2pathways[rn.genes2pathways['pathway'] == 'residual']['gene'])"
   ]
  },
  {
   "cell_type": "code",
   "execution_count": null,
   "id": "18f1379e-418a-4782-befb-a75501e73e73",
   "metadata": {},
   "outputs": [],
   "source": [
    "rn.genes2pathways.groupby('pathway').count().nlargest(20, 'gene')"
   ]
  },
  {
   "cell_type": "code",
   "execution_count": null,
   "id": "226cfb07-6a62-4c2d-a642-b75b03e5f48a",
   "metadata": {
    "tags": []
   },
   "outputs": [],
   "source": [
    "df_imps.mean(axis=1).nlargest(50)"
   ]
  },
  {
   "cell_type": "code",
   "execution_count": null,
   "id": "3d0e630c-3cdc-46f3-927a-4c928fd829ab",
   "metadata": {},
   "outputs": [],
   "source": [
    "df_imps_rand = pd.DataFrame()\n",
    "df_ranks_rand = pd.DataFrame()\n",
    "for i in range(10):\n",
    "    imps = pd.read_csv('../results/prostate_val_random_net/run{}/gene_importances.csv'.format(i)).set_index('Unnamed: 0')\n",
    "    imps = abs(imps.join(prostate_response).groupby('response').mean().diff(axis=0).iloc[1])\n",
    "    ranks = imps.rank(ascending=False)\n",
    "    df_imps_rand['run{}'.format(i)] = imps\n",
    "    df_ranks_rand['run{}'.format(i)] = ranks"
   ]
  },
  {
   "cell_type": "code",
   "execution_count": null,
   "id": "90460e44-88b1-459e-a9d5-474530f6ef1a",
   "metadata": {},
   "outputs": [],
   "source": [
    "'run1' > 'run0'"
   ]
  },
  {
   "cell_type": "code",
   "execution_count": null,
   "id": "42b05627-1a00-49d7-98bb-15f4f6b4f838",
   "metadata": {},
   "outputs": [],
   "source": [
    "def stability_score(imps, top_n):\n",
    "    overlaps = []\n",
    "    for c1 in imps.columns:\n",
    "        for c2 in imps.columns:\n",
    "            if c1 > c2:\n",
    "                overlaps.append(len(set(imps.nlargest(top_n, c1).index).intersection(set(imps.nlargest(top_n, c2).index))))\n",
    "    return sum(overlaps)/(imps.shape[1]*(imps.shape[1]-1)/2*top_n)"
   ]
  },
  {
   "cell_type": "code",
   "execution_count": null,
   "id": "38ef4549-9324-4a33-8aa2-6b70680eabb7",
   "metadata": {},
   "outputs": [],
   "source": [
    "n_genes = [1, 2, 3, 4, 5, 6, 7, 8, 9 , 10, 12, 14, 17, 20]\n",
    "p_net_stab = [stability_score(df_imps, n) for n in n_genes]\n",
    "r_net_stab = [stability_score(df_imps_rand, n) for n in n_genes]\n",
    "\n",
    "plt_df = pd.DataFrame(index=n_genes)\n",
    "plt_df['P-Net'] = p_net_stab\n",
    "plt_df['Sparse-NN'] = r_net_stab"
   ]
  },
  {
   "cell_type": "code",
   "execution_count": null,
   "id": "b13017e8-5bd6-4916-be5e-8a3f34f58a8f",
   "metadata": {},
   "outputs": [],
   "source": [
    "plt_df.plot()\n",
    "plt.ylabel('Gene Stability', size=14)\n",
    "plt.xlabel('Top N genes considered', size=14)\n",
    "sns.despine()"
   ]
  },
  {
   "cell_type": "code",
   "execution_count": null,
   "id": "fdbd25e1-7a2b-4f14-a0de-ca8056810e9b",
   "metadata": {},
   "outputs": [],
   "source": [
    "all_imps = pd.DataFrame(columns=['Run', 'Importance', 'Model', 'Layer'])\n",
    "for m in ['val', 'val_random_net']:\n",
    "    for l in ['gene_feature', 'gene', 'layer_0', 'layer_1', 'layer_2', 'layer_3']:\n",
    "        df_imps = pd.DataFrame()\n",
    "        df_ranks = pd.DataFrame()\n",
    "        for i in range(10):\n",
    "            imps = pd.read_csv('../results/prostate_{}/run{}/{}_importances.csv'.format(m, i, l)).set_index('Unnamed: 0')\n",
    "            imps = abs(imps.join(prostate_response).groupby('response').mean().diff(axis=0).iloc[1])\n",
    "            ranks = imps.rank(ascending=False)\n",
    "            df_imps['run{}'.format(i)] = imps\n",
    "            df_ranks['run{}'.format(i)] = ranks\n",
    "        melted_imps = df_imps.melt(value_name='Importance', var_name='Run')\n",
    "        melted_imps['Model'] = m\n",
    "        melted_imps['Layer'] = l\n",
    "        all_imps = pd.concat([all_imps, melted_imps])\n",
    "all_imps"
   ]
  },
  {
   "cell_type": "code",
   "execution_count": null,
   "id": "b723cf09-7cf1-41ec-9244-e3f61afc6b26",
   "metadata": {},
   "outputs": [],
   "source": [
    "layer_numeric = {'gene_feature':0, 'gene':1, 'layer_0':2, 'layer_1':3, 'layer_2':4, 'layer_3':5}"
   ]
  },
  {
   "cell_type": "code",
   "execution_count": null,
   "id": "ed29174e-9eec-44f4-acc5-b1cd93408e8b",
   "metadata": {},
   "outputs": [],
   "source": [
    "all_imps['Numeric Layer'] = all_imps['Layer'].apply(lambda x: layer_numeric[x])"
   ]
  },
  {
   "cell_type": "code",
   "execution_count": null,
   "id": "f17b03b4-df31-4c1b-81f5-dd818d74a350",
   "metadata": {
    "tags": []
   },
   "outputs": [],
   "source": [
    "plt.figure(figsize=(24, 16))\n",
    "sns.scatterplot(data=all_imps, y='Importance', x='Numeric Layer', hue='Model')\n",
    "plt.show()"
   ]
  },
  {
   "cell_type": "code",
   "execution_count": null,
   "id": "de1da60f-3991-4461-851f-f01ecafafec0",
   "metadata": {},
   "outputs": [],
   "source": [
    "import numpy as np"
   ]
  },
  {
   "cell_type": "code",
   "execution_count": null,
   "id": "5dd7ff99-a271-40dd-86d3-54cd4efffc11",
   "metadata": {},
   "outputs": [],
   "source": [
    "grpd_df = all_imps.groupby(['Numeric Layer', 'Model']).mean().reset_index()\n",
    "std_df = all_imps.groupby(['Numeric Layer', 'Model']).std().reset_index()\n",
    "grpd_df['Importance'] = grpd_df['Importance']/std_df['Importance']"
   ]
  },
  {
   "cell_type": "code",
   "execution_count": null,
   "id": "376c2c81-6947-4c01-80ad-34faf116dae2",
   "metadata": {},
   "outputs": [],
   "source": [
    "sns.lineplot(data=grpd_df, x='Numeric Layer', y='Importance', hue='Model')\n",
    "plt.legend(['P-Net', 'Random Sparse Net'])\n",
    "plt.ylabel('SNR of Importance Scores', size=14)\n",
    "plt.xlabel('Network Layer', size=14)\n",
    "sns.despine()\n",
    "plt.savefig('../figures/importance_scores_per_layer_SNR.pdf')"
   ]
  },
  {
   "cell_type": "code",
   "execution_count": null,
   "id": "9df4aa59-ec4e-4549-ba47-7114c93c8836",
   "metadata": {},
   "outputs": [],
   "source": []
  },
  {
   "cell_type": "code",
   "execution_count": null,
   "id": "3d7c989f-2413-4cfb-82a3-02c9273d549f",
   "metadata": {},
   "outputs": [],
   "source": [
    "def plot_violin(dataframe, title, ax):\n",
    "    melted_df = dataframe.melt(var_name='Columns', value_name='Values')\n",
    "    sns.violinplot(y='Values', data=melted_df, ax=ax)\n",
    "    ax.set_title(title)\n",
    "    ax.set_xlabel('Columns', size=14)\n",
    "    ax.set_ylabel('Values', size=14)\n",
    "\n",
    "# Create subplots for each violin plot\n",
    "fig, (ax1, ax2) = plt.subplots(1, 2, figsize=(12, 6), sharey=True)\n",
    "\n",
    "ax2.spines[['top','left','right']].set_visible(False)\n",
    "ax1.spines[['top','right']].set_visible(False)\n",
    "ax2.yaxis.set_visible(False)\n",
    "# Plot the first DataFrame as violin plot\n",
    "plot_violin(df_imps, title='P-Net', ax=ax1)\n",
    "\n",
    "# Plot the second DataFrame as violin plot\n",
    "plot_violin(df_imps_rand, title='Sparse-NN', ax=ax2)"
   ]
  },
  {
   "cell_type": "code",
   "execution_count": null,
   "id": "28c4476f-ee52-4992-9fa8-4e1090311558",
   "metadata": {},
   "outputs": [],
   "source": [
    "df_imps_rand.mean(axis=1).nlargest(20)"
   ]
  },
  {
   "cell_type": "code",
   "execution_count": null,
   "id": "6956e643-1daa-4011-9faf-05893a4ad8b8",
   "metadata": {},
   "outputs": [],
   "source": [
    "import numpy as np"
   ]
  },
  {
   "cell_type": "code",
   "execution_count": null,
   "id": "822aef6b-ac0f-4339-bbc3-c9a4831f3922",
   "metadata": {},
   "outputs": [],
   "source": []
  },
  {
   "cell_type": "code",
   "execution_count": null,
   "id": "2e09731d-3f6d-4d00-9ea6-262a3d99d0df",
   "metadata": {},
   "outputs": [],
   "source": [
    "row_times_dist = (np.random.randn(350000)*9)+210"
   ]
  },
  {
   "cell_type": "code",
   "execution_count": null,
   "id": "0d7373a2-6c44-4274-9ed0-0db886d01175",
   "metadata": {},
   "outputs": [],
   "source": [
    "sns.histplot(row_times_dist, bins=20)\n",
    "plt.show()"
   ]
  },
  {
   "cell_type": "code",
   "execution_count": null,
   "id": "73ac38a6-5f99-4e71-9a37-8b035b22f6c7",
   "metadata": {},
   "outputs": [],
   "source": [
    "def get_row_ranks(row_time):\n",
    "    row_ranks = (row_times_dist[:int(row_times_dist.shape[0]/35)*35].reshape(35, -1) < row_time).sum(axis=0)+1\n",
    "    return row_ranks"
   ]
  },
  {
   "cell_type": "code",
   "execution_count": null,
   "id": "8132b8ef-0ecb-419a-b391-068a61a18c1d",
   "metadata": {},
   "outputs": [],
   "source": [
    "amrap_row_pace = (np.random.randn(10000)*7)+255\n",
    "amrap_vup_pace = (np.random.gamma(3, 10, 10000)) + 30\n",
    "amrap_ctb_pace = (np.random.gamma(3, 45, 10000)) + 40"
   ]
  },
  {
   "cell_type": "code",
   "execution_count": null,
   "id": "80db399b-3ed6-4052-a7a6-477a6de78354",
   "metadata": {},
   "outputs": [],
   "source": [
    "amrap_scores=[]\n",
    "for athlete in range(350000):\n",
    "    t = 18*60\n",
    "    i = 0\n",
    "    row = np.random.choice(amrap_row_pace)\n",
    "    vup = np.random.choice(amrap_vup_pace)\n",
    "    ctb = np.random.choice(amrap_ctb_pace)\n",
    "    # print('Time for Row: {}, Time for Vup: {}, Time for C2B: {}'.format(row, vup, ctb))\n",
    "    next_ex = list(zip(['r', 'v', 'c']*10, [row, vup, ctb]*10))\n",
    "    \n",
    "    while t>next_ex[i][1]:\n",
    "        t -= next_ex[i][1]\n",
    "        i += 1\n",
    "    \n",
    "    add_score = [1000, 30, 30]\n",
    "    full_rounds = int(i/3)\n",
    "    ex_comp = i%3\n",
    "    add_reps = t/next_ex[i][1]*add_score[ex_comp]\n",
    "    score = full_rounds*1060 + sum(add_score[:ex_comp])+int(add_reps)\n",
    "    # print('Rounds completed: {}, Exercises completed: {}, Remaining time: {}, Reps achieved: {}, Total Score: {}'.format(i, ex_comp, t, add_reps, score))\n",
    "    amrap_scores.append(score)\n",
    "amrap_scores = np.array(scores)"
   ]
  },
  {
   "cell_type": "code",
   "execution_count": null,
   "id": "70de136f-a787-41bd-a8d5-fedea3b50a4e",
   "metadata": {},
   "outputs": [],
   "source": [
    "sns.histplot(amrap_scores, bins=30, stat='probability')\n",
    "sns.despine()\n",
    "plt.xlabel('Reps')\n",
    "plt.show()"
   ]
  },
  {
   "cell_type": "code",
   "execution_count": null,
   "id": "0778ac3b-62b2-44c9-aa9e-27eb4e5051fb",
   "metadata": {},
   "outputs": [],
   "source": [
    "def get_amrap_ranks(score):\n",
    "    amrap_ranks = (amrap_scores[:int(amrap_scores.shape[0]/35)*35].reshape(35, -1) > score).sum(axis=0)+1\n",
    "    return amrap_ranks"
   ]
  },
  {
   "cell_type": "code",
   "execution_count": null,
   "id": "eb4955ad-21e5-4488-b8dd-71996adcb26b",
   "metadata": {},
   "outputs": [],
   "source": [
    "x_row = np.linspace(180, 240, num=61)\n",
    "x_amrap = np.linspace(2000, 3300, num=1301)\n",
    "row_results = [get_row_ranks(xs).mean() for xs in x_row]\n",
    "amrap_results = [get_amrap_ranks(xs).mean() for xs in x_amrap]\n"
   ]
  },
  {
   "cell_type": "code",
   "execution_count": null,
   "id": "0023770a-6fab-4868-bba3-e53cc376ac56",
   "metadata": {},
   "outputs": [],
   "source": [
    "plt.plot(x_row, row_results)"
   ]
  },
  {
   "cell_type": "code",
   "execution_count": null,
   "id": "780d035d-2062-4b44-97bd-2a0665ab7d13",
   "metadata": {},
   "outputs": [],
   "source": [
    "plt.plot(x_amrap, amrap_results)\n",
    "plt.gca().invert_yaxis()"
   ]
  },
  {
   "cell_type": "code",
   "execution_count": null,
   "id": "785c9c21-0217-4b01-a4a2-c7878d3424f7",
   "metadata": {},
   "outputs": [],
   "source": [
    "def overall_rank_outcome(row_time, amrap_score):\n",
    "    return get_row_ranks(row_time).mean() + get_amrap_ranks(amrap_score).mean()"
   ]
  },
  {
   "cell_type": "code",
   "execution_count": null,
   "id": "b07c3639-b9af-447a-89fa-d33025d2aa2e",
   "metadata": {},
   "outputs": [],
   "source": [
    "x_row_grid, x_amrap_grid = np.meshgrid(x_row, x_amrap)\n",
    "\n",
    "\n",
    "# Calculate the results for all points in the grid\n",
    "results = np.zeros((len(x_row), len(x_amrap)))\n",
    "\n",
    "# Evaluate the function for each combination of x_row and x_amrap\n",
    "for i, row_value in enumerate(x_row):\n",
    "    for j, amrap_value in enumerate(x_amrap):\n",
    "        results[i, j] = overall_rank_outcome(row_value, amrap_value)"
   ]
  },
  {
   "cell_type": "code",
   "execution_count": null,
   "id": "b77aa9e4-f78f-4f3d-96ff-a72601aea64f",
   "metadata": {},
   "outputs": [],
   "source": [
    "# Create a 3D figure\n",
    "fig = plt.figure()\n",
    "ax = fig.add_subplot(111, projection='3d')\n",
    "\n",
    "# Plot the 3D surface plot\n",
    "surf = ax.plot_surface(x_row_grid, x_amrap_grid, results.T, cmap='viridis')\n",
    "\n",
    "# Set labels for each axis\n",
    "ax.set_xlabel('X Row')\n",
    "ax.set_ylabel('X AMRAP')\n",
    "ax.set_zlabel('Results')\n",
    "\n",
    "# Make the plot interactive (for Jupyter Notebook or JupyterLab)\n",
    "%matplotlib inline\n",
    "\n",
    "# Show the plot\n",
    "plt.show()"
   ]
  },
  {
   "cell_type": "code",
   "execution_count": null,
   "id": "f9f1eb25-d849-43d0-b4d3-37bbddc21ab4",
   "metadata": {},
   "outputs": [],
   "source": [
    "x_amrap_grid.shape"
   ]
  },
  {
   "cell_type": "code",
   "execution_count": null,
   "id": "51b600a6-f06f-47cd-b4c2-87ac248a380f",
   "metadata": {},
   "outputs": [],
   "source": []
  }
 ],
 "metadata": {
  "environment": {
   "kernel": "python3",
   "name": "pytorch-gpu.1-10.m90",
   "type": "gcloud",
   "uri": "gcr.io/deeplearning-platform-release/pytorch-gpu.1-10:m90"
  },
  "kernelspec": {
   "display_name": "Python 3",
   "language": "python",
   "name": "python3"
  },
  "language_info": {
   "codemirror_mode": {
    "name": "ipython",
    "version": 3
   },
   "file_extension": ".py",
   "mimetype": "text/x-python",
   "name": "python",
   "nbconvert_exporter": "python",
   "pygments_lexer": "ipython3",
   "version": "3.7.12"
  }
 },
 "nbformat": 4,
 "nbformat_minor": 5
}
