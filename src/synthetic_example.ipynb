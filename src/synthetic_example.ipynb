{
 "cells": [
  {
   "cell_type": "code",
   "execution_count": 1,
   "id": "cb0615a8-6a64-42dd-bc4c-b1c256ebb310",
   "metadata": {},
   "outputs": [],
   "source": [
    "import pnet_loader\n",
    "import util\n",
    "import torch\n",
    "import seaborn as sns\n",
    "import pandas as pd\n",
    "import numpy as np\n",
    "import Pnet\n",
    "import pytorch_lightning as pl\n",
    "import ReactomeNetwork\n",
    "from sklearn import metrics\n",
    "import matplotlib.pyplot as plt\n",
    "from sklearn.metrics import roc_auc_score\n",
    "from sklearn.ensemble import RandomForestClassifier\n",
    "from sklearn.mixture import GaussianMixture\n",
    "from sklearn.decomposition import PCA\n",
    "import os\n",
    "\n",
    "%load_ext autoreload\n",
    "%autoreload 2"
   ]
  },
  {
   "cell_type": "code",
   "execution_count": 2,
   "id": "4daa4fa6-7913-4673-97df-ddd4220f1847",
   "metadata": {},
   "outputs": [],
   "source": [
    "MUTATIONS_DICT = {\"3'Flank\": 'Silent',\n",
    "                  \"5'Flank\": 'Silent',\n",
    "                  \"5'UTR\": 'Silent',\n",
    "                  \"3'UTR\": 'Silent',\n",
    "                  \"IGR\": 'Silent',\n",
    "                  \"Intron\": 'Silent',\n",
    "                  \"lincRNA\": 'Silent',\n",
    "                  \"RNA\": 'Silent',\n",
    "                  \"Silent\": 'Silent',\n",
    "                  \"non_coding_transcript_exon\": 'Silent',\n",
    "                  \"upstream_gene\": 'Silent',\n",
    "                  \"Splice_Region\": 'Silent',\n",
    "                  \"Targeted_Region\": 'Silent',\n",
    "                  'Splice_Site': 'LOF',\n",
    "                  'Nonsense_Mutation': 'LOF',\n",
    "                  'Frame_Shift_Del': 'LOF',\n",
    "                  'Frame_Shift_Ins': 'LOF',\n",
    "                  'Stop_Codon_Del': 'LOF',\n",
    "                  'Stop_Codon_Ins': 'LOF',\n",
    "                  'Nonstop_Mutation': 'LOF',\n",
    "                  'Start_Codon_Del': 'LOF',\n",
    "                  'Missense_Mutation': 'Other_nonsynonymous',\n",
    "                  'In_Frame_Del': 'Other_nonsynonymous',\n",
    "                  'In_Frame_Ins': 'Other_nonsynonymous',\n",
    "                  'De_novo_Start_InFrame': 'Other_nonsynonymous',\n",
    "                  'Translation_Start_Site': 'Other_nonsynonymous'}"
   ]
  },
  {
   "cell_type": "code",
   "execution_count": 3,
   "id": "2d5b96cf-796b-4ffd-8806-12344bc73c4d",
   "metadata": {},
   "outputs": [],
   "source": [
    "directories = ['/mnt/disks/pancan/data/' + x for x in os.listdir('/mnt/disks/pancan/data/') if 'tcga_pan_can_atlas' in x]"
   ]
  },
  {
   "cell_type": "code",
   "execution_count": 4,
   "id": "8cf9b02f-1d1d-4ab9-9361-faf074109ab2",
   "metadata": {},
   "outputs": [],
   "source": [
    "def load_single_dataset(directory_path):\n",
    "    muts = pd.read_csv(directory_path + '/data_mutations.txt', delimiter='\\t')\n",
    "    grouped_muts = muts[muts['Variant_Classification'].apply(lambda x: MUTATIONS_DICT[x]) != 'Silent'][['Hugo_Symbol',\n",
    "                                                                                                    'Variant_Classification',\n",
    "                                                                                                    'Tumor_Sample_Barcode']].groupby(['Tumor_Sample_Barcode',\n",
    "                                                                                                                                      'Hugo_Symbol']).count()\n",
    "    rna_exp = pd.read_csv(directory_path + '/data_mrna_seq_v2_rsem.txt',\n",
    "                           sep='\\t').dropna().set_index('Hugo_Symbol').drop(['Entrez_Gene_Id'], axis=1).T\n",
    "    rna_exp = rna_exp.loc[:,~rna_exp.columns.duplicated()].astype(float).copy()\n",
    "    cna = pd.read_csv(directory_path + '/data_cna.txt',\n",
    "                      sep='\\t').dropna().set_index('Hugo_Symbol').drop(['Entrez_Gene_Id'], axis=1).T\n",
    "    cna.drop('Cytoband', errors='ignore', inplace=True)\n",
    "    cna = cna.loc[:,~cna.columns.duplicated()].astype(float).copy()\n",
    "    \n",
    "    genes = list(set(rna_exp.columns).intersection(cna.columns))\n",
    "    indices = list(set(rna_exp.index).intersection(cna.index))\n",
    "    tumor_type = pd.DataFrame(len(indices)*[directory_path.split('/')[-1].split('_')[0]],\n",
    "                              index = indices, columns=['tumor'])\n",
    "    return rna_exp[genes], cna[genes], tumor_type, grouped_muts"
   ]
  },
  {
   "cell_type": "code",
   "execution_count": 5,
   "id": "0458d6ca-6941-4c1c-8a3f-ba443b4a4a78",
   "metadata": {},
   "outputs": [
    {
     "data": {
      "text/plain": [
       "['/mnt/disks/pancan/data/luad_tcga_pan_can_atlas_2018',\n",
       " '/mnt/disks/pancan/data/lusc_tcga_pan_can_atlas_2018']"
      ]
     },
     "execution_count": 5,
     "metadata": {},
     "output_type": "execute_result"
    }
   ],
   "source": [
    "[directories[1], directories[14]]"
   ]
  },
  {
   "cell_type": "code",
   "execution_count": 6,
   "id": "5a4993e9-6f0a-48fa-95aa-f5c1ed8b02d7",
   "metadata": {},
   "outputs": [
    {
     "name": "stderr",
     "output_type": "stream",
     "text": [
      "/opt/conda/lib/python3.7/site-packages/ipykernel_launcher.py:3: DtypeWarning: Columns (38,39) have mixed types.Specify dtype option on import or set low_memory=False.\n",
      "  This is separate from the ipykernel package so we can avoid doing imports until\n"
     ]
    }
   ],
   "source": [
    "rna, cna, tumor, mut = pd.DataFrame(), pd.DataFrame(), pd.DataFrame(), pd.DataFrame()\n",
    "for path in [directories[1], directories[14]]: # selecting only lung directories\n",
    "    rna_, cna_, tumor_, grouped_muts_ = load_single_dataset(path)\n",
    "\n",
    "    mut_ = pd.DataFrame(index=rna_.index, columns=rna_.columns).fillna(0)\n",
    "    for i in grouped_muts_.iterrows():\n",
    "        try: \n",
    "            mut_.loc[i[0][0]][i[0][1]] = 1\n",
    "        except KeyError:\n",
    "            pass\n",
    "    \n",
    "    rna = pd.concat([rna_, rna])\n",
    "    cna = pd.concat([cna_, cna])\n",
    "    mut = pd.concat([mut_, mut])\n",
    "    tumor = pd.concat([tumor_, tumor])\n",
    "\n",
    "    \n",
    "rna.dropna(axis=1, inplace=True)\n",
    "cna.dropna(axis=1, inplace=True)\n",
    "mut.dropna(axis=1, inplace=True)\n",
    "rna = (rna-rna.mean())/rna.std()\n",
    "\n",
    "# rna = pd.read_csv('/mnt/disks/pancan/data/pancan_rna.csv').set_index('Unnamed: 0')\n",
    "# cna = pd.read_csv('/mnt/disks/pancan/data/pancan_cna.csv').set_index('Unnamed: 0')\n",
    "# mut = pd.read_csv('/mnt/disks/pancan/data/pancan_mut.csv').set_index('Unnamed: 0')"
   ]
  },
  {
   "cell_type": "code",
   "execution_count": 7,
   "id": "ecb0a576-5afb-4de4-b7aa-80d621c7d567",
   "metadata": {},
   "outputs": [],
   "source": [
    "def load_pathway2genes():\n",
    "    filename = '../data/reactome/ReactomePathways.gmt'\n",
    "    genes_start_col = 2\n",
    "    pathway_col = 1\n",
    "    pathway2genes_list = []\n",
    "    with open(filename) as gmt:\n",
    "        lines = gmt.readlines()\n",
    "        for line in lines:\n",
    "            line_list = line.strip().split('\\t')\n",
    "            pathway = line_list[pathway_col]\n",
    "            for gene in line_list[genes_start_col:]:\n",
    "                pathway2genes_list.append({'pathway': pathway, 'gene': gene})\n",
    "    pathway2genes = pd.DataFrame(pathway2genes_list)\n",
    "\n",
    "    return pd.concat([pathway2genes])"
   ]
  },
  {
   "cell_type": "code",
   "execution_count": 8,
   "id": "600174bd-be3b-4795-b09e-b5d31e425e34",
   "metadata": {},
   "outputs": [],
   "source": [
    "canc_genes = list(pd.read_csv('/mnt/disks/pancan/pnet_database/genes/cancer_genes.txt')['genes'])\n",
    "pathway2genes = load_pathway2genes()\n",
    "reactome_genes = list(pathway2genes['gene'].unique())"
   ]
  },
  {
   "cell_type": "code",
   "execution_count": 9,
   "id": "afef099f-b241-442a-bf4e-2e3c484a11e0",
   "metadata": {},
   "outputs": [],
   "source": [
    "genetic_data = {'rna': rna, 'cna': cna, 'mut': mut}"
   ]
  },
  {
   "cell_type": "code",
   "execution_count": 10,
   "id": "8832257f-1680-48b9-bee2-a2127f2d356d",
   "metadata": {},
   "outputs": [
    {
     "data": {
      "text/html": [
       "<div>\n",
       "<style scoped>\n",
       "    .dataframe tbody tr th:only-of-type {\n",
       "        vertical-align: middle;\n",
       "    }\n",
       "\n",
       "    .dataframe tbody tr th {\n",
       "        vertical-align: top;\n",
       "    }\n",
       "\n",
       "    .dataframe thead th {\n",
       "        text-align: right;\n",
       "    }\n",
       "</style>\n",
       "<table border=\"1\" class=\"dataframe\">\n",
       "  <thead>\n",
       "    <tr style=\"text-align: right;\">\n",
       "      <th></th>\n",
       "      <th>target</th>\n",
       "    </tr>\n",
       "  </thead>\n",
       "  <tbody>\n",
       "    <tr>\n",
       "      <th>TCGA-18-3406-01</th>\n",
       "      <td>0.0</td>\n",
       "    </tr>\n",
       "    <tr>\n",
       "      <th>TCGA-18-3407-01</th>\n",
       "      <td>1.0</td>\n",
       "    </tr>\n",
       "    <tr>\n",
       "      <th>TCGA-18-3408-01</th>\n",
       "      <td>1.0</td>\n",
       "    </tr>\n",
       "    <tr>\n",
       "      <th>TCGA-18-3410-01</th>\n",
       "      <td>1.0</td>\n",
       "    </tr>\n",
       "    <tr>\n",
       "      <th>TCGA-18-3411-01</th>\n",
       "      <td>0.0</td>\n",
       "    </tr>\n",
       "    <tr>\n",
       "      <th>...</th>\n",
       "      <td>...</td>\n",
       "    </tr>\n",
       "    <tr>\n",
       "      <th>TCGA-NJ-A55O-01</th>\n",
       "      <td>0.0</td>\n",
       "    </tr>\n",
       "    <tr>\n",
       "      <th>TCGA-NJ-A55R-01</th>\n",
       "      <td>0.0</td>\n",
       "    </tr>\n",
       "    <tr>\n",
       "      <th>TCGA-NJ-A7XG-01</th>\n",
       "      <td>0.0</td>\n",
       "    </tr>\n",
       "    <tr>\n",
       "      <th>TCGA-O1-A52J-01</th>\n",
       "      <td>1.0</td>\n",
       "    </tr>\n",
       "    <tr>\n",
       "      <th>TCGA-S2-AA1A-01</th>\n",
       "      <td>1.0</td>\n",
       "    </tr>\n",
       "  </tbody>\n",
       "</table>\n",
       "<p>994 rows × 1 columns</p>\n",
       "</div>"
      ],
      "text/plain": [
       "                 target\n",
       "TCGA-18-3406-01     0.0\n",
       "TCGA-18-3407-01     1.0\n",
       "TCGA-18-3408-01     1.0\n",
       "TCGA-18-3410-01     1.0\n",
       "TCGA-18-3411-01     0.0\n",
       "...                 ...\n",
       "TCGA-NJ-A55O-01     0.0\n",
       "TCGA-NJ-A55R-01     0.0\n",
       "TCGA-NJ-A7XG-01     0.0\n",
       "TCGA-O1-A52J-01     1.0\n",
       "TCGA-S2-AA1A-01     1.0\n",
       "\n",
       "[994 rows x 1 columns]"
      ]
     },
     "execution_count": 10,
     "metadata": {},
     "output_type": "execute_result"
    }
   ],
   "source": [
    "# tumor_target = pd.DataFrame(pd.get_dummies(tumor)['tumor_luad'])\n",
    "# tumor_target\n",
    "some_target = pd.DataFrame(index=rna.index, columns=['target'])\n",
    "some_target['target'] = (np.random.rand(some_target.shape[0]) > 0.5).astype(float)\n",
    "some_target"
   ]
  },
  {
   "cell_type": "code",
   "execution_count": 11,
   "id": "05c33089-45e3-4ce4-ab7d-3c8f5dfaf702",
   "metadata": {},
   "outputs": [
    {
     "name": "stdout",
     "output_type": "stream",
     "text": [
      "Given 3 Input modalities\n",
      "Found 991 overlapping indicies\n",
      "Initializing Train Dataset\n",
      "Found 687 overlapping genes\n",
      "generated input DataFrame of size (793, 2061)\n",
      "Initializing Test Dataset\n",
      "Found 687 overlapping genes\n",
      "generated input DataFrame of size (198, 2061)\n",
      "Found 687 overlapping genes\n"
     ]
    }
   ],
   "source": [
    "train_dataset, test_dataset = pnet_loader.generate_train_test(genetic_data, some_target, gene_set=canc_genes)\n",
    "\n",
    "reactome_network = ReactomeNetwork.ReactomeNetwork(train_dataset.get_genes())\n",
    "\n",
    "model = Pnet.PNET_NN(reactome_network=reactome_network, nbr_gene_inputs=len(genetic_data), dropout=0.2,\n",
    "                      additional_dims=0, lr=1e-3, weight_decay=0.1, attn_agg=True)\n",
    "\n",
    "train_loader, val_loader = pnet_loader.to_dataloader(train_dataset, test_dataset, 256)"
   ]
  },
  {
   "cell_type": "code",
   "execution_count": 12,
   "id": "84bb7764-f4bf-412d-804c-d94c21f57ef7",
   "metadata": {},
   "outputs": [
    {
     "data": {
      "text/plain": [
       "Parameter containing:\n",
       "tensor([[-0.0053, -0.0010,  0.0208,  ...,  0.0084,  0.0197, -0.0001],\n",
       "        [-0.0131, -0.0089, -0.0026,  ..., -0.0166,  0.0019,  0.0218],\n",
       "        [ 0.0026, -0.0174,  0.0009,  ..., -0.0096,  0.0092, -0.0163],\n",
       "        ...,\n",
       "        [ 0.0014,  0.0157, -0.0011,  ...,  0.0106,  0.0054, -0.0015],\n",
       "        [ 0.0216,  0.0187,  0.0142,  ...,  0.0039,  0.0075,  0.0095],\n",
       "        [-0.0019,  0.0003, -0.0115,  ...,  0.0163,  0.0166,  0.0057]],\n",
       "       requires_grad=True)"
      ]
     },
     "execution_count": 12,
     "metadata": {},
     "output_type": "execute_result"
    }
   ],
   "source": [
    "model.input_layer[0].weight"
   ]
  },
  {
   "cell_type": "code",
   "execution_count": 13,
   "id": "285b3549-14fa-46ee-acff-8f29a2700fb3",
   "metadata": {
    "tags": []
   },
   "outputs": [
    {
     "name": "stderr",
     "output_type": "stream",
     "text": [
      "GPU available: True (cuda), used: True\n",
      "TPU available: False, using: 0 TPU cores\n",
      "IPU available: False, using: 0 IPUs\n",
      "HPU available: False, using: 0 HPUs\n",
      "Initializing distributed: GLOBAL_RANK: 0, MEMBER: 1/2\n",
      "Initializing distributed: GLOBAL_RANK: 1, MEMBER: 2/2\n",
      "----------------------------------------------------------------------------------------------------\n",
      "distributed_backend=nccl\n",
      "All distributed processes registered. Starting with 2 processes\n",
      "----------------------------------------------------------------------------------------------------\n",
      "\n",
      "LOCAL_RANK: 0 - CUDA_VISIBLE_DEVICES: [0,1]\n",
      "LOCAL_RANK: 1 - CUDA_VISIBLE_DEVICES: [0,1]\n",
      "\n",
      "  | Name             | Type       | Params\n",
      "------------------------------------------------\n",
      "0 | layers           | ModuleList | 4.2 M \n",
      "1 | preds            | ModuleList | 2.2 K \n",
      "2 | input_layer      | Sequential | 2.8 M \n",
      "3 | first_gene_layer | Sequential | 1.0 M \n",
      "4 | drop1            | Dropout    | 0     \n",
      "5 | attn             | Linear     | 5     \n",
      "------------------------------------------------\n",
      "4.0 M     Trainable params\n",
      "4.0 M     Non-trainable params\n",
      "8.0 M     Total params\n",
      "32.150    Total estimated model params size (MB)\n"
     ]
    },
    {
     "data": {
      "application/vnd.jupyter.widget-view+json": {
       "model_id": "2bdcf9d3ca0b406294ab8593269b5e2f",
       "version_major": 2,
       "version_minor": 0
      },
      "text/plain": [
       "Sanity Checking: 0it [00:00, ?it/s]"
      ]
     },
     "metadata": {},
     "output_type": "display_data"
    },
    {
     "name": "stderr",
     "output_type": "stream",
     "text": [
      "/opt/conda/lib/python3.7/site-packages/pytorch_lightning/trainer/connectors/data_connector.py:209: UserWarning: num_workers>0, persistent_workers=False, and strategy=ddp_spawn may result in data loading bottlenecks. Consider setting persistent_workers=True (this is a limitation of Python .spawn() and PyTorch)\n",
      "  \"num_workers>0, persistent_workers=False, and strategy=ddp_spawn\"\n"
     ]
    },
    {
     "name": "stdout",
     "output_type": "stream",
     "text": [
      "before:  before:  tensor([[-0.4898,  0.2298,  0.3140,  ...,  0.0000,  0.0000,  0.0000],\n",
      "        [ 1.8134,  0.7548, -0.5753,  ...,  0.0000,  0.0000,  0.0000],\n",
      "        [-0.5219,  1.6974, -0.9188,  ...,  0.0000,  0.0000,  0.0000],\n",
      "        ...,\n",
      "        [-0.7075, -1.4653, -0.3705,  ...,  0.0000,  0.0000,  0.0000],\n",
      "        [ 1.7728, -0.2099, -0.6515,  ...,  0.0000,  0.0000,  0.0000],\n",
      "        [ 0.0800,  0.0320, -0.9400,  ...,  0.0000,  0.0000,  0.0000]],\n",
      "       device='cuda:1')\n",
      "tensor([[-0.2435,  0.2605, -0.1863,  ...,  0.0000,  0.0000,  0.0000],\n",
      "        [-0.8765, -1.6139,  2.9281,  ...,  0.0000,  0.0000,  0.0000],\n",
      "        [-0.7316, -0.2879, -0.6402,  ...,  0.0000,  0.0000,  0.0000],\n",
      "        ...,\n",
      "        [-0.1780, -0.0630,  0.2241,  ...,  0.0000,  0.0000,  0.0000],\n",
      "        [-0.4339,  0.6982, -0.6218,  ...,  0.0000,  0.0000,  0.0000],\n",
      "        [-0.5101,  0.6086,  0.6178,  ...,  0.0000,  0.0000,  0.0000]],\n",
      "       device='cuda:0')\n",
      "after:  after:  tensor([[nan, nan, nan,  ..., nan, nan, nan],\n",
      "        [nan, nan, nan,  ..., nan, nan, nan],\n",
      "        [nan, nan, nan,  ..., nan, nan, nan],\n",
      "        ...,\n",
      "        [nan, nan, nan,  ..., nan, nan, nan],\n",
      "        [nan, nan, nan,  ..., nan, nan, nan],\n",
      "        [nan, nan, nan,  ..., nan, nan, nan]], device='cuda:1')\n",
      "tensor([[nan, nan, nan,  ..., nan, nan, nan],\n",
      "        [nan, nan, nan,  ..., nan, nan, nan],\n",
      "        [nan, nan, nan,  ..., nan, nan, nan],\n",
      "        ...,\n",
      "        [nan, nan, nan,  ..., nan, nan, nan],\n",
      "        [nan, nan, nan,  ..., nan, nan, nan],\n",
      "        [nan, nan, nan,  ..., nan, nan, nan]], device='cuda:0')\n"
     ]
    },
    {
     "ename": "ProcessRaisedException",
     "evalue": "\n\n-- Process 0 terminated with the following error:\nTraceback (most recent call last):\n  File \"/opt/conda/lib/python3.7/site-packages/torch/multiprocessing/spawn.py\", line 59, in _wrap\n    fn(i, *args)\n  File \"/opt/conda/lib/python3.7/site-packages/pytorch_lightning/strategies/launchers/multiprocessing.py\", line 139, in _wrapping_function\n    results = function(*args, **kwargs)\n  File \"/opt/conda/lib/python3.7/site-packages/pytorch_lightning/trainer/trainer.py\", line 650, in _fit_impl\n    self._run(model, ckpt_path=self.ckpt_path)\n  File \"/opt/conda/lib/python3.7/site-packages/pytorch_lightning/trainer/trainer.py\", line 1112, in _run\n    results = self._run_stage()\n  File \"/opt/conda/lib/python3.7/site-packages/pytorch_lightning/trainer/trainer.py\", line 1191, in _run_stage\n    self._run_train()\n  File \"/opt/conda/lib/python3.7/site-packages/pytorch_lightning/trainer/trainer.py\", line 1204, in _run_train\n    self._run_sanity_check()\n  File \"/opt/conda/lib/python3.7/site-packages/pytorch_lightning/trainer/trainer.py\", line 1276, in _run_sanity_check\n    val_loop.run()\n  File \"/opt/conda/lib/python3.7/site-packages/pytorch_lightning/loops/loop.py\", line 199, in run\n    self.advance(*args, **kwargs)\n  File \"/opt/conda/lib/python3.7/site-packages/pytorch_lightning/loops/dataloader/evaluation_loop.py\", line 152, in advance\n    dl_outputs = self.epoch_loop.run(self._data_fetcher, dl_max_batches, kwargs)\n  File \"/opt/conda/lib/python3.7/site-packages/pytorch_lightning/loops/loop.py\", line 199, in run\n    self.advance(*args, **kwargs)\n  File \"/opt/conda/lib/python3.7/site-packages/pytorch_lightning/loops/epoch/evaluation_epoch_loop.py\", line 137, in advance\n    output = self._evaluation_step(**kwargs)\n  File \"/opt/conda/lib/python3.7/site-packages/pytorch_lightning/loops/epoch/evaluation_epoch_loop.py\", line 234, in _evaluation_step\n    output = self.trainer._call_strategy_hook(hook_name, *kwargs.values())\n  File \"/opt/conda/lib/python3.7/site-packages/pytorch_lightning/trainer/trainer.py\", line 1494, in _call_strategy_hook\n    output = fn(*args, **kwargs)\n  File \"/opt/conda/lib/python3.7/site-packages/pytorch_lightning/strategies/ddp_spawn.py\", line 288, in validation_step\n    return self.model(*args, **kwargs)\n  File \"/opt/conda/lib/python3.7/site-packages/torch/nn/modules/module.py\", line 1102, in _call_impl\n    return forward_call(*input, **kwargs)\n  File \"/opt/conda/lib/python3.7/site-packages/torch/nn/parallel/distributed.py\", line 886, in forward\n    output = self.module(*inputs[0], **kwargs[0])\n  File \"/opt/conda/lib/python3.7/site-packages/torch/nn/modules/module.py\", line 1102, in _call_impl\n    return forward_call(*input, **kwargs)\n  File \"/opt/conda/lib/python3.7/site-packages/pytorch_lightning/overrides/base.py\", line 110, in forward\n    return self._forward_module.validation_step(*inputs, **kwargs)\n  File \"/mnt/disks/pancan/pnet/src/Pnet.py\", line 129, in validation_step\n    loss = self.step('val', batch, batch_nb)\n  File \"/mnt/disks/pancan/pnet/src/Pnet.py\", line 113, in step\n    pred_y = self(x, additional)\n  File \"/opt/conda/lib/python3.7/site-packages/torch/nn/modules/module.py\", line 1102, in _call_impl\n    return forward_call(*input, **kwargs)\n  File \"/mnt/disks/pancan/pnet/src/Pnet.py\", line 105, in forward\n    raise Exception('Yallah want to stop here')\nException: Yallah want to stop here\n",
     "output_type": "error",
     "traceback": [
      "\u001b[0;31m---------------------------------------------------------------------------\u001b[0m",
      "\u001b[0;31mProcessRaisedException\u001b[0m                    Traceback (most recent call last)",
      "\u001b[0;32m/tmp/ipykernel_13419/512622629.py\u001b[0m in \u001b[0;36m<module>\u001b[0;34m\u001b[0m\n\u001b[1;32m      2\u001b[0m                      enable_checkpointing=True, callbacks=[pl.callbacks.LearningRateMonitor(logging_interval='epoch')])\n\u001b[1;32m      3\u001b[0m \u001b[0;34m\u001b[0m\u001b[0m\n\u001b[0;32m----> 4\u001b[0;31m \u001b[0mtrainer\u001b[0m\u001b[0;34m.\u001b[0m\u001b[0mfit\u001b[0m\u001b[0;34m(\u001b[0m\u001b[0mmodel\u001b[0m\u001b[0;34m=\u001b[0m\u001b[0mmodel\u001b[0m\u001b[0;34m,\u001b[0m \u001b[0mtrain_dataloaders\u001b[0m\u001b[0;34m=\u001b[0m\u001b[0mtrain_loader\u001b[0m\u001b[0;34m,\u001b[0m \u001b[0mval_dataloaders\u001b[0m\u001b[0;34m=\u001b[0m\u001b[0mval_loader\u001b[0m\u001b[0;34m,\u001b[0m\u001b[0;34m)\u001b[0m\u001b[0;34m\u001b[0m\u001b[0;34m\u001b[0m\u001b[0m\n\u001b[0m",
      "\u001b[0;32m/opt/conda/lib/python3.7/site-packages/pytorch_lightning/trainer/trainer.py\u001b[0m in \u001b[0;36mfit\u001b[0;34m(self, model, train_dataloaders, val_dataloaders, datamodule, ckpt_path)\u001b[0m\n\u001b[1;32m    607\u001b[0m         \u001b[0mself\u001b[0m\u001b[0;34m.\u001b[0m\u001b[0mstrategy\u001b[0m\u001b[0;34m.\u001b[0m\u001b[0m_lightning_module\u001b[0m \u001b[0;34m=\u001b[0m \u001b[0mmodel\u001b[0m\u001b[0;34m\u001b[0m\u001b[0;34m\u001b[0m\u001b[0m\n\u001b[1;32m    608\u001b[0m         call._call_and_handle_interrupt(\n\u001b[0;32m--> 609\u001b[0;31m             \u001b[0mself\u001b[0m\u001b[0;34m,\u001b[0m \u001b[0mself\u001b[0m\u001b[0;34m.\u001b[0m\u001b[0m_fit_impl\u001b[0m\u001b[0;34m,\u001b[0m \u001b[0mmodel\u001b[0m\u001b[0;34m,\u001b[0m \u001b[0mtrain_dataloaders\u001b[0m\u001b[0;34m,\u001b[0m \u001b[0mval_dataloaders\u001b[0m\u001b[0;34m,\u001b[0m \u001b[0mdatamodule\u001b[0m\u001b[0;34m,\u001b[0m \u001b[0mckpt_path\u001b[0m\u001b[0;34m\u001b[0m\u001b[0;34m\u001b[0m\u001b[0m\n\u001b[0m\u001b[1;32m    610\u001b[0m         )\n\u001b[1;32m    611\u001b[0m \u001b[0;34m\u001b[0m\u001b[0m\n",
      "\u001b[0;32m/opt/conda/lib/python3.7/site-packages/pytorch_lightning/trainer/call.py\u001b[0m in \u001b[0;36m_call_and_handle_interrupt\u001b[0;34m(trainer, trainer_fn, *args, **kwargs)\u001b[0m\n\u001b[1;32m     34\u001b[0m     \u001b[0;32mtry\u001b[0m\u001b[0;34m:\u001b[0m\u001b[0;34m\u001b[0m\u001b[0;34m\u001b[0m\u001b[0m\n\u001b[1;32m     35\u001b[0m         \u001b[0;32mif\u001b[0m \u001b[0mtrainer\u001b[0m\u001b[0;34m.\u001b[0m\u001b[0mstrategy\u001b[0m\u001b[0;34m.\u001b[0m\u001b[0mlauncher\u001b[0m \u001b[0;32mis\u001b[0m \u001b[0;32mnot\u001b[0m \u001b[0;32mNone\u001b[0m\u001b[0;34m:\u001b[0m\u001b[0;34m\u001b[0m\u001b[0;34m\u001b[0m\u001b[0m\n\u001b[0;32m---> 36\u001b[0;31m             \u001b[0;32mreturn\u001b[0m \u001b[0mtrainer\u001b[0m\u001b[0;34m.\u001b[0m\u001b[0mstrategy\u001b[0m\u001b[0;34m.\u001b[0m\u001b[0mlauncher\u001b[0m\u001b[0;34m.\u001b[0m\u001b[0mlaunch\u001b[0m\u001b[0;34m(\u001b[0m\u001b[0mtrainer_fn\u001b[0m\u001b[0;34m,\u001b[0m \u001b[0;34m*\u001b[0m\u001b[0margs\u001b[0m\u001b[0;34m,\u001b[0m \u001b[0mtrainer\u001b[0m\u001b[0;34m=\u001b[0m\u001b[0mtrainer\u001b[0m\u001b[0;34m,\u001b[0m \u001b[0;34m**\u001b[0m\u001b[0mkwargs\u001b[0m\u001b[0;34m)\u001b[0m\u001b[0;34m\u001b[0m\u001b[0;34m\u001b[0m\u001b[0m\n\u001b[0m\u001b[1;32m     37\u001b[0m         \u001b[0;32melse\u001b[0m\u001b[0;34m:\u001b[0m\u001b[0;34m\u001b[0m\u001b[0;34m\u001b[0m\u001b[0m\n\u001b[1;32m     38\u001b[0m             \u001b[0;32mreturn\u001b[0m \u001b[0mtrainer_fn\u001b[0m\u001b[0;34m(\u001b[0m\u001b[0;34m*\u001b[0m\u001b[0margs\u001b[0m\u001b[0;34m,\u001b[0m \u001b[0;34m**\u001b[0m\u001b[0mkwargs\u001b[0m\u001b[0;34m)\u001b[0m\u001b[0;34m\u001b[0m\u001b[0;34m\u001b[0m\u001b[0m\n",
      "\u001b[0;32m/opt/conda/lib/python3.7/site-packages/pytorch_lightning/strategies/launchers/multiprocessing.py\u001b[0m in \u001b[0;36mlaunch\u001b[0;34m(self, function, trainer, *args, **kwargs)\u001b[0m\n\u001b[1;32m    115\u001b[0m             \u001b[0margs\u001b[0m\u001b[0;34m=\u001b[0m\u001b[0mprocess_args\u001b[0m\u001b[0;34m,\u001b[0m\u001b[0;34m\u001b[0m\u001b[0;34m\u001b[0m\u001b[0m\n\u001b[1;32m    116\u001b[0m             \u001b[0mnprocs\u001b[0m\u001b[0;34m=\u001b[0m\u001b[0mself\u001b[0m\u001b[0;34m.\u001b[0m\u001b[0m_strategy\u001b[0m\u001b[0;34m.\u001b[0m\u001b[0mnum_processes\u001b[0m\u001b[0;34m,\u001b[0m\u001b[0;34m\u001b[0m\u001b[0;34m\u001b[0m\u001b[0m\n\u001b[0;32m--> 117\u001b[0;31m             \u001b[0mstart_method\u001b[0m\u001b[0;34m=\u001b[0m\u001b[0mself\u001b[0m\u001b[0;34m.\u001b[0m\u001b[0m_start_method\u001b[0m\u001b[0;34m,\u001b[0m\u001b[0;34m\u001b[0m\u001b[0;34m\u001b[0m\u001b[0m\n\u001b[0m\u001b[1;32m    118\u001b[0m         )\n\u001b[1;32m    119\u001b[0m         \u001b[0mworker_output\u001b[0m \u001b[0;34m=\u001b[0m \u001b[0mreturn_queue\u001b[0m\u001b[0;34m.\u001b[0m\u001b[0mget\u001b[0m\u001b[0;34m(\u001b[0m\u001b[0;34m)\u001b[0m\u001b[0;34m\u001b[0m\u001b[0;34m\u001b[0m\u001b[0m\n",
      "\u001b[0;32m/opt/conda/lib/python3.7/site-packages/torch/multiprocessing/spawn.py\u001b[0m in \u001b[0;36mstart_processes\u001b[0;34m(fn, args, nprocs, join, daemon, start_method)\u001b[0m\n\u001b[1;32m    186\u001b[0m \u001b[0;34m\u001b[0m\u001b[0m\n\u001b[1;32m    187\u001b[0m     \u001b[0;31m# Loop on join until it returns True or raises an exception.\u001b[0m\u001b[0;34m\u001b[0m\u001b[0;34m\u001b[0m\u001b[0;34m\u001b[0m\u001b[0m\n\u001b[0;32m--> 188\u001b[0;31m     \u001b[0;32mwhile\u001b[0m \u001b[0;32mnot\u001b[0m \u001b[0mcontext\u001b[0m\u001b[0;34m.\u001b[0m\u001b[0mjoin\u001b[0m\u001b[0;34m(\u001b[0m\u001b[0;34m)\u001b[0m\u001b[0;34m:\u001b[0m\u001b[0;34m\u001b[0m\u001b[0;34m\u001b[0m\u001b[0m\n\u001b[0m\u001b[1;32m    189\u001b[0m         \u001b[0;32mpass\u001b[0m\u001b[0;34m\u001b[0m\u001b[0;34m\u001b[0m\u001b[0m\n\u001b[1;32m    190\u001b[0m \u001b[0;34m\u001b[0m\u001b[0m\n",
      "\u001b[0;32m/opt/conda/lib/python3.7/site-packages/torch/multiprocessing/spawn.py\u001b[0m in \u001b[0;36mjoin\u001b[0;34m(self, timeout)\u001b[0m\n\u001b[1;32m    148\u001b[0m         \u001b[0mmsg\u001b[0m \u001b[0;34m=\u001b[0m \u001b[0;34m\"\\n\\n-- Process %d terminated with the following error:\\n\"\u001b[0m \u001b[0;34m%\u001b[0m \u001b[0merror_index\u001b[0m\u001b[0;34m\u001b[0m\u001b[0;34m\u001b[0m\u001b[0m\n\u001b[1;32m    149\u001b[0m         \u001b[0mmsg\u001b[0m \u001b[0;34m+=\u001b[0m \u001b[0moriginal_trace\u001b[0m\u001b[0;34m\u001b[0m\u001b[0;34m\u001b[0m\u001b[0m\n\u001b[0;32m--> 150\u001b[0;31m         \u001b[0;32mraise\u001b[0m \u001b[0mProcessRaisedException\u001b[0m\u001b[0;34m(\u001b[0m\u001b[0mmsg\u001b[0m\u001b[0;34m,\u001b[0m \u001b[0merror_index\u001b[0m\u001b[0;34m,\u001b[0m \u001b[0mfailed_process\u001b[0m\u001b[0;34m.\u001b[0m\u001b[0mpid\u001b[0m\u001b[0;34m)\u001b[0m\u001b[0;34m\u001b[0m\u001b[0;34m\u001b[0m\u001b[0m\n\u001b[0m\u001b[1;32m    151\u001b[0m \u001b[0;34m\u001b[0m\u001b[0m\n\u001b[1;32m    152\u001b[0m \u001b[0;34m\u001b[0m\u001b[0m\n",
      "\u001b[0;31mProcessRaisedException\u001b[0m: \n\n-- Process 0 terminated with the following error:\nTraceback (most recent call last):\n  File \"/opt/conda/lib/python3.7/site-packages/torch/multiprocessing/spawn.py\", line 59, in _wrap\n    fn(i, *args)\n  File \"/opt/conda/lib/python3.7/site-packages/pytorch_lightning/strategies/launchers/multiprocessing.py\", line 139, in _wrapping_function\n    results = function(*args, **kwargs)\n  File \"/opt/conda/lib/python3.7/site-packages/pytorch_lightning/trainer/trainer.py\", line 650, in _fit_impl\n    self._run(model, ckpt_path=self.ckpt_path)\n  File \"/opt/conda/lib/python3.7/site-packages/pytorch_lightning/trainer/trainer.py\", line 1112, in _run\n    results = self._run_stage()\n  File \"/opt/conda/lib/python3.7/site-packages/pytorch_lightning/trainer/trainer.py\", line 1191, in _run_stage\n    self._run_train()\n  File \"/opt/conda/lib/python3.7/site-packages/pytorch_lightning/trainer/trainer.py\", line 1204, in _run_train\n    self._run_sanity_check()\n  File \"/opt/conda/lib/python3.7/site-packages/pytorch_lightning/trainer/trainer.py\", line 1276, in _run_sanity_check\n    val_loop.run()\n  File \"/opt/conda/lib/python3.7/site-packages/pytorch_lightning/loops/loop.py\", line 199, in run\n    self.advance(*args, **kwargs)\n  File \"/opt/conda/lib/python3.7/site-packages/pytorch_lightning/loops/dataloader/evaluation_loop.py\", line 152, in advance\n    dl_outputs = self.epoch_loop.run(self._data_fetcher, dl_max_batches, kwargs)\n  File \"/opt/conda/lib/python3.7/site-packages/pytorch_lightning/loops/loop.py\", line 199, in run\n    self.advance(*args, **kwargs)\n  File \"/opt/conda/lib/python3.7/site-packages/pytorch_lightning/loops/epoch/evaluation_epoch_loop.py\", line 137, in advance\n    output = self._evaluation_step(**kwargs)\n  File \"/opt/conda/lib/python3.7/site-packages/pytorch_lightning/loops/epoch/evaluation_epoch_loop.py\", line 234, in _evaluation_step\n    output = self.trainer._call_strategy_hook(hook_name, *kwargs.values())\n  File \"/opt/conda/lib/python3.7/site-packages/pytorch_lightning/trainer/trainer.py\", line 1494, in _call_strategy_hook\n    output = fn(*args, **kwargs)\n  File \"/opt/conda/lib/python3.7/site-packages/pytorch_lightning/strategies/ddp_spawn.py\", line 288, in validation_step\n    return self.model(*args, **kwargs)\n  File \"/opt/conda/lib/python3.7/site-packages/torch/nn/modules/module.py\", line 1102, in _call_impl\n    return forward_call(*input, **kwargs)\n  File \"/opt/conda/lib/python3.7/site-packages/torch/nn/parallel/distributed.py\", line 886, in forward\n    output = self.module(*inputs[0], **kwargs[0])\n  File \"/opt/conda/lib/python3.7/site-packages/torch/nn/modules/module.py\", line 1102, in _call_impl\n    return forward_call(*input, **kwargs)\n  File \"/opt/conda/lib/python3.7/site-packages/pytorch_lightning/overrides/base.py\", line 110, in forward\n    return self._forward_module.validation_step(*inputs, **kwargs)\n  File \"/mnt/disks/pancan/pnet/src/Pnet.py\", line 129, in validation_step\n    loss = self.step('val', batch, batch_nb)\n  File \"/mnt/disks/pancan/pnet/src/Pnet.py\", line 113, in step\n    pred_y = self(x, additional)\n  File \"/opt/conda/lib/python3.7/site-packages/torch/nn/modules/module.py\", line 1102, in _call_impl\n    return forward_call(*input, **kwargs)\n  File \"/mnt/disks/pancan/pnet/src/Pnet.py\", line 105, in forward\n    raise Exception('Yallah want to stop here')\nException: Yallah want to stop here\n"
     ]
    }
   ],
   "source": [
    "trainer = pl.Trainer(precision=32, accelerator='cuda', max_epochs=3, log_every_n_steps=50, \n",
    "                     enable_checkpointing=True, callbacks=[pl.callbacks.LearningRateMonitor(logging_interval='epoch')])\n",
    "\n",
    "trainer.fit(model=model, train_dataloaders=train_loader, val_dataloaders=val_loader,)"
   ]
  },
  {
   "cell_type": "code",
   "execution_count": null,
   "id": "bc4c738e-0706-4ceb-bfd2-e7f744d7eb47",
   "metadata": {},
   "outputs": [],
   "source": [
    "x_train = train_dataset.x\n",
    "additional_train = train_dataset.additional\n",
    "y_train = train_dataset.y\n",
    "x_test = test_dataset.x\n",
    "additional_test = test_dataset.additional\n",
    "y_test = test_dataset.y"
   ]
  },
  {
   "cell_type": "code",
   "execution_count": null,
   "id": "fd17595d-b7d0-46bf-ae76-23ffdd035bdf",
   "metadata": {
    "tags": []
   },
   "outputs": [],
   "source": [
    "pred = model(x_test, additional_test)\n",
    "y_pred_proba = pred.detach().numpy().squeeze()\n",
    "fpr, tpr, _ = metrics.roc_curve(y_test,  y_pred_proba)\n",
    "test_auc = metrics.roc_auc_score(y_test, pred.detach().numpy().squeeze())\n",
    "#create ROC curve\n",
    "plt.plot(fpr,tpr, color=\"darkorange\", label=\"ROC curve (area = %0.2f)\" % test_auc)\n",
    "plt.ylabel('True Positive Rate')\n",
    "plt.xlabel('False Positive Rate')\n",
    "plt.plot([0, 1], [0, 1], color=\"navy\", linestyle=\"--\")\n",
    "plt.legend(loc=\"lower right\")\n",
    "plt.savefig('PNET_random_ROC_curve.pdf')\n",
    "plt.show()"
   ]
  },
  {
   "cell_type": "code",
   "execution_count": null,
   "id": "25b69c4f-ab43-4f30-857c-6a6f3ff4edf2",
   "metadata": {},
   "outputs": [],
   "source": []
  }
 ],
 "metadata": {
  "environment": {
   "kernel": "python3",
   "name": "pytorch-gpu.1-10.m90",
   "type": "gcloud",
   "uri": "gcr.io/deeplearning-platform-release/pytorch-gpu.1-10:m90"
  },
  "kernelspec": {
   "display_name": "Python 3",
   "language": "python",
   "name": "python3"
  },
  "language_info": {
   "codemirror_mode": {
    "name": "ipython",
    "version": 3
   },
   "file_extension": ".py",
   "mimetype": "text/x-python",
   "name": "python",
   "nbconvert_exporter": "python",
   "pygments_lexer": "ipython3",
   "version": "3.7.12"
  }
 },
 "nbformat": 4,
 "nbformat_minor": 5
}
