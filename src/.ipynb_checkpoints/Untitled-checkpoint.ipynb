{
 "cells": [
  {
   "cell_type": "code",
   "execution_count": 25,
   "id": "3cdf9c1a",
   "metadata": {},
   "outputs": [],
   "source": [
    "import matplotlib.pyplot as plt\n",
    "import numpy as np\n",
    "import pandas as pd\n",
    "import torch\n",
    "import os\n",
    "import seaborn as sns"
   ]
  },
  {
   "cell_type": "code",
   "execution_count": 26,
   "id": "1bff233b",
   "metadata": {},
   "outputs": [
    {
     "data": {
      "text/plain": [
       "['.DS_Store',\n",
       " 'prostate_val_fcnn',\n",
       " 'prostate_val',\n",
       " 'prostate_val_svm',\n",
       " 'prostate_val_random_net',\n",
       " 'prostate_val_rf']"
      ]
     },
     "execution_count": 26,
     "metadata": {},
     "output_type": "execute_result"
    }
   ],
   "source": [
    "os.listdir('../results/')"
   ]
  },
  {
   "cell_type": "code",
   "execution_count": 27,
   "id": "e1865135",
   "metadata": {},
   "outputs": [],
   "source": [
    "pnet_aucs = []\n",
    "for i in range(10):\n",
    "    auc = torch.load('../results/prostate_val/run{}/AUC.pt'.format(i))\n",
    "    pnet_aucs.append(auc.item())"
   ]
  },
  {
   "cell_type": "code",
   "execution_count": 28,
   "id": "78ab7c5c",
   "metadata": {},
   "outputs": [],
   "source": [
    "sparse_aucs = []\n",
    "for i in range(10):\n",
    "    auc = torch.load('../results/prostate_val_random_net/run{}/AUC.pt'.format(i))\n",
    "    sparse_aucs.append(auc.item())"
   ]
  },
  {
   "cell_type": "code",
   "execution_count": 29,
   "id": "c88acd16",
   "metadata": {},
   "outputs": [],
   "source": [
    "fcnn_aucs = []\n",
    "for i in range(10):\n",
    "    auc = torch.load('../results/prostate_val_fcnn/run{}/AUC.pt'.format(i))\n",
    "    fcnn_aucs.append(auc.item())"
   ]
  },
  {
   "cell_type": "code",
   "execution_count": 30,
   "id": "27908565",
   "metadata": {},
   "outputs": [],
   "source": [
    "svm_aucs = []\n",
    "for i in range(10):\n",
    "    auc = torch.load('../results/prostate_val_svm/run{}/AUC.pt'.format(i))\n",
    "    svm_aucs.append(auc.item())"
   ]
  },
  {
   "cell_type": "code",
   "execution_count": 31,
   "id": "ed1f08a6",
   "metadata": {},
   "outputs": [],
   "source": [
    "rf_aucs = []\n",
    "for i in range(10):\n",
    "    auc = torch.load('../results/prostate_val_rf/run{}/AUC.pt'.format(i))\n",
    "    rf_aucs.append(auc.item())"
   ]
  },
  {
   "cell_type": "code",
   "execution_count": 32,
   "id": "2f9dbbc4",
   "metadata": {},
   "outputs": [],
   "source": [
    "plt.rcParams['axes.spines.right'] = False\n",
    "plt.rcParams['axes.spines.top'] = False"
   ]
  },
  {
   "cell_type": "code",
   "execution_count": 33,
   "id": "82d3f7f3",
   "metadata": {},
   "outputs": [
    {
     "data": {
      "text/plain": [
       "['ploidy_cutoff_selection.pdf',\n",
       " '.DS_Store',\n",
       " 'ploidy_by_tumortype.pdf',\n",
       " 'pnet_performance_rank_variance.pdf',\n",
       " 'ploidy_vs_misclass_by_tumortype.pdf',\n",
       " 'pnet_performance_benchmark.pdf',\n",
       " 'figures',\n",
       " 'cna_vs_ploiy_top_genes.pdf',\n",
       " 'prediction_by_tumortype.pdf',\n",
       " 'genes_ploidy.pdf']"
      ]
     },
     "execution_count": 33,
     "metadata": {},
     "output_type": "execute_result"
    }
   ],
   "source": [
    "os.listdir('../figures/')"
   ]
  },
  {
   "cell_type": "code",
   "execution_count": 53,
   "id": "35a0ebbc",
   "metadata": {},
   "outputs": [
    {
     "data": {
      "image/png": "[encoded data removed]",
      "text/plain": [
       "<Figure size 640x480 with 1 Axes>"
      ]
     },
     "metadata": {},
     "output_type": "display_data"
    }
   ],
   "source": [
    "plt.clf()\n",
    "auc_df = pd.DataFrame({'PNET': pnet_aucs, 'sparse NN': sparse_aucs, 'FCNN': fcnn_aucs, 'RF': rf_aucs, 'SVM': svm_aucs})\n",
    "auc_df.boxplot(showfliers=False,\n",
    "           color=dict(boxes='grey', whiskers='silver', medians='dimgray', caps='silver'), widths=0.6,\n",
    "               patch_artist=True, showmeans=True, \n",
    "               meanprops={\"marker\":\"s\",\"markerfacecolor\":\"white\", \"markeredgecolor\":\"blue\"})\n",
    "plt.ylim((0.5,1))\n",
    "plt.grid(False)\n",
    "plt.axhline(y=auc_df['FCNN'].mean(), color='darksalmon', linestyle='--')\n",
    "plt.ylabel('AUC')\n",
    "plt.xlabel('Model')\n",
    "plt.savefig('../figures/pnet_performance_benchmark.pdf')\n",
    "plt.show()"
   ]
  },
  {
   "cell_type": "code",
   "execution_count": 37,
   "id": "22ed6d24",
   "metadata": {},
   "outputs": [
    {
     "name": "stdout",
     "output_type": "stream",
     "text": [
      "Varience in ranking:  446.1150938710256\n"
     ]
    }
   ],
   "source": [
    "df = pd.DataFrame()\n",
    "for i in range(10):\n",
    "    gene_imps = pd.read_csv('../results/prostate_val/run{}/gene_importances.csv'.format(i))\n",
    "    df['run_{}'.format(i)] = gene_imps.set_index('Unnamed: 0').mean().rank(ascending=False)\n",
    "\n",
    "pnet_rank_var = df.loc[df.mean(axis=1).nsmallest(50).index].std(axis=1).median()\n",
    "print('Varience in ranking: ',pnet_rank_var)\n",
    "pnet_imps = df.mean(axis=1)"
   ]
  },
  {
   "cell_type": "code",
   "execution_count": 38,
   "id": "eaa012cb",
   "metadata": {},
   "outputs": [
    {
     "name": "stdout",
     "output_type": "stream",
     "text": [
      "Varience in ranking:  1220.5780159219162\n"
     ]
    }
   ],
   "source": [
    "df = pd.DataFrame()\n",
    "for i in range(10):\n",
    "    gene_imps = pd.read_csv('../results/prostate_val_random_net/run{}/gene_importances.csv'.format(i))\n",
    "    df['run_{}'.format(i)] = gene_imps.set_index('Unnamed: 0').mean().rank(ascending=False)\n",
    "rnet_rank_var = df.loc[df.mean(axis=1).nsmallest(50).index].std(axis=1).nsmallest(100).median()\n",
    "print('Varience in ranking: ',rnet_rank_var)\n",
    "rnet_imps = df.mean(axis=1)"
   ]
  },
  {
   "cell_type": "code",
   "execution_count": 39,
   "id": "2554ee73",
   "metadata": {},
   "outputs": [
    {
     "name": "stdout",
     "output_type": "stream",
     "text": [
      "Varience in ranking:  838.6446673644491\n"
     ]
    }
   ],
   "source": [
    "df = pd.DataFrame()\n",
    "for i in range(10):\n",
    "    gene_imps = pd.read_csv('../results/prostate_val_fcnn/run{}/gene_importances.csv'.format(i))\n",
    "    df['run_{}'.format(i)] = gene_imps.set_index('Unnamed: 0').mean().rank(ascending=False)\n",
    "fnet_rank_var = df.loc[df.mean(axis=1).nsmallest(50).index].std(axis=1).nsmallest(100).median()\n",
    "print('Varience in ranking: ',fnet_rank_var)\n",
    "fnet_imps = df.mean(axis=1)"
   ]
  },
  {
   "cell_type": "code",
   "execution_count": 41,
   "id": "88987342",
   "metadata": {},
   "outputs": [
    {
     "name": "stdout",
     "output_type": "stream",
     "text": [
      "Varience in ranking:  58.08388183708594\n"
     ]
    }
   ],
   "source": [
    "df = pd.DataFrame()\n",
    "for i in range(10):\n",
    "    gene_imps = pd.read_csv('../results/prostate_val_rf/run{}/gene_feature_importances.csv'.format(i))\n",
    "    gene_imps = gene_imps.set_index('Unnamed: 0')\n",
    "    gene_imps = pd.DataFrame(gene_imps.values.reshape((3, 4854)).T.sum(axis=1),\n",
    "                             index=gene_imps.index[:4854],\n",
    "                             columns=['gene_imp']).rank(ascending=False)\n",
    "    df['run_{}'.format(i)] = gene_imps['gene_imp']\n",
    "rf_rank_var = df.loc[df.mean(axis=1).nsmallest(50).index].std(axis=1).nsmallest(100).median()\n",
    "print('Varience in ranking: ',rf_rank_var)\n",
    "rf_imps = df.mean(axis=1)"
   ]
  },
  {
   "cell_type": "code",
   "execution_count": 42,
   "id": "39d7134f",
   "metadata": {},
   "outputs": [
    {
     "name": "stdout",
     "output_type": "stream",
     "text": [
      "Varience in ranking:  56.379942200786545\n"
     ]
    }
   ],
   "source": [
    "df = pd.DataFrame()\n",
    "for i in range(10):\n",
    "    gene_imps = pd.read_csv('../results/prostate_val_svm/run{}/gene_feature_importances.csv'.format(i))\n",
    "    gene_imps = gene_imps.set_index('Unnamed: 0')\n",
    "    gene_imps = pd.DataFrame(gene_imps.values.reshape((3, 4854)).T.sum(axis=1),\n",
    "                             index=gene_imps.index[:4854],\n",
    "                             columns=['gene_imp']).rank(ascending=False)\n",
    "    df['run_{}'.format(i)] = gene_imps['gene_imp']\n",
    "svm_rank_var = df.loc[df.mean(axis=1).nsmallest(50).index].std(axis=1).nsmallest(100).median()\n",
    "print('Varience in ranking: ',svm_rank_var)\n",
    "svm_imps = df.mean(axis=1)"
   ]
  },
  {
   "cell_type": "code",
   "execution_count": 43,
   "id": "3cb98e1a",
   "metadata": {},
   "outputs": [],
   "source": [
    "plotting_df = pd.DataFrame(auc_df.median(), columns=['AUC'])\n",
    "plotting_df['rank_var'] = [pnet_rank_var, rnet_rank_var, fnet_rank_var, rf_rank_var, svm_rank_var]\n",
    "plotting_df['model'] = plotting_df.index"
   ]
  },
  {
   "cell_type": "code",
   "execution_count": 44,
   "id": "4b984f68",
   "metadata": {},
   "outputs": [
    {
     "data": {
      "text/html": [
       "<div>\n",
       "<style scoped>\n",
       "    .dataframe tbody tr th:only-of-type {\n",
       "        vertical-align: middle;\n",
       "    }\n",
       "\n",
       "    .dataframe tbody tr th {\n",
       "        vertical-align: top;\n",
       "    }\n",
       "\n",
       "    .dataframe thead th {\n",
       "        text-align: right;\n",
       "    }\n",
       "</style>\n",
       "<table border=\"1\" class=\"dataframe\">\n",
       "  <thead>\n",
       "    <tr style=\"text-align: right;\">\n",
       "      <th></th>\n",
       "      <th>AUC</th>\n",
       "      <th>rank_var</th>\n",
       "      <th>model</th>\n",
       "    </tr>\n",
       "  </thead>\n",
       "  <tbody>\n",
       "    <tr>\n",
       "      <th>PNET</th>\n",
       "      <td>0.865409</td>\n",
       "      <td>446.115094</td>\n",
       "      <td>PNET</td>\n",
       "    </tr>\n",
       "    <tr>\n",
       "      <th>sparse NN</th>\n",
       "      <td>0.891942</td>\n",
       "      <td>1220.578016</td>\n",
       "      <td>sparse NN</td>\n",
       "    </tr>\n",
       "    <tr>\n",
       "      <th>FCNN</th>\n",
       "      <td>0.830374</td>\n",
       "      <td>838.644667</td>\n",
       "      <td>FCNN</td>\n",
       "    </tr>\n",
       "    <tr>\n",
       "      <th>RF</th>\n",
       "      <td>0.885464</td>\n",
       "      <td>58.083882</td>\n",
       "      <td>RF</td>\n",
       "    </tr>\n",
       "    <tr>\n",
       "      <th>SVM</th>\n",
       "      <td>0.869405</td>\n",
       "      <td>56.379942</td>\n",
       "      <td>SVM</td>\n",
       "    </tr>\n",
       "  </tbody>\n",
       "</table>\n",
       "</div>"
      ],
      "text/plain": [
       "                AUC     rank_var      model\n",
       "PNET       0.865409   446.115094       PNET\n",
       "sparse NN  0.891942  1220.578016  sparse NN\n",
       "FCNN       0.830374   838.644667       FCNN\n",
       "RF         0.885464    58.083882         RF\n",
       "SVM        0.869405    56.379942        SVM"
      ]
     },
     "execution_count": 44,
     "metadata": {},
     "output_type": "execute_result"
    }
   ],
   "source": [
    "plotting_df"
   ]
  },
  {
   "cell_type": "code",
   "execution_count": 51,
   "id": "adf73366",
   "metadata": {},
   "outputs": [
    {
     "data": {
      "image/png": "[encoded data removed]",
      "text/plain": [
       "<Figure size 640x480 with 1 Axes>"
      ]
     },
     "metadata": {},
     "output_type": "display_data"
    }
   ],
   "source": [
    "plt.clf()\n",
    "ax = sns.scatterplot(plotting_df, y='AUC', x='rank_var')\n",
    "plt.ylim((0.75,1))\n",
    "plt.xlim((10, 2000))\n",
    "plt.xlabel('Rank variance')\n",
    "for i, txt in enumerate(plotting_df.model):\n",
    "    ax.annotate(txt, (plotting_df.loc[txt]['rank_var'], 0.01+plotting_df.loc[txt]['AUC']))\n",
    "\n",
    "\n",
    "plt.savefig('../figures/pnet_performance_rank_variance.pdf')\n",
    "plt.show()\n"
   ]
  },
  {
   "cell_type": "code",
   "execution_count": null,
   "id": "772f4b9f",
   "metadata": {},
   "outputs": [],
   "source": []
  }
 ],
 "metadata": {
  "kernelspec": {
   "display_name": "Python 3 (ipykernel)",
   "language": "python",
   "name": "python3"
  },
  "language_info": {
   "codemirror_mode": {
    "name": "ipython",
    "version": 3
   },
   "file_extension": ".py",
   "mimetype": "text/x-python",
   "name": "python",
   "nbconvert_exporter": "python",
   "pygments_lexer": "ipython3",
   "version": "3.9.16"
  }
 },
 "nbformat": 4,
 "nbformat_minor": 5
}
