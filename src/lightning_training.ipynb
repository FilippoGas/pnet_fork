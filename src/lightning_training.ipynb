{
 "cells": [
  {
   "cell_type": "code",
   "execution_count": 17,
   "id": "d2fd74b9",
   "metadata": {},
   "outputs": [
    {
     "name": "stdout",
     "output_type": "stream",
     "text": [
      "The autoreload extension is already loaded. To reload it, use:\n",
      "  %reload_ext autoreload\n"
     ]
    }
   ],
   "source": [
    "import pnet_loader\n",
    "import util\n",
    "import torch\n",
    "import seaborn as sns\n",
    "import pandas as pd\n",
    "import numpy as np\n",
    "import Pnet\n",
    "from sklearn import metrics\n",
    "import matplotlib.pyplot as plt\n",
    "from sklearn.metrics import roc_auc_score\n",
    "from sklearn.ensemble import RandomForestClassifier\n",
    "from sklearn.mixture import GaussianMixture\n",
    "from sklearn.decomposition import PCA\n",
    "import pytorch_lightning as pl\n",
    "import os\n",
    "\n",
    "%load_ext autoreload\n",
    "%autoreload 2"
   ]
  },
  {
   "cell_type": "code",
   "execution_count": 2,
   "id": "0250697b",
   "metadata": {},
   "outputs": [],
   "source": [
    "directories = ['../data/' + x for x in os.listdir('../data') if 'tcga_pan_can_atlas' in x]"
   ]
  },
  {
   "cell_type": "code",
   "execution_count": 3,
   "id": "3fe1efd8",
   "metadata": {},
   "outputs": [],
   "source": [
    "def load_single_dataset(directory_path):\n",
    "    rna_exp = pd.read_csv(directory_path + '/data_mrna_seq_v2_rsem.txt',\n",
    "                           sep='\\t').dropna().set_index('Hugo_Symbol').drop(['Entrez_Gene_Id'], axis=1).T\n",
    "    rna_exp = rna_exp.loc[:,~rna_exp.columns.duplicated()].copy()\n",
    "    cna = pd.read_csv(directory_path + '/data_cna.txt', sep='\\t').set_index('Hugo_Symbol').T.drop('Entrez_Gene_Id')\n",
    "    cna = cna.loc[:,~cna.columns.duplicated()].copy()\n",
    "    \n",
    "    genes = list(set(rna_exp.columns).intersection(cna.columns))\n",
    "    indices = list(set(rna_exp.index).intersection(cna.index))\n",
    "    tumor_type = pd.DataFrame(len(indices)*[directory_path.split('/')[-1].split('_')[0]],\n",
    "                              index = indices, columns=['tumor'])\n",
    "    return rna_exp[genes], cna[genes], tumor_type"
   ]
  },
  {
   "cell_type": "code",
   "execution_count": 4,
   "id": "92139eee",
   "metadata": {},
   "outputs": [],
   "source": [
    "rna, cna, tumor = pd.DataFrame(), pd.DataFrame(), pd.DataFrame()\n",
    "for path in directories:\n",
    "    rna_, cna_, tumor_ = load_single_dataset(path)\n",
    "    rna = pd.concat([rna_, rna])\n",
    "    cna = pd.concat([cna_, cna])\n",
    "    tumor = pd.concat([tumor_, tumor])\n",
    "    \n",
    "rna.dropna(axis=1, inplace=True)\n",
    "cna.dropna(axis=1, inplace=True)\n",
    "rna = (rna-rna.mean())/rna.std()\n"
   ]
  },
  {
   "cell_type": "code",
   "execution_count": 5,
   "id": "1cf43ced",
   "metadata": {},
   "outputs": [],
   "source": [
    "\n",
    "genetic_data = {'rna': rna, 'cna': cna}"
   ]
  },
  {
   "cell_type": "code",
   "execution_count": 6,
   "id": "18dd9fe7",
   "metadata": {},
   "outputs": [],
   "source": [
    "absolute_TCGA = pd.read_csv('../data/m1000/TCGA_mastercalls.abs_tables_JSedit.fixed.txt',\n",
    "                            delimiter='\\t', index_col='array')\n",
    "absolute_ploidy = absolute_TCGA[['ploidy']].join(rna, how='inner')['ploidy']\n",
    "absolute_ploidy.dropna(inplace=True)"
   ]
  },
  {
   "cell_type": "code",
   "execution_count": 7,
   "id": "11903e80",
   "metadata": {},
   "outputs": [],
   "source": [
    "gm = GaussianMixture(n_components=2, random_state=0).fit(absolute_ploidy.values.reshape(-1, 1))\n",
    "y = gm.predict_proba(np.linspace(0,absolute_ploidy.max(),1000).reshape(-1,1))\n",
    "ma = np.linspace(0,absolute_ploidy.max(),1000)[y[:,1] < 0.5].max()\n",
    "absolute_ploidy_y = pd.DataFrame(index=absolute_ploidy.index, columns=['dichtomized_ploidy'],\n",
    "                               data=[int(p > ma) \n",
    "                                     for p in absolute_ploidy.values])"
   ]
  },
  {
   "cell_type": "code",
   "execution_count": 8,
   "id": "02b32ac9",
   "metadata": {},
   "outputs": [
    {
     "data": {
      "image/png": "[encoded data removed]",
      "text/plain": [
       "<Figure size 600x400 with 1 Axes>"
      ]
     },
     "metadata": {},
     "output_type": "display_data"
    }
   ],
   "source": [
    "plt.rcParams[\"figure.figsize\"] = (6,4)\n",
    "plt.hist(absolute_ploidy, bins=80)\n",
    "plt.vlines([ma], color='r', ymin=0, ymax=2500)\n",
    "plt.savefig('ploidy_cutoff_selection.pdf')\n",
    "plt.show()"
   ]
  },
  {
   "cell_type": "code",
   "execution_count": 9,
   "id": "85a5faa0",
   "metadata": {},
   "outputs": [
    {
     "data": {
      "text/html": [
       "<style>#sk-container-id-1 {color: black;background-color: white;}#sk-container-id-1 pre{padding: 0;}#sk-container-id-1 div.sk-toggleable {background-color: white;}#sk-container-id-1 label.sk-toggleable__label {cursor: pointer;display: block;width: 100%;margin-bottom: 0;padding: 0.3em;box-sizing: border-box;text-align: center;}#sk-container-id-1 label.sk-toggleable__label-arrow:before {content: \"▸\";float: left;margin-right: 0.25em;color: #696969;}#sk-container-id-1 label.sk-toggleable__label-arrow:hover:before {color: black;}#sk-container-id-1 div.sk-estimator:hover label.sk-toggleable__label-arrow:before {color: black;}#sk-container-id-1 div.sk-toggleable__content {max-height: 0;max-width: 0;overflow: hidden;text-align: left;background-color: #f0f8ff;}#sk-container-id-1 div.sk-toggleable__content pre {margin: 0.2em;color: black;border-radius: 0.25em;background-color: #f0f8ff;}#sk-container-id-1 input.sk-toggleable__control:checked~div.sk-toggleable__content {max-height: 200px;max-width: 100%;overflow: auto;}#sk-container-id-1 input.sk-toggleable__control:checked~label.sk-toggleable__label-arrow:before {content: \"▾\";}#sk-container-id-1 div.sk-estimator input.sk-toggleable__control:checked~label.sk-toggleable__label {background-color: #d4ebff;}#sk-container-id-1 div.sk-label input.sk-toggleable__control:checked~label.sk-toggleable__label {background-color: #d4ebff;}#sk-container-id-1 input.sk-hidden--visually {border: 0;clip: rect(1px 1px 1px 1px);clip: rect(1px, 1px, 1px, 1px);height: 1px;margin: -1px;overflow: hidden;padding: 0;position: absolute;width: 1px;}#sk-container-id-1 div.sk-estimator {font-family: monospace;background-color: #f0f8ff;border: 1px dotted black;border-radius: 0.25em;box-sizing: border-box;margin-bottom: 0.5em;}#sk-container-id-1 div.sk-estimator:hover {background-color: #d4ebff;}#sk-container-id-1 div.sk-parallel-item::after {content: \"\";width: 100%;border-bottom: 1px solid gray;flex-grow: 1;}#sk-container-id-1 div.sk-label:hover label.sk-toggleable__label {background-color: #d4ebff;}#sk-container-id-1 div.sk-serial::before {content: \"\";position: absolute;border-left: 1px solid gray;box-sizing: border-box;top: 0;bottom: 0;left: 50%;z-index: 0;}#sk-container-id-1 div.sk-serial {display: flex;flex-direction: column;align-items: center;background-color: white;padding-right: 0.2em;padding-left: 0.2em;position: relative;}#sk-container-id-1 div.sk-item {position: relative;z-index: 1;}#sk-container-id-1 div.sk-parallel {display: flex;align-items: stretch;justify-content: center;background-color: white;position: relative;}#sk-container-id-1 div.sk-item::before, #sk-container-id-1 div.sk-parallel-item::before {content: \"\";position: absolute;border-left: 1px solid gray;box-sizing: border-box;top: 0;bottom: 0;left: 50%;z-index: -1;}#sk-container-id-1 div.sk-parallel-item {display: flex;flex-direction: column;z-index: 1;position: relative;background-color: white;}#sk-container-id-1 div.sk-parallel-item:first-child::after {align-self: flex-end;width: 50%;}#sk-container-id-1 div.sk-parallel-item:last-child::after {align-self: flex-start;width: 50%;}#sk-container-id-1 div.sk-parallel-item:only-child::after {width: 0;}#sk-container-id-1 div.sk-dashed-wrapped {border: 1px dashed gray;margin: 0 0.4em 0.5em 0.4em;box-sizing: border-box;padding-bottom: 0.4em;background-color: white;}#sk-container-id-1 div.sk-label label {font-family: monospace;font-weight: bold;display: inline-block;line-height: 1.2em;}#sk-container-id-1 div.sk-label-container {text-align: center;}#sk-container-id-1 div.sk-container {/* jupyter's `normalize.less` sets `[hidden] { display: none; }` but bootstrap.min.css set `[hidden] { display: none !important; }` so we also need the `!important` here to be able to override the default hidden behavior on the sphinx rendered scikit-learn.org. See: https://github.com/scikit-learn/scikit-learn/issues/21755 */display: inline-block !important;position: relative;}#sk-container-id-1 div.sk-text-repr-fallback {display: none;}</style><div id=\"sk-container-id-1\" class=\"sk-top-container\"><div class=\"sk-text-repr-fallback\"><pre>PCA(n_components=50)</pre><b>In a Jupyter environment, please rerun this cell to show the HTML representation or trust the notebook. <br />On GitHub, the HTML representation is unable to render, please try loading this page with nbviewer.org.</b></div><div class=\"sk-container\" hidden><div class=\"sk-item\"><div class=\"sk-estimator sk-toggleable\"><input class=\"sk-toggleable__control sk-hidden--visually\" id=\"sk-estimator-id-1\" type=\"checkbox\" checked><label for=\"sk-estimator-id-1\" class=\"sk-toggleable__label sk-toggleable__label-arrow\">PCA</label><div class=\"sk-toggleable__content\"><pre>PCA(n_components=50)</pre></div></div></div></div></div>"
      ],
      "text/plain": [
       "PCA(n_components=50)"
      ]
     },
     "execution_count": 9,
     "metadata": {},
     "output_type": "execute_result"
    }
   ],
   "source": [
    "pca = PCA(n_components=50)\n",
    "pca.fit(rna.values)"
   ]
  },
  {
   "cell_type": "code",
   "execution_count": 36,
   "id": "e37d9c9b",
   "metadata": {},
   "outputs": [],
   "source": [
    "pca_loadings = pd.DataFrame(pca.components_.T * np.sqrt(pca.explained_variance_), index=rna.columns)"
   ]
  },
  {
   "cell_type": "code",
   "execution_count": 37,
   "id": "3cdc3d8e",
   "metadata": {},
   "outputs": [],
   "source": [
    "genes_pca = abs(pca_loadings).sum(axis=1).nlargest(1000).index"
   ]
  },
  {
   "cell_type": "code",
   "execution_count": 38,
   "id": "d9dc63c7",
   "metadata": {},
   "outputs": [],
   "source": [
    "genetic_data = {'rna': rna[genes_pca], 'cna': cna}"
   ]
  },
  {
   "cell_type": "code",
   "execution_count": 39,
   "id": "8cb5ee31",
   "metadata": {},
   "outputs": [
    {
     "name": "stdout",
     "output_type": "stream",
     "text": [
      "Given 2 Input modalities\n",
      "Found 9005 overlapping indicies\n",
      "Initializing Train Dataset\n",
      "Found 999 overlapping genes\n",
      "generated input DataFrame of size (6304, 1998)\n",
      "Initializing Test Dataset\n",
      "Found 999 overlapping genes\n",
      "generated input DataFrame of size (2701, 1998)\n"
     ]
    }
   ],
   "source": [
    "train_dataset, test_dataset = pnet_loader.generate_train_test(genetic_data, absolute_ploidy_y)"
   ]
  },
  {
   "cell_type": "code",
   "execution_count": 40,
   "id": "28822f31",
   "metadata": {},
   "outputs": [],
   "source": [
    "import ReactomeNetwork"
   ]
  },
  {
   "cell_type": "code",
   "execution_count": 41,
   "id": "a942b4cd",
   "metadata": {},
   "outputs": [
    {
     "name": "stdout",
     "output_type": "stream",
     "text": [
      "Found 999 overlapping genes\n"
     ]
    }
   ],
   "source": [
    "reactome_network = ReactomeNetwork.ReactomeNetwork(train_dataset.get_genes())"
   ]
  },
  {
   "cell_type": "code",
   "execution_count": 42,
   "id": "a3fabd8d",
   "metadata": {},
   "outputs": [],
   "source": [
    "train_loader, val_loader = pnet_loader.to_dataloader(train_dataset, test_dataset, 64)"
   ]
  },
  {
   "cell_type": "code",
   "execution_count": 43,
   "id": "542f1a0a",
   "metadata": {},
   "outputs": [],
   "source": [
    "import torch.nn as nn\n",
    "import torch.nn.functional as F\n"
   ]
  },
  {
   "cell_type": "code",
   "execution_count": 44,
   "id": "9902259b",
   "metadata": {},
   "outputs": [],
   "source": [
    "class simple_model(pl.LightningModule):\n",
    "    @staticmethod\n",
    "    def add_model_specific_args(parent_parser):\n",
    "        parser = ArgumentParser(parents=[parent_parser], add_help=False)\n",
    "        parser.add_argument('--reactome_network', type=ReactomeNetwork.ReactomeNetwork)\n",
    "        parser.add_argument('--nbr_gene_inputs', type=int, default=1)\n",
    "        parser.add_argument('--additional_dims', type=int, default=0)\n",
    "\n",
    "        parser.add_argument('--lr', type=float, default=1e-3)\n",
    "        parser.add_argument('--weight_decay', type=float, default=1e-5)\n",
    "        parser.add_argument('--dropout', type=float, default=0.2)\n",
    "        return parser\n",
    "    \n",
    "    def __init__(self, hparams):\n",
    "        super().__init__()\n",
    "        self.save_hyperparameters(hparams)\n",
    "        input_dim = len(self.hparams.reactome_network.gene_list)*self.hparams.nbr_gene_inputs\n",
    "        \n",
    "        self.input_layer = nn.Linear(input_dim, 100)\n",
    "        self.output_layer = nn.Linear(100, 1)\n",
    "        \n",
    "    def forward(self, x):\n",
    "        x = torch.sigmoid(self.input_layer(x))\n",
    "        x = torch.sigmoid(self.output_layer(x))\n",
    "        return x\n",
    "\n",
    "    \n",
    "    def step(self, who, batch, batch_nb):\n",
    "        x, additional, y = batch\n",
    "        pred_y = self(x)\n",
    "        loss = F.binary_cross_entropy(pred_y, y, reduction='mean')\n",
    "\n",
    "        self.log(who + '_bce_loss', loss)\n",
    "        return loss\n",
    "    \n",
    "    def training_step(self, batch, batch_nb):\n",
    "        # REQUIRED\n",
    "        loss = self.step('train', batch, batch_nb)\n",
    "        return loss\n",
    "\n",
    "    def validation_step(self, batch, batch_nb):\n",
    "        loss = self.step('val', batch, batch_nb)\n",
    "        return loss\n",
    "\n",
    "    def test_step(self, batch, batch_nb):\n",
    "        loss = self.step('test', batch, batch_nb)\n",
    "        return loss\n",
    "\n",
    "    def configure_optimizers(self):\n",
    "        return torch.optim.Adam(self.parameters(), lr=self.hparams.lr)"
   ]
  },
  {
   "cell_type": "code",
   "execution_count": 45,
   "id": "f7e193a5",
   "metadata": {},
   "outputs": [],
   "source": [
    "model = simple_model(hparams=\n",
    "                     {'reactome_network':reactome_network, 'nbr_gene_inputs':len(genetic_data), 'dropout':0.2,\n",
    "                      'additional_dims':0, 'lr':1e-3, 'weight_decay':1}\n",
    "                    )"
   ]
  },
  {
   "cell_type": "code",
   "execution_count": null,
   "id": "73ba0558",
   "metadata": {},
   "outputs": [
    {
     "name": "stderr",
     "output_type": "stream",
     "text": [
      "Using bfloat16 Automatic Mixed Precision (AMP)\n",
      "GPU available: True (mps), used: False\n",
      "TPU available: False, using: 0 TPU cores\n",
      "IPU available: False, using: 0 IPUs\n",
      "HPU available: False, using: 0 HPUs\n",
      "/Users/marc/opt/anaconda3/envs/pnet/lib/python3.10/site-packages/pytorch_lightning/trainer/setup.py:200: UserWarning: MPS available but not used. Set `accelerator` and `devices` using `Trainer(accelerator='mps', devices=1)`.\n",
      "  rank_zero_warn(\n",
      "\n",
      "  | Name         | Type   | Params\n",
      "----------------------------------------\n",
      "0 | input_layer  | Linear | 199 K \n",
      "1 | output_layer | Linear | 101   \n",
      "----------------------------------------\n",
      "200 K     Trainable params\n",
      "0         Non-trainable params\n",
      "200 K     Total params\n",
      "0.800     Total estimated model params size (MB)\n"
     ]
    },
    {
     "data": {
      "application/vnd.jupyter.widget-view+json": {
       "model_id": "",
       "version_major": 2,
       "version_minor": 0
      },
      "text/plain": [
       "Sanity Checking: 0it [00:00, ?it/s]"
      ]
     },
     "metadata": {},
     "output_type": "display_data"
    },
    {
     "name": "stderr",
     "output_type": "stream",
     "text": [
      "/Users/marc/opt/anaconda3/envs/pnet/lib/python3.10/site-packages/pytorch_lightning/trainer/connectors/data_connector.py:488: PossibleUserWarning: Your `val_dataloader`'s sampler has shuffling enabled, it is strongly recommended that you turn shuffling off for val/test/predict dataloaders.\n",
      "  rank_zero_warn(\n"
     ]
    },
    {
     "data": {
      "application/vnd.jupyter.widget-view+json": {
       "model_id": "5ecc4ae9f9e9447db9f0bd1ada136c9a",
       "version_major": 2,
       "version_minor": 0
      },
      "text/plain": [
       "Training: 0it [00:00, ?it/s]"
      ]
     },
     "metadata": {},
     "output_type": "display_data"
    }
   ],
   "source": [
    "trainer = pl.Trainer(precision='bf16', accelerator=None, max_epochs=100, log_every_n_steps=50, \n",
    "                     enable_checkpointing=True)\n",
    "\n",
    "trainer.fit(model=model, train_dataloaders=train_loader, val_dataloaders=val_loader,)"
   ]
  },
  {
   "cell_type": "code",
   "execution_count": null,
   "id": "d8bd3fc4",
   "metadata": {},
   "outputs": [],
   "source": []
  },
  {
   "cell_type": "code",
   "execution_count": null,
   "id": "99d41313",
   "metadata": {},
   "outputs": [],
   "source": []
  }
 ],
 "metadata": {
  "kernelspec": {
   "display_name": "Python 3 (ipykernel)",
   "language": "python",
   "name": "python3"
  },
  "language_info": {
   "codemirror_mode": {
    "name": "ipython",
    "version": 3
   },
   "file_extension": ".py",
   "mimetype": "text/x-python",
   "name": "python",
   "nbconvert_exporter": "python",
   "pygments_lexer": "ipython3",
   "version": "3.10.9"
  }
 },
 "nbformat": 4,
 "nbformat_minor": 5
}
