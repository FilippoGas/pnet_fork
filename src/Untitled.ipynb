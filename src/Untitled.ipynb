{
 "cells": [
  {
   "cell_type": "code",
   "execution_count": 85,
   "id": "550f9e6e",
   "metadata": {},
   "outputs": [],
   "source": [
    "import matplotlib.pyplot as plt\n",
    "import numpy as np\n",
    "import pandas as pd\n",
    "import torch\n",
    "import os\n",
    "import seaborn as sns"
   ]
  },
  {
   "cell_type": "code",
   "execution_count": 86,
   "id": "8ea486ba",
   "metadata": {},
   "outputs": [
    {
     "data": {
      "text/plain": [
       "['.DS_Store',\n",
       " 'prostate_val_fcnn',\n",
       " 'prostate_val',\n",
       " 'prostate_val_svm',\n",
       " 'prostate_val_random_net',\n",
       " 'prostate_val_rf']"
      ]
     },
     "execution_count": 86,
     "metadata": {},
     "output_type": "execute_result"
    }
   ],
   "source": [
    "os.listdir('../results/')"
   ]
  },
  {
   "cell_type": "code",
   "execution_count": 108,
   "id": "89745f99",
   "metadata": {},
   "outputs": [],
   "source": [
    "pnet_aucs = []\n",
    "for i in range(10):\n",
    "    auc = torch.load('../results/prostate_val/run{}/AUC.pt'.format(i))\n",
    "    pnet_aucs.append(auc.item())"
   ]
  },
  {
   "cell_type": "code",
   "execution_count": 109,
   "id": "3de0caa3",
   "metadata": {},
   "outputs": [],
   "source": [
    "sparse_aucs = []\n",
    "for i in range(10):\n",
    "    auc = torch.load('../results/prostate_val_random_net/run{}/AUC.pt'.format(i))\n",
    "    sparse_aucs.append(auc.item())"
   ]
  },
  {
   "cell_type": "code",
   "execution_count": 110,
   "id": "32b23b70",
   "metadata": {},
   "outputs": [],
   "source": [
    "fcnn_aucs = []\n",
    "for i in range(10):\n",
    "    auc = torch.load('../results/prostate_val_fcnn/run{}/AUC.pt'.format(i))\n",
    "    fcnn_aucs.append(auc.item())"
   ]
  },
  {
   "cell_type": "code",
   "execution_count": 111,
   "id": "4b553991",
   "metadata": {},
   "outputs": [],
   "source": [
    "svm_aucs = []\n",
    "for i in range(10):\n",
    "    auc = torch.load('../results/prostate_val_svm/run{}/AUC.pt'.format(i))\n",
    "    svm_aucs.append(auc.item())"
   ]
  },
  {
   "cell_type": "code",
   "execution_count": 112,
   "id": "9f244aea",
   "metadata": {},
   "outputs": [],
   "source": [
    "rf_aucs = []\n",
    "for i in range(10):\n",
    "    auc = torch.load('../results/prostate_val_rf/run{}/AUC.pt'.format(i))\n",
    "    rf_aucs.append(auc.item())"
   ]
  },
  {
   "cell_type": "code",
   "execution_count": 113,
   "id": "1550fca0",
   "metadata": {},
   "outputs": [],
   "source": [
    "plt.rcParams['axes.spines.right'] = False\n",
    "plt.rcParams['axes.spines.top'] = False"
   ]
  },
  {
   "cell_type": "code",
   "execution_count": 114,
   "id": "5128c5d9",
   "metadata": {},
   "outputs": [
    {
     "data": {
      "text/plain": [
       "['ploidy_cutoff_selection.pdf',\n",
       " 'ploidy_sankey_diagram.html',\n",
       " '.DS_Store',\n",
       " 'ploidy_by_tumortype.pdf',\n",
       " 'pnet_performance_rank_variance.pdf',\n",
       " 'ploidy_vs_misclass_by_tumortype.pdf',\n",
       " 'ICML_submission_figures.pdf',\n",
       " 'pnet_performance_benchmark.pdf',\n",
       " 'figures',\n",
       " 'SKCM_ploidy_TCGA_vs_Liu.pdf',\n",
       " 'cna_vs_ploiy_top_genes.pdf',\n",
       " 'prediction_by_tumortype.pdf',\n",
       " 'ploidy_sankey_diagram.pdf',\n",
       " 'genes_ploidy.pdf',\n",
       " 'ploidy_sankey_diagram.png']"
      ]
     },
     "execution_count": 114,
     "metadata": {},
     "output_type": "execute_result"
    }
   ],
   "source": [
    "os.listdir('../figures/')"
   ]
  },
  {
   "cell_type": "code",
   "execution_count": 120,
   "id": "3ddddc2a",
   "metadata": {},
   "outputs": [],
   "source": [
    "perf_order = list(auc_df.mean().sort_values(ascending=False).index)"
   ]
  },
  {
   "cell_type": "code",
   "execution_count": 123,
   "id": "2ae44464",
   "metadata": {},
   "outputs": [
    {
     "data": {
      "image/png": "[encoded data removed]",
      "text/plain": [
       "<Figure size 640x480 with 1 Axes>"
      ]
     },
     "metadata": {},
     "output_type": "display_data"
    }
   ],
   "source": [
    "plt.clf()\n",
    "auc_df = pd.DataFrame({'PNET': pnet_aucs, 'sparse NN': sparse_aucs, 'FCNN': fcnn_aucs, 'RF': rf_aucs, 'SVM': svm_aucs})\n",
    "\n",
    "auc_df[perf_order].boxplot(showfliers=False,\n",
    "           color=dict(boxes='grey', whiskers='silver', medians='dimgray', caps='silver'), widths=0.6,\n",
    "               patch_artist=True, showmeans=True, \n",
    "               meanprops={\"marker\":\".\",\"markerfacecolor\":\"gainsboro\", \"markeredgecolor\":\"gainsboro\"})\n",
    "plt.ylim((0.75,1))\n",
    "plt.grid(False)\n",
    "plt.axhline(y=auc_df['FCNN'].median(), color='darksalmon', linestyle='--')\n",
    "plt.ylabel('AUC')\n",
    "plt.xlabel('Model')\n",
    "plt.savefig('../figures/pnet_performance_benchmark.pdf')\n",
    "plt.show()"
   ]
  },
  {
   "cell_type": "code",
   "execution_count": 124,
   "id": "3e689a97",
   "metadata": {},
   "outputs": [
    {
     "name": "stdout",
     "output_type": "stream",
     "text": [
      "Varience in ranking:  88.31026739391449\n"
     ]
    }
   ],
   "source": [
    "df = pd.DataFrame()\n",
    "for i in range(10):\n",
    "    gene_imps = pd.read_csv('../results/prostate_val/run{}/gene_importances.csv'.format(i))\n",
    "    df['run_{}'.format(i)] = gene_imps.set_index('Unnamed: 0').mean().rank(ascending=False)\n",
    "\n",
    "pnet_rank_var = df.loc[df.mean(axis=1).nsmallest(50).index].std(axis=1).median()\n",
    "print('Varience in ranking: ',pnet_rank_var)\n",
    "pnet_imps = df.mean(axis=1)"
   ]
  },
  {
   "cell_type": "code",
   "execution_count": 125,
   "id": "e297072d",
   "metadata": {},
   "outputs": [
    {
     "name": "stdout",
     "output_type": "stream",
     "text": [
      "Varience in ranking:  101.40088172875906\n"
     ]
    }
   ],
   "source": [
    "df = pd.DataFrame()\n",
    "for i in range(10):\n",
    "    gene_imps = pd.read_csv('../results/prostate_val_random_net/run{}/gene_importances.csv'.format(i))\n",
    "    df['run_{}'.format(i)] = gene_imps.set_index('Unnamed: 0').mean().rank(ascending=False)\n",
    "rnet_rank_var = df.loc[df.mean(axis=1).nsmallest(50).index].std(axis=1).nsmallest(100).median()\n",
    "print('Varience in ranking: ',rnet_rank_var)\n",
    "rnet_imps = df.mean(axis=1)"
   ]
  },
  {
   "cell_type": "code",
   "execution_count": 126,
   "id": "84684b9f",
   "metadata": {},
   "outputs": [
    {
     "name": "stdout",
     "output_type": "stream",
     "text": [
      "Varience in ranking:  366.9055852806802\n"
     ]
    }
   ],
   "source": [
    "df = pd.DataFrame()\n",
    "for i in range(10):\n",
    "    gene_imps = pd.read_csv('../results/prostate_val_fcnn/run{}/gene_importances.csv'.format(i))\n",
    "    df['run_{}'.format(i)] = gene_imps.set_index('Unnamed: 0').mean().rank(ascending=False)\n",
    "fnet_rank_var = df.loc[df.mean(axis=1).nsmallest(50).index].std(axis=1).nsmallest(100).median()\n",
    "print('Varience in ranking: ',fnet_rank_var)\n",
    "fnet_imps = df.mean(axis=1)"
   ]
  },
  {
   "cell_type": "code",
   "execution_count": 127,
   "id": "1677d0a2",
   "metadata": {},
   "outputs": [
    {
     "name": "stdout",
     "output_type": "stream",
     "text": [
      "Varience in ranking:  55.486968540423845\n"
     ]
    }
   ],
   "source": [
    "df = pd.DataFrame()\n",
    "for i in range(10):\n",
    "    gene_imps = pd.read_csv('../results/prostate_val_rf/run{}/gene_feature_importances.csv'.format(i))\n",
    "    gene_imps = gene_imps.set_index('Unnamed: 0')\n",
    "    gene_imps = pd.DataFrame(gene_imps.values.reshape((3, 4854)).T.sum(axis=1),\n",
    "                             index=gene_imps.index[:4854],\n",
    "                             columns=['gene_imp']).rank(ascending=False)\n",
    "    df['run_{}'.format(i)] = gene_imps['gene_imp']\n",
    "rf_rank_var = df.loc[df.mean(axis=1).nsmallest(50).index].std(axis=1).nsmallest(100).median()\n",
    "print('Varience in ranking: ',rf_rank_var)\n",
    "rf_imps = df.mean(axis=1)"
   ]
  },
  {
   "cell_type": "code",
   "execution_count": 128,
   "id": "258f239f",
   "metadata": {},
   "outputs": [
    {
     "name": "stdout",
     "output_type": "stream",
     "text": [
      "Varience in ranking:  49.47814796621172\n"
     ]
    }
   ],
   "source": [
    "df = pd.DataFrame()\n",
    "for i in range(10):\n",
    "    gene_imps = pd.read_csv('../results/prostate_val_svm/run{}/gene_feature_importances.csv'.format(i))\n",
    "    gene_imps = gene_imps.set_index('Unnamed: 0')\n",
    "    gene_imps = pd.DataFrame(gene_imps.values.reshape((3, 4854)).T.sum(axis=1),\n",
    "                             index=gene_imps.index[:4854],\n",
    "                             columns=['gene_imp']).rank(ascending=False)\n",
    "    df['run_{}'.format(i)] = gene_imps['gene_imp']\n",
    "svm_rank_var = df.loc[df.mean(axis=1).nsmallest(50).index].std(axis=1).nsmallest(100).median()\n",
    "print('Varience in ranking: ',svm_rank_var)\n",
    "svm_imps = df.mean(axis=1)"
   ]
  },
  {
   "cell_type": "code",
   "execution_count": 129,
   "id": "f48c8a96",
   "metadata": {},
   "outputs": [],
   "source": [
    "plotting_df = pd.DataFrame(auc_df.median(), columns=['AUC'])\n",
    "plotting_df['rank_var'] = [pnet_rank_var, rnet_rank_var, fnet_rank_var, rf_rank_var, svm_rank_var]\n",
    "plotting_df['model'] = plotting_df.index"
   ]
  },
  {
   "cell_type": "code",
   "execution_count": 130,
   "id": "0495e490",
   "metadata": {},
   "outputs": [
    {
     "data": {
      "text/html": [
       "<div>\n",
       "<style scoped>\n",
       "    .dataframe tbody tr th:only-of-type {\n",
       "        vertical-align: middle;\n",
       "    }\n",
       "\n",
       "    .dataframe tbody tr th {\n",
       "        vertical-align: top;\n",
       "    }\n",
       "\n",
       "    .dataframe thead th {\n",
       "        text-align: right;\n",
       "    }\n",
       "</style>\n",
       "<table border=\"1\" class=\"dataframe\">\n",
       "  <thead>\n",
       "    <tr style=\"text-align: right;\">\n",
       "      <th></th>\n",
       "      <th>AUC</th>\n",
       "      <th>rank_var</th>\n",
       "      <th>model</th>\n",
       "    </tr>\n",
       "  </thead>\n",
       "  <tbody>\n",
       "    <tr>\n",
       "      <th>PNET</th>\n",
       "      <td>0.878611</td>\n",
       "      <td>88.310267</td>\n",
       "      <td>PNET</td>\n",
       "    </tr>\n",
       "    <tr>\n",
       "      <th>sparse NN</th>\n",
       "      <td>0.888525</td>\n",
       "      <td>101.400882</td>\n",
       "      <td>sparse NN</td>\n",
       "    </tr>\n",
       "    <tr>\n",
       "      <th>FCNN</th>\n",
       "      <td>0.866138</td>\n",
       "      <td>366.905585</td>\n",
       "      <td>FCNN</td>\n",
       "    </tr>\n",
       "    <tr>\n",
       "      <th>RF</th>\n",
       "      <td>0.881016</td>\n",
       "      <td>55.486969</td>\n",
       "      <td>RF</td>\n",
       "    </tr>\n",
       "    <tr>\n",
       "      <th>SVM</th>\n",
       "      <td>0.881907</td>\n",
       "      <td>49.478148</td>\n",
       "      <td>SVM</td>\n",
       "    </tr>\n",
       "  </tbody>\n",
       "</table>\n",
       "</div>"
      ],
      "text/plain": [
       "                AUC    rank_var      model\n",
       "PNET       0.878611   88.310267       PNET\n",
       "sparse NN  0.888525  101.400882  sparse NN\n",
       "FCNN       0.866138  366.905585       FCNN\n",
       "RF         0.881016   55.486969         RF\n",
       "SVM        0.881907   49.478148        SVM"
      ]
     },
     "execution_count": 130,
     "metadata": {},
     "output_type": "execute_result"
    }
   ],
   "source": [
    "plotting_df"
   ]
  },
  {
   "cell_type": "code",
   "execution_count": 147,
   "id": "d62ae528",
   "metadata": {},
   "outputs": [
    {
     "data": {
      "image/png": "[encoded data removed]",
      "text/plain": [
       "<Figure size 640x480 with 1 Axes>"
      ]
     },
     "metadata": {},
     "output_type": "display_data"
    }
   ],
   "source": [
    "plt.clf()\n",
    "ax = sns.scatterplot(plotting_df, y='AUC', x='rank_var')\n",
    "plt.ylim((0.75,1))\n",
    "plt.xlim((10, 400))\n",
    "plt.xlabel('Rank variance')\n",
    "for i, txt in enumerate(plotting_df.model):\n",
    "    if txt=='RF':\n",
    "        ax.annotate(txt, (5+plotting_df.loc[txt]['rank_var'], plotting_df.loc[txt]['AUC']-0.001))\n",
    "    elif txt=='PNET':\n",
    "        ax.annotate(txt, (5+plotting_df.loc[txt]['rank_var'], plotting_df.loc[txt]['AUC']-0.001))\n",
    "    else:\n",
    "        ax.annotate(txt, (plotting_df.loc[txt]['rank_var'], 0.01+plotting_df.loc[txt]['AUC']))\n",
    "\n",
    "\n",
    "plt.savefig('../figures/pnet_performance_rank_variance.pdf')\n",
    "plt.show()\n"
   ]
  },
  {
   "cell_type": "code",
   "execution_count": null,
   "id": "0f731e64",
   "metadata": {},
   "outputs": [],
   "source": []
  }
 ],
 "metadata": {
  "kernelspec": {
   "display_name": "Python 3 (ipykernel)",
   "language": "python",
   "name": "python3"
  },
  "language_info": {
   "codemirror_mode": {
    "name": "ipython",
    "version": 3
   },
   "file_extension": ".py",
   "mimetype": "text/x-python",
   "name": "python",
   "nbconvert_exporter": "python",
   "pygments_lexer": "ipython3",
   "version": "3.9.16"
  }
 },
 "nbformat": 4,
 "nbformat_minor": 5
}
