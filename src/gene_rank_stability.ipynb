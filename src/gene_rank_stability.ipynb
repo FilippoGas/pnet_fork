{
 "cells": [
  {
   "cell_type": "markdown",
   "id": "bcbdeea7-b6c9-409f-a670-7be5bc4bd645",
   "metadata": {},
   "source": [
    "In this notebook we analyse the stability of the layer conductance values from the model on a fixed train and test set. We are interested in how the random initialization of the weights influences the importance scores obtained for the genes."
   ]
  },
  {
   "cell_type": "markdown",
   "id": "9b5157d9-b226-47af-aa8e-bab84cce9e0b",
   "metadata": {},
   "source": [
    "Imports:"
   ]
  },
  {
   "cell_type": "code",
   "execution_count": 20,
   "id": "b4e4d70f-87ef-4d2a-aace-6d6829d8dff3",
   "metadata": {
    "jupyter": {
     "source_hidden": true
    },
    "tags": []
   },
   "outputs": [
    {
     "name": "stdout",
     "output_type": "stream",
     "text": [
      "The autoreload extension is already loaded. To reload it, use:\n",
      "  %reload_ext autoreload\n"
     ]
    }
   ],
   "source": [
    "import pnet_loader\n",
    "import util\n",
    "import Pnet\n",
    "import torch\n",
    "import seaborn as sns\n",
    "import pandas as pd\n",
    "from sklearn import metrics\n",
    "import matplotlib.pyplot as plt\n",
    "from sklearn.metrics import roc_auc_score\n",
    "\n",
    "%load_ext autoreload\n",
    "%autoreload 2"
   ]
  },
  {
   "cell_type": "markdown",
   "id": "fd95b28d-a0a8-4e1c-a5f4-815924080452",
   "metadata": {},
   "source": [
    "Data Loading:"
   ]
  },
  {
   "cell_type": "code",
   "execution_count": 21,
   "id": "fa5cb8c3-d3d8-49ab-bc63-ea5c15bbdd42",
   "metadata": {
    "jupyter": {
     "source_hidden": true
    },
    "tags": []
   },
   "outputs": [],
   "source": [
    "prostate_mutations = pd.read_csv('/mnt/disks/pancan/pnet_database/prostate/processed/P1000_final_analysis_set_cross_important_only.csv')\n",
    "prostate_mutations.set_index('Tumor_Sample_Barcode', inplace=True)\n",
    "\n",
    "prostate_cnv = pd.read_csv('/mnt/disks/pancan/pnet_database/prostate/processed/P1000_data_CNA_paper.csv')\n",
    "prostate_cnv.rename(columns={\"Unnamed: 0\": \"Tumor_Sample_Barcode\"}, inplace=True)\n",
    "prostate_cnv.set_index('Tumor_Sample_Barcode', inplace=True)\n",
    "\n",
    "prostate_response = pd.read_csv('/mnt/disks/pancan/pnet_database/prostate/processed/response_paper.csv')\n",
    "prostate_response.rename(columns={'id': \"Tumor_Sample_Barcode\"}, inplace=True)\n",
    "prostate_response.set_index('Tumor_Sample_Barcode', inplace=True)\n",
    "\n",
    "prostate_genes = pd.read_csv('/mnt/disks/pancan/pnet_database/genes/tcga_prostate_expressed_genes_and_cancer_genes.csv')\n",
    "prostate_genes = list(set(prostate_genes['genes']).intersection(set(prostate_mutations.columns)).intersection(set(prostate_cnv.columns)))\n",
    "\n",
    "# prostate_mutations = pd.read_csv('../../data/pnet_database/prostate/processed/P1000_final_analysis_set_cross_important_only.csv')\n",
    "# prostate_mutations.set_index('Tumor_Sample_Barcode', inplace=True)\n",
    "\n",
    "# prostate_cnv = pd.read_csv('../../data/pnet_database/prostate/processed/P1000_data_CNA_paper.csv')\n",
    "# prostate_cnv.rename(columns={\"Unnamed: 0\": \"Tumor_Sample_Barcode\"}, inplace=True)\n",
    "# prostate_cnv.set_index('Tumor_Sample_Barcode', inplace=True)\n",
    "\n",
    "# prostate_response = pd.read_csv('../../data/pnet_database/prostate/processed/response_paper.csv')\n",
    "# prostate_response.rename(columns={'id': \"Tumor_Sample_Barcode\"}, inplace=True)\n",
    "# prostate_response.set_index('Tumor_Sample_Barcode', inplace=True)\n",
    "\n",
    "# prostate_genes = pd.read_csv('../../data/pnet_database/genes/tcga_prostate_expressed_genes_and_cancer_genes.csv')\n",
    "# prostate_genes = list(set(prostate_genes['genes']).intersection(set(prostate_mutations.columns)).intersection(set(prostate_cnv.columns)))\n",
    "\n",
    "prostate_cnv = prostate_cnv[prostate_genes].copy()\n",
    "prostate_mutations = prostate_mutations[prostate_genes].copy()\n",
    "\n",
    "# prostate_genes = util.select_highly_variable_genes(prostate_mutations)\n",
    "# prostate_genes = prostate_genes['level_1']\n",
    "prostate_mutations = prostate_mutations[list(set(prostate_mutations.columns).intersection(prostate_genes))].copy()\n",
    "prostate_cnv = prostate_cnv[list(set(prostate_cnv.columns).intersection(prostate_genes))].copy()\n",
    "\n",
    "# Regenerate input as specified in prostate_paper\n",
    "prostate_mutations = (prostate_mutations > 0).astype(int)\n",
    "prostate_amp = (prostate_cnv > 1).astype(int)\n",
    "prostate_del = (prostate_cnv < -1).astype(int)"
   ]
  },
  {
   "cell_type": "code",
   "execution_count": 22,
   "id": "89c673fa-935b-434f-b289-c0b2d3f9ec60",
   "metadata": {
    "jupyter": {
     "source_hidden": true
    },
    "tags": []
   },
   "outputs": [],
   "source": [
    "genetic_data = {'mut': prostate_mutations, 'amp': prostate_amp, 'del': prostate_del}"
   ]
  },
  {
   "cell_type": "code",
   "execution_count": 23,
   "id": "3d07351f-0afa-4791-a194-0ddd765cae4c",
   "metadata": {
    "jupyter": {
     "source_hidden": true
    },
    "tags": []
   },
   "outputs": [],
   "source": [
    "test_inds = list(pd.read_csv('/mnt/disks/pancan/pnet_database/splits/test_set.csv')['id'])\n",
    "train_inds = list(pd.read_csv('/mnt/disks/pancan/pnet_database/splits/training_set.csv')['id'])"
   ]
  },
  {
   "cell_type": "markdown",
   "id": "4eb5ec5f-7b0f-489f-8196-1698093ebbe5",
   "metadata": {},
   "source": [
    "Model training:"
   ]
  },
  {
   "cell_type": "code",
   "execution_count": 24,
   "id": "b870218b-4d8c-471b-ada4-6a2e799e4725",
   "metadata": {},
   "outputs": [
    {
     "name": "stdout",
     "output_type": "stream",
     "text": [
      "Given 3 Input modalities\n",
      "Found 1011 overlapping indicies\n",
      "Initializing Train Dataset\n",
      "Found 4854 overlapping genes\n",
      "generated input DataFrame of size (807, 14562)\n",
      "Initializing Test Dataset\n",
      "Found 4854 overlapping genes\n",
      "generated input DataFrame of size (102, 14562)\n",
      "Found 4854 overlapping genes\n",
      "Given 3 Input modalities\n",
      "Found 1011 overlapping indicies\n",
      "Initializing Train Dataset\n",
      "Found 4854 overlapping genes\n",
      "generated input DataFrame of size (807, 14562)\n",
      "Initializing Test Dataset\n",
      "Found 4854 overlapping genes\n",
      "generated input DataFrame of size (102, 14562)\n",
      "Found 4854 overlapping genes\n",
      "Given 3 Input modalities\n",
      "Found 1011 overlapping indicies\n",
      "Initializing Train Dataset\n",
      "Found 4854 overlapping genes\n",
      "generated input DataFrame of size (807, 14562)\n",
      "Initializing Test Dataset\n",
      "Found 4854 overlapping genes\n",
      "generated input DataFrame of size (102, 14562)\n",
      "Found 4854 overlapping genes\n",
      "Given 3 Input modalities\n",
      "Found 1011 overlapping indicies\n",
      "Initializing Train Dataset\n",
      "Found 4854 overlapping genes\n",
      "generated input DataFrame of size (807, 14562)\n",
      "Initializing Test Dataset\n",
      "Found 4854 overlapping genes\n",
      "generated input DataFrame of size (102, 14562)\n",
      "Found 4854 overlapping genes\n",
      "Given 3 Input modalities\n",
      "Found 1011 overlapping indicies\n",
      "Initializing Train Dataset\n",
      "Found 4854 overlapping genes\n",
      "generated input DataFrame of size (807, 14562)\n",
      "Initializing Test Dataset\n",
      "Found 4854 overlapping genes\n",
      "generated input DataFrame of size (102, 14562)\n",
      "Found 4854 overlapping genes\n",
      "Given 3 Input modalities\n",
      "Found 1011 overlapping indicies\n",
      "Initializing Train Dataset\n",
      "Found 4854 overlapping genes\n",
      "generated input DataFrame of size (807, 14562)\n",
      "Initializing Test Dataset\n",
      "Found 4854 overlapping genes\n",
      "generated input DataFrame of size (102, 14562)\n",
      "Found 4854 overlapping genes\n",
      "Given 3 Input modalities\n",
      "Found 1011 overlapping indicies\n",
      "Initializing Train Dataset\n",
      "Found 4854 overlapping genes\n",
      "generated input DataFrame of size (807, 14562)\n",
      "Initializing Test Dataset\n",
      "Found 4854 overlapping genes\n",
      "generated input DataFrame of size (102, 14562)\n",
      "Found 4854 overlapping genes\n",
      "Given 3 Input modalities\n",
      "Found 1011 overlapping indicies\n",
      "Initializing Train Dataset\n",
      "Found 4854 overlapping genes\n",
      "generated input DataFrame of size (807, 14562)\n",
      "Initializing Test Dataset\n",
      "Found 4854 overlapping genes\n",
      "generated input DataFrame of size (102, 14562)\n",
      "Found 4854 overlapping genes\n",
      "Given 3 Input modalities\n",
      "Found 1011 overlapping indicies\n",
      "Initializing Train Dataset\n",
      "Found 4854 overlapping genes\n",
      "generated input DataFrame of size (807, 14562)\n",
      "Initializing Test Dataset\n",
      "Found 4854 overlapping genes\n",
      "generated input DataFrame of size (102, 14562)\n",
      "Found 4854 overlapping genes\n",
      "Given 3 Input modalities\n",
      "Found 1011 overlapping indicies\n",
      "Initializing Train Dataset\n",
      "Found 4854 overlapping genes\n",
      "generated input DataFrame of size (807, 14562)\n",
      "Initializing Test Dataset\n",
      "Found 4854 overlapping genes\n",
      "generated input DataFrame of size (102, 14562)\n",
      "Found 4854 overlapping genes\n",
      "Given 3 Input modalities\n",
      "Found 1011 overlapping indicies\n",
      "Initializing Train Dataset\n",
      "Found 4854 overlapping genes\n",
      "generated input DataFrame of size (807, 14562)\n",
      "Initializing Test Dataset\n",
      "Found 4854 overlapping genes\n",
      "generated input DataFrame of size (102, 14562)\n",
      "Found 4854 overlapping genes\n",
      "Given 3 Input modalities\n",
      "Found 1011 overlapping indicies\n",
      "Initializing Train Dataset\n",
      "Found 4854 overlapping genes\n",
      "generated input DataFrame of size (807, 14562)\n",
      "Initializing Test Dataset\n",
      "Found 4854 overlapping genes\n",
      "generated input DataFrame of size (102, 14562)\n",
      "Found 4854 overlapping genes\n",
      "Given 3 Input modalities\n",
      "Found 1011 overlapping indicies\n",
      "Initializing Train Dataset\n",
      "Found 4854 overlapping genes\n",
      "generated input DataFrame of size (807, 14562)\n",
      "Initializing Test Dataset\n",
      "Found 4854 overlapping genes\n",
      "generated input DataFrame of size (102, 14562)\n",
      "Found 4854 overlapping genes\n",
      "Given 3 Input modalities\n",
      "Found 1011 overlapping indicies\n",
      "Initializing Train Dataset\n",
      "Found 4854 overlapping genes\n",
      "generated input DataFrame of size (807, 14562)\n",
      "Initializing Test Dataset\n",
      "Found 4854 overlapping genes\n",
      "generated input DataFrame of size (102, 14562)\n",
      "Found 4854 overlapping genes\n",
      "Given 3 Input modalities\n",
      "Found 1011 overlapping indicies\n",
      "Initializing Train Dataset\n",
      "Found 4854 overlapping genes\n",
      "generated input DataFrame of size (807, 14562)\n",
      "Initializing Test Dataset\n",
      "Found 4854 overlapping genes\n",
      "generated input DataFrame of size (102, 14562)\n",
      "Found 4854 overlapping genes\n",
      "Given 3 Input modalities\n",
      "Found 1011 overlapping indicies\n",
      "Initializing Train Dataset\n",
      "Found 4854 overlapping genes\n",
      "generated input DataFrame of size (807, 14562)\n",
      "Initializing Test Dataset\n",
      "Found 4854 overlapping genes\n",
      "generated input DataFrame of size (102, 14562)\n",
      "Found 4854 overlapping genes\n",
      "Given 3 Input modalities\n",
      "Found 1011 overlapping indicies\n",
      "Initializing Train Dataset\n",
      "Found 4854 overlapping genes\n",
      "generated input DataFrame of size (807, 14562)\n",
      "Initializing Test Dataset\n",
      "Found 4854 overlapping genes\n",
      "generated input DataFrame of size (102, 14562)\n",
      "Found 4854 overlapping genes\n",
      "Given 3 Input modalities\n",
      "Found 1011 overlapping indicies\n",
      "Initializing Train Dataset\n",
      "Found 4854 overlapping genes\n",
      "generated input DataFrame of size (807, 14562)\n",
      "Initializing Test Dataset\n",
      "Found 4854 overlapping genes\n",
      "generated input DataFrame of size (102, 14562)\n",
      "Found 4854 overlapping genes\n",
      "Given 3 Input modalities\n",
      "Found 1011 overlapping indicies\n",
      "Initializing Train Dataset\n",
      "Found 4854 overlapping genes\n",
      "generated input DataFrame of size (807, 14562)\n",
      "Initializing Test Dataset\n",
      "Found 4854 overlapping genes\n",
      "generated input DataFrame of size (102, 14562)\n",
      "Found 4854 overlapping genes\n",
      "Given 3 Input modalities\n",
      "Found 1011 overlapping indicies\n",
      "Initializing Train Dataset\n",
      "Found 4854 overlapping genes\n",
      "generated input DataFrame of size (807, 14562)\n",
      "Initializing Test Dataset\n",
      "Found 4854 overlapping genes\n",
      "generated input DataFrame of size (102, 14562)\n",
      "Found 4854 overlapping genes\n"
     ]
    }
   ],
   "source": [
    "gene_imps = []\n",
    "layerwise_imps = []\n",
    "aucs = []\n",
    "for r in range(20):\n",
    "    model, train_scores, test_scores, train_dataset, test_dataset = Pnet.run(genetic_data,\n",
    "                                                                         prostate_response,\n",
    "                                                                         verbose=False,\n",
    "                                                                         early_stopping=False,\n",
    "                                                                         train_inds=train_inds,\n",
    "                                                                         test_inds=test_inds)\n",
    "    model.to('cpu')\n",
    "    x_test = test_dataset.x\n",
    "    additional_test = test_dataset.additional\n",
    "    y_test = test_dataset.y\n",
    "    pred = model(x_test, additional_test)\n",
    "    y_pred_proba = pred.detach().numpy().squeeze()\n",
    "    fpr, tpr, _ = metrics.roc_curve(y_test,  y_pred_proba)\n",
    "    aucs.append(metrics.roc_auc_score(y_test, y_pred_proba))\n",
    "    gene_imps.append(model.gene_importance(test_dataset))\n",
    "    layerwise_imps.append(model.layerwise_importance(test_dataset))\n",
    "    "
   ]
  },
  {
   "cell_type": "code",
   "execution_count": 38,
   "id": "be80cb9a-9e09-4708-a009-5be291bea7d4",
   "metadata": {},
   "outputs": [
    {
     "data": {
      "text/plain": [
       "AR         4.853938\n",
       "TP53       2.594748\n",
       "PTEN       2.158988\n",
       "FNDC1      1.951894\n",
       "SLC45A4    1.296950\n",
       "PHLDB2     1.131713\n",
       "KLHDC8A    1.094294\n",
       "GPBP1      1.047550\n",
       "TATDN1     0.949547\n",
       "PHF20L1    0.885988\n",
       "ZNF34      0.835381\n",
       "RAB14      0.804577\n",
       "BACH2      0.790045\n",
       "ZMIZ1      0.787808\n",
       "MAP3K7     0.787134\n",
       "HSPA6      0.775397\n",
       "SCRT1      0.741248\n",
       "FAT4       0.719318\n",
       "ZNF250     0.706913\n",
       "PXDNL      0.661662\n",
       "dtype: float32"
      ]
     },
     "execution_count": 38,
     "metadata": {},
     "output_type": "execute_result"
    }
   ],
   "source": [
    "pd.concat(gene_imps, axis=1).std(axis=1).nlargest(20)"
   ]
  },
  {
   "cell_type": "code",
   "execution_count": 53,
   "id": "9709e952-de35-4d51-94cd-e8ab57608411",
   "metadata": {},
   "outputs": [
    {
     "data": {
      "text/plain": [
       "AR         1.00\n",
       "TP53       2.15\n",
       "PTEN       2.85\n",
       "MDM4      12.50\n",
       "MED30     12.80\n",
       "ASB18     17.60\n",
       "UBE2W     23.85\n",
       "KBTBD8    27.80\n",
       "ZNF92     38.65\n",
       "RB1       41.65\n",
       "MDM2      42.35\n",
       "PSMD1     43.15\n",
       "MGA       44.50\n",
       "ZNF184    48.65\n",
       "NR3C2     49.10\n",
       "RBBP5     50.80\n",
       "RNF123    52.75\n",
       "MAML3     54.75\n",
       "PTPRJ     55.85\n",
       "CUL9      56.10\n",
       "dtype: float64"
      ]
     },
     "execution_count": 53,
     "metadata": {},
     "output_type": "execute_result"
    }
   ],
   "source": [
    "pd.concat([gis.rank(ascending=False) for gis in gene_imps], axis=1).mean(axis=1).nsmallest(20)"
   ]
  },
  {
   "cell_type": "code",
   "execution_count": 32,
   "id": "cd36c063-0b94-454c-b4ee-634f9548746a",
   "metadata": {},
   "outputs": [
    {
     "data": {
      "text/plain": [
       "AR        28.339069\n",
       "TP53      10.345586\n",
       "PTEN       8.134116\n",
       "RB1        0.711618\n",
       "MDM4       1.484305\n",
       "FGFR1     -0.136983\n",
       "MAML3      0.622123\n",
       "PDGFA      0.456059\n",
       "NOTCH1     0.000000\n",
       "EIF3E      0.065069\n",
       "dtype: float32"
      ]
     },
     "execution_count": 32,
     "metadata": {},
     "output_type": "execute_result"
    }
   ],
   "source": [
    "pd.concat(gene_imps, axis=1).mean(axis=1).loc[['AR', 'TP53','PTEN', 'RB1', 'MDM4', 'FGFR1', 'MAML3', 'PDGFA', 'NOTCH1', 'EIF3E']]"
   ]
  },
  {
   "cell_type": "code",
   "execution_count": 55,
   "id": "bd8368e5-08bc-436c-a507-b38fae256b4b",
   "metadata": {},
   "outputs": [
    {
     "data": {
      "text/plain": [
       "AR           1.0\n",
       "TP53         2.0\n",
       "PTEN         3.0\n",
       "RB1         10.0\n",
       "MDM4         4.0\n",
       "FGFR1     4764.0\n",
       "MAML3       18.0\n",
       "PDGFA       55.0\n",
       "NOTCH1    2407.0\n",
       "EIF3E      515.0\n",
       "dtype: float64"
      ]
     },
     "execution_count": 55,
     "metadata": {},
     "output_type": "execute_result"
    }
   ],
   "source": [
    "pd.concat([gis.rank(ascending=False) for gis in gene_imps], axis=1).mean(axis=1).rank(ascending=True).loc[['AR', 'TP53','PTEN', 'RB1', 'MDM4', 'FGFR1', 'MAML3', 'PDGFA', 'NOTCH1', 'EIF3E']]"
   ]
  },
  {
   "cell_type": "code",
   "execution_count": 39,
   "id": "bc54eaf1-cc07-443d-be2e-0b95270dd1ee",
   "metadata": {},
   "outputs": [
    {
     "data": {
      "text/plain": [
       "AR           1.0\n",
       "TP53         2.0\n",
       "PTEN         3.0\n",
       "RB1        155.0\n",
       "MDM4        36.0\n",
       "FGFR1      337.0\n",
       "MAML3      136.0\n",
       "PDGFA       70.0\n",
       "NOTCH1    3969.5\n",
       "EIF3E      419.0\n",
       "dtype: float64"
      ]
     },
     "execution_count": 39,
     "metadata": {},
     "output_type": "execute_result"
    }
   ],
   "source": [
    "pd.concat(gene_imps, axis=1).std(axis=1).rank(ascending=False).loc[['AR', 'TP53','PTEN', 'RB1', 'MDM4', 'FGFR1', 'MAML3', 'PDGFA', 'NOTCH1', 'EIF3E']]"
   ]
  },
  {
   "cell_type": "code",
   "execution_count": null,
   "id": "f947773f-54fe-4178-bc8b-6cfedd5e822e",
   "metadata": {},
   "outputs": [],
   "source": []
  }
 ],
 "metadata": {
  "environment": {
   "kernel": "python3",
   "name": "pytorch-gpu.1-10.m90",
   "type": "gcloud",
   "uri": "gcr.io/deeplearning-platform-release/pytorch-gpu.1-10:m90"
  },
  "kernelspec": {
   "display_name": "Python 3",
   "language": "python",
   "name": "python3"
  },
  "language_info": {
   "codemirror_mode": {
    "name": "ipython",
    "version": 3
   },
   "file_extension": ".py",
   "mimetype": "text/x-python",
   "name": "python",
   "nbconvert_exporter": "python",
   "pygments_lexer": "ipython3",
   "version": "3.7.12"
  }
 },
 "nbformat": 4,
 "nbformat_minor": 5
}
