{
 "cells": [
  {
   "cell_type": "markdown",
   "id": "b6e2f0a8-6b0f-4017-ab72-dd95b3132f5a",
   "metadata": {},
   "source": [
    "# P-Net Example Notebook: SKCM tumor purity prediction"
   ]
  },
  {
   "cell_type": "markdown",
   "id": "728e026b-5fe2-455d-a67c-750260360c26",
   "metadata": {},
   "source": [
    "Imports:"
   ]
  },
  {
   "cell_type": "code",
   "execution_count": 1,
   "id": "7556505a",
   "metadata": {
    "jupyter": {
     "source_hidden": true
    },
    "tags": []
   },
   "outputs": [],
   "source": [
    "import pnet_loader\n",
    "import util\n",
    "import torch\n",
    "import seaborn as sns\n",
    "import pandas as pd\n",
    "import numpy as np\n",
    "import Pnet\n",
    "import random\n",
    "from sklearn import metrics\n",
    "import matplotlib.pyplot as plt\n",
    "from sklearn.metrics import roc_auc_score\n",
    "import os\n",
    "import warnings\n",
    "warnings.filterwarnings('ignore')\n",
    "\n",
    "\n",
    "%load_ext autoreload\n",
    "%autoreload 2"
   ]
  },
  {
   "cell_type": "markdown",
   "id": "97701739-fa4b-4155-b1f5-57d96280f8bb",
   "metadata": {},
   "source": [
    "### Load Input"
   ]
  },
  {
   "cell_type": "code",
   "execution_count": 30,
   "id": "f50d9af5-b861-48ad-87f3-3460ec8ddf97",
   "metadata": {},
   "outputs": [],
   "source": [
    "datapath='/mnt/disks/pancan/data/'\n",
    "rna, cna, tumor_type = util.load_tcga_dataset(datapath+'skcm_tcga_pan_can_atlas_2018')\n",
    "genetic_data = {'rna': rna, 'cna': cna}                         # Bring input into dictionary shape"
   ]
  },
  {
   "cell_type": "code",
   "execution_count": 31,
   "id": "8d2707b1",
   "metadata": {},
   "outputs": [
    {
     "data": {
      "text/html": [
       "<div>\n",
       "<style scoped>\n",
       "    .dataframe tbody tr th:only-of-type {\n",
       "        vertical-align: middle;\n",
       "    }\n",
       "\n",
       "    .dataframe tbody tr th {\n",
       "        vertical-align: top;\n",
       "    }\n",
       "\n",
       "    .dataframe thead th {\n",
       "        text-align: right;\n",
       "    }\n",
       "</style>\n",
       "<table border=\"1\" class=\"dataframe\">\n",
       "  <thead>\n",
       "    <tr style=\"text-align: right;\">\n",
       "      <th>Hugo_Symbol</th>\n",
       "      <th>SLA2</th>\n",
       "      <th>TAF12</th>\n",
       "      <th>BCL2</th>\n",
       "      <th>FBXO2</th>\n",
       "      <th>AMOTL2</th>\n",
       "      <th>NBPF9</th>\n",
       "      <th>FAM110C</th>\n",
       "      <th>AKR1B10</th>\n",
       "      <th>SOX7</th>\n",
       "      <th>PATL1</th>\n",
       "      <th>...</th>\n",
       "      <th>MS4A1</th>\n",
       "      <th>KC6</th>\n",
       "      <th>KANK1</th>\n",
       "      <th>PLLP</th>\n",
       "      <th>FGF13</th>\n",
       "      <th>NBAS</th>\n",
       "      <th>TDRD1</th>\n",
       "      <th>FATE1</th>\n",
       "      <th>RIMS3</th>\n",
       "      <th>CD36</th>\n",
       "    </tr>\n",
       "  </thead>\n",
       "  <tbody>\n",
       "    <tr>\n",
       "      <th>TCGA-3N-A9WB-06</th>\n",
       "      <td>1.0</td>\n",
       "      <td>0.0</td>\n",
       "      <td>0.0</td>\n",
       "      <td>0.0</td>\n",
       "      <td>0.0</td>\n",
       "      <td>1.0</td>\n",
       "      <td>0.0</td>\n",
       "      <td>0.0</td>\n",
       "      <td>1.0</td>\n",
       "      <td>0.0</td>\n",
       "      <td>...</td>\n",
       "      <td>0.0</td>\n",
       "      <td>0.0</td>\n",
       "      <td>0.0</td>\n",
       "      <td>0.0</td>\n",
       "      <td>1.0</td>\n",
       "      <td>0.0</td>\n",
       "      <td>0.0</td>\n",
       "      <td>1.0</td>\n",
       "      <td>0.0</td>\n",
       "      <td>0.0</td>\n",
       "    </tr>\n",
       "    <tr>\n",
       "      <th>TCGA-3N-A9WC-06</th>\n",
       "      <td>0.0</td>\n",
       "      <td>1.0</td>\n",
       "      <td>0.0</td>\n",
       "      <td>1.0</td>\n",
       "      <td>0.0</td>\n",
       "      <td>0.0</td>\n",
       "      <td>-1.0</td>\n",
       "      <td>0.0</td>\n",
       "      <td>-1.0</td>\n",
       "      <td>1.0</td>\n",
       "      <td>...</td>\n",
       "      <td>1.0</td>\n",
       "      <td>0.0</td>\n",
       "      <td>0.0</td>\n",
       "      <td>0.0</td>\n",
       "      <td>0.0</td>\n",
       "      <td>-1.0</td>\n",
       "      <td>-1.0</td>\n",
       "      <td>0.0</td>\n",
       "      <td>0.0</td>\n",
       "      <td>0.0</td>\n",
       "    </tr>\n",
       "    <tr>\n",
       "      <th>TCGA-3N-A9WD-06</th>\n",
       "      <td>1.0</td>\n",
       "      <td>1.0</td>\n",
       "      <td>0.0</td>\n",
       "      <td>1.0</td>\n",
       "      <td>0.0</td>\n",
       "      <td>1.0</td>\n",
       "      <td>0.0</td>\n",
       "      <td>0.0</td>\n",
       "      <td>1.0</td>\n",
       "      <td>0.0</td>\n",
       "      <td>...</td>\n",
       "      <td>0.0</td>\n",
       "      <td>0.0</td>\n",
       "      <td>0.0</td>\n",
       "      <td>0.0</td>\n",
       "      <td>0.0</td>\n",
       "      <td>0.0</td>\n",
       "      <td>-1.0</td>\n",
       "      <td>0.0</td>\n",
       "      <td>1.0</td>\n",
       "      <td>0.0</td>\n",
       "    </tr>\n",
       "    <tr>\n",
       "      <th>TCGA-BF-AAP0-06</th>\n",
       "      <td>1.0</td>\n",
       "      <td>1.0</td>\n",
       "      <td>-1.0</td>\n",
       "      <td>1.0</td>\n",
       "      <td>0.0</td>\n",
       "      <td>0.0</td>\n",
       "      <td>0.0</td>\n",
       "      <td>1.0</td>\n",
       "      <td>0.0</td>\n",
       "      <td>0.0</td>\n",
       "      <td>...</td>\n",
       "      <td>0.0</td>\n",
       "      <td>-1.0</td>\n",
       "      <td>-1.0</td>\n",
       "      <td>0.0</td>\n",
       "      <td>0.0</td>\n",
       "      <td>0.0</td>\n",
       "      <td>-1.0</td>\n",
       "      <td>0.0</td>\n",
       "      <td>-1.0</td>\n",
       "      <td>1.0</td>\n",
       "    </tr>\n",
       "    <tr>\n",
       "      <th>TCGA-D3-A1Q1-06</th>\n",
       "      <td>1.0</td>\n",
       "      <td>-1.0</td>\n",
       "      <td>-1.0</td>\n",
       "      <td>-1.0</td>\n",
       "      <td>0.0</td>\n",
       "      <td>1.0</td>\n",
       "      <td>1.0</td>\n",
       "      <td>1.0</td>\n",
       "      <td>-1.0</td>\n",
       "      <td>-1.0</td>\n",
       "      <td>...</td>\n",
       "      <td>-1.0</td>\n",
       "      <td>-1.0</td>\n",
       "      <td>-1.0</td>\n",
       "      <td>0.0</td>\n",
       "      <td>-1.0</td>\n",
       "      <td>1.0</td>\n",
       "      <td>-1.0</td>\n",
       "      <td>0.0</td>\n",
       "      <td>0.0</td>\n",
       "      <td>1.0</td>\n",
       "    </tr>\n",
       "  </tbody>\n",
       "</table>\n",
       "<p>5 rows × 18578 columns</p>\n",
       "</div>"
      ],
      "text/plain": [
       "Hugo_Symbol      SLA2  TAF12  BCL2  FBXO2  AMOTL2  NBPF9  FAM110C  AKR1B10  \\\n",
       "TCGA-3N-A9WB-06   1.0    0.0   0.0    0.0     0.0    1.0      0.0      0.0   \n",
       "TCGA-3N-A9WC-06   0.0    1.0   0.0    1.0     0.0    0.0     -1.0      0.0   \n",
       "TCGA-3N-A9WD-06   1.0    1.0   0.0    1.0     0.0    1.0      0.0      0.0   \n",
       "TCGA-BF-AAP0-06   1.0    1.0  -1.0    1.0     0.0    0.0      0.0      1.0   \n",
       "TCGA-D3-A1Q1-06   1.0   -1.0  -1.0   -1.0     0.0    1.0      1.0      1.0   \n",
       "\n",
       "Hugo_Symbol      SOX7  PATL1  ...  MS4A1  KC6  KANK1  PLLP  FGF13  NBAS  \\\n",
       "TCGA-3N-A9WB-06   1.0    0.0  ...    0.0  0.0    0.0   0.0    1.0   0.0   \n",
       "TCGA-3N-A9WC-06  -1.0    1.0  ...    1.0  0.0    0.0   0.0    0.0  -1.0   \n",
       "TCGA-3N-A9WD-06   1.0    0.0  ...    0.0  0.0    0.0   0.0    0.0   0.0   \n",
       "TCGA-BF-AAP0-06   0.0    0.0  ...    0.0 -1.0   -1.0   0.0    0.0   0.0   \n",
       "TCGA-D3-A1Q1-06  -1.0   -1.0  ...   -1.0 -1.0   -1.0   0.0   -1.0   1.0   \n",
       "\n",
       "Hugo_Symbol      TDRD1  FATE1  RIMS3  CD36  \n",
       "TCGA-3N-A9WB-06    0.0    1.0    0.0   0.0  \n",
       "TCGA-3N-A9WC-06   -1.0    0.0    0.0   0.0  \n",
       "TCGA-3N-A9WD-06   -1.0    0.0    1.0   0.0  \n",
       "TCGA-BF-AAP0-06   -1.0    0.0   -1.0   1.0  \n",
       "TCGA-D3-A1Q1-06   -1.0    0.0    0.0   1.0  \n",
       "\n",
       "[5 rows x 18578 columns]"
      ]
     },
     "execution_count": 31,
     "metadata": {},
     "output_type": "execute_result"
    }
   ],
   "source": [
    "cna.head()"
   ]
  },
  {
   "cell_type": "markdown",
   "id": "1684f112-3648-44a7-ad34-366340bef6a8",
   "metadata": {
    "tags": []
   },
   "source": [
    "### Load Target"
   ]
  },
  {
   "cell_type": "code",
   "execution_count": 32,
   "id": "9dbfc79f-cfd5-4970-950d-792b4482764b",
   "metadata": {},
   "outputs": [],
   "source": [
    "purity_TCGA = pd.read_csv(datapath+'TCGA_mastercalls.abs_tables_JSedit.fixed.txt', delimiter='\\t').set_index('array')\n",
    "purity = pd.DataFrame(purity_TCGA.join(rna, how='inner')['purity'])"
   ]
  },
  {
   "cell_type": "code",
   "execution_count": 33,
   "id": "32bfe4f7-8e3c-40b1-8736-ac1ba84b450d",
   "metadata": {},
   "outputs": [
    {
     "data": {
      "text/html": [
       "<div>\n",
       "<style scoped>\n",
       "    .dataframe tbody tr th:only-of-type {\n",
       "        vertical-align: middle;\n",
       "    }\n",
       "\n",
       "    .dataframe tbody tr th {\n",
       "        vertical-align: top;\n",
       "    }\n",
       "\n",
       "    .dataframe thead th {\n",
       "        text-align: right;\n",
       "    }\n",
       "</style>\n",
       "<table border=\"1\" class=\"dataframe\">\n",
       "  <thead>\n",
       "    <tr style=\"text-align: right;\">\n",
       "      <th></th>\n",
       "      <th>purity</th>\n",
       "    </tr>\n",
       "  </thead>\n",
       "  <tbody>\n",
       "    <tr>\n",
       "      <th>TCGA-3N-A9WB-06</th>\n",
       "      <td>0.91</td>\n",
       "    </tr>\n",
       "    <tr>\n",
       "      <th>TCGA-3N-A9WC-06</th>\n",
       "      <td>0.58</td>\n",
       "    </tr>\n",
       "    <tr>\n",
       "      <th>TCGA-3N-A9WD-06</th>\n",
       "      <td>0.45</td>\n",
       "    </tr>\n",
       "    <tr>\n",
       "      <th>TCGA-BF-A1PU-01</th>\n",
       "      <td>0.92</td>\n",
       "    </tr>\n",
       "    <tr>\n",
       "      <th>TCGA-BF-A1PV-01</th>\n",
       "      <td>0.92</td>\n",
       "    </tr>\n",
       "  </tbody>\n",
       "</table>\n",
       "</div>"
      ],
      "text/plain": [
       "                 purity\n",
       "TCGA-3N-A9WB-06    0.91\n",
       "TCGA-3N-A9WC-06    0.58\n",
       "TCGA-3N-A9WD-06    0.45\n",
       "TCGA-BF-A1PU-01    0.92\n",
       "TCGA-BF-A1PV-01    0.92"
      ]
     },
     "execution_count": 33,
     "metadata": {},
     "output_type": "execute_result"
    }
   ],
   "source": [
    "purity.head()"
   ]
  },
  {
   "cell_type": "markdown",
   "id": "3ca670b3",
   "metadata": {},
   "source": [
    "## Run pnet"
   ]
  },
  {
   "cell_type": "code",
   "execution_count": 34,
   "id": "06e4c8e9",
   "metadata": {},
   "outputs": [],
   "source": [
    "import Pnet"
   ]
  },
  {
   "cell_type": "code",
   "execution_count": 35,
   "id": "ce70a3fe-fdc9-41a1-ac42-9edf084e7fb2",
   "metadata": {},
   "outputs": [
    {
     "data": {
      "text/plain": [
       "['ANK1', 'CD274', 'EIF4A2', 'GATA2', 'MUC16']"
      ]
     },
     "execution_count": 35,
     "metadata": {},
     "output_type": "execute_result"
    }
   ],
   "source": [
    "canc_genes = list(pd.read_csv('../../pnet_database/genes/cancer_genes_demo.txt'))\n",
    "canc_genes[:5]"
   ]
  },
  {
   "cell_type": "code",
   "execution_count": 37,
   "id": "ac97485e",
   "metadata": {},
   "outputs": [
    {
     "name": "stdout",
     "output_type": "stream",
     "text": [
      "Task defined: REG \n",
      " if this is not the intended task please specify task\n",
      "Given 2 Input modalities\n",
      "Found 357 overlapping indicies\n",
      "Initializing Train Dataset\n",
      "Found 626 overlapping genes\n",
      "generated input DataFrame of size (286, 1252)\n",
      "Initializing Test Dataset\n",
      "Found 626 overlapping genes\n",
      "generated input DataFrame of size (71, 1252)\n",
      "Found 626 overlapping genes\n",
      "Loss function used: MSELoss()\n",
      "We are sending to cuda\n",
      "Hit early stopping criteria\n"
     ]
    }
   ],
   "source": [
    "model, train_scores, test_scores, train_dataset, test_dataset = Pnet.run(genetic_data,\n",
    "                                                                         purity,\n",
    "                                                                         gene_set=canc_genes)"
   ]
  },
  {
   "cell_type": "code",
   "execution_count": 38,
   "id": "1f500058",
   "metadata": {},
   "outputs": [],
   "source": [
    "x_train = train_dataset.x\n",
    "additional_train = train_dataset.additional\n",
    "y_train = train_dataset.y\n",
    "x_test = test_dataset.x\n",
    "additional_test = test_dataset.additional\n",
    "y_test = test_dataset.y"
   ]
  },
  {
   "cell_type": "code",
   "execution_count": 39,
   "id": "edb73f26",
   "metadata": {},
   "outputs": [
    {
     "data": {
      "image/png": "[encoded data removed]",
      "text/plain": [
       "<Figure size 432x288 with 1 Axes>"
      ]
     },
     "metadata": {
      "needs_background": "light"
     },
     "output_type": "display_data"
    }
   ],
   "source": [
    "model.to('cpu')\n",
    "\n",
    "y_pred = model.predict(x_test, additional_test).detach()\n",
    "\n",
    "df = pd.DataFrame(index=test_dataset.input_df.index)\n",
    "df['y_test'] = y_test\n",
    "df['y_pred'] = y_pred\n",
    "\n",
    "sns.regplot(data=df, x='y_test', y='y_pred', color='#41B6E6')\n",
    "correlation_coefficient = round(df['y_test'].corr(df['y_pred']), 2)\n",
    "plt.text(0.95, 0.05, f'Correlation: {correlation_coefficient}', ha='right', va='center', transform=plt.gca().transAxes)\n",
    "plt.plot(y_test, y_test, color='#FFA300', linestyle='--', label='Diagonal Line')\n",
    "sns.despine()\n",
    "plt.show()"
   ]
  },
  {
   "cell_type": "code",
   "execution_count": 41,
   "id": "94d4ca4b-3bc5-4fde-a44f-f38d4e254260",
   "metadata": {},
   "outputs": [],
   "source": [
    "gene_feature_importances, additional_feature_importances, gene_importances, layer_importance_scores = model.interpret(test_dataset)"
   ]
  },
  {
   "cell_type": "code",
   "execution_count": 43,
   "id": "0038d213-09ad-4ffa-a7e6-d1fc01996561",
   "metadata": {},
   "outputs": [
    {
     "data": {
      "text/plain": [
       "CDKN2A    0.012656\n",
       "NRG1      0.006332\n",
       "CBL       0.004009\n",
       "NTRK3     0.003843\n",
       "PIM1      0.003529\n",
       "KCNJ5     0.003264\n",
       "NTRK1     0.003238\n",
       "RANBP2    0.003146\n",
       "GPC5      0.003139\n",
       "HMGA1     0.002676\n",
       "dtype: float32"
      ]
     },
     "execution_count": 43,
     "metadata": {},
     "output_type": "execute_result"
    }
   ],
   "source": [
    "gene_importances.mean().sort_values(ascending=False).nlargest(10)"
   ]
  },
  {
   "cell_type": "markdown",
   "id": "881ede55",
   "metadata": {},
   "source": [
    "### External Validation"
   ]
  },
  {
   "cell_type": "markdown",
   "id": "b78896b1-ef8d-4be5-a632-79e735091034",
   "metadata": {},
   "source": [
    "#### Data Loading"
   ]
  },
  {
   "cell_type": "code",
   "execution_count": 44,
   "id": "c0f3663e-8794-4e45-aa33-1aa93fbe4919",
   "metadata": {},
   "outputs": [
    {
     "name": "stdout",
     "output_type": "stream",
     "text": [
      "Found 121 overlapping indicies\n",
      "Found 626 overlapping genes\n",
      "generated input DataFrame of size (121, 1252)\n"
     ]
    }
   ],
   "source": [
    "rna_ext_val = pd.read_csv('/mnt/disks/pancan/data/mel_dfci_2019/data_RNA_Seq_expression_tpm_all_sample_Zscores.txt',\n",
    "                          delimiter='\\t').set_index('Hugo_Symbol').T.drop('Entrez_Gene_Id').dropna(axis=1)\n",
    "cna_ext_val = pd.read_csv('/mnt/disks/pancan/data/mel_dfci_2019/data_CNA.txt',\n",
    "                          delimiter='\\t').set_index('Hugo_Symbol').T.dropna(axis=1)\n",
    "\n",
    "ext_val = pd.read_csv('/mnt/disks/pancan/data/mel_dfci_2019/data_clinical_sample.txt',\n",
    "                             delimiter='\\t').set_index('Sample Identifier').iloc[4:]\n",
    "\n",
    "ext_val_target = ext_val['Purity'].astype('float')\n",
    "\n",
    "inds = pnet_loader.get_indicies(genetic_data = {'rna': rna_ext_val, 'cna': cna_ext_val},\n",
    "                                target=ext_val_target)\n",
    "\n",
    "ext_val_dataset = pnet_loader.PnetDataset(genetic_data = {'rna': rna_ext_val,\n",
    "                                                          'cna': cna_ext_val},\n",
    "                                          target=ext_val_target, indicies=inds, gene_set=canc_genes)\n",
    "\n",
    "x_val = ext_val_dataset.x\n",
    "additional_val = ext_val_dataset.additional\n",
    "y_val = ext_val_dataset.y"
   ]
  },
  {
   "cell_type": "markdown",
   "id": "d240c212-27be-4dbc-8358-30102c6ad9f4",
   "metadata": {},
   "source": [
    "#### Predict Validation Samples"
   ]
  },
  {
   "cell_type": "code",
   "execution_count": 45,
   "id": "de8df683-f8a6-4ca5-81e2-d89aefb6db09",
   "metadata": {
    "tags": []
   },
   "outputs": [],
   "source": [
    "y_pred = model.predict(x_val, additional_val).detach()"
   ]
  },
  {
   "cell_type": "markdown",
   "id": "e68a26cb-8dd4-4328-8e2a-4d2183557241",
   "metadata": {},
   "source": [
    "#### Plot Validation Samples"
   ]
  },
  {
   "cell_type": "code",
   "execution_count": 46,
   "id": "576a017a-4757-4b91-a291-b3e1bc0e5336",
   "metadata": {},
   "outputs": [
    {
     "data": {
      "image/png": "[encoded data removed]",
      "text/plain": [
       "<Figure size 432x288 with 1 Axes>"
      ]
     },
     "metadata": {
      "needs_background": "light"
     },
     "output_type": "display_data"
    }
   ],
   "source": [
    "df = pd.DataFrame(index=ext_val_dataset.input_df.index)\n",
    "df['y_test'] = y_val\n",
    "df['y_pred'] = y_pred\n",
    "\n",
    "sns.regplot(data=df, x='y_test', y='y_pred', color='#41B6E6')\n",
    "correlation_coefficient = round(df['y_test'].corr(df['y_pred']), 2)\n",
    "plt.text(0.95, 0.05, f'Correlation: {correlation_coefficient}', ha='right', va='center', transform=plt.gca().transAxes)\n",
    "plt.plot(y_test, y_test, color='#FFA300', linestyle='--', label='Diagonal Line')\n",
    "sns.despine()\n",
    "plt.show()"
   ]
  },
  {
   "cell_type": "code",
   "execution_count": null,
   "id": "b550434b",
   "metadata": {},
   "outputs": [],
   "source": []
  }
 ],
 "metadata": {
  "environment": {
   "kernel": "conda-root-py",
   "name": "pytorch-gpu.1-10.m90",
   "type": "gcloud",
   "uri": "gcr.io/deeplearning-platform-release/pytorch-gpu.1-10:m90"
  },
  "kernelspec": {
   "display_name": "Python [conda env:root] *",
   "language": "python",
   "name": "conda-root-py"
  },
  "language_info": {
   "codemirror_mode": {
    "name": "ipython",
    "version": 3
   },
   "file_extension": ".py",
   "mimetype": "text/x-python",
   "name": "python",
   "nbconvert_exporter": "python",
   "pygments_lexer": "ipython3",
   "version": "3.7.12"
  }
 },
 "nbformat": 4,
 "nbformat_minor": 5
}
