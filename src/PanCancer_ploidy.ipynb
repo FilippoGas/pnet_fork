{
 "cells": [
  {
   "cell_type": "code",
   "execution_count": 1,
   "id": "7556505a",
   "metadata": {},
   "outputs": [],
   "source": [
    "import pnet_loader\n",
    "import util\n",
    "import torch\n",
    "import seaborn as sns\n",
    "import pandas as pd\n",
    "import numpy as np\n",
    "import Pnet\n",
    "from sklearn import metrics\n",
    "import matplotlib.pyplot as plt\n",
    "from sklearn.metrics import roc_auc_score\n",
    "from sklearn.ensemble import RandomForestClassifier\n",
    "from sklearn.mixture import GaussianMixture\n",
    "from sklearn.decomposition import PCA\n",
    "import os\n",
    "\n",
    "%load_ext autoreload\n",
    "%autoreload 2"
   ]
  },
  {
   "cell_type": "code",
   "execution_count": 23,
   "id": "a7915a79-725e-495c-a9d1-70acd5dc1a51",
   "metadata": {},
   "outputs": [],
   "source": [
    "a = torch.ones(10, 5, 3)"
   ]
  },
  {
   "cell_type": "code",
   "execution_count": 35,
   "id": "371acfd9-054a-4b02-b7ae-ee8a9764094e",
   "metadata": {},
   "outputs": [
    {
     "data": {
      "text/plain": [
       "Parameter containing:\n",
       "tensor([[[1., 1., 1.],\n",
       "         [1., 1., 1.],\n",
       "         [1., 1., 1.],\n",
       "         [1., 1., 1.],\n",
       "         [1., 1., 1.]],\n",
       "\n",
       "        [[1., 1., 1.],\n",
       "         [1., 1., 1.],\n",
       "         [1., 1., 1.],\n",
       "         [1., 1., 1.],\n",
       "         [1., 1., 1.]],\n",
       "\n",
       "        [[1., 1., 1.],\n",
       "         [1., 1., 1.],\n",
       "         [1., 1., 1.],\n",
       "         [1., 1., 1.],\n",
       "         [1., 1., 1.]],\n",
       "\n",
       "        [[1., 1., 1.],\n",
       "         [1., 1., 1.],\n",
       "         [1., 1., 1.],\n",
       "         [1., 1., 1.],\n",
       "         [1., 1., 1.]],\n",
       "\n",
       "        [[1., 1., 1.],\n",
       "         [1., 1., 1.],\n",
       "         [1., 1., 1.],\n",
       "         [1., 1., 1.],\n",
       "         [1., 1., 1.]]], requires_grad=True)"
      ]
     },
     "execution_count": 35,
     "metadata": {},
     "output_type": "execute_result"
    }
   ],
   "source": [
    "cnn1 = torch.nn.Conv1d(5, 5, 3, bias=False)\n",
    "torch.nn.init.ones_(cnn1.weight)"
   ]
  },
  {
   "cell_type": "code",
   "execution_count": 36,
   "id": "d1ae4ccc-011a-4d6b-b35b-ea10a4f04459",
   "metadata": {},
   "outputs": [
    {
     "data": {
      "text/plain": [
       "tensor([[[15.],\n",
       "         [15.],\n",
       "         [15.],\n",
       "         [15.],\n",
       "         [15.]],\n",
       "\n",
       "        [[15.],\n",
       "         [15.],\n",
       "         [15.],\n",
       "         [15.],\n",
       "         [15.]],\n",
       "\n",
       "        [[15.],\n",
       "         [15.],\n",
       "         [15.],\n",
       "         [15.],\n",
       "         [15.]],\n",
       "\n",
       "        [[15.],\n",
       "         [15.],\n",
       "         [15.],\n",
       "         [15.],\n",
       "         [15.]],\n",
       "\n",
       "        [[15.],\n",
       "         [15.],\n",
       "         [15.],\n",
       "         [15.],\n",
       "         [15.]],\n",
       "\n",
       "        [[15.],\n",
       "         [15.],\n",
       "         [15.],\n",
       "         [15.],\n",
       "         [15.]],\n",
       "\n",
       "        [[15.],\n",
       "         [15.],\n",
       "         [15.],\n",
       "         [15.],\n",
       "         [15.]],\n",
       "\n",
       "        [[15.],\n",
       "         [15.],\n",
       "         [15.],\n",
       "         [15.],\n",
       "         [15.]],\n",
       "\n",
       "        [[15.],\n",
       "         [15.],\n",
       "         [15.],\n",
       "         [15.],\n",
       "         [15.]],\n",
       "\n",
       "        [[15.],\n",
       "         [15.],\n",
       "         [15.],\n",
       "         [15.],\n",
       "         [15.]]], grad_fn=<ConvolutionBackward0>)"
      ]
     },
     "execution_count": 36,
     "metadata": {},
     "output_type": "execute_result"
    }
   ],
   "source": [
    "cnn1(a)"
   ]
  },
  {
   "cell_type": "code",
   "execution_count": null,
   "id": "121f8001-094f-45ee-a74e-f429b78383a0",
   "metadata": {},
   "outputs": [],
   "source": []
  },
  {
   "cell_type": "code",
   "execution_count": 4,
   "id": "3f905e73",
   "metadata": {},
   "outputs": [],
   "source": [
    "directories = ['../data/' + x for x in os.listdir('../data/') if 'tcga_pan_can_atlas' in x]"
   ]
  },
  {
   "cell_type": "code",
   "execution_count": 5,
   "id": "3436fc3f",
   "metadata": {},
   "outputs": [],
   "source": [
    "def load_single_dataset(directory_path):\n",
    "    rna_exp = pd.read_csv(directory_path + '/data_mrna_seq_v2_rsem.txt',\n",
    "                           sep='\\t').dropna().set_index('Hugo_Symbol').drop(['Entrez_Gene_Id'], axis=1).T\n",
    "    rna_exp = rna_exp.loc[:,~rna_exp.columns.duplicated()].astype(float).copy()\n",
    "    cna = pd.read_csv(directory_path + '/data_cna.txt',\n",
    "                      sep='\\t').dropna().set_index('Hugo_Symbol').drop(['Entrez_Gene_Id'], axis=1).T\n",
    "    cna.drop('Cytoband', errors='ignore', inplace=True)\n",
    "    cna = cna.loc[:,~cna.columns.duplicated()].astype(float).copy()\n",
    "    \n",
    "    genes = list(set(rna_exp.columns).intersection(cna.columns))\n",
    "    indices = list(set(rna_exp.index).intersection(cna.index))\n",
    "    tumor_type = pd.DataFrame(len(indices)*[directory_path.split('/')[-1].split('_')[0]],\n",
    "                              index = indices, columns=['tumor'])\n",
    "    return rna_exp[genes], cna[genes], tumor_type"
   ]
  },
  {
   "cell_type": "code",
   "execution_count": 6,
   "id": "01f00eed",
   "metadata": {},
   "outputs": [],
   "source": [
    "rna, cna, tumor = pd.DataFrame(), pd.DataFrame(), pd.DataFrame()\n",
    "for path in directories:\n",
    "    rna_, cna_, tumor_ = load_single_dataset(path)\n",
    "    rna = pd.concat([rna_, rna])\n",
    "    cna = pd.concat([cna_, cna])\n",
    "    tumor = pd.concat([tumor_, tumor])\n",
    "    \n",
    "rna.dropna(axis=1, inplace=True)\n",
    "cna.dropna(axis=1, inplace=True)\n",
    "rna = (rna-rna.mean())/rna.std()"
   ]
  },
  {
   "cell_type": "markdown",
   "id": "0f67d5e4",
   "metadata": {},
   "source": [
    "### External validation dataset"
   ]
  },
  {
   "cell_type": "code",
   "execution_count": 7,
   "id": "09905926",
   "metadata": {},
   "outputs": [],
   "source": [
    "rna_ext_val = pd.read_csv('../data/mel_dfci_2019/data_RNA_Seq_expression_tpm_all_sample_Zscores.txt',\n",
    "                          delimiter='\\t').set_index('Hugo_Symbol').T.drop('Entrez_Gene_Id').dropna(axis=1)\n",
    "cna_ext_val = pd.read_csv('../data/mel_dfci_2019/data_CNA.txt',\n",
    "                          delimiter='\\t').set_index('Hugo_Symbol').T.dropna(axis=1)\n",
    "genes = list(set.intersection(set(rna.columns), set(cna.columns), set(rna_ext_val.columns), set(cna_ext_val.columns)))\n",
    "rna = rna[genes].copy()\n",
    "cna = cna[genes].copy()\n",
    "rna_ext_val = rna_ext_val[genes].copy()\n",
    "cna_ext_val = cna_ext_val[genes].copy()"
   ]
  },
  {
   "cell_type": "code",
   "execution_count": 8,
   "id": "8d2707b1",
   "metadata": {},
   "outputs": [],
   "source": [
    "genetic_data = {'rna': rna, 'cna': cna}"
   ]
  },
  {
   "cell_type": "code",
   "execution_count": 9,
   "id": "af32a747",
   "metadata": {},
   "outputs": [],
   "source": [
    "absolute_TCGA = pd.read_csv('../data/m1000/TCGA_mastercalls.abs_tables_JSedit.fixed.txt',\n",
    "                            delimiter='\\t', index_col='array')\n",
    "absolute_ploidy = absolute_TCGA[['ploidy']].join(rna, how='inner')['ploidy']\n",
    "absolute_ploidy.dropna(inplace=True)"
   ]
  },
  {
   "cell_type": "code",
   "execution_count": 10,
   "id": "e8782086",
   "metadata": {},
   "outputs": [],
   "source": [
    "gm = GaussianMixture(n_components=2, random_state=0).fit(absolute_ploidy.values.reshape(-1, 1))\n",
    "y = gm.predict_proba(np.linspace(0,absolute_ploidy.max(),1000).reshape(-1,1))\n",
    "ma = np.linspace(0,absolute_ploidy.max(),1000)[y[:,1] < 0.5].max()\n",
    "absolute_ploidy_y = pd.DataFrame(index=absolute_ploidy.index, columns=['dichtomized_ploidy'],\n",
    "                               data=[int(p > ma) \n",
    "                                     for p in absolute_ploidy.values])"
   ]
  },
  {
   "cell_type": "code",
   "execution_count": 11,
   "id": "c32423e9",
   "metadata": {},
   "outputs": [
    {
     "data": {
      "image/png": "[encoded data removed]",
      "text/plain": [
       "<Figure size 600x400 with 1 Axes>"
      ]
     },
     "metadata": {},
     "output_type": "display_data"
    }
   ],
   "source": [
    "plt.rcParams[\"figure.figsize\"] = (6,4)\n",
    "plt.hist(absolute_ploidy, bins=80)\n",
    "plt.vlines([ma], color='r', ymin=0, ymax=2500)\n",
    "plt.savefig('../figures/ploidy_cutoff_selection.pdf')\n",
    "plt.show()"
   ]
  },
  {
   "cell_type": "code",
   "execution_count": 12,
   "id": "b366fc42",
   "metadata": {},
   "outputs": [
    {
     "data": {
      "text/plain": [
       "dichtomized_ploidy    0.388473\n",
       "dtype: float64"
      ]
     },
     "execution_count": 12,
     "metadata": {},
     "output_type": "execute_result"
    }
   ],
   "source": [
    "absolute_ploidy_y.sum()/absolute_ploidy_y.count()"
   ]
  },
  {
   "cell_type": "code",
   "execution_count": 13,
   "id": "f55bba8f",
   "metadata": {},
   "outputs": [],
   "source": [
    "tumor_order = list(tumor.join(absolute_ploidy).groupby('tumor').median().sort_values('ploidy', ascending=False).index)"
   ]
  },
  {
   "cell_type": "code",
   "execution_count": 14,
   "id": "b0d93e16",
   "metadata": {},
   "outputs": [],
   "source": [
    "coloring = (tumor.join(absolute_ploidy).groupby('tumor').median().sort_values('ploidy', ascending=False) > 2.5)"
   ]
  },
  {
   "cell_type": "code",
   "execution_count": 15,
   "id": "b1006ce6",
   "metadata": {},
   "outputs": [],
   "source": [
    "coloring['color'] = coloring['ploidy'].apply(lambda x: 'aquamarine' if x else 'whitesmoke')"
   ]
  },
  {
   "cell_type": "code",
   "execution_count": 16,
   "id": "ca09b649",
   "metadata": {},
   "outputs": [
    {
     "name": "stderr",
     "output_type": "stream",
     "text": [
      "/var/folders/j8/df8v0y1j16ng5mlcnmr38r0r0000gp/T/ipykernel_7303/2850431863.py:4: FutureWarning: The default value of numeric_only in DataFrameGroupBy.median is deprecated. In a future version, numeric_only will default to False. Either specify numeric_only or select only columns which should be valid for the function.\n",
      "  tumor_order = list(df.groupby('tumor').median().sort_values('ploidy', ascending=False).index)\n"
     ]
    },
    {
     "data": {
      "image/png": "[encoded data removed]",
      "text/plain": [
       "<Figure size 800x1200 with 1 Axes>"
      ]
     },
     "metadata": {},
     "output_type": "display_data"
    }
   ],
   "source": [
    "df = tumor.join(absolute_ploidy)\n",
    "df['tumor'] = [x.upper() for x in list(df['tumor'].values)]\n",
    "df['coloring'] = coloring['ploidy']\n",
    "tumor_order = list(df.groupby('tumor').median().sort_values('ploidy', ascending=False).index)\n",
    "plt.rcParams[\"figure.figsize\"] = (8,12)\n",
    "sns.boxplot(data=df, x='ploidy', y='tumor', order=tumor_order, color='w', palette=coloring['color'], showfliers=False)\n",
    "plt.axvline(2, color='orangered', linestyle='--', linewidth=2)\n",
    "plt.tick_params(axis='y', which='both',  left=False, top=False, labelleft=True)\n",
    "sns.despine()\n",
    "plt.savefig('../figures/ploidy_by_tumortype.pdf')"
   ]
  },
  {
   "cell_type": "code",
   "execution_count": 17,
   "id": "46748e8c",
   "metadata": {},
   "outputs": [
    {
     "data": {
      "text/html": [
       "<div>\n",
       "<style scoped>\n",
       "    .dataframe tbody tr th:only-of-type {\n",
       "        vertical-align: middle;\n",
       "    }\n",
       "\n",
       "    .dataframe tbody tr th {\n",
       "        vertical-align: top;\n",
       "    }\n",
       "\n",
       "    .dataframe thead th {\n",
       "        text-align: right;\n",
       "    }\n",
       "</style>\n",
       "<table border=\"1\" class=\"dataframe\">\n",
       "  <thead>\n",
       "    <tr style=\"text-align: right;\">\n",
       "      <th></th>\n",
       "      <th>sample</th>\n",
       "      <th>patient_s</th>\n",
       "      <th>n_clonal</th>\n",
       "      <th>n_subclonal</th>\n",
       "      <th>total_nonsyn</th>\n",
       "      <th>heterogeneity</th>\n",
       "    </tr>\n",
       "  </thead>\n",
       "  <tbody>\n",
       "    <tr>\n",
       "      <th>0</th>\n",
       "      <td>TCGA-02-0003-01A-01D-1490-08</td>\n",
       "      <td>TCGA-02-0003-01A-01D-1490-08</td>\n",
       "      <td>33</td>\n",
       "      <td>13</td>\n",
       "      <td>46</td>\n",
       "      <td>0.282609</td>\n",
       "    </tr>\n",
       "    <tr>\n",
       "      <th>1</th>\n",
       "      <td>TCGA-02-0033-01A-01D-1490-08</td>\n",
       "      <td>TCGA-02-0033-01A-01D-1490-08</td>\n",
       "      <td>19</td>\n",
       "      <td>9</td>\n",
       "      <td>28</td>\n",
       "      <td>0.321429</td>\n",
       "    </tr>\n",
       "    <tr>\n",
       "      <th>2</th>\n",
       "      <td>TCGA-02-0047-01A-01D-1490-08</td>\n",
       "      <td>TCGA-02-0047-01A-01D-1490-08</td>\n",
       "      <td>28</td>\n",
       "      <td>36</td>\n",
       "      <td>64</td>\n",
       "      <td>0.562500</td>\n",
       "    </tr>\n",
       "    <tr>\n",
       "      <th>3</th>\n",
       "      <td>TCGA-02-0055-01A-01D-1490-08</td>\n",
       "      <td>TCGA-02-0055-01A-01D-1490-08</td>\n",
       "      <td>39</td>\n",
       "      <td>9</td>\n",
       "      <td>48</td>\n",
       "      <td>0.187500</td>\n",
       "    </tr>\n",
       "    <tr>\n",
       "      <th>4</th>\n",
       "      <td>TCGA-02-2466-01A-01W-0837-08</td>\n",
       "      <td>TCGA-02-2466-01A-01W-0837-08</td>\n",
       "      <td>31</td>\n",
       "      <td>72</td>\n",
       "      <td>103</td>\n",
       "      <td>0.699029</td>\n",
       "    </tr>\n",
       "    <tr>\n",
       "      <th>...</th>\n",
       "      <td>...</td>\n",
       "      <td>...</td>\n",
       "      <td>...</td>\n",
       "      <td>...</td>\n",
       "      <td>...</td>\n",
       "      <td>...</td>\n",
       "    </tr>\n",
       "    <tr>\n",
       "      <th>9430</th>\n",
       "      <td>TCGA-ZS-A9CF-02A-11D-A382-10</td>\n",
       "      <td>TCGA-ZS-A9CF-02A-11D-A382-10</td>\n",
       "      <td>97</td>\n",
       "      <td>25</td>\n",
       "      <td>122</td>\n",
       "      <td>0.204918</td>\n",
       "    </tr>\n",
       "    <tr>\n",
       "      <th>9431</th>\n",
       "      <td>TCGA-ZS-A9CG-01A-11D-A36X-10</td>\n",
       "      <td>TCGA-ZS-A9CG-01A-11D-A36X-10</td>\n",
       "      <td>56</td>\n",
       "      <td>20</td>\n",
       "      <td>76</td>\n",
       "      <td>0.263158</td>\n",
       "    </tr>\n",
       "    <tr>\n",
       "      <th>9432</th>\n",
       "      <td>TCGA-ZT-A8OM-01A-11D-A428-09</td>\n",
       "      <td>TCGA-ZT-A8OM-01A-11D-A428-09</td>\n",
       "      <td>3</td>\n",
       "      <td>22</td>\n",
       "      <td>25</td>\n",
       "      <td>0.880000</td>\n",
       "    </tr>\n",
       "    <tr>\n",
       "      <th>9433</th>\n",
       "      <td>TCGA-ZU-A8S4-01A-11D-A417-09</td>\n",
       "      <td>TCGA-ZU-A8S4-01A-11D-A417-09</td>\n",
       "      <td>24</td>\n",
       "      <td>23</td>\n",
       "      <td>47</td>\n",
       "      <td>0.489362</td>\n",
       "    </tr>\n",
       "    <tr>\n",
       "      <th>9434</th>\n",
       "      <td>TCGA-ZX-AA5X-01A-11D-A42O-09</td>\n",
       "      <td>TCGA-ZX-AA5X-01A-11D-A42O-09</td>\n",
       "      <td>40</td>\n",
       "      <td>23</td>\n",
       "      <td>63</td>\n",
       "      <td>0.365079</td>\n",
       "    </tr>\n",
       "  </tbody>\n",
       "</table>\n",
       "<p>9435 rows × 6 columns</p>\n",
       "</div>"
      ],
      "text/plain": [
       "                            sample                     patient_s  n_clonal  \\\n",
       "0     TCGA-02-0003-01A-01D-1490-08  TCGA-02-0003-01A-01D-1490-08        33   \n",
       "1     TCGA-02-0033-01A-01D-1490-08  TCGA-02-0033-01A-01D-1490-08        19   \n",
       "2     TCGA-02-0047-01A-01D-1490-08  TCGA-02-0047-01A-01D-1490-08        28   \n",
       "3     TCGA-02-0055-01A-01D-1490-08  TCGA-02-0055-01A-01D-1490-08        39   \n",
       "4     TCGA-02-2466-01A-01W-0837-08  TCGA-02-2466-01A-01W-0837-08        31   \n",
       "...                            ...                           ...       ...   \n",
       "9430  TCGA-ZS-A9CF-02A-11D-A382-10  TCGA-ZS-A9CF-02A-11D-A382-10        97   \n",
       "9431  TCGA-ZS-A9CG-01A-11D-A36X-10  TCGA-ZS-A9CG-01A-11D-A36X-10        56   \n",
       "9432  TCGA-ZT-A8OM-01A-11D-A428-09  TCGA-ZT-A8OM-01A-11D-A428-09         3   \n",
       "9433  TCGA-ZU-A8S4-01A-11D-A417-09  TCGA-ZU-A8S4-01A-11D-A417-09        24   \n",
       "9434  TCGA-ZX-AA5X-01A-11D-A42O-09  TCGA-ZX-AA5X-01A-11D-A42O-09        40   \n",
       "\n",
       "      n_subclonal  total_nonsyn  heterogeneity  \n",
       "0              13            46       0.282609  \n",
       "1               9            28       0.321429  \n",
       "2              36            64       0.562500  \n",
       "3               9            48       0.187500  \n",
       "4              72           103       0.699029  \n",
       "...           ...           ...            ...  \n",
       "9430           25           122       0.204918  \n",
       "9431           20            76       0.263158  \n",
       "9432           22            25       0.880000  \n",
       "9433           23            47       0.489362  \n",
       "9434           23            63       0.365079  \n",
       "\n",
       "[9435 rows x 6 columns]"
      ]
     },
     "execution_count": 17,
     "metadata": {},
     "output_type": "execute_result"
    }
   ],
   "source": [
    "heterogeneity = pd.read_csv('../data/heterogeneity.tsv', delimiter=' ')\n",
    "heterogeneity"
   ]
  },
  {
   "cell_type": "code",
   "execution_count": 108,
   "id": "6933c7fc",
   "metadata": {},
   "outputs": [
    {
     "data": {
      "text/plain": [
       "device(type='cpu')"
      ]
     },
     "execution_count": 108,
     "metadata": {},
     "output_type": "execute_result"
    }
   ],
   "source": [
    "model.device"
   ]
  },
  {
   "cell_type": "markdown",
   "id": "efbd2915",
   "metadata": {},
   "source": [
    "## Select genes"
   ]
  },
  {
   "cell_type": "code",
   "execution_count": 19,
   "id": "927ddd76",
   "metadata": {},
   "outputs": [
    {
     "data": {
      "text/html": [
       "<style>#sk-container-id-1 {color: black;background-color: white;}#sk-container-id-1 pre{padding: 0;}#sk-container-id-1 div.sk-toggleable {background-color: white;}#sk-container-id-1 label.sk-toggleable__label {cursor: pointer;display: block;width: 100%;margin-bottom: 0;padding: 0.3em;box-sizing: border-box;text-align: center;}#sk-container-id-1 label.sk-toggleable__label-arrow:before {content: \"▸\";float: left;margin-right: 0.25em;color: #696969;}#sk-container-id-1 label.sk-toggleable__label-arrow:hover:before {color: black;}#sk-container-id-1 div.sk-estimator:hover label.sk-toggleable__label-arrow:before {color: black;}#sk-container-id-1 div.sk-toggleable__content {max-height: 0;max-width: 0;overflow: hidden;text-align: left;background-color: #f0f8ff;}#sk-container-id-1 div.sk-toggleable__content pre {margin: 0.2em;color: black;border-radius: 0.25em;background-color: #f0f8ff;}#sk-container-id-1 input.sk-toggleable__control:checked~div.sk-toggleable__content {max-height: 200px;max-width: 100%;overflow: auto;}#sk-container-id-1 input.sk-toggleable__control:checked~label.sk-toggleable__label-arrow:before {content: \"▾\";}#sk-container-id-1 div.sk-estimator input.sk-toggleable__control:checked~label.sk-toggleable__label {background-color: #d4ebff;}#sk-container-id-1 div.sk-label input.sk-toggleable__control:checked~label.sk-toggleable__label {background-color: #d4ebff;}#sk-container-id-1 input.sk-hidden--visually {border: 0;clip: rect(1px 1px 1px 1px);clip: rect(1px, 1px, 1px, 1px);height: 1px;margin: -1px;overflow: hidden;padding: 0;position: absolute;width: 1px;}#sk-container-id-1 div.sk-estimator {font-family: monospace;background-color: #f0f8ff;border: 1px dotted black;border-radius: 0.25em;box-sizing: border-box;margin-bottom: 0.5em;}#sk-container-id-1 div.sk-estimator:hover {background-color: #d4ebff;}#sk-container-id-1 div.sk-parallel-item::after {content: \"\";width: 100%;border-bottom: 1px solid gray;flex-grow: 1;}#sk-container-id-1 div.sk-label:hover label.sk-toggleable__label {background-color: #d4ebff;}#sk-container-id-1 div.sk-serial::before {content: \"\";position: absolute;border-left: 1px solid gray;box-sizing: border-box;top: 0;bottom: 0;left: 50%;z-index: 0;}#sk-container-id-1 div.sk-serial {display: flex;flex-direction: column;align-items: center;background-color: white;padding-right: 0.2em;padding-left: 0.2em;position: relative;}#sk-container-id-1 div.sk-item {position: relative;z-index: 1;}#sk-container-id-1 div.sk-parallel {display: flex;align-items: stretch;justify-content: center;background-color: white;position: relative;}#sk-container-id-1 div.sk-item::before, #sk-container-id-1 div.sk-parallel-item::before {content: \"\";position: absolute;border-left: 1px solid gray;box-sizing: border-box;top: 0;bottom: 0;left: 50%;z-index: -1;}#sk-container-id-1 div.sk-parallel-item {display: flex;flex-direction: column;z-index: 1;position: relative;background-color: white;}#sk-container-id-1 div.sk-parallel-item:first-child::after {align-self: flex-end;width: 50%;}#sk-container-id-1 div.sk-parallel-item:last-child::after {align-self: flex-start;width: 50%;}#sk-container-id-1 div.sk-parallel-item:only-child::after {width: 0;}#sk-container-id-1 div.sk-dashed-wrapped {border: 1px dashed gray;margin: 0 0.4em 0.5em 0.4em;box-sizing: border-box;padding-bottom: 0.4em;background-color: white;}#sk-container-id-1 div.sk-label label {font-family: monospace;font-weight: bold;display: inline-block;line-height: 1.2em;}#sk-container-id-1 div.sk-label-container {text-align: center;}#sk-container-id-1 div.sk-container {/* jupyter's `normalize.less` sets `[hidden] { display: none; }` but bootstrap.min.css set `[hidden] { display: none !important; }` so we also need the `!important` here to be able to override the default hidden behavior on the sphinx rendered scikit-learn.org. See: https://github.com/scikit-learn/scikit-learn/issues/21755 */display: inline-block !important;position: relative;}#sk-container-id-1 div.sk-text-repr-fallback {display: none;}</style><div id=\"sk-container-id-1\" class=\"sk-top-container\"><div class=\"sk-text-repr-fallback\"><pre>PCA(n_components=50)</pre><b>In a Jupyter environment, please rerun this cell to show the HTML representation or trust the notebook. <br />On GitHub, the HTML representation is unable to render, please try loading this page with nbviewer.org.</b></div><div class=\"sk-container\" hidden><div class=\"sk-item\"><div class=\"sk-estimator sk-toggleable\"><input class=\"sk-toggleable__control sk-hidden--visually\" id=\"sk-estimator-id-1\" type=\"checkbox\" checked><label for=\"sk-estimator-id-1\" class=\"sk-toggleable__label sk-toggleable__label-arrow\">PCA</label><div class=\"sk-toggleable__content\"><pre>PCA(n_components=50)</pre></div></div></div></div></div>"
      ],
      "text/plain": [
       "PCA(n_components=50)"
      ]
     },
     "execution_count": 19,
     "metadata": {},
     "output_type": "execute_result"
    }
   ],
   "source": [
    "pca = PCA(n_components=50)\n",
    "pca.fit(rna.values)"
   ]
  },
  {
   "cell_type": "code",
   "execution_count": 20,
   "id": "908b0c7c",
   "metadata": {},
   "outputs": [],
   "source": [
    "pca_loadings = pd.DataFrame(pca.components_.T * np.sqrt(pca.explained_variance_), index=rna.columns)"
   ]
  },
  {
   "cell_type": "code",
   "execution_count": 21,
   "id": "1809464a",
   "metadata": {},
   "outputs": [],
   "source": [
    "genes_pca = abs(pca_loadings).sum(axis=1).nlargest(1000).index"
   ]
  },
  {
   "cell_type": "code",
   "execution_count": 22,
   "id": "ff470149",
   "metadata": {},
   "outputs": [
    {
     "data": {
      "image/png": "[encoded data removed]",
      "text/plain": [
       "<Figure size 600x600 with 1 Axes>"
      ]
     },
     "metadata": {},
     "output_type": "display_data"
    }
   ],
   "source": [
    "plt.rcParams[\"figure.figsize\"] = (6,6)\n",
    "plt.hist(abs(pca_loadings).sum(axis=1), bins=80)\n",
    "plt.show()"
   ]
  },
  {
   "cell_type": "markdown",
   "id": "3ca670b3",
   "metadata": {},
   "source": [
    "## Run pnet"
   ]
  },
  {
   "cell_type": "code",
   "execution_count": 26,
   "id": "06e4c8e9",
   "metadata": {},
   "outputs": [],
   "source": [
    "import Pnet"
   ]
  },
  {
   "cell_type": "code",
   "execution_count": 27,
   "id": "6d9eea74",
   "metadata": {},
   "outputs": [],
   "source": [
    "genetic_data = {'rna': rna[genes_pca]}"
   ]
  },
  {
   "cell_type": "code",
   "execution_count": 28,
   "id": "c9a0eb0c",
   "metadata": {},
   "outputs": [
    {
     "name": "stdout",
     "output_type": "stream",
     "text": [
      "Given 1 Input modalities\n",
      "Found 9092 overlapping indicies\n",
      "Initializing Train Dataset\n",
      "Found 1000 overlapping genes\n",
      "generated input DataFrame of size (6365, 1000)\n",
      "Initializing Test Dataset\n",
      "Found 1000 overlapping genes\n",
      "generated input DataFrame of size (2727, 1000)\n"
     ]
    }
   ],
   "source": [
    "train_dataset, test_dataset = pnet_loader.generate_train_test(genetic_data, absolute_ploidy_y)"
   ]
  },
  {
   "cell_type": "code",
   "execution_count": 29,
   "id": "9b1851f2",
   "metadata": {},
   "outputs": [],
   "source": [
    "import ReactomeNetwork"
   ]
  },
  {
   "cell_type": "code",
   "execution_count": 30,
   "id": "173a579f",
   "metadata": {},
   "outputs": [
    {
     "name": "stdout",
     "output_type": "stream",
     "text": [
      "Found 1000 overlapping genes\n"
     ]
    }
   ],
   "source": [
    "reactome_network = ReactomeNetwork.ReactomeNetwork(train_dataset.get_genes())"
   ]
  },
  {
   "cell_type": "code",
   "execution_count": 31,
   "id": "3ed9dc87",
   "metadata": {},
   "outputs": [],
   "source": [
    "model = Pnet.PNET_NN(reactome_network=reactome_network, nbr_gene_inputs=len(genetic_data), dropout=0.2,\n",
    "                      additional_dims=0, lr=1e-3, weight_decay=1)"
   ]
  },
  {
   "cell_type": "code",
   "execution_count": 32,
   "id": "8c728b91",
   "metadata": {},
   "outputs": [],
   "source": [
    "train_loader, val_loader = pnet_loader.to_dataloader(train_dataset, test_dataset, 64)"
   ]
  },
  {
   "cell_type": "code",
   "execution_count": 33,
   "id": "915df9a8",
   "metadata": {},
   "outputs": [],
   "source": [
    "import pytorch_lightning as pl"
   ]
  },
  {
   "cell_type": "code",
   "execution_count": 34,
   "id": "ac97485e",
   "metadata": {},
   "outputs": [
    {
     "name": "stdout",
     "output_type": "stream",
     "text": [
      "Given 1 Input modalities\n",
      "Found 9092 overlapping indicies\n",
      "Initializing Train Dataset\n",
      "Found 1000 overlapping genes\n",
      "generated input DataFrame of size (6365, 1000)\n",
      "Initializing Test Dataset\n",
      "Found 1000 overlapping genes\n",
      "generated input DataFrame of size (2727, 1000)\n",
      "Found 1000 overlapping genes\n",
      "Epoch 1 of 300\n",
      "Train scores: (0.6739432260733558, 0.6120974076983503)\n",
      "Test scores: (0.6616936205593622, 0.6087275394206088)\n",
      "Epoch 2 of 300\n",
      "Train scores: (0.6397367733628002, 0.48483896307934016)\n",
      "Test scores: (0.6232348149365717, 0.3876054272093876)\n",
      "Epoch 3 of 300\n",
      "Train scores: (0.6227718038626384, 0.3190887666928515)\n",
      "Test scores: (0.6096231539607004, 0.2687935460212688)\n",
      "Epoch 4 of 300\n",
      "Train scores: (0.6119116966685065, 0.2656716417910448)\n",
      "Test scores: (0.6033645220016183, 0.22368903557022368)\n",
      "Epoch 5 of 300\n",
      "Train scores: (0.6062922118876922, 0.2589159465828751)\n",
      "Test scores: (0.5981063192302507, 0.23945727906123945)\n",
      "Epoch 6 of 300\n",
      "Train scores: (0.6037252475591691, 0.25765907305577374)\n",
      "Test scores: (0.5934318092046835, 0.20315364869820315)\n",
      "Epoch 7 of 300\n",
      "Train scores: (0.5996197367126512, 0.2507462686567164)\n",
      "Test scores: (0.5897150532771783, 0.2291895856252292)\n",
      "Epoch 8 of 300\n",
      "Train scores: (0.5953913458669082, 0.2413197172034564)\n",
      "Test scores: (0.5840964868123776, 0.204987165383205)\n",
      "Epoch 9 of 300\n",
      "Train scores: (0.5963674428419906, 0.2317360565593087)\n",
      "Test scores: (0.5839217108686984, 0.18701870187018702)\n",
      "Epoch 10 of 300\n",
      "Train scores: (0.5931996275848604, 0.24116260801256872)\n",
      "Test scores: (0.5794308546658702, 0.21525485881921524)\n",
      "Epoch 11 of 300\n",
      "Train scores: (0.5957415905133627, 0.2579732914375491)\n",
      "Test scores: (0.5762553234261211, 0.22625595892922626)\n",
      "Epoch 12 of 300\n",
      "Train scores: (0.5931469011568967, 0.24666142969363708)\n",
      "Test scores: (0.5745402574976329, 0.21488815548221488)\n",
      "Epoch 13 of 300\n",
      "Train scores: (0.5905045105543834, 0.25483110761979577)\n",
      "Test scores: (0.5745801796264425, 0.20572057205720573)\n",
      "Epoch 14 of 300\n",
      "Train scores: (0.5890663500573817, 0.25970149253731345)\n",
      "Test scores: (0.5682336522582515, 0.23725705903923724)\n",
      "Epoch 15 of 300\n",
      "Train scores: (0.5874612369222708, 0.2702278083267871)\n",
      "Test scores: (0.563581179208619, 0.22368903557022368)\n",
      "Epoch 16 of 300\n",
      "Train scores: (0.5882987625469678, 0.2628436763550668)\n",
      "Test scores: (0.5641347075890043, 0.1716171617161716)\n",
      "Epoch 17 of 300\n",
      "Train scores: (0.5875279458788372, 0.26410054988216813)\n",
      "Test scores: (0.5661870860598837, 0.20572057205720573)\n",
      "Epoch 18 of 300\n",
      "Train scores: (0.5840957416855063, 0.2586017282010998)\n",
      "Test scores: (0.558830752930538, 0.20865419875320865)\n",
      "Epoch 19 of 300\n",
      "Train scores: (0.5859643443213236, 0.2711704634721131)\n",
      "Test scores: (0.5580615535689921, 0.20168683535020168)\n",
      "Epoch 20 of 300\n",
      "Train scores: (0.5859308457056182, 0.26818538884524745)\n",
      "Test scores: (0.5561817093650894, 0.24312431243124313)\n",
      "Epoch 21 of 300\n",
      "Train scores: (0.5852051642778251, 0.2746268656716418)\n",
      "Test scores: (0.5561376340143577, 0.18078474514118079)\n",
      "Epoch 22 of 300\n",
      "Train scores: (0.5842985954794093, 0.2663000785545954)\n",
      "Test scores: (0.5516323947102149, 0.20975430876420975)\n",
      "Epoch 23 of 300\n",
      "Train scores: (0.5797856327125807, 0.2790259230164965)\n",
      "Test scores: (0.5511055475283246, 0.2299229922992299)\n",
      "Epoch 24 of 300\n",
      "Train scores: (0.580624021064177, 0.2747839748625295)\n",
      "Test scores: (0.5479759374380024, 0.2585258525852585)\n",
      "Epoch 25 of 300\n",
      "Train scores: (0.579382971788333, 0.28515318146111546)\n",
      "Test scores: (0.5514435476114954, 0.2126879354602127)\n",
      "Epoch 26 of 300\n",
      "Train scores: (0.5769317489108605, 0.2736842105263158)\n",
      "Test scores: (0.5489304356842545, 0.2654932159882655)\n",
      "Epoch 27 of 300\n",
      "Train scores: (0.5779646041162915, 0.2664571877454831)\n",
      "Test scores: (0.5418377643021464, 0.2346901356802347)\n",
      "Epoch 28 of 300\n",
      "Train scores: (0.5788595782427551, 0.27808326787117044)\n",
      "Test scores: (0.5474176522266484, 0.248991565823249)\n",
      "exceeded delta\n",
      "Epoch 29 of 300\n",
      "Train scores: (0.5770597008392742, 0.28923802042419483)\n",
      "Test scores: (0.5420415316652718, 0.21525485881921524)\n",
      "Epoch 30 of 300\n",
      "Train scores: (0.5744164738801175, 0.2821681068342498)\n",
      "Test scores: (0.5452524974838385, 0.21195452878621196)\n",
      "Epoch 31 of 300\n",
      "Train scores: (0.5764473024354801, 0.27651217596229377)\n",
      "Test scores: (0.5395770924494386, 0.23285661899523286)\n",
      "Epoch 32 of 300\n",
      "Train scores: (0.5739167617234487, 0.29190887666928517)\n",
      "Test scores: (0.5431595631995654, 0.2258892555922259)\n",
      "Epoch 33 of 300\n",
      "Train scores: (0.5728530703991862, 0.28012568735271015)\n",
      "Test scores: (0.5444712469242937, 0.19655298863219656)\n",
      "Epoch 34 of 300\n",
      "Train scores: (0.5723689414156954, 0.2955223880597015)\n",
      "Test scores: (0.5417379701710202, 0.1972863953061973)\n",
      "Epoch 35 of 300\n",
      "Train scores: (0.5700728733335436, 0.2754124116260801)\n",
      "Test scores: (0.5414133152333992, 0.23542354235423543)\n",
      "Epoch 36 of 300\n",
      "Train scores: (0.5682715287849085, 0.2845247446975648)\n",
      "Test scores: (0.538465876171866, 0.21342134213421343)\n",
      "Epoch 37 of 300\n",
      "Train scores: (0.5706775080942302, 0.28625294579732913)\n",
      "Test scores: (0.5384825729912875, 0.23395672900623396)\n",
      "Epoch 38 of 300\n",
      "Train scores: (0.5729975797019413, 0.2670856245090338)\n",
      "Test scores: (0.5415908511322324, 0.1818848551521819)\n",
      "Epoch 39 of 300\n",
      "Train scores: (0.567799948896841, 0.2936370777690495)\n",
      "Test scores: (0.5385312596913174, 0.20645397873120647)\n",
      "Epoch 40 of 300\n",
      "Train scores: (0.5675693898526871, 0.2845247446975648)\n",
      "Test scores: (0.5395353608923514, 0.2222222222222222)\n",
      "Epoch 41 of 300\n",
      "Train scores: (0.5668674645794721, 0.2735271013354281)\n",
      "Test scores: (0.5391447384103034, 0.19875320865419877)\n",
      "Epoch 42 of 300\n",
      "Train scores: (0.5670042180303317, 0.2791830322073841)\n",
      "Test scores: (0.5368727168889985, 0.2002200220022002)\n",
      "Epoch 43 of 300\n",
      "Train scores: (0.5691785272986329, 0.27227022780832677)\n",
      "Test scores: (0.5357593757397183, 0.21892189218921893)\n",
      "Epoch 44 of 300\n",
      "Train scores: (0.5684363611645336, 0.28625294579732913)\n",
      "Test scores: (0.5390188044403602, 0.20865419875320865)\n",
      "Epoch 45 of 300\n",
      "Train scores: (0.5668233956863631, 0.28421052631578947)\n",
      "Test scores: (0.5359942859723797, 0.22442244224422442)\n",
      "Epoch 46 of 300\n",
      "Train scores: (0.5642621117507204, 0.2903377847604085)\n",
      "Test scores: (0.5353361268947533, 0.21782178217821782)\n",
      "Epoch 47 of 300\n",
      "Train scores: (0.5663209071612602, 0.2821681068342498)\n",
      "Test scores: (0.5330542021283834, 0.23505683901723506)\n",
      "Epoch 48 of 300\n",
      "Train scores: (0.5682892427047406, 0.2865671641791045)\n",
      "Test scores: (0.5319904870151119, 0.22442244224422442)\n",
      "Epoch 49 of 300\n",
      "Train scores: (0.5664378832197526, 0.2802827965435978)\n",
      "Test scores: (0.5401725503259147, 0.19178584525119177)\n",
      "exceeded delta\n",
      "Epoch 50 of 300\n",
      "Train scores: (0.567546925690824, 0.27761194029850744)\n",
      "Test scores: (0.5334655438581578, 0.22662266226622663)\n",
      "Epoch 51 of 300\n",
      "Train scores: (0.5655203487399237, 0.28876669285153184)\n",
      "Test scores: (0.5369486590204634, 0.20315364869820315)\n",
      "Epoch 52 of 300\n",
      "Train scores: (0.5635054637012946, 0.2793401413982718)\n",
      "Test scores: (0.533112036687881, 0.20168683535020168)\n",
      "Epoch 53 of 300\n",
      "Train scores: (0.5647089776146252, 0.2945797329143755)\n",
      "Test scores: (0.5358287411204703, 0.1884855152181885)\n",
      "Epoch 54 of 300\n",
      "Train scores: (0.5664389973630702, 0.2787117046347211)\n",
      "Test scores: (0.5373831127517863, 0.23542354235423543)\n",
      "exceeded delta\n",
      "Epoch 55 of 300\n",
      "Train scores: (0.5663644847585194, 0.28499607227022783)\n",
      "Test scores: (0.5329930459705516, 0.21892189218921893)\n",
      "Epoch 56 of 300\n",
      "Train scores: (0.5634055279224572, 0.2824823252160251)\n",
      "Test scores: (0.5351767048627674, 0.22332233223322331)\n",
      "Epoch 57 of 300\n",
      "Train scores: (0.5673769424210734, 0.29285153181461115)\n",
      "Test scores: (0.5329277624697487, 0.20132013201320131)\n",
      "Epoch 58 of 300\n",
      "Train scores: (0.5665793045055931, 0.2824823252160251)\n",
      "Test scores: (0.5375208810960849, 0.21782178217821782)\n",
      "exceeded delta\n",
      "Epoch 59 of 300\n",
      "Train scores: (0.5636433273998659, 0.2997643362136685)\n",
      "Test scores: (0.5363797732312293, 0.2192885955262193)\n",
      "Epoch 60 of 300\n",
      "Train scores: (0.5630735644560018, 0.2791830322073841)\n",
      "Test scores: (0.5360607710958271, 0.27356068940227357)\n",
      "Epoch 61 of 300\n",
      "Train scores: (0.5636329144450125, 0.2897093479968578)\n",
      "Test scores: (0.5341958982148012, 0.20132013201320131)\n",
      "Epoch 62 of 300\n",
      "Train scores: (0.5614232455101522, 0.2897093479968578)\n",
      "Test scores: (0.5337933581260959, 0.2027869453612028)\n",
      "Epoch 63 of 300\n",
      "Train scores: (0.5654870323187146, 0.27808326787117044)\n",
      "Test scores: (0.5345977046002737, 0.204987165383205)\n",
      "Epoch 64 of 300\n",
      "Train scores: (0.5677936729257348, 0.28153967007069913)\n",
      "Test scores: (0.5357250623489677, 0.24459112577924458)\n",
      "Epoch 65 of 300\n",
      "Train scores: (0.5666083992885401, 0.29379418695993714)\n",
      "Test scores: (0.537273065660041, 0.22112211221122113)\n",
      "Epoch 66 of 300\n",
      "Train scores: (0.5649396019850953, 0.2897093479968578)\n",
      "Test scores: (0.5399001883551189, 0.20168683535020168)\n",
      "exceeded delta\n",
      "Epoch 67 of 300\n",
      "Train scores: (0.5671748410784533, 0.29049489395129613)\n",
      "Test scores: (0.5405068189441218, 0.21598826549321598)\n",
      "exceeded delta\n",
      "Hit early stopping criteria\n"
     ]
    }
   ],
   "source": [
    "# trainer = pl.Trainer(precision=32, accelerator='cuda', max_epochs=100, log_every_n_steps=50, \n",
    "#                      enable_checkpointing=True)\n",
    "\n",
    "# trainer.fit(model=model, train_dataloaders=train_loader, val_dataloaders=val_loader,)\n",
    "\n",
    "model, train_scores, test_scores, train_dataset, test_dataset = Pnet.run(genetic_data,\n",
    "                                                                         absolute_ploidy_y,\n",
    "                                                                         verbose=True,\n",
    "                                                                         early_stopping=True)"
   ]
  },
  {
   "cell_type": "code",
   "execution_count": null,
   "id": "f27e29fe",
   "metadata": {},
   "outputs": [],
   "source": []
  },
  {
   "cell_type": "code",
   "execution_count": 35,
   "id": "1f500058",
   "metadata": {},
   "outputs": [],
   "source": [
    "x_train = train_dataset.x\n",
    "additional_train = train_dataset.additional\n",
    "y_train = train_dataset.y\n",
    "x_test = test_dataset.x\n",
    "additional_test = test_dataset.additional\n",
    "y_test = test_dataset.y"
   ]
  },
  {
   "cell_type": "code",
   "execution_count": 42,
   "id": "edb73f26",
   "metadata": {},
   "outputs": [
    {
     "data": {
      "image/png": "[encoded data removed]",
      "text/plain": [
       "<Figure size 600x600 with 1 Axes>"
      ]
     },
     "metadata": {},
     "output_type": "display_data"
    }
   ],
   "source": [
    "pred = model(x_test, additional_test)\n",
    "y_pred_proba = pred.detach().numpy().squeeze()\n",
    "fpr, tpr, _ = metrics.roc_curve(y_test,  y_pred_proba)\n",
    "test_auc = metrics.roc_auc_score(y_test, pred.detach().numpy().squeeze())\n",
    "#create ROC curve\n",
    "plt.plot(fpr,tpr, color=\"darkorange\", label=\"ROC curve (area = %0.2f)\" % test_auc)\n",
    "plt.ylabel('True Positive Rate')\n",
    "plt.xlabel('False Positive Rate')\n",
    "plt.plot([0, 1], [0, 1], color=\"navy\", linestyle=\"--\")\n",
    "plt.legend(loc=\"lower right\")\n",
    "plt.savefig('PNET_ploidy_ROC_curve_rna_only.pdf')\n",
    "plt.show()"
   ]
  },
  {
   "cell_type": "markdown",
   "id": "881ede55",
   "metadata": {},
   "source": [
    "### External Validation"
   ]
  },
  {
   "cell_type": "code",
   "execution_count": 37,
   "id": "71b94062",
   "metadata": {},
   "outputs": [],
   "source": [
    "ext_val_ploidy = pd.read_csv('../data/mel_dfci_2019/data_clinical_sample.txt',\n",
    "                             delimiter='\\t').set_index('Sample Identifier').iloc[4:]\n",
    "ext_val_target = (ext_val_ploidy['Ploidy'].astype('float') > ma).astype('int')"
   ]
  },
  {
   "cell_type": "code",
   "execution_count": 39,
   "id": "a1ac8c13",
   "metadata": {},
   "outputs": [
    {
     "name": "stdout",
     "output_type": "stream",
     "text": [
      "Found 121 overlapping indicies\n",
      "Found 1000 overlapping genes\n",
      "generated input DataFrame of size (121, 1000)\n"
     ]
    }
   ],
   "source": [
    "inds = pnet_loader.get_indicies(genetic_data = {'rna': rna_ext_val[genes_pca]},\n",
    "                                target=ext_val_target)\n",
    "ext_val_dataset = pnet_loader.PnetDataset(genetic_data = {'rna': rna_ext_val[genes_pca]},\n",
    "                                          target=ext_val_target, indicies=inds)"
   ]
  },
  {
   "cell_type": "code",
   "execution_count": 40,
   "id": "aa34dfce",
   "metadata": {},
   "outputs": [],
   "source": [
    "x_val = ext_val_dataset.x\n",
    "additional_val = ext_val_dataset.additional\n",
    "y_val = ext_val_dataset.y"
   ]
  },
  {
   "cell_type": "code",
   "execution_count": 43,
   "id": "b5fdbaac",
   "metadata": {},
   "outputs": [
    {
     "data": {
      "image/png": "[encoded data removed]",
      "text/plain": [
       "<Figure size 600x600 with 1 Axes>"
      ]
     },
     "metadata": {},
     "output_type": "display_data"
    }
   ],
   "source": [
    "pred = model(x_val, additional_val)\n",
    "y_pred_proba = pred.detach().numpy().squeeze()\n",
    "fpr, tpr, _ = metrics.roc_curve(y_val,  y_pred_proba)\n",
    "test_auc = metrics.roc_auc_score(y_val, pred.detach().numpy().squeeze())\n",
    "#create ROC curve\n",
    "plt.plot(fpr,tpr, color=\"darkorange\", label=\"ROC curve (area = %0.2f)\" % test_auc)\n",
    "plt.ylabel('True Positive Rate')\n",
    "plt.xlabel('False Positive Rate')\n",
    "plt.plot([0, 1], [0, 1], color=\"navy\", linestyle=\"--\")\n",
    "plt.legend(loc=\"lower right\")\n",
    "plt.savefig('PNET_ploidy_ROC_curve_ext_val_rna_only.pdf')\n",
    "plt.show()"
   ]
  },
  {
   "cell_type": "code",
   "execution_count": null,
   "id": "cf3ff6f7",
   "metadata": {},
   "outputs": [],
   "source": []
  },
  {
   "cell_type": "code",
   "execution_count": null,
   "id": "f88b98aa",
   "metadata": {},
   "outputs": [],
   "source": []
  },
  {
   "cell_type": "code",
   "execution_count": 44,
   "id": "61d84b49-7166-497a-a24f-d5d80c529b9f",
   "metadata": {},
   "outputs": [],
   "source": [
    "feature_importances, additional_importances = model.integrated_gradients(test_dataset)"
   ]
  },
  {
   "cell_type": "code",
   "execution_count": 51,
   "id": "6bb4ea29-8d37-4e9e-b0b1-a9a49ce8be38",
   "metadata": {},
   "outputs": [
    {
     "data": {
      "text/plain": [
       "POC5        120.689145\n",
       "TOE1        113.945805\n",
       "WDR76       103.948810\n",
       "CDK18       102.916479\n",
       "MR1         102.339670\n",
       "TAGLN       100.209361\n",
       "RPL4         91.813087\n",
       "FBXL5        89.261956\n",
       "C16orf71     88.853988\n",
       "REPIN1       85.818983\n",
       "TSPAN3       82.250876\n",
       "PWWP2A       75.207442\n",
       "BCL7A        72.407136\n",
       "PTMA         62.602751\n",
       "FBXO36       61.157005\n",
       "PTPRCAP      59.644888\n",
       "TSNAXIP1     57.923517\n",
       "HARS         56.175618\n",
       "HDAC3        55.739594\n",
       "FBXO42       51.759455\n",
       "dtype: float64"
      ]
     },
     "execution_count": 51,
     "metadata": {},
     "output_type": "execute_result"
    }
   ],
   "source": [
    "feature_importances.sum().nlargest(20)"
   ]
  },
  {
   "cell_type": "code",
   "execution_count": 52,
   "id": "35479f10",
   "metadata": {},
   "outputs": [],
   "source": [
    "layerwise_imps = model.layerwise_importance(test_dataset)"
   ]
  },
  {
   "cell_type": "code",
   "execution_count": 53,
   "id": "7f44f8f0",
   "metadata": {},
   "outputs": [
    {
     "name": "stdout",
     "output_type": "stream",
     "text": [
      "Gluconeogenesis                                                  20.799564\n",
      "Major pathway of rRNA processing in the nucleolus and cytosol     8.783642\n",
      "rRNA modification in the nucleus and cytosol                      2.481303\n",
      "Antigen processing: Ubiquitination & Proteasome degradation       0.164913\n",
      "Response of EIF2AK4 (GCN2) to amino acid deficiency               0.087017\n",
      "dtype: float32\n",
      "Heme signaling                                        37.348900\n",
      "Anchoring of the basal body to the plasma membrane    30.850626\n",
      "Intraflagellar transport                              27.835035\n",
      "Protein methylation                                   22.504049\n",
      "Glucose metabolism                                    20.789555\n",
      "dtype: float32\n",
      "Iron uptake and transport                  89.062851\n",
      "Cilium Assembly                            60.447666\n",
      "Post-translational protein modification    42.937241\n",
      "Membrane Trafficking                       32.335323\n",
      "Cellular responses to stress               31.438164\n",
      "dtype: float32\n",
      "residual                                  631.041870\n",
      "Transport of small molecules              127.286507\n",
      "Organelle biogenesis and maintenance       61.847336\n",
      "Vesicle-mediated transport                 32.821049\n",
      "Cellular responses to external stimuli     31.396420\n",
      "dtype: float32\n"
     ]
    }
   ],
   "source": [
    "for l in layerwise_imps:\n",
    "    print(l.nlargest(5))"
   ]
  },
  {
   "cell_type": "code",
   "execution_count": 106,
   "id": "439faa6f",
   "metadata": {},
   "outputs": [
    {
     "data": {
      "text/plain": [
       "<AxesSubplot: xlabel='POC5', ylabel='Density'>"
      ]
     },
     "execution_count": 106,
     "metadata": {},
     "output_type": "execute_result"
    },
    {
     "data": {
      "image/png": "[encoded data removed]",
      "text/plain": [
       "<Figure size 600x600 with 1 Axes>"
      ]
     },
     "metadata": {},
     "output_type": "display_data"
    }
   ],
   "source": [
    "sns.histplot(data=rna.join(absolute_ploidy_y), x='POC5', hue='dichtomized_ploidy',bins=80,\n",
    "             stat='density', kde=True, common_norm=False)"
   ]
  },
  {
   "cell_type": "code",
   "execution_count": null,
   "id": "0363b40b",
   "metadata": {},
   "outputs": [],
   "source": [
    "gene_order = high_ploidy_importances.median().sort_values(ascending=True).index\n",
    "gene_order"
   ]
  },
  {
   "cell_type": "code",
   "execution_count": null,
   "id": "78d5af80",
   "metadata": {},
   "outputs": [],
   "source": [
    "high_ploidy_importances = gene_importances[gene_importances.join(absolute_ploidy_y)['dichtomized_ploidy'] == 1]"
   ]
  },
  {
   "cell_type": "code",
   "execution_count": null,
   "id": "a8838f3b",
   "metadata": {},
   "outputs": [],
   "source": [
    "plt.rcParams[\"figure.figsize\"] = (6,8)\n",
    "high_ploidy_importances[list(gene_order[-20:])].plot(kind='box', vert=False, showfliers=False)\n",
    "plt.savefig('../figures/genes_ploidy.pdf')\n",
    "plt.show()"
   ]
  },
  {
   "cell_type": "code",
   "execution_count": null,
   "id": "36a4c038",
   "metadata": {},
   "outputs": [],
   "source": [
    "pathway_importances = model.layerwise_importance(test_dataset)"
   ]
  },
  {
   "cell_type": "code",
   "execution_count": null,
   "id": "99592bf0",
   "metadata": {},
   "outputs": [],
   "source": [
    "for l in pathway_importances:\n",
    "    print(l.nlargest(5))"
   ]
  },
  {
   "cell_type": "code",
   "execution_count": 69,
   "id": "a07c3d7a-977c-466b-a23b-8087369b518e",
   "metadata": {},
   "outputs": [
    {
     "data": {
      "image/png": "[encoded data removed]",
      "text/plain": [
       "<Figure size 1500x500 with 5 Axes>"
      ]
     },
     "metadata": {},
     "output_type": "display_data"
    }
   ],
   "source": [
    "some_genes = ['CBFA2T2', 'DNMT3B', 'MYL9', 'POLR2K', 'RPS27A']\n",
    "fig, axs = plt.subplots(1, 5, figsize=((15, 5)))\n",
    "for i, gene in enumerate(some_genes):\n",
    "    gene = gene.split('_')[0]\n",
    "    sns.boxplot(data=cna.join(absolute_ploidy), x=gene, y='ploidy', ax=axs[i], showfliers=False)\n",
    "plt.savefig('../figures/cna_vs_ploiy_top_genes.pdf')\n",
    "plt.show()"
   ]
  },
  {
   "cell_type": "code",
   "execution_count": 81,
   "id": "e8497ed2",
   "metadata": {},
   "outputs": [],
   "source": [
    "pred = torch.sigmoid(model(x_test, additional_test))"
   ]
  },
  {
   "cell_type": "code",
   "execution_count": 82,
   "id": "7dfc801f",
   "metadata": {},
   "outputs": [],
   "source": [
    "pred_ = pd.DataFrame(pred.detach().numpy(), index=test_dataset.input_df.index, columns=['prediction'])"
   ]
  },
  {
   "cell_type": "code",
   "execution_count": 83,
   "id": "855c2bb2",
   "metadata": {},
   "outputs": [
    {
     "data": {
      "text/html": [
       "<div>\n",
       "<style scoped>\n",
       "    .dataframe tbody tr th:only-of-type {\n",
       "        vertical-align: middle;\n",
       "    }\n",
       "\n",
       "    .dataframe tbody tr th {\n",
       "        vertical-align: top;\n",
       "    }\n",
       "\n",
       "    .dataframe thead th {\n",
       "        text-align: right;\n",
       "    }\n",
       "</style>\n",
       "<table border=\"1\" class=\"dataframe\">\n",
       "  <thead>\n",
       "    <tr style=\"text-align: right;\">\n",
       "      <th></th>\n",
       "      <th>prediction</th>\n",
       "      <th>tumor</th>\n",
       "    </tr>\n",
       "  </thead>\n",
       "  <tbody>\n",
       "    <tr>\n",
       "      <th>TCGA-KQ-A41Q-01</th>\n",
       "      <td>0.591419</td>\n",
       "      <td>blca</td>\n",
       "    </tr>\n",
       "    <tr>\n",
       "      <th>TCGA-WB-A80N-01</th>\n",
       "      <td>0.187834</td>\n",
       "      <td>pcpg</td>\n",
       "    </tr>\n",
       "    <tr>\n",
       "      <th>TCGA-FA-A4XK-01</th>\n",
       "      <td>0.377260</td>\n",
       "      <td>dlbc</td>\n",
       "    </tr>\n",
       "    <tr>\n",
       "      <th>TCGA-EJ-5526-01</th>\n",
       "      <td>0.227813</td>\n",
       "      <td>prad</td>\n",
       "    </tr>\n",
       "    <tr>\n",
       "      <th>TCGA-DK-A6B6-01</th>\n",
       "      <td>0.457677</td>\n",
       "      <td>blca</td>\n",
       "    </tr>\n",
       "    <tr>\n",
       "      <th>...</th>\n",
       "      <td>...</td>\n",
       "      <td>...</td>\n",
       "    </tr>\n",
       "    <tr>\n",
       "      <th>TCGA-FE-A3PB-01</th>\n",
       "      <td>0.174474</td>\n",
       "      <td>thca</td>\n",
       "    </tr>\n",
       "    <tr>\n",
       "      <th>TCGA-26-5133-01</th>\n",
       "      <td>0.470625</td>\n",
       "      <td>gbm</td>\n",
       "    </tr>\n",
       "    <tr>\n",
       "      <th>TCGA-KV-A6GE-01</th>\n",
       "      <td>0.421287</td>\n",
       "      <td>kirp</td>\n",
       "    </tr>\n",
       "    <tr>\n",
       "      <th>TCGA-D9-A1JW-06</th>\n",
       "      <td>0.453414</td>\n",
       "      <td>skcm</td>\n",
       "    </tr>\n",
       "    <tr>\n",
       "      <th>TCGA-FU-A23K-01</th>\n",
       "      <td>0.552861</td>\n",
       "      <td>cesc</td>\n",
       "    </tr>\n",
       "  </tbody>\n",
       "</table>\n",
       "<p>2727 rows × 2 columns</p>\n",
       "</div>"
      ],
      "text/plain": [
       "                 prediction tumor\n",
       "TCGA-KQ-A41Q-01    0.591419  blca\n",
       "TCGA-WB-A80N-01    0.187834  pcpg\n",
       "TCGA-FA-A4XK-01    0.377260  dlbc\n",
       "TCGA-EJ-5526-01    0.227813  prad\n",
       "TCGA-DK-A6B6-01    0.457677  blca\n",
       "...                     ...   ...\n",
       "TCGA-FE-A3PB-01    0.174474  thca\n",
       "TCGA-26-5133-01    0.470625   gbm\n",
       "TCGA-KV-A6GE-01    0.421287  kirp\n",
       "TCGA-D9-A1JW-06    0.453414  skcm\n",
       "TCGA-FU-A23K-01    0.552861  cesc\n",
       "\n",
       "[2727 rows x 2 columns]"
      ]
     },
     "execution_count": 83,
     "metadata": {},
     "output_type": "execute_result"
    }
   ],
   "source": [
    "pred_.join(tumor)"
   ]
  },
  {
   "cell_type": "code",
   "execution_count": 95,
   "id": "d35ed24b",
   "metadata": {},
   "outputs": [
    {
     "data": {
      "text/plain": [
       "'BLCA'"
      ]
     },
     "execution_count": 95,
     "metadata": {},
     "output_type": "execute_result"
    }
   ],
   "source": [
    "df['tumor'].values[0].upper()"
   ]
  },
  {
   "cell_type": "code",
   "execution_count": 100,
   "id": "28e85c19",
   "metadata": {},
   "outputs": [
    {
     "data": {
      "image/png": "[encoded data removed]",
      "text/plain": [
       "<Figure size 800x1200 with 1 Axes>"
      ]
     },
     "metadata": {},
     "output_type": "display_data"
    }
   ],
   "source": [
    "df = pred_.join(tumor)\n",
    "df['tumor'] = [str(x).upper() for x in df['tumor'].values]\n",
    "tumor_order = list(df.groupby('tumor').median().sort_values('prediction', ascending=False).index)\n",
    "plt.rcParams[\"figure.figsize\"] = (8,12)\n",
    "sns.boxplot(df, x='prediction', y='tumor', order=tumor_order, color='w', showfliers=False)\n",
    "plt.axvline(0.5, color='orangered', linestyle='--', linewidth=2)\n",
    "plt.tick_params(axis='y', which='both',  left=False, top=False, labelleft=True)\n",
    "sns.despine()\n",
    "plt.savefig('../figures/prediction_by_tumortype.pdf')"
   ]
  },
  {
   "cell_type": "code",
   "execution_count": 103,
   "id": "7cc4d323",
   "metadata": {},
   "outputs": [
    {
     "data": {
      "text/html": [
       "<div>\n",
       "<style scoped>\n",
       "    .dataframe tbody tr th:only-of-type {\n",
       "        vertical-align: middle;\n",
       "    }\n",
       "\n",
       "    .dataframe tbody tr th {\n",
       "        vertical-align: top;\n",
       "    }\n",
       "\n",
       "    .dataframe thead th {\n",
       "        text-align: right;\n",
       "    }\n",
       "</style>\n",
       "<table border=\"1\" class=\"dataframe\">\n",
       "  <thead>\n",
       "    <tr style=\"text-align: right;\">\n",
       "      <th></th>\n",
       "      <th>prediction</th>\n",
       "      <th>dichtomized_ploidy</th>\n",
       "      <th>misclass</th>\n",
       "    </tr>\n",
       "    <tr>\n",
       "      <th>tumor</th>\n",
       "      <th></th>\n",
       "      <th></th>\n",
       "      <th></th>\n",
       "    </tr>\n",
       "  </thead>\n",
       "  <tbody>\n",
       "    <tr>\n",
       "      <th>acc</th>\n",
       "      <td>0.411977</td>\n",
       "      <td>0.428571</td>\n",
       "      <td>0.380952</td>\n",
       "    </tr>\n",
       "    <tr>\n",
       "      <th>blca</th>\n",
       "      <td>0.480079</td>\n",
       "      <td>0.638655</td>\n",
       "      <td>0.277311</td>\n",
       "    </tr>\n",
       "    <tr>\n",
       "      <th>brca</th>\n",
       "      <td>0.400389</td>\n",
       "      <td>0.509434</td>\n",
       "      <td>0.342767</td>\n",
       "    </tr>\n",
       "    <tr>\n",
       "      <th>cesc</th>\n",
       "      <td>0.458409</td>\n",
       "      <td>0.364706</td>\n",
       "      <td>0.376471</td>\n",
       "    </tr>\n",
       "    <tr>\n",
       "      <th>chol</th>\n",
       "      <td>0.346802</td>\n",
       "      <td>0.200000</td>\n",
       "      <td>0.100000</td>\n",
       "    </tr>\n",
       "    <tr>\n",
       "      <th>coadread</th>\n",
       "      <td>0.467952</td>\n",
       "      <td>0.491803</td>\n",
       "      <td>0.245902</td>\n",
       "    </tr>\n",
       "    <tr>\n",
       "      <th>dlbc</th>\n",
       "      <td>0.459572</td>\n",
       "      <td>0.235294</td>\n",
       "      <td>0.352941</td>\n",
       "    </tr>\n",
       "    <tr>\n",
       "      <th>esca</th>\n",
       "      <td>0.489336</td>\n",
       "      <td>0.596491</td>\n",
       "      <td>0.280702</td>\n",
       "    </tr>\n",
       "    <tr>\n",
       "      <th>gbm</th>\n",
       "      <td>0.275600</td>\n",
       "      <td>0.114286</td>\n",
       "      <td>0.142857</td>\n",
       "    </tr>\n",
       "    <tr>\n",
       "      <th>kirc</th>\n",
       "      <td>0.247132</td>\n",
       "      <td>0.187050</td>\n",
       "      <td>0.172662</td>\n",
       "    </tr>\n",
       "    <tr>\n",
       "      <th>kirp</th>\n",
       "      <td>0.300059</td>\n",
       "      <td>0.255814</td>\n",
       "      <td>0.279070</td>\n",
       "    </tr>\n",
       "    <tr>\n",
       "      <th>laml</th>\n",
       "      <td>0.237554</td>\n",
       "      <td>0.064516</td>\n",
       "      <td>0.064516</td>\n",
       "    </tr>\n",
       "    <tr>\n",
       "      <th>lgg</th>\n",
       "      <td>0.292278</td>\n",
       "      <td>0.256757</td>\n",
       "      <td>0.263514</td>\n",
       "    </tr>\n",
       "    <tr>\n",
       "      <th>lihc</th>\n",
       "      <td>0.419915</td>\n",
       "      <td>0.379630</td>\n",
       "      <td>0.296296</td>\n",
       "    </tr>\n",
       "    <tr>\n",
       "      <th>luad</th>\n",
       "      <td>0.455296</td>\n",
       "      <td>0.659722</td>\n",
       "      <td>0.444444</td>\n",
       "    </tr>\n",
       "    <tr>\n",
       "      <th>lusc</th>\n",
       "      <td>0.482920</td>\n",
       "      <td>0.595588</td>\n",
       "      <td>0.389706</td>\n",
       "    </tr>\n",
       "    <tr>\n",
       "      <th>meso</th>\n",
       "      <td>0.307728</td>\n",
       "      <td>0.136364</td>\n",
       "      <td>0.090909</td>\n",
       "    </tr>\n",
       "    <tr>\n",
       "      <th>ov</th>\n",
       "      <td>0.517506</td>\n",
       "      <td>0.635294</td>\n",
       "      <td>0.364706</td>\n",
       "    </tr>\n",
       "    <tr>\n",
       "      <th>paad</th>\n",
       "      <td>0.292123</td>\n",
       "      <td>0.232558</td>\n",
       "      <td>0.232558</td>\n",
       "    </tr>\n",
       "    <tr>\n",
       "      <th>pcpg</th>\n",
       "      <td>0.212386</td>\n",
       "      <td>0.155556</td>\n",
       "      <td>0.155556</td>\n",
       "    </tr>\n",
       "    <tr>\n",
       "      <th>prad</th>\n",
       "      <td>0.250210</td>\n",
       "      <td>0.078014</td>\n",
       "      <td>0.092199</td>\n",
       "    </tr>\n",
       "    <tr>\n",
       "      <th>sarc</th>\n",
       "      <td>0.398272</td>\n",
       "      <td>0.484848</td>\n",
       "      <td>0.484848</td>\n",
       "    </tr>\n",
       "    <tr>\n",
       "      <th>skcm</th>\n",
       "      <td>0.425676</td>\n",
       "      <td>0.471154</td>\n",
       "      <td>0.365385</td>\n",
       "    </tr>\n",
       "    <tr>\n",
       "      <th>stad</th>\n",
       "      <td>0.423414</td>\n",
       "      <td>0.441176</td>\n",
       "      <td>0.301471</td>\n",
       "    </tr>\n",
       "    <tr>\n",
       "      <th>tgct</th>\n",
       "      <td>0.681837</td>\n",
       "      <td>0.955556</td>\n",
       "      <td>0.044444</td>\n",
       "    </tr>\n",
       "    <tr>\n",
       "      <th>thca</th>\n",
       "      <td>0.192359</td>\n",
       "      <td>0.050725</td>\n",
       "      <td>0.050725</td>\n",
       "    </tr>\n",
       "    <tr>\n",
       "      <th>thym</th>\n",
       "      <td>0.230667</td>\n",
       "      <td>0.064516</td>\n",
       "      <td>0.032258</td>\n",
       "    </tr>\n",
       "    <tr>\n",
       "      <th>ucec</th>\n",
       "      <td>0.343017</td>\n",
       "      <td>0.260355</td>\n",
       "      <td>0.213018</td>\n",
       "    </tr>\n",
       "    <tr>\n",
       "      <th>ucs</th>\n",
       "      <td>0.541336</td>\n",
       "      <td>1.000000</td>\n",
       "      <td>0.176471</td>\n",
       "    </tr>\n",
       "    <tr>\n",
       "      <th>uvm</th>\n",
       "      <td>0.264949</td>\n",
       "      <td>0.142857</td>\n",
       "      <td>0.142857</td>\n",
       "    </tr>\n",
       "  </tbody>\n",
       "</table>\n",
       "</div>"
      ],
      "text/plain": [
       "          prediction  dichtomized_ploidy  misclass\n",
       "tumor                                             \n",
       "acc         0.411977            0.428571  0.380952\n",
       "blca        0.480079            0.638655  0.277311\n",
       "brca        0.400389            0.509434  0.342767\n",
       "cesc        0.458409            0.364706  0.376471\n",
       "chol        0.346802            0.200000  0.100000\n",
       "coadread    0.467952            0.491803  0.245902\n",
       "dlbc        0.459572            0.235294  0.352941\n",
       "esca        0.489336            0.596491  0.280702\n",
       "gbm         0.275600            0.114286  0.142857\n",
       "kirc        0.247132            0.187050  0.172662\n",
       "kirp        0.300059            0.255814  0.279070\n",
       "laml        0.237554            0.064516  0.064516\n",
       "lgg         0.292278            0.256757  0.263514\n",
       "lihc        0.419915            0.379630  0.296296\n",
       "luad        0.455296            0.659722  0.444444\n",
       "lusc        0.482920            0.595588  0.389706\n",
       "meso        0.307728            0.136364  0.090909\n",
       "ov          0.517506            0.635294  0.364706\n",
       "paad        0.292123            0.232558  0.232558\n",
       "pcpg        0.212386            0.155556  0.155556\n",
       "prad        0.250210            0.078014  0.092199\n",
       "sarc        0.398272            0.484848  0.484848\n",
       "skcm        0.425676            0.471154  0.365385\n",
       "stad        0.423414            0.441176  0.301471\n",
       "tgct        0.681837            0.955556  0.044444\n",
       "thca        0.192359            0.050725  0.050725\n",
       "thym        0.230667            0.064516  0.032258\n",
       "ucec        0.343017            0.260355  0.213018\n",
       "ucs         0.541336            1.000000  0.176471\n",
       "uvm         0.264949            0.142857  0.142857"
      ]
     },
     "execution_count": 103,
     "metadata": {},
     "output_type": "execute_result"
    }
   ],
   "source": [
    "missclass_df.groupby('tumor').mean()"
   ]
  },
  {
   "cell_type": "code",
   "execution_count": 102,
   "id": "bc3ef834",
   "metadata": {},
   "outputs": [
    {
     "data": {
      "image/png": "[encoded data removed]",
      "text/plain": [
       "<Figure size 600x600 with 1 Axes>"
      ]
     },
     "metadata": {},
     "output_type": "display_data"
    }
   ],
   "source": [
    "plt.rcParams[\"figure.figsize\"] = (6,6)\n",
    "missclass_df = pred_.join(tumor).join(test_dataset.target)\n",
    "missclass_df['misclass'] = missclass_df.apply(lambda x: 1-int(round(x['prediction'])==x['dichtomized_ploidy']), axis=1)\n",
    "sns.scatterplot(missclass_df.groupby('tumor').mean(), x='dichtomized_ploidy', y='misclass')\n",
    "for tum in missclass_df.groupby('tumor').mean().index:\n",
    "    plt.annotate(missclass_df.groupby('tumor').mean().loc[tum].name,\n",
    "                (missclass_df.groupby('tumor').mean().loc[tum]['dichtomized_ploidy'],\n",
    "                 missclass_df.groupby('tumor').mean().loc[tum]['misclass']))\n",
    "plt.savefig('../figures/ploidy_vs_misclass_by_tumortype.pdf')"
   ]
  },
  {
   "cell_type": "code",
   "execution_count": null,
   "id": "cbc6c9e1",
   "metadata": {},
   "outputs": [],
   "source": []
  },
  {
   "cell_type": "markdown",
   "id": "05ac9791",
   "metadata": {},
   "source": [
    "## Multiple runs"
   ]
  },
  {
   "cell_type": "code",
   "execution_count": null,
   "id": "784375cb",
   "metadata": {},
   "outputs": [],
   "source": [
    "def fold_run(x, y, n):\n",
    "    aucs = []\n",
    "    most_imp_genes = []\n",
    "    for r in range(n):\n",
    "        print('run: {}'.format(r))\n",
    "        model, train_scores, test_scores, train_dataset, test_dataset = Pnet.run(x,\n",
    "                                                                             y,\n",
    "                                                                             verbose=False,\n",
    "                                                                             early_stopping=True)\n",
    "\n",
    "        x_train = train_dataset.input_df.astype(float).values\n",
    "        additional_train = train_dataset.additional_data.astype(float).values\n",
    "        y_train = train_dataset.target.astype(float).values.reshape(-1)\n",
    "        x_test = test_dataset.input_df.astype(float).values\n",
    "        additional_test = test_dataset.additional_data.astype(float).values\n",
    "        y_test = test_dataset.target.astype(float).values.reshape(-1)\n",
    "\n",
    "        pred = model(torch.tensor(x_test, dtype=torch.float),\n",
    "                                  torch.tensor(additional_test, dtype=torch.float)\n",
    "                    )\n",
    "        y_pred_proba = pred.detach().numpy().squeeze()\n",
    "        fpr, tpr, _ = metrics.roc_curve(y_test,  y_pred_proba)\n",
    "        test_auc = metrics.roc_auc_score(y_test, pred.detach().numpy().squeeze())\n",
    "\n",
    "        aucs.append(test_auc)\n",
    "\n",
    "        gene_importances, additional_importances = model.deepLIFT(test_dataset)\n",
    "        most_imp_genes.append(gene_importances.sum())\n",
    "    return aucs, most_imp_genes"
   ]
  },
  {
   "cell_type": "code",
   "execution_count": null,
   "id": "81fa3e3f",
   "metadata": {},
   "outputs": [],
   "source": [
    "def fold_run_rf(x, y, n):\n",
    "    aucs = []\n",
    "    most_imp_genes = []\n",
    "    for r in range(n):\n",
    "        print('run: {}'.format(r))\n",
    "        train_dataset, test_dataset = pnet_loader.generate_train_test(x, y, None, None, 0.3, None)\n",
    "        clf = RandomForestClassifier()\n",
    "        clf.fit(train_dataset.input_df.values, train_dataset.target.values.reshape(-1))\n",
    "        \n",
    "        x_train = train_dataset.input_df.astype(float).values\n",
    "        additional_train = train_dataset.additional_data.astype(float).values\n",
    "        y_train = train_dataset.target.astype(float).values.reshape(-1)\n",
    "        x_test = test_dataset.input_df.astype(float).values\n",
    "        additional_test = test_dataset.additional_data.astype(float).values\n",
    "        y_test = test_dataset.target.astype(float).values.reshape(-1)\n",
    "\n",
    "        y_pred_proba = clf.predict_proba(x_test)\n",
    "        fpr, tpr, _ = metrics.roc_curve(y_test,  y_pred_proba[:,1])\n",
    "        test_auc = metrics.roc_auc_score(y_test, y_pred_proba[:,1])\n",
    "\n",
    "        aucs.append(test_auc)\n",
    "\n",
    "        gene_importances = clf.feature_importances_\n",
    "        most_imp_genes.append(pd.DataFrame(clf.feature_importances_, index=test_dataset.input_df.columns))\n",
    "    return aucs, most_imp_genes"
   ]
  },
  {
   "cell_type": "code",
   "execution_count": null,
   "id": "cbb58d17",
   "metadata": {},
   "outputs": [],
   "source": []
  },
  {
   "cell_type": "code",
   "execution_count": null,
   "id": "a8e5b7e4",
   "metadata": {},
   "outputs": [],
   "source": [
    "ploidy_absolut_auc, ploidy_absolut_genes = fold_run(genetic_data, absolute_ploidy_y, 10)\n",
    "ploidy_absolut_auc_rf, ploidy_absolut_genes_rf = fold_run_rf(genetic_data, absolute_ploidy_y, 10)"
   ]
  },
  {
   "cell_type": "code",
   "execution_count": null,
   "id": "95cc6395",
   "metadata": {},
   "outputs": [],
   "source": [
    "data_pnet = [ploidy_absolut_auc]\n",
    "data_rf = [ploidy_absolut_auc_rf]\n",
    "\n",
    "ticks = ['ploidy \\n by absolut']\n",
    "\n",
    "def set_box_color(bp, color):\n",
    "    plt.setp(bp['boxes'], color=color)\n",
    "    plt.setp(bp['whiskers'], color=color)\n",
    "    plt.setp(bp['caps'], color=color)\n",
    "    plt.setp(bp['medians'], color=color)\n",
    "    \n",
    "    \n",
    "bpl = plt.boxplot(data_pnet, positions=np.array(range(len(data_pnet)))*2.0-0.4, sym='', widths=0.6)\n",
    "bpr = plt.boxplot(data_rf, positions=np.array(range(len(data_pnet)))*2.0+0.4, sym='', widths=0.6)\n",
    "set_box_color(bpl, '#D7191C') # colors are from http://colorbrewer2.org/\n",
    "set_box_color(bpr, '#2C7BB6')\n",
    "\n",
    "plt.plot([], c='#D7191C', label='pnet')\n",
    "plt.plot([], c='#2C7BB6', label='rf')\n",
    "plt.legend()\n",
    "\n",
    "plt.xticks(range(0, len(ticks) * 2, 2), ticks)\n",
    "plt.xlim(-2, len(ticks)*2)\n",
    "plt.tight_layout()\n",
    "plt.savefig('absolute_ploidy_auc_pnet_vs_rf.pdf')"
   ]
  },
  {
   "cell_type": "code",
   "execution_count": null,
   "id": "69241f82",
   "metadata": {},
   "outputs": [],
   "source": [
    "ploidy_absolut_genes"
   ]
  },
  {
   "cell_type": "code",
   "execution_count": null,
   "id": "9566b1a6",
   "metadata": {},
   "outputs": [],
   "source": [
    "ploidy_absolut_genes_rf"
   ]
  },
  {
   "cell_type": "code",
   "execution_count": null,
   "id": "cb176b81",
   "metadata": {},
   "outputs": [],
   "source": [
    "gene_order = pd.DataFrame(ploidy_absolut_genes).mean().sort_values(ascending=False).index\n",
    "df_sum = pd.DataFrame(ploidy_absolut_genes)"
   ]
  },
  {
   "cell_type": "code",
   "execution_count": null,
   "id": "358206e2",
   "metadata": {},
   "outputs": [],
   "source": [
    "gene_order_rf = pd.DataFrame([x[0] for x in ploidy_absolut_genes_rf]).mean().sort_values(ascending=False).index\n",
    "df_sum_rf = pd.DataFrame([x[0] for x in ploidy_absolut_genes_rf])"
   ]
  },
  {
   "cell_type": "code",
   "execution_count": null,
   "id": "7a78e012",
   "metadata": {},
   "outputs": [],
   "source": [
    "plt.rcParams[\"figure.figsize\"] = (6,8)\n",
    "df_sum[list(gene_order[:20]) + list(gene_order[-20:])].plot(kind='box', vert=False)\n",
    "plt.savefig('Ploidy_important_genes.pdf')\n",
    "plt.show()"
   ]
  },
  {
   "cell_type": "code",
   "execution_count": null,
   "id": "b51c187d",
   "metadata": {},
   "outputs": [],
   "source": [
    "def check_annotate(x, y):\n",
    "    if y > 1e-3/(x)**1.9 + 1e-3:\n",
    "        return True\n",
    "    else:\n",
    "        return False"
   ]
  },
  {
   "cell_type": "code",
   "execution_count": null,
   "id": "3702d35b",
   "metadata": {},
   "outputs": [],
   "source": [
    "import scipy.stats as ss"
   ]
  },
  {
   "cell_type": "code",
   "execution_count": null,
   "id": "8247a0cf",
   "metadata": {},
   "outputs": [],
   "source": [
    "comb_df['pnet_rank'] = ss.rankdata(comb_df['pnet_imp'])\n",
    "comb_df['rf_rank'] = ss.rankdata(comb_df['rf_imp'])"
   ]
  },
  {
   "cell_type": "code",
   "execution_count": null,
   "id": "aa6e698a",
   "metadata": {},
   "outputs": [],
   "source": [
    "comb_df = pd.DataFrame([df_sum.mean(), df_sum_rf.mean()]).T\n",
    "comb_df.columns = ['pnet_imp', 'rf_imp']\n",
    "comb_df['pnet_rank'] = len(comb_df['pnet_imp']) - ss.rankdata(abs(comb_df['pnet_imp']))\n",
    "comb_df['rf_rank'] = len(comb_df['rf_imp']) - ss.rankdata(abs(comb_df['rf_imp']))\n",
    "comb_df['annotate'] = comb_df.apply(lambda x: x['pnet_rank'] + x['rf_rank'] < 100, axis=1)"
   ]
  },
  {
   "cell_type": "code",
   "execution_count": null,
   "id": "f6e8f8c8",
   "metadata": {},
   "outputs": [],
   "source": [
    "fig, ax = plt.subplots()\n",
    "\n",
    "ax.scatter(comb_df['pnet_imp'], comb_df['rf_imp'], s=10)\n",
    "\n",
    "for i in range(len(comb_df)):\n",
    "    if comb_df.iloc[i]['annotate']:\n",
    "        ax.annotate(comb_df.iloc[i].name, (comb_df.iloc[i]['pnet_imp'], comb_df.iloc[i]['rf_imp']))\n",
    "\n",
    "plt.ylabel('rf importance')\n",
    "plt.xlabel('pnet importance')\n",
    "plt.title('Ploidy classification gene importance')\n",
    "plt.savefig('important_genes_ploidy_scatter.pdf')\n",
    "plt.show()"
   ]
  },
  {
   "cell_type": "code",
   "execution_count": null,
   "id": "9ac3b0f5",
   "metadata": {},
   "outputs": [],
   "source": [
    "import gseapy as gp"
   ]
  },
  {
   "cell_type": "code",
   "execution_count": null,
   "id": "610540ba",
   "metadata": {},
   "outputs": [],
   "source": [
    "def prerank_gsea(gene_importances, gene_list):\n",
    "    gene_sets='../data/reactome/ReactomePathways.gmt'\n",
    "    gene_importance_scores = pd.DataFrame(index=gene_list)\n",
    "    gene_importance_scores['1'] = gene_importances.values.reshape((2,-1)).sum(axis=0)\n",
    "        \n",
    "    pre_res = gp.prerank(rnk=gene_importance_scores,\n",
    "                         gene_sets = gene_sets,\n",
    "                         threads=8,\n",
    "                         min_size=5,\n",
    "                         max_size=1000,\n",
    "                         permutation_num=1000,\n",
    "                         outdir='../prerank_gsea',\n",
    "                         seed=6,\n",
    "                         verbose=True\n",
    "                        )\n",
    "    return pre_res"
   ]
  },
  {
   "cell_type": "code",
   "execution_count": null,
   "id": "a0f2776f",
   "metadata": {},
   "outputs": [],
   "source": [
    "pre_res_rf = prerank_gsea(comb_df['rf_imp'], list(comb_df.iloc[:int(comb_df.shape[0]/2)].index))"
   ]
  },
  {
   "cell_type": "code",
   "execution_count": null,
   "id": "6aefea32",
   "metadata": {},
   "outputs": [],
   "source": [
    "top_hits_rf = list(pre_res_rf.res2d.sort_values('NOM p-val').head(15)['Term'])"
   ]
  },
  {
   "cell_type": "code",
   "execution_count": null,
   "id": "316de11c",
   "metadata": {},
   "outputs": [],
   "source": [
    "top_hits_rf"
   ]
  },
  {
   "cell_type": "code",
   "execution_count": null,
   "id": "abd8123f",
   "metadata": {},
   "outputs": [],
   "source": [
    "pre_res_pnet = prerank_gsea(comb_df['pnet_imp'], list(comb_df.iloc[:int(comb_df.shape[0]/2)].index))"
   ]
  },
  {
   "cell_type": "code",
   "execution_count": null,
   "id": "d74799aa",
   "metadata": {},
   "outputs": [],
   "source": [
    "top_hits_pnet = list(pre_res_pnet.res2d.sort_values('NOM p-val').head(15)['Term'])"
   ]
  },
  {
   "cell_type": "code",
   "execution_count": null,
   "id": "c15f192a",
   "metadata": {},
   "outputs": [],
   "source": [
    "top_hits_pnet"
   ]
  },
  {
   "cell_type": "code",
   "execution_count": null,
   "id": "b550434b",
   "metadata": {},
   "outputs": [],
   "source": []
  }
 ],
 "metadata": {
  "environment": {
   "kernel": "python3",
   "name": "pytorch-gpu.1-10.m90",
   "type": "gcloud",
   "uri": "gcr.io/deeplearning-platform-release/pytorch-gpu.1-10:m90"
  },
  "kernelspec": {
   "display_name": "Python 3 (ipykernel)",
   "language": "python",
   "name": "python3"
  },
  "language_info": {
   "codemirror_mode": {
    "name": "ipython",
    "version": 3
   },
   "file_extension": ".py",
   "mimetype": "text/x-python",
   "name": "python",
   "nbconvert_exporter": "python",
   "pygments_lexer": "ipython3",
   "version": "3.9.16"
  }
 },
 "nbformat": 4,
 "nbformat_minor": 5
}
