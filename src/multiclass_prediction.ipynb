{
 "cells": [
  {
   "cell_type": "code",
   "execution_count": 1,
   "id": "3ed8053f-d201-4957-87b9-328e6f7e4245",
   "metadata": {},
   "outputs": [],
   "source": [
    "import pnet_loader\n",
    "import util\n",
    "import Pnet\n",
    "import ReactomeNetwork\n",
    "import torch\n",
    "import random\n",
    "import seaborn as sns\n",
    "import pandas as pd\n",
    "import numpy as np\n",
    "import os\n",
    "from sklearn import metrics\n",
    "import matplotlib.pyplot as plt\n",
    "from sklearn.metrics import accuracy_score, roc_auc_score, roc_curve, auc\n",
    "from sklearn.ensemble import RandomForestClassifier\n",
    "from sklearn.datasets import make_classification\n",
    "from sklearn.svm import SVC\n",
    "import torch.nn.functional as F\n",
    "import torch.nn as nn\n",
    "\n",
    "\n",
    "%load_ext autoreload\n",
    "%autoreload 2"
   ]
  },
  {
   "cell_type": "code",
   "execution_count": 2,
   "id": "328f1d72-e982-471e-871c-eb9d1004f22c",
   "metadata": {},
   "outputs": [],
   "source": [
    "paths = ['lusc_tcga_pan_can_atlas_2018', 'luad_tcga_pan_can_atlas_2018', 'brca_tcga_pan_can_atlas_2018']\n",
    "paths = ['../../data/'+ p for p in paths]"
   ]
  },
  {
   "cell_type": "code",
   "execution_count": 3,
   "id": "528c9966-7e83-4b38-9be5-df7f969adb1c",
   "metadata": {},
   "outputs": [
    {
     "name": "stderr",
     "output_type": "stream",
     "text": [
      "/opt/conda/lib/python3.7/site-packages/ipykernel_launcher.py:1: DtypeWarning: Columns (38,39) have mixed types.Specify dtype option on import or set low_memory=False.\n",
      "  \"\"\"Entry point for launching an IPython kernel.\n"
     ]
    }
   ],
   "source": [
    "lusc_rna, lusc_cna, lusc_tumor_type, lusc_mut = util.load_tcga_dataset(paths[0])"
   ]
  },
  {
   "cell_type": "code",
   "execution_count": 4,
   "id": "ef8b826f-555d-4d12-8507-54c131056e94",
   "metadata": {},
   "outputs": [
    {
     "name": "stderr",
     "output_type": "stream",
     "text": [
      "/opt/conda/lib/python3.7/site-packages/ipykernel_launcher.py:1: DtypeWarning: Columns (38,39) have mixed types.Specify dtype option on import or set low_memory=False.\n",
      "  \"\"\"Entry point for launching an IPython kernel.\n"
     ]
    }
   ],
   "source": [
    "luad_rna, luad_cna, luad_tumor_type, luad_mut = util.load_tcga_dataset(paths[1])"
   ]
  },
  {
   "cell_type": "code",
   "execution_count": 5,
   "id": "1338fe07-ec8d-4401-b5b1-929bab55ee03",
   "metadata": {},
   "outputs": [
    {
     "name": "stderr",
     "output_type": "stream",
     "text": [
      "/opt/conda/lib/python3.7/site-packages/ipykernel_launcher.py:1: DtypeWarning: Columns (38,39) have mixed types.Specify dtype option on import or set low_memory=False.\n",
      "  \"\"\"Entry point for launching an IPython kernel.\n"
     ]
    }
   ],
   "source": [
    "brca_rna, brca_cna, brca_tumor_type, brca_mut = util.load_tcga_dataset(paths[2])"
   ]
  },
  {
   "cell_type": "code",
   "execution_count": 6,
   "id": "a6b79fff-ddb2-4e16-ba2b-3e20c65d54a9",
   "metadata": {},
   "outputs": [],
   "source": [
    "rna = pd.concat([lusc_rna, luad_rna, brca_rna]).dropna(axis=1)\n",
    "rna = (rna-rna.mean())/rna.std()\n",
    "rna = rna.dropna(axis=1)\n",
    "cna = pd.concat([lusc_cna, luad_cna, brca_cna]).dropna(axis=1)\n",
    "mut = pd.concat([lusc_mut, luad_mut, brca_mut]).dropna(axis=1)\n",
    "tumor_type = pd.concat([lusc_tumor_type, luad_tumor_type, brca_tumor_type])"
   ]
  },
  {
   "cell_type": "code",
   "execution_count": 7,
   "id": "bffba6db-e64e-4c88-b561-34a2649fd5da",
   "metadata": {},
   "outputs": [],
   "source": [
    "genetic_data = {'cna': cna, 'mut': mut}"
   ]
  },
  {
   "cell_type": "code",
   "execution_count": 8,
   "id": "1d571291-75d4-477c-b128-0c1b8a947d4d",
   "metadata": {},
   "outputs": [],
   "source": [
    "class_counts = tumor_type['tumor'].value_counts()\n",
    "\n",
    "# Find the class with the least samples\n",
    "min_samples = class_counts.min()\n",
    "\n",
    "# Balance the DataFrame by randomly sampling the same number of samples for each class\n",
    "balanced_samples = []\n",
    "for _, group in tumor_type.groupby('tumor'):\n",
    "    balanced_samples.extend(group.sample(n=min_samples, random_state=42).index)\n",
    "\n",
    "# Create the balanced DataFrame with the selected samples\n",
    "balanced_tumor_type = tumor_type.loc[balanced_samples]"
   ]
  },
  {
   "cell_type": "code",
   "execution_count": 9,
   "id": "b74759dd-ac1f-48c0-b301-89ddc8fe50a5",
   "metadata": {
    "jupyter": {
     "source_hidden": true
    },
    "tags": []
   },
   "outputs": [],
   "source": [
    "# from sklearn.model_selection import StratifiedKFold\n",
    "\n",
    "# tumor_type_inds = pnet_loader.get_indicies(genetic_data, pd.get_dummies(balanced_tumor_type))\n",
    "# y = list(tumor_type.loc[tumor_type_inds]['tumor'])\n",
    "# # Assuming `y` contains the labels for your training data\n",
    "# # and `prostate_inds` contains the indices of the training data\n",
    "# # Make sure `y` and `prostate_inds` have the same length\n",
    "\n",
    "# # Create an instance of StratifiedKFold with 10 splits\n",
    "# skf = StratifiedKFold(n_splits=5)\n",
    "\n",
    "# # Initialize an empty list to store the sublists of indices\n",
    "# sublists = []\n",
    "\n",
    "# # Split the indices into sublists stratified by labels\n",
    "# for train_index, _ in skf.split(tumor_type_inds, y):\n",
    "#     sublist = [tumor_type_inds[i] for i in train_index]\n",
    "#     sublists.append(sublist)\n",
    "    \n",
    "# for i, s in enumerate(sublists):\n",
    "#     s_ = [x for x in tumor_type_inds if x not in s]\n",
    "#     train_dataset, test_dataset = pnet_loader.generate_train_test(genetic_data, pd.get_dummies(balanced_tumor_type), train_inds=s, test_inds=s_)\n",
    "#     train_dataset.save_indicies('../data/splits/tumor_type/train_set_{}.csv'.format(i))\n",
    "#     test_dataset.save_indicies('../data/splits/tumor_type/test_set_{}.csv'.format(i))"
   ]
  },
  {
   "cell_type": "code",
   "execution_count": 10,
   "id": "eb7f7c73-8387-4a4c-a09b-72a2ad280e8a",
   "metadata": {},
   "outputs": [],
   "source": [
    "canc_genes = list(pd.read_csv('../../pnet_database/genes/cancer_genes.txt').values.reshape(-1))"
   ]
  },
  {
   "cell_type": "code",
   "execution_count": 15,
   "id": "d6806878-54bf-4292-8dfa-f3d901303937",
   "metadata": {
    "tags": []
   },
   "outputs": [
    {
     "name": "stdout",
     "output_type": "stream",
     "text": [
      "Task defined: MC \n",
      " if this is not the intended task please specify task\n",
      "Given 2 Input modalities\n",
      "Found 1452 overlapping indicies\n",
      "Initializing Train Dataset\n",
      "Found 687 overlapping genes\n",
      "generated input DataFrame of size (930, 1374)\n",
      "Initializing Test Dataset\n",
      "Found 687 overlapping genes\n",
      "generated input DataFrame of size (238, 1374)\n",
      "Found 687 overlapping genes\n",
      "Loss function used: CrossEntropyLoss()\n",
      "We are sending to cuda\n",
      "Task defined: MC \n",
      " if this is not the intended task please specify task\n",
      "Given 2 Input modalities\n",
      "Found 1452 overlapping indicies\n",
      "Initializing Train Dataset\n",
      "Found 687 overlapping genes\n",
      "generated input DataFrame of size (936, 1374)\n",
      "Initializing Test Dataset\n",
      "Found 687 overlapping genes\n",
      "generated input DataFrame of size (232, 1374)\n",
      "Found 687 overlapping genes\n",
      "Loss function used: CrossEntropyLoss()\n",
      "We are sending to cuda\n",
      "Hit early stopping criteria\n",
      "Task defined: MC \n",
      " if this is not the intended task please specify task\n",
      "Given 2 Input modalities\n",
      "Found 1452 overlapping indicies\n",
      "Initializing Train Dataset\n",
      "Found 687 overlapping genes\n",
      "generated input DataFrame of size (940, 1374)\n",
      "Initializing Test Dataset\n",
      "Found 687 overlapping genes\n",
      "generated input DataFrame of size (228, 1374)\n",
      "Found 687 overlapping genes\n",
      "Loss function used: CrossEntropyLoss()\n",
      "We are sending to cuda\n",
      "Hit early stopping criteria\n",
      "Task defined: MC \n",
      " if this is not the intended task please specify task\n",
      "Given 2 Input modalities\n",
      "Found 1452 overlapping indicies\n",
      "Initializing Train Dataset\n",
      "Found 687 overlapping genes\n",
      "generated input DataFrame of size (938, 1374)\n",
      "Initializing Test Dataset\n",
      "Found 687 overlapping genes\n",
      "generated input DataFrame of size (230, 1374)\n",
      "Found 687 overlapping genes\n",
      "Loss function used: CrossEntropyLoss()\n",
      "We are sending to cuda\n",
      "Hit early stopping criteria\n",
      "Task defined: MC \n",
      " if this is not the intended task please specify task\n",
      "Given 2 Input modalities\n",
      "Found 1452 overlapping indicies\n",
      "Initializing Train Dataset\n",
      "Found 687 overlapping genes\n",
      "generated input DataFrame of size (928, 1374)\n",
      "Initializing Test Dataset\n",
      "Found 687 overlapping genes\n",
      "generated input DataFrame of size (240, 1374)\n",
      "Found 687 overlapping genes\n",
      "Loss function used: CrossEntropyLoss()\n",
      "We are sending to cuda\n",
      "Hit early stopping criteria\n"
     ]
    },
    {
     "data": {
      "image/png": "[encoded data removed]",
      "text/plain": [
       "<Figure size 432x288 with 1 Axes>"
      ]
     },
     "metadata": {
      "needs_background": "light"
     },
     "output_type": "display_data"
    }
   ],
   "source": [
    "for i in range(5):\n",
    "    train_inds = list(pd.read_csv('../data/splits/tumor_type/train_set_{}.csv'.format(i))['indicies'])\n",
    "    test_inds = list(pd.read_csv('../data/splits/tumor_type/test_set_{}.csv'.format(i))['indicies'])\n",
    "    model, train_scores, test_scores, train_dataset, test_dataset = Pnet.run(genetic_data, pd.get_dummies(balanced_tumor_type), seed=0, dropout=0.2, lr=1e-3, weight_decay=1e-3,\n",
    "                                                                           batch_size=64, epochs=300, early_stopping=True, train_inds=train_inds,\n",
    "                                                                           test_inds=test_inds, input_dropout=0.5, gene_set=canc_genes)\n",
    "    plt.clf()\n",
    "    Pnet.evaluate_interpret_save(model, test_dataset, '../results/tumor_type/run{}'.format(i))"
   ]
  },
  {
   "cell_type": "code",
   "execution_count": 21,
   "id": "38e96e5b-0ecd-40c8-994c-ddf5d8e931da",
   "metadata": {},
   "outputs": [
    {
     "name": "stdout",
     "output_type": "stream",
     "text": [
      "Task defined: MC \n",
      " if this is not the intended task please specify task\n",
      "Given 2 Input modalities\n",
      "Found 1452 overlapping indicies\n",
      "Initializing Train Dataset\n",
      "Found 687 overlapping genes\n",
      "generated input DataFrame of size (930, 1374)\n",
      "Initializing Test Dataset\n",
      "Found 687 overlapping genes\n",
      "generated input DataFrame of size (238, 1374)\n",
      "Found 687 overlapping genes\n",
      "Loss function used: CrossEntropyLoss()\n",
      "We are sending to cuda\n",
      "Hit early stopping criteria\n",
      "Task defined: MC \n",
      " if this is not the intended task please specify task\n",
      "Given 2 Input modalities\n",
      "Found 1452 overlapping indicies\n",
      "Initializing Train Dataset\n",
      "Found 687 overlapping genes\n",
      "generated input DataFrame of size (936, 1374)\n",
      "Initializing Test Dataset\n",
      "Found 687 overlapping genes\n",
      "generated input DataFrame of size (232, 1374)\n",
      "Found 687 overlapping genes\n",
      "Loss function used: CrossEntropyLoss()\n",
      "We are sending to cuda\n",
      "Hit early stopping criteria\n",
      "Task defined: MC \n",
      " if this is not the intended task please specify task\n",
      "Given 2 Input modalities\n",
      "Found 1452 overlapping indicies\n",
      "Initializing Train Dataset\n",
      "Found 687 overlapping genes\n",
      "generated input DataFrame of size (940, 1374)\n",
      "Initializing Test Dataset\n",
      "Found 687 overlapping genes\n",
      "generated input DataFrame of size (228, 1374)\n",
      "Found 687 overlapping genes\n",
      "Loss function used: CrossEntropyLoss()\n",
      "We are sending to cuda\n",
      "Hit early stopping criteria\n",
      "Task defined: MC \n",
      " if this is not the intended task please specify task\n",
      "Given 2 Input modalities\n",
      "Found 1452 overlapping indicies\n",
      "Initializing Train Dataset\n",
      "Found 687 overlapping genes\n",
      "generated input DataFrame of size (938, 1374)\n",
      "Initializing Test Dataset\n",
      "Found 687 overlapping genes\n",
      "generated input DataFrame of size (230, 1374)\n",
      "Found 687 overlapping genes\n",
      "Loss function used: CrossEntropyLoss()\n",
      "We are sending to cuda\n",
      "Task defined: MC \n",
      " if this is not the intended task please specify task\n",
      "Given 2 Input modalities\n",
      "Found 1452 overlapping indicies\n",
      "Initializing Train Dataset\n",
      "Found 687 overlapping genes\n",
      "generated input DataFrame of size (928, 1374)\n",
      "Initializing Test Dataset\n",
      "Found 687 overlapping genes\n",
      "generated input DataFrame of size (240, 1374)\n",
      "Found 687 overlapping genes\n",
      "Loss function used: CrossEntropyLoss()\n",
      "We are sending to cuda\n"
     ]
    },
    {
     "data": {
      "image/png": "[encoded data removed]",
      "text/plain": [
       "<Figure size 432x288 with 1 Axes>"
      ]
     },
     "metadata": {
      "needs_background": "light"
     },
     "output_type": "display_data"
    }
   ],
   "source": [
    "for i in range(5):\n",
    "    train_inds = list(pd.read_csv('../data/splits/tumor_type/train_set_{}.csv'.format(i))['indicies'])\n",
    "    test_inds = list(pd.read_csv('../data/splits/tumor_type/test_set_{}.csv'.format(i))['indicies'])\n",
    "    model, train_scores, test_scores, train_dataset, test_dataset = Pnet.run(genetic_data, pd.get_dummies(balanced_tumor_type), seed=0, dropout=0.2, lr=1e-3, weight_decay=1e-3,\n",
    "                                                                           batch_size=64, epochs=300, early_stopping=True, train_inds=train_inds,\n",
    "                                                                           test_inds=test_inds, input_dropout=0.5, gene_set=canc_genes, random_network=True)\n",
    "    plt.clf()\n",
    "    Pnet.evaluate_interpret_save(model, test_dataset, '../results/tumor_type_random_net/run{}'.format(i))"
   ]
  },
  {
   "cell_type": "code",
   "execution_count": 22,
   "id": "3d52f818-bf6b-4a5b-a73c-7ff1ef47c880",
   "metadata": {},
   "outputs": [
    {
     "name": "stdout",
     "output_type": "stream",
     "text": [
      "Task defined: MC \n",
      " if this is not the intended task please specify task\n",
      "Given 2 Input modalities\n",
      "Found 1452 overlapping indicies\n",
      "Initializing Train Dataset\n",
      "Found 687 overlapping genes\n",
      "generated input DataFrame of size (930, 1374)\n",
      "Initializing Test Dataset\n",
      "Found 687 overlapping genes\n",
      "generated input DataFrame of size (238, 1374)\n",
      "Found 687 overlapping genes\n",
      "Loss function used: CrossEntropyLoss()\n",
      "We are sending to cuda\n",
      "Hit early stopping criteria\n",
      "Task defined: MC \n",
      " if this is not the intended task please specify task\n",
      "Given 2 Input modalities\n",
      "Found 1452 overlapping indicies\n",
      "Initializing Train Dataset\n",
      "Found 687 overlapping genes\n",
      "generated input DataFrame of size (936, 1374)\n",
      "Initializing Test Dataset\n",
      "Found 687 overlapping genes\n",
      "generated input DataFrame of size (232, 1374)\n",
      "Found 687 overlapping genes\n",
      "Loss function used: CrossEntropyLoss()\n",
      "We are sending to cuda\n",
      "Hit early stopping criteria\n",
      "Task defined: MC \n",
      " if this is not the intended task please specify task\n",
      "Given 2 Input modalities\n",
      "Found 1452 overlapping indicies\n",
      "Initializing Train Dataset\n",
      "Found 687 overlapping genes\n",
      "generated input DataFrame of size (940, 1374)\n",
      "Initializing Test Dataset\n",
      "Found 687 overlapping genes\n",
      "generated input DataFrame of size (228, 1374)\n",
      "Found 687 overlapping genes\n",
      "Loss function used: CrossEntropyLoss()\n",
      "We are sending to cuda\n",
      "Hit early stopping criteria\n",
      "Task defined: MC \n",
      " if this is not the intended task please specify task\n",
      "Given 2 Input modalities\n",
      "Found 1452 overlapping indicies\n",
      "Initializing Train Dataset\n",
      "Found 687 overlapping genes\n",
      "generated input DataFrame of size (938, 1374)\n",
      "Initializing Test Dataset\n",
      "Found 687 overlapping genes\n",
      "generated input DataFrame of size (230, 1374)\n",
      "Found 687 overlapping genes\n",
      "Loss function used: CrossEntropyLoss()\n",
      "We are sending to cuda\n",
      "Hit early stopping criteria\n",
      "Task defined: MC \n",
      " if this is not the intended task please specify task\n",
      "Given 2 Input modalities\n",
      "Found 1452 overlapping indicies\n",
      "Initializing Train Dataset\n",
      "Found 687 overlapping genes\n",
      "generated input DataFrame of size (928, 1374)\n",
      "Initializing Test Dataset\n",
      "Found 687 overlapping genes\n",
      "generated input DataFrame of size (240, 1374)\n",
      "Found 687 overlapping genes\n",
      "Loss function used: CrossEntropyLoss()\n",
      "We are sending to cuda\n",
      "Hit early stopping criteria\n"
     ]
    },
    {
     "data": {
      "image/png": "[encoded data removed]",
      "text/plain": [
       "<Figure size 432x288 with 1 Axes>"
      ]
     },
     "metadata": {
      "needs_background": "light"
     },
     "output_type": "display_data"
    }
   ],
   "source": [
    "for i in range(5):\n",
    "    train_inds = list(pd.read_csv('../data/splits/tumor_type/train_set_{}.csv'.format(i))['indicies'])\n",
    "    test_inds = list(pd.read_csv('../data/splits/tumor_type/test_set_{}.csv'.format(i))['indicies'])\n",
    "    model, train_scores, test_scores, train_dataset, test_dataset = Pnet.run(genetic_data, pd.get_dummies(balanced_tumor_type), seed=0, dropout=0.2, lr=1e-3, weight_decay=1e-3,\n",
    "                                                                           batch_size=64, epochs=300, early_stopping=True, train_inds=train_inds,\n",
    "                                                                           test_inds=test_inds, input_dropout=0.5, gene_set=canc_genes, fcnn=True)\n",
    "    plt.clf()\n",
    "    Pnet.evaluate_interpret_save(model, test_dataset, '../results/tumor_type_fcnn/run{}'.format(i))"
   ]
  },
  {
   "cell_type": "code",
   "execution_count": null,
   "id": "5075fc4e-f931-41d0-aac4-4d1421ca5d62",
   "metadata": {
    "jupyter": {
     "source_hidden": true
    },
    "tags": []
   },
   "outputs": [],
   "source": [
    "for i in range(5):\n",
    "    path = '../results/tumor_type_rf/run{}'.format(i)\n",
    "    if not os.path.exists(path):\n",
    "        os.makedirs(path)\n",
    "    train_inds = list(pd.read_csv('../data/splits/tumor_type/train_set_{}.csv'.format(i))['indicies'])\n",
    "    test_inds = list(pd.read_csv('../data/splits/tumor_type/test_set_{}.csv'.format(i))['indicies'])\n",
    "    train_dataset, test_dataset = pnet_loader.generate_train_test(genetic_data, target=pd.get_dummies(balanced_tumor_type), train_inds=train_inds,\n",
    "                                                                  test_inds=test_inds, gene_set=canc_genes)\n",
    "    \n",
    "    x_train = train_dataset.x\n",
    "    additional_train = train_dataset.additional\n",
    "    y_train = train_dataset.y.ravel()\n",
    "    x_test = test_dataset.x\n",
    "    additional_test = test_dataset.additional\n",
    "    y_test = test_dataset.y.ravel()\n",
    "    \n",
    "    rfc = RandomForestClassifier(max_depth=None, random_state=0)\n",
    "    rfc.fit(x_train, y_train)\n",
    "    preds = rfc.predict(x_test)\n",
    "    preds_prob = rfc.predict_proba(x_test)\n",
    "    plt.clf()\n",
    "    auc = util.get_auc(torch.tensor(preds_prob[:,1], dtype=torch.float), y_test, save=path+'/auc_curve.pdf')\n",
    "    auc_prc = util.get_auc_prc(torch.tensor(preds_prob[:,1], dtype=torch.float), y_test)\n",
    "    f1_score = util.get_f1(torch.tensor(preds, dtype=torch.float), y_test)\n",
    "    importances = rfc.feature_importances_\n",
    "    forest_importances = pd.Series(importances, index=test_dataset.input_df.columns)\n",
    "    forest_importances.to_csv(path+'/gene_feature_importances.csv')\n",
    "    torch.save(auc, path+'/AUC.pt')\n",
    "    torch.save(auc_prc, path+'/AUC_PRC.pt')\n",
    "    torch.save(f1_score, path+'/F1.pt')"
   ]
  },
  {
   "cell_type": "code",
   "execution_count": null,
   "id": "4986942c-2539-4bb2-8556-0bc903fae176",
   "metadata": {},
   "outputs": [],
   "source": []
  },
  {
   "cell_type": "code",
   "execution_count": null,
   "id": "9292f07b-ba0c-41bd-b90d-90566e080b0a",
   "metadata": {},
   "outputs": [],
   "source": []
  },
  {
   "cell_type": "code",
   "execution_count": null,
   "id": "b7b5a1cd-996a-4f9a-b696-95b48a5f033c",
   "metadata": {},
   "outputs": [],
   "source": []
  },
  {
   "cell_type": "code",
   "execution_count": 34,
   "id": "e6321c8c-9b7f-4a4d-9162-d74e52625e1a",
   "metadata": {},
   "outputs": [],
   "source": [
    "aucs = []\n",
    "for i in range(5):\n",
    "    auc_ = torch.load('../results/tumor_type/run{}/AUC.pt'.format(i))\n",
    "    aucs.append(auc_)"
   ]
  },
  {
   "cell_type": "code",
   "execution_count": 35,
   "id": "b5deb34c-b6be-42a2-9ac5-7ec853ef7d44",
   "metadata": {},
   "outputs": [
    {
     "data": {
      "text/plain": [
       "tensor([0.9747, 0.9610, 0.9631], dtype=torch.float64)"
      ]
     },
     "execution_count": 35,
     "metadata": {},
     "output_type": "execute_result"
    }
   ],
   "source": [
    "torch.tensor(aucs).mean(axis=0)"
   ]
  },
  {
   "cell_type": "code",
   "execution_count": 37,
   "id": "3a3778e5-a0ff-4ecd-86bc-40e65f4d9db4",
   "metadata": {},
   "outputs": [],
   "source": [
    "aucs = []\n",
    "for i in range(5):\n",
    "    auc_ = torch.load('../results/tumor_type_random_net/run{}/AUC.pt'.format(i))\n",
    "    aucs.append(auc_)"
   ]
  },
  {
   "cell_type": "code",
   "execution_count": 38,
   "id": "0b709473-fbb8-4510-815c-d55bff461cf5",
   "metadata": {},
   "outputs": [
    {
     "data": {
      "text/plain": [
       "tensor([0.9766, 0.9592, 0.9634], dtype=torch.float64)"
      ]
     },
     "execution_count": 38,
     "metadata": {},
     "output_type": "execute_result"
    }
   ],
   "source": [
    "torch.tensor(aucs).mean(axis=0)"
   ]
  },
  {
   "cell_type": "code",
   "execution_count": 39,
   "id": "d740fb1b-cabc-440d-9164-974d3d8e74c1",
   "metadata": {},
   "outputs": [],
   "source": [
    "aucs = []\n",
    "for i in range(5):\n",
    "    auc_ = torch.load('../results/tumor_type_fcnn/run{}/AUC.pt'.format(i))\n",
    "    aucs.append(auc_)"
   ]
  },
  {
   "cell_type": "code",
   "execution_count": 41,
   "id": "bcb8ff5e-d098-4238-952a-b85ad9d9b216",
   "metadata": {
    "tags": []
   },
   "outputs": [
    {
     "data": {
      "text/plain": [
       "tensor([0.9716, 0.9582, 0.9604], dtype=torch.float64)"
      ]
     },
     "execution_count": 41,
     "metadata": {},
     "output_type": "execute_result"
    }
   ],
   "source": [
    "torch.tensor(aucs).mean(axis=0)"
   ]
  },
  {
   "cell_type": "code",
   "execution_count": 42,
   "id": "1424f1c4-9710-43d1-931d-db0e61183f7b",
   "metadata": {},
   "outputs": [],
   "source": [
    "rank_stab = {}\n",
    "for m in ['', '_fcnn', '_random_net']:\n",
    "    df = pd.DataFrame()\n",
    "    for i in range(5):\n",
    "        imps = pd.read_csv('../results/tumor_type{}/run{}/gene_importances.csv'.format(m, i)).set_index('Unnamed: 0')\n",
    "        ranks = abs(imps).mean().rank(ascending=False)\n",
    "        df['run{}'.format(i)] = ranks\n",
    "\n",
    "    most_imp_50 = df.mean(axis=1).nsmallest(50).index\n",
    "    rank_stab[m] = df.loc[most_imp_50].std(axis=1).mean()\n",
    "    # filtered_df = df[~(df > 20).any(axis=1)]\n",
    "    # rank_stab[m] = filtered_df.shape[0]"
   ]
  },
  {
   "cell_type": "code",
   "execution_count": 43,
   "id": "1a54600a-bcd0-429c-95f3-39d1b54419b3",
   "metadata": {},
   "outputs": [
    {
     "data": {
      "text/plain": [
       "{'': 36.21700924408011,\n",
       " '_fcnn': 84.11271368261558,\n",
       " '_random_net': 34.120980350721766}"
      ]
     },
     "execution_count": 43,
     "metadata": {},
     "output_type": "execute_result"
    }
   ],
   "source": [
    "rank_stab"
   ]
  },
  {
   "cell_type": "code",
   "execution_count": null,
   "id": "effea84b-4466-49e9-aed6-ad078c66a126",
   "metadata": {},
   "outputs": [],
   "source": []
  }
 ],
 "metadata": {
  "environment": {
   "kernel": "conda-root-py",
   "name": "pytorch-gpu.1-10.m90",
   "type": "gcloud",
   "uri": "gcr.io/deeplearning-platform-release/pytorch-gpu.1-10:m90"
  },
  "kernelspec": {
   "display_name": "Python [conda env:root] *",
   "language": "python",
   "name": "conda-root-py"
  },
  "language_info": {
   "codemirror_mode": {
    "name": "ipython",
    "version": 3
   },
   "file_extension": ".py",
   "mimetype": "text/x-python",
   "name": "python",
   "nbconvert_exporter": "python",
   "pygments_lexer": "ipython3",
   "version": "3.7.12"
  }
 },
 "nbformat": 4,
 "nbformat_minor": 5
}
