{
 "cells": [
  {
   "cell_type": "code",
   "execution_count": 282,
   "id": "145a1aac",
   "metadata": {},
   "outputs": [
    {
     "name": "stdout",
     "output_type": "stream",
     "text": [
      "The autoreload extension is already loaded. To reload it, use:\n",
      "  %reload_ext autoreload\n"
     ]
    }
   ],
   "source": [
    "import pnet_loader\n",
    "import util\n",
    "import torch\n",
    "import numpy as np\n",
    "import random\n",
    "import seaborn as sns\n",
    "from sklearn import metrics\n",
    "import matplotlib.pyplot as plt\n",
    "from sklearn.metrics import roc_auc_score\n",
    "from sklearn.ensemble import RandomForestClassifier\n",
    "from sklearn.mixture import GaussianMixture\n",
    "\n",
    "\n",
    "%load_ext autoreload\n",
    "%autoreload 2"
   ]
  },
  {
   "cell_type": "code",
   "execution_count": 283,
   "id": "a4ccaa48",
   "metadata": {},
   "outputs": [],
   "source": [
    "import pandas as pd"
   ]
  },
  {
   "cell_type": "code",
   "execution_count": 284,
   "id": "96cbf47c",
   "metadata": {},
   "outputs": [],
   "source": [
    "mutations_dict = {\"3'Flank\": 'Silent',\n",
    "                  \"5'Flank\": 'Silent',\n",
    "                  \"5'UTR\": 'Silent',\n",
    "                  \"3'UTR\": 'Silent',\n",
    "                  \"IGR\": 'Silent',\n",
    "                  \"Intron\": 'Silent',\n",
    "                  \"lincRNA\": 'Silent',\n",
    "                  \"RNA\": 'Silent',\n",
    "                  \"Silent\": 'Silent',\n",
    "                  \"non_coding_transcript_exon\": 'Silent',\n",
    "                  \"upstream_gene\": 'Silent',\n",
    "                  \"Splice_Region\": 'Silent',\n",
    "                  \"Targeted_Region\": 'Silent',\n",
    "                  'Splice_Site': 'LOF',\n",
    "                  'Nonsense_Mutation': 'LOF',\n",
    "                  'Frame_Shift_Del': 'LOF',\n",
    "                  'Frame_Shift_Ins': 'LOF',\n",
    "                  'Stop_Codon_Del': 'LOF',\n",
    "                  'Stop_Codon_Ins': 'LOF',\n",
    "                  'Nonstop_Mutation': 'LOF',\n",
    "                  'Start_Codon_Del': 'LOF',\n",
    "                  'Missense_Mutation': 'Other_nonsynonymous',\n",
    "                  'In_Frame_Del': 'Other_nonsynonymous',\n",
    "                  'In_Frame_Ins': 'Other_nonsynonymous',\n",
    "                  'De_novo_Start_InFrame': 'Other_nonsynonymous',\n",
    "                  'De_novo_Start_OutOfFrame': 'Other_nonsynonymous',\n",
    "                  'Start_Codon_Ins': 'Other_nonsynonymous'\n",
    "                  }"
   ]
  },
  {
   "cell_type": "markdown",
   "id": "17ca394c",
   "metadata": {},
   "source": [
    "## Load mutation data"
   ]
  },
  {
   "cell_type": "code",
   "execution_count": 285,
   "id": "854cfbc4",
   "metadata": {},
   "outputs": [],
   "source": [
    "maf = pd.read_csv('../data/m1000/M1000_CCF.maf', sep='\\t')\n",
    "survival_data = pd.read_csv('../data/m1000/M1000_survival_data.txt', sep='\\t').set_index('Tumor_Sample_Barcode')\n",
    "clinical_mapping = pd.read_csv('../data/m1000/TCGA_clinical_mapping_and_pathologic_M.txt', sep='\\t').set_index('Tumor_Sample_Barcode')\n",
    "\n",
    "maf = maf[maf['Tumor_Sample_Barcode'].isin(clinical_mapping.index)].copy()\n",
    "maf['Variant_Classification'] = [mutations_dict[m] for m in maf['Variant_Classification']]\n",
    "maf = maf[maf['Variant_Classification'] != 'Silent'].copy()\n",
    "\n",
    "maf_grouped = maf.groupby('Tumor_Sample_Barcode')['Hugo_Symbol'].apply(set).reset_index(name='mut_list').set_index('Tumor_Sample_Barcode')\n",
    "mutations = pd.DataFrame(columns = maf['Hugo_Symbol'].unique(), index = maf_grouped.index)\n",
    "mutations.fillna(0, inplace = True)\n",
    "\n",
    "for i, p in maf_grouped.iterrows():\n",
    "    for mut in p['mut_list']:\n",
    "        mutations.loc[i][mut] = 1\n",
    "\n",
    "mutations = mutations.join(clinical_mapping[['mapping_patient_id']], how='inner').set_index('mapping_patient_id')"
   ]
  },
  {
   "cell_type": "code",
   "execution_count": 286,
   "id": "423a941a",
   "metadata": {},
   "outputs": [
    {
     "data": {
      "text/html": [
       "<div>\n",
       "<style scoped>\n",
       "    .dataframe tbody tr th:only-of-type {\n",
       "        vertical-align: middle;\n",
       "    }\n",
       "\n",
       "    .dataframe tbody tr th {\n",
       "        vertical-align: top;\n",
       "    }\n",
       "\n",
       "    .dataframe thead th {\n",
       "        text-align: right;\n",
       "    }\n",
       "</style>\n",
       "<table border=\"1\" class=\"dataframe\">\n",
       "  <thead>\n",
       "    <tr style=\"text-align: right;\">\n",
       "      <th></th>\n",
       "      <th>PRAMEF12</th>\n",
       "      <th>AIM1L</th>\n",
       "      <th>GMEB1</th>\n",
       "      <th>GRIK3</th>\n",
       "      <th>RPE65</th>\n",
       "      <th>CLCA4</th>\n",
       "      <th>COL11A1</th>\n",
       "      <th>NRAS</th>\n",
       "      <th>FLG</th>\n",
       "      <th>KPRP</th>\n",
       "      <th>...</th>\n",
       "      <th>SLC25A5</th>\n",
       "      <th>RAP2C</th>\n",
       "      <th>VGLL1</th>\n",
       "      <th>SPANXN4</th>\n",
       "      <th>RPL10</th>\n",
       "      <th>AAGAB</th>\n",
       "      <th>HIST1H4B</th>\n",
       "      <th>RPS4X</th>\n",
       "      <th>ARMCX1</th>\n",
       "      <th>FATE1</th>\n",
       "    </tr>\n",
       "    <tr>\n",
       "      <th>mapping_patient_id</th>\n",
       "      <th></th>\n",
       "      <th></th>\n",
       "      <th></th>\n",
       "      <th></th>\n",
       "      <th></th>\n",
       "      <th></th>\n",
       "      <th></th>\n",
       "      <th></th>\n",
       "      <th></th>\n",
       "      <th></th>\n",
       "      <th></th>\n",
       "      <th></th>\n",
       "      <th></th>\n",
       "      <th></th>\n",
       "      <th></th>\n",
       "      <th></th>\n",
       "      <th></th>\n",
       "      <th></th>\n",
       "      <th></th>\n",
       "      <th></th>\n",
       "      <th></th>\n",
       "    </tr>\n",
       "  </thead>\n",
       "  <tbody>\n",
       "    <tr>\n",
       "      <th>TCGA-3N-A9WB</th>\n",
       "      <td>1</td>\n",
       "      <td>1</td>\n",
       "      <td>1</td>\n",
       "      <td>1</td>\n",
       "      <td>1</td>\n",
       "      <td>1</td>\n",
       "      <td>1</td>\n",
       "      <td>1</td>\n",
       "      <td>1</td>\n",
       "      <td>1</td>\n",
       "      <td>...</td>\n",
       "      <td>0</td>\n",
       "      <td>0</td>\n",
       "      <td>0</td>\n",
       "      <td>0</td>\n",
       "      <td>0</td>\n",
       "      <td>0</td>\n",
       "      <td>0</td>\n",
       "      <td>0</td>\n",
       "      <td>0</td>\n",
       "      <td>0</td>\n",
       "    </tr>\n",
       "    <tr>\n",
       "      <th>TCGA-3N-A9WC</th>\n",
       "      <td>0</td>\n",
       "      <td>0</td>\n",
       "      <td>0</td>\n",
       "      <td>1</td>\n",
       "      <td>0</td>\n",
       "      <td>0</td>\n",
       "      <td>1</td>\n",
       "      <td>1</td>\n",
       "      <td>1</td>\n",
       "      <td>0</td>\n",
       "      <td>...</td>\n",
       "      <td>0</td>\n",
       "      <td>0</td>\n",
       "      <td>0</td>\n",
       "      <td>0</td>\n",
       "      <td>0</td>\n",
       "      <td>0</td>\n",
       "      <td>0</td>\n",
       "      <td>0</td>\n",
       "      <td>0</td>\n",
       "      <td>0</td>\n",
       "    </tr>\n",
       "    <tr>\n",
       "      <th>TCGA-3N-A9WD</th>\n",
       "      <td>0</td>\n",
       "      <td>0</td>\n",
       "      <td>0</td>\n",
       "      <td>0</td>\n",
       "      <td>0</td>\n",
       "      <td>0</td>\n",
       "      <td>1</td>\n",
       "      <td>1</td>\n",
       "      <td>1</td>\n",
       "      <td>0</td>\n",
       "      <td>...</td>\n",
       "      <td>0</td>\n",
       "      <td>0</td>\n",
       "      <td>0</td>\n",
       "      <td>0</td>\n",
       "      <td>0</td>\n",
       "      <td>0</td>\n",
       "      <td>0</td>\n",
       "      <td>0</td>\n",
       "      <td>0</td>\n",
       "      <td>0</td>\n",
       "    </tr>\n",
       "    <tr>\n",
       "      <th>TCGA-BF-A1PU</th>\n",
       "      <td>0</td>\n",
       "      <td>0</td>\n",
       "      <td>0</td>\n",
       "      <td>0</td>\n",
       "      <td>0</td>\n",
       "      <td>0</td>\n",
       "      <td>0</td>\n",
       "      <td>0</td>\n",
       "      <td>1</td>\n",
       "      <td>0</td>\n",
       "      <td>...</td>\n",
       "      <td>0</td>\n",
       "      <td>0</td>\n",
       "      <td>0</td>\n",
       "      <td>0</td>\n",
       "      <td>0</td>\n",
       "      <td>0</td>\n",
       "      <td>0</td>\n",
       "      <td>0</td>\n",
       "      <td>0</td>\n",
       "      <td>0</td>\n",
       "    </tr>\n",
       "    <tr>\n",
       "      <th>TCGA-BF-A1PV</th>\n",
       "      <td>0</td>\n",
       "      <td>0</td>\n",
       "      <td>0</td>\n",
       "      <td>0</td>\n",
       "      <td>0</td>\n",
       "      <td>0</td>\n",
       "      <td>1</td>\n",
       "      <td>1</td>\n",
       "      <td>0</td>\n",
       "      <td>0</td>\n",
       "      <td>...</td>\n",
       "      <td>0</td>\n",
       "      <td>0</td>\n",
       "      <td>0</td>\n",
       "      <td>0</td>\n",
       "      <td>0</td>\n",
       "      <td>0</td>\n",
       "      <td>0</td>\n",
       "      <td>0</td>\n",
       "      <td>0</td>\n",
       "      <td>0</td>\n",
       "    </tr>\n",
       "  </tbody>\n",
       "</table>\n",
       "<p>5 rows × 16078 columns</p>\n",
       "</div>"
      ],
      "text/plain": [
       "                    PRAMEF12  AIM1L  GMEB1  GRIK3  RPE65  CLCA4  COL11A1  \\\n",
       "mapping_patient_id                                                         \n",
       "TCGA-3N-A9WB               1      1      1      1      1      1        1   \n",
       "TCGA-3N-A9WC               0      0      0      1      0      0        1   \n",
       "TCGA-3N-A9WD               0      0      0      0      0      0        1   \n",
       "TCGA-BF-A1PU               0      0      0      0      0      0        0   \n",
       "TCGA-BF-A1PV               0      0      0      0      0      0        1   \n",
       "\n",
       "                    NRAS  FLG  KPRP  ...  SLC25A5  RAP2C  VGLL1  SPANXN4  \\\n",
       "mapping_patient_id                   ...                                   \n",
       "TCGA-3N-A9WB           1    1     1  ...        0      0      0        0   \n",
       "TCGA-3N-A9WC           1    1     0  ...        0      0      0        0   \n",
       "TCGA-3N-A9WD           1    1     0  ...        0      0      0        0   \n",
       "TCGA-BF-A1PU           0    1     0  ...        0      0      0        0   \n",
       "TCGA-BF-A1PV           1    0     0  ...        0      0      0        0   \n",
       "\n",
       "                    RPL10  AAGAB  HIST1H4B  RPS4X  ARMCX1  FATE1  \n",
       "mapping_patient_id                                                \n",
       "TCGA-3N-A9WB            0      0         0      0       0      0  \n",
       "TCGA-3N-A9WC            0      0         0      0       0      0  \n",
       "TCGA-3N-A9WD            0      0         0      0       0      0  \n",
       "TCGA-BF-A1PU            0      0         0      0       0      0  \n",
       "TCGA-BF-A1PV            0      0         0      0       0      0  \n",
       "\n",
       "[5 rows x 16078 columns]"
      ]
     },
     "execution_count": 286,
     "metadata": {},
     "output_type": "execute_result"
    }
   ],
   "source": [
    "mutations.head()"
   ]
  },
  {
   "cell_type": "markdown",
   "id": "4ed71cd7",
   "metadata": {},
   "source": [
    "## Load expression data"
   ]
  },
  {
   "cell_type": "code",
   "execution_count": 287,
   "id": "47f6e93c",
   "metadata": {},
   "outputs": [],
   "source": [
    "skcm_exp = pd.read_csv('../data/skcm_tcga_pan_can_atlas_2018/data_mrna_seq_v2_rsem_zscores_ref_all_samples.txt',\n",
    "                       sep='\\t').dropna().set_index('Hugo_Symbol').drop(['Entrez_Gene_Id'], axis=1).T\n",
    "skcm_exp.index = ['-'.join(ind.split('-')[:-1]) for ind in skcm_exp.index]"
   ]
  },
  {
   "cell_type": "markdown",
   "id": "f70aeeb7",
   "metadata": {},
   "source": [
    "Select informative genes:"
   ]
  },
  {
   "cell_type": "code",
   "execution_count": 288,
   "id": "5896d547",
   "metadata": {},
   "outputs": [],
   "source": [
    "non_constant_genes = util.select_non_constant_genes(skcm_exp)\n",
    "highly_variable_genes = util.select_highly_variable_genes(skcm_exp)['Hugo_Symbol'].values\n",
    "selected_genes = ['TP53', 'AR', 'PTEN', 'NOTCH1']\n",
    "genes = list(set(highly_variable_genes).intersection(non_constant_genes)) + selected_genes\n",
    "skcm_exp = skcm_exp[genes].copy()"
   ]
  },
  {
   "cell_type": "code",
   "execution_count": 289,
   "id": "ff9c199a",
   "metadata": {},
   "outputs": [
    {
     "data": {
      "text/html": [
       "<div>\n",
       "<style scoped>\n",
       "    .dataframe tbody tr th:only-of-type {\n",
       "        vertical-align: middle;\n",
       "    }\n",
       "\n",
       "    .dataframe tbody tr th {\n",
       "        vertical-align: top;\n",
       "    }\n",
       "\n",
       "    .dataframe thead th {\n",
       "        text-align: right;\n",
       "    }\n",
       "</style>\n",
       "<table border=\"1\" class=\"dataframe\">\n",
       "  <thead>\n",
       "    <tr style=\"text-align: right;\">\n",
       "      <th>Hugo_Symbol</th>\n",
       "      <th>CDC25B</th>\n",
       "      <th>HERC2P4</th>\n",
       "      <th>SORBS2</th>\n",
       "      <th>NUAK2</th>\n",
       "      <th>DIS3</th>\n",
       "      <th>ZNF841</th>\n",
       "      <th>YY2</th>\n",
       "      <th>HYAL3</th>\n",
       "      <th>MACF1</th>\n",
       "      <th>SNAPC4</th>\n",
       "      <th>...</th>\n",
       "      <th>SAMD9</th>\n",
       "      <th>ANKRD31</th>\n",
       "      <th>TCF7L1</th>\n",
       "      <th>FGF13</th>\n",
       "      <th>FGF13</th>\n",
       "      <th>C1orf198</th>\n",
       "      <th>TP53</th>\n",
       "      <th>AR</th>\n",
       "      <th>PTEN</th>\n",
       "      <th>NOTCH1</th>\n",
       "    </tr>\n",
       "  </thead>\n",
       "  <tbody>\n",
       "    <tr>\n",
       "      <th>TCGA-3N-A9WB</th>\n",
       "      <td>0.1889</td>\n",
       "      <td>-0.0966</td>\n",
       "      <td>-1.1444</td>\n",
       "      <td>-1.1601</td>\n",
       "      <td>-0.6448</td>\n",
       "      <td>-0.9363</td>\n",
       "      <td>-0.4098</td>\n",
       "      <td>-0.2599</td>\n",
       "      <td>-0.6384</td>\n",
       "      <td>0.3245</td>\n",
       "      <td>...</td>\n",
       "      <td>-0.2592</td>\n",
       "      <td>0.0174</td>\n",
       "      <td>0.5673</td>\n",
       "      <td>-1.9481</td>\n",
       "      <td>-1.8435</td>\n",
       "      <td>-1.8162</td>\n",
       "      <td>-1.6763</td>\n",
       "      <td>0.0236</td>\n",
       "      <td>0.7048</td>\n",
       "      <td>-0.4547</td>\n",
       "    </tr>\n",
       "    <tr>\n",
       "      <th>TCGA-3N-A9WC</th>\n",
       "      <td>-0.5120</td>\n",
       "      <td>0.6660</td>\n",
       "      <td>1.3885</td>\n",
       "      <td>0.7274</td>\n",
       "      <td>0.3295</td>\n",
       "      <td>1.3127</td>\n",
       "      <td>1.5572</td>\n",
       "      <td>-1.0880</td>\n",
       "      <td>-0.4574</td>\n",
       "      <td>0.5153</td>\n",
       "      <td>...</td>\n",
       "      <td>1.4618</td>\n",
       "      <td>0.0104</td>\n",
       "      <td>-1.5413</td>\n",
       "      <td>0.9466</td>\n",
       "      <td>0.4750</td>\n",
       "      <td>0.4765</td>\n",
       "      <td>-2.2116</td>\n",
       "      <td>-0.9663</td>\n",
       "      <td>-0.1841</td>\n",
       "      <td>-0.3964</td>\n",
       "    </tr>\n",
       "    <tr>\n",
       "      <th>TCGA-3N-A9WD</th>\n",
       "      <td>-0.0448</td>\n",
       "      <td>-0.7819</td>\n",
       "      <td>1.0294</td>\n",
       "      <td>0.8199</td>\n",
       "      <td>0.1108</td>\n",
       "      <td>0.5099</td>\n",
       "      <td>0.0001</td>\n",
       "      <td>0.3778</td>\n",
       "      <td>-0.2733</td>\n",
       "      <td>0.0430</td>\n",
       "      <td>...</td>\n",
       "      <td>-0.2564</td>\n",
       "      <td>-1.8294</td>\n",
       "      <td>0.5938</td>\n",
       "      <td>0.9496</td>\n",
       "      <td>1.0831</td>\n",
       "      <td>-0.6763</td>\n",
       "      <td>-0.3776</td>\n",
       "      <td>0.3916</td>\n",
       "      <td>0.7683</td>\n",
       "      <td>-0.1380</td>\n",
       "    </tr>\n",
       "    <tr>\n",
       "      <th>TCGA-BF-A1PU</th>\n",
       "      <td>0.6002</td>\n",
       "      <td>-2.3033</td>\n",
       "      <td>0.1269</td>\n",
       "      <td>-0.2571</td>\n",
       "      <td>-0.5318</td>\n",
       "      <td>-0.7310</td>\n",
       "      <td>-1.4357</td>\n",
       "      <td>0.8055</td>\n",
       "      <td>-0.7771</td>\n",
       "      <td>0.3605</td>\n",
       "      <td>...</td>\n",
       "      <td>-1.2355</td>\n",
       "      <td>-1.2893</td>\n",
       "      <td>0.2253</td>\n",
       "      <td>1.7458</td>\n",
       "      <td>2.5918</td>\n",
       "      <td>1.7483</td>\n",
       "      <td>2.0615</td>\n",
       "      <td>-0.7324</td>\n",
       "      <td>-2.2416</td>\n",
       "      <td>0.8743</td>\n",
       "    </tr>\n",
       "    <tr>\n",
       "      <th>TCGA-BF-A1PV</th>\n",
       "      <td>0.6379</td>\n",
       "      <td>-2.3033</td>\n",
       "      <td>1.4936</td>\n",
       "      <td>-0.4482</td>\n",
       "      <td>0.4898</td>\n",
       "      <td>0.1413</td>\n",
       "      <td>-0.0532</td>\n",
       "      <td>1.1243</td>\n",
       "      <td>0.4816</td>\n",
       "      <td>-0.1690</td>\n",
       "      <td>...</td>\n",
       "      <td>0.3411</td>\n",
       "      <td>-1.3271</td>\n",
       "      <td>1.4849</td>\n",
       "      <td>-0.9716</td>\n",
       "      <td>-1.5622</td>\n",
       "      <td>0.1055</td>\n",
       "      <td>0.6479</td>\n",
       "      <td>-0.7766</td>\n",
       "      <td>0.6337</td>\n",
       "      <td>0.2319</td>\n",
       "    </tr>\n",
       "  </tbody>\n",
       "</table>\n",
       "<p>5 rows × 977 columns</p>\n",
       "</div>"
      ],
      "text/plain": [
       "Hugo_Symbol   CDC25B  HERC2P4  SORBS2   NUAK2    DIS3  ZNF841     YY2   HYAL3  \\\n",
       "TCGA-3N-A9WB  0.1889  -0.0966 -1.1444 -1.1601 -0.6448 -0.9363 -0.4098 -0.2599   \n",
       "TCGA-3N-A9WC -0.5120   0.6660  1.3885  0.7274  0.3295  1.3127  1.5572 -1.0880   \n",
       "TCGA-3N-A9WD -0.0448  -0.7819  1.0294  0.8199  0.1108  0.5099  0.0001  0.3778   \n",
       "TCGA-BF-A1PU  0.6002  -2.3033  0.1269 -0.2571 -0.5318 -0.7310 -1.4357  0.8055   \n",
       "TCGA-BF-A1PV  0.6379  -2.3033  1.4936 -0.4482  0.4898  0.1413 -0.0532  1.1243   \n",
       "\n",
       "Hugo_Symbol    MACF1  SNAPC4  ...   SAMD9  ANKRD31  TCF7L1   FGF13   FGF13  \\\n",
       "TCGA-3N-A9WB -0.6384  0.3245  ... -0.2592   0.0174  0.5673 -1.9481 -1.8435   \n",
       "TCGA-3N-A9WC -0.4574  0.5153  ...  1.4618   0.0104 -1.5413  0.9466  0.4750   \n",
       "TCGA-3N-A9WD -0.2733  0.0430  ... -0.2564  -1.8294  0.5938  0.9496  1.0831   \n",
       "TCGA-BF-A1PU -0.7771  0.3605  ... -1.2355  -1.2893  0.2253  1.7458  2.5918   \n",
       "TCGA-BF-A1PV  0.4816 -0.1690  ...  0.3411  -1.3271  1.4849 -0.9716 -1.5622   \n",
       "\n",
       "Hugo_Symbol   C1orf198    TP53      AR    PTEN  NOTCH1  \n",
       "TCGA-3N-A9WB   -1.8162 -1.6763  0.0236  0.7048 -0.4547  \n",
       "TCGA-3N-A9WC    0.4765 -2.2116 -0.9663 -0.1841 -0.3964  \n",
       "TCGA-3N-A9WD   -0.6763 -0.3776  0.3916  0.7683 -0.1380  \n",
       "TCGA-BF-A1PU    1.7483  2.0615 -0.7324 -2.2416  0.8743  \n",
       "TCGA-BF-A1PV    0.1055  0.6479 -0.7766  0.6337  0.2319  \n",
       "\n",
       "[5 rows x 977 columns]"
      ]
     },
     "execution_count": 289,
     "metadata": {},
     "output_type": "execute_result"
    }
   ],
   "source": [
    "skcm_exp.head()"
   ]
  },
  {
   "cell_type": "markdown",
   "id": "6e42adf2",
   "metadata": {},
   "source": [
    "## Load prediction target"
   ]
  },
  {
   "cell_type": "code",
   "execution_count": 290,
   "id": "f93998e2",
   "metadata": {},
   "outputs": [],
   "source": [
    "mat_TCGA = pd.read_csv('../data/m1000/mat_TCGA.tsv', sep='\\t').set_index('Tumor_Sample_Barcode')\n",
    "\n",
    "mat_TCGA = mat_TCGA.join(clinical_mapping[['mapping_patient_id']], how='inner').set_index('mapping_patient_id')\n",
    "\n",
    "heterogeneity_y = pd.DataFrame(index=mat_TCGA.index, columns=['dichtomized_heterogeneity'],\n",
    "                               data=[int(p > mat_TCGA['heterogeneity'].median()) \n",
    "                                     for p in mat_TCGA['heterogeneity'].values])"
   ]
  },
  {
   "cell_type": "code",
   "execution_count": 291,
   "id": "8b99acd9",
   "metadata": {},
   "outputs": [],
   "source": [
    "absolute_TCGA = pd.read_csv('../data/m1000/TCGA_mastercalls.abs_tables_JSedit.fixed.txt', delimiter='\\t')\n",
    "absolute_TCGA['array'] =  absolute_TCGA['array'].apply(lambda x: x[:-3])\n",
    "absolute_TCGA.set_index('array', inplace=True)\n",
    "absolute_TCGA = absolute_TCGA.loc[list(set(absolute_TCGA.index).intersection(skcm_exp.index))].copy()\n",
    "absolute_TCGA.dropna(inplace=True)\n",
    "gm = GaussianMixture(n_components=2, random_state=0).fit(absolute_TCGA['ploidy'].values.reshape(-1, 1))\n",
    "y = gm.predict_proba(np.linspace(0,absolute_TCGA['ploidy'].max(),1000).reshape(-1,1))\n",
    "ma = np.linspace(0,absolute_TCGA['ploidy'].max(),1000)[y[:,1] < 0.5].max()\n",
    "absolute_ploidy_y = pd.DataFrame(index=absolute_TCGA.index, columns=['dichtomized_ploidy'],\n",
    "                               data=[int(p > ma) \n",
    "                                     for p in absolute_TCGA['ploidy'].values])"
   ]
  },
  {
   "cell_type": "code",
   "execution_count": 292,
   "id": "ff552ff3",
   "metadata": {},
   "outputs": [
    {
     "data": {
      "image/png": "[encoded data removed]",
      "text/plain": [
       "<Figure size 640x480 with 1 Axes>"
      ]
     },
     "metadata": {},
     "output_type": "display_data"
    }
   ],
   "source": [
    "plt.hist(absolute_TCGA['ploidy'], bins=80)\n",
    "plt.vlines([ma], color='r', ymin=0, ymax=50)\n",
    "plt.show()"
   ]
  },
  {
   "cell_type": "code",
   "execution_count": 293,
   "id": "a82040ef",
   "metadata": {},
   "outputs": [],
   "source": [
    "heterogeneity_y_ex = pd.qcut(mat_TCGA['heterogeneity'], 3, labels=['low', 'mid', 'high'])\n",
    "heterogeneity_y_ex = heterogeneity_y_ex[heterogeneity_y_ex!='mid']\n",
    "heterogeneity_y_ex = pd.DataFrame(index=heterogeneity_y_ex.index, columns=['dichtomized_heterogeneity'],\n",
    "                               data=[int(p == 'high') \n",
    "                                     for p in heterogeneity_y_ex])"
   ]
  },
  {
   "cell_type": "code",
   "execution_count": 301,
   "id": "f3c2ac5f",
   "metadata": {},
   "outputs": [],
   "source": [
    "gm = GaussianMixture(n_components=2, random_state=0).fit(mat_TCGA['ploidy'].values.reshape(-1, 1))\n",
    "y = gm.predict_proba(np.linspace(0,mat_TCGA['ploidy'].max(),1000).reshape(-1,1))\n",
    "ma = np.linspace(0,mat_TCGA['ploidy'].max(),1000)[y[:,1] < 0.5].max()\n",
    "ploidy_y = pd.DataFrame(index=mat_TCGA.index, columns=['dichtomized_ploidy'],\n",
    "                               data=[int(p > ma) \n",
    "                                     for p in mat_TCGA['ploidy'].values])"
   ]
  },
  {
   "cell_type": "code",
   "execution_count": 295,
   "id": "8a6624d3",
   "metadata": {},
   "outputs": [],
   "source": [
    "ploidy_y_ex = pd.qcut(mat_TCGA['ploidy'], 3, labels=['low', 'mid', 'high'])\n",
    "ploidy_y_ex = ploidy_y_ex[ploidy_y_ex!='mid']\n",
    "ploidy_y_ex = pd.DataFrame(index=ploidy_y_ex.index, columns=['dichtomized_ploidy'],\n",
    "                               data=[int(p == 'high') \n",
    "                                     for p in ploidy_y_ex])"
   ]
  },
  {
   "cell_type": "markdown",
   "id": "7736000c",
   "metadata": {},
   "source": [
    "## Train with run()"
   ]
  },
  {
   "cell_type": "code",
   "execution_count": 296,
   "id": "a5a5ab0e",
   "metadata": {},
   "outputs": [],
   "source": [
    "import Pnet"
   ]
  },
  {
   "cell_type": "code",
   "execution_count": 297,
   "id": "d9547e98",
   "metadata": {},
   "outputs": [],
   "source": [
    "genetic_data = {'rna': skcm_exp, 'mut': mutations}"
   ]
  },
  {
   "cell_type": "code",
   "execution_count": 298,
   "id": "26c713cd",
   "metadata": {},
   "outputs": [],
   "source": [
    "def fold_run(x, y, n):\n",
    "    aucs = []\n",
    "    most_imp_genes = []\n",
    "    for r in range(n):\n",
    "        print('run: {}'.format(r))\n",
    "        model, train_scores, test_scores, train_dataset, test_dataset = Pnet.run(x,\n",
    "                                                                             y,\n",
    "                                                                             verbose=False,\n",
    "                                                                             early_stopping=False)\n",
    "\n",
    "        x_train = train_dataset.input_df.values\n",
    "        additional_train = train_dataset.additional_data.values\n",
    "        y_train = train_dataset.target.values.reshape(-1)\n",
    "        x_test = test_dataset.input_df.values\n",
    "        additional_test = test_dataset.additional_data.values\n",
    "        y_test = test_dataset.target.values.reshape(-1)\n",
    "\n",
    "        pred = model(torch.tensor(x_test, dtype=torch.float),\n",
    "                                  torch.tensor(additional_test, dtype=torch.float)\n",
    "                    )\n",
    "        y_pred_proba = pred.detach().numpy().squeeze()\n",
    "        fpr, tpr, _ = metrics.roc_curve(y_test,  y_pred_proba)\n",
    "        test_auc = metrics.roc_auc_score(y_test, pred.detach().numpy().squeeze())\n",
    "\n",
    "        aucs.append(test_auc)\n",
    "\n",
    "        gene_importances, additional_importances = model.deepLIFT(test_dataset)\n",
    "        most_imp_genes.append(gene_importances.sum().nlargest(20))\n",
    "    return aucs, most_imp_genes"
   ]
  },
  {
   "cell_type": "code",
   "execution_count": 302,
   "id": "cf412f8d",
   "metadata": {},
   "outputs": [
    {
     "name": "stdout",
     "output_type": "stream",
     "text": [
      "run: 0\n",
      "Given 2 Input modalities\n",
      "Found 421 overlapping indicies\n",
      "Initializing Train Dataset\n",
      "Found 675 overlapping genes\n",
      "generated input DataFrame of size (295, 1350)\n",
      "Initializing Test Dataset\n",
      "Found 675 overlapping genes\n",
      "generated input DataFrame of size (126, 1350)\n",
      "Found 675 overlapping genes\n"
     ]
    },
    {
     "name": "stderr",
     "output_type": "stream",
     "text": [
      "/Users/marc/opt/anaconda3/envs/pnet/lib/python3.10/site-packages/captum/attr/_core/deep_lift.py:304: UserWarning: Setting forward, backward hooks and attributes on non-linear\n",
      "               activations. The hooks and attributes will be removed\n",
      "            after the attribution is finished\n",
      "  warnings.warn(\n"
     ]
    },
    {
     "name": "stdout",
     "output_type": "stream",
     "text": [
      "run: 1\n",
      "Given 2 Input modalities\n",
      "Found 421 overlapping indicies\n",
      "Initializing Train Dataset\n",
      "Found 675 overlapping genes\n",
      "generated input DataFrame of size (295, 1350)\n",
      "Initializing Test Dataset\n",
      "Found 675 overlapping genes\n",
      "generated input DataFrame of size (126, 1350)\n",
      "Found 675 overlapping genes\n"
     ]
    },
    {
     "name": "stderr",
     "output_type": "stream",
     "text": [
      "/Users/marc/opt/anaconda3/envs/pnet/lib/python3.10/site-packages/captum/attr/_core/deep_lift.py:304: UserWarning: Setting forward, backward hooks and attributes on non-linear\n",
      "               activations. The hooks and attributes will be removed\n",
      "            after the attribution is finished\n",
      "  warnings.warn(\n"
     ]
    },
    {
     "name": "stdout",
     "output_type": "stream",
     "text": [
      "run: 2\n",
      "Given 2 Input modalities\n",
      "Found 421 overlapping indicies\n",
      "Initializing Train Dataset\n",
      "Found 675 overlapping genes\n",
      "generated input DataFrame of size (295, 1350)\n",
      "Initializing Test Dataset\n",
      "Found 675 overlapping genes\n",
      "generated input DataFrame of size (126, 1350)\n",
      "Found 675 overlapping genes\n"
     ]
    },
    {
     "name": "stderr",
     "output_type": "stream",
     "text": [
      "/Users/marc/opt/anaconda3/envs/pnet/lib/python3.10/site-packages/captum/attr/_core/deep_lift.py:304: UserWarning: Setting forward, backward hooks and attributes on non-linear\n",
      "               activations. The hooks and attributes will be removed\n",
      "            after the attribution is finished\n",
      "  warnings.warn(\n"
     ]
    },
    {
     "name": "stdout",
     "output_type": "stream",
     "text": [
      "run: 3\n",
      "Given 2 Input modalities\n",
      "Found 421 overlapping indicies\n",
      "Initializing Train Dataset\n",
      "Found 675 overlapping genes\n",
      "generated input DataFrame of size (295, 1350)\n",
      "Initializing Test Dataset\n",
      "Found 675 overlapping genes\n",
      "generated input DataFrame of size (126, 1350)\n",
      "Found 675 overlapping genes\n"
     ]
    },
    {
     "name": "stderr",
     "output_type": "stream",
     "text": [
      "/Users/marc/opt/anaconda3/envs/pnet/lib/python3.10/site-packages/captum/attr/_core/deep_lift.py:304: UserWarning: Setting forward, backward hooks and attributes on non-linear\n",
      "               activations. The hooks and attributes will be removed\n",
      "            after the attribution is finished\n",
      "  warnings.warn(\n"
     ]
    },
    {
     "name": "stdout",
     "output_type": "stream",
     "text": [
      "run: 4\n",
      "Given 2 Input modalities\n",
      "Found 421 overlapping indicies\n",
      "Initializing Train Dataset\n",
      "Found 675 overlapping genes\n",
      "generated input DataFrame of size (295, 1350)\n",
      "Initializing Test Dataset\n",
      "Found 675 overlapping genes\n",
      "generated input DataFrame of size (126, 1350)\n",
      "Found 675 overlapping genes\n"
     ]
    },
    {
     "name": "stderr",
     "output_type": "stream",
     "text": [
      "/Users/marc/opt/anaconda3/envs/pnet/lib/python3.10/site-packages/captum/attr/_core/deep_lift.py:304: UserWarning: Setting forward, backward hooks and attributes on non-linear\n",
      "               activations. The hooks and attributes will be removed\n",
      "            after the attribution is finished\n",
      "  warnings.warn(\n"
     ]
    },
    {
     "name": "stdout",
     "output_type": "stream",
     "text": [
      "run: 5\n",
      "Given 2 Input modalities\n",
      "Found 421 overlapping indicies\n",
      "Initializing Train Dataset\n",
      "Found 675 overlapping genes\n",
      "generated input DataFrame of size (295, 1350)\n",
      "Initializing Test Dataset\n",
      "Found 675 overlapping genes\n",
      "generated input DataFrame of size (126, 1350)\n",
      "Found 675 overlapping genes\n"
     ]
    },
    {
     "name": "stderr",
     "output_type": "stream",
     "text": [
      "/Users/marc/opt/anaconda3/envs/pnet/lib/python3.10/site-packages/captum/attr/_core/deep_lift.py:304: UserWarning: Setting forward, backward hooks and attributes on non-linear\n",
      "               activations. The hooks and attributes will be removed\n",
      "            after the attribution is finished\n",
      "  warnings.warn(\n"
     ]
    },
    {
     "name": "stdout",
     "output_type": "stream",
     "text": [
      "run: 6\n",
      "Given 2 Input modalities\n",
      "Found 421 overlapping indicies\n",
      "Initializing Train Dataset\n",
      "Found 675 overlapping genes\n",
      "generated input DataFrame of size (295, 1350)\n",
      "Initializing Test Dataset\n",
      "Found 675 overlapping genes\n",
      "generated input DataFrame of size (126, 1350)\n",
      "Found 675 overlapping genes\n"
     ]
    },
    {
     "name": "stderr",
     "output_type": "stream",
     "text": [
      "/Users/marc/opt/anaconda3/envs/pnet/lib/python3.10/site-packages/captum/attr/_core/deep_lift.py:304: UserWarning: Setting forward, backward hooks and attributes on non-linear\n",
      "               activations. The hooks and attributes will be removed\n",
      "            after the attribution is finished\n",
      "  warnings.warn(\n"
     ]
    },
    {
     "name": "stdout",
     "output_type": "stream",
     "text": [
      "run: 7\n",
      "Given 2 Input modalities\n",
      "Found 421 overlapping indicies\n",
      "Initializing Train Dataset\n",
      "Found 675 overlapping genes\n",
      "generated input DataFrame of size (295, 1350)\n",
      "Initializing Test Dataset\n",
      "Found 675 overlapping genes\n",
      "generated input DataFrame of size (126, 1350)\n",
      "Found 675 overlapping genes\n"
     ]
    },
    {
     "name": "stderr",
     "output_type": "stream",
     "text": [
      "/Users/marc/opt/anaconda3/envs/pnet/lib/python3.10/site-packages/captum/attr/_core/deep_lift.py:304: UserWarning: Setting forward, backward hooks and attributes on non-linear\n",
      "               activations. The hooks and attributes will be removed\n",
      "            after the attribution is finished\n",
      "  warnings.warn(\n"
     ]
    },
    {
     "name": "stdout",
     "output_type": "stream",
     "text": [
      "run: 8\n",
      "Given 2 Input modalities\n",
      "Found 421 overlapping indicies\n",
      "Initializing Train Dataset\n",
      "Found 675 overlapping genes\n",
      "generated input DataFrame of size (295, 1350)\n",
      "Initializing Test Dataset\n",
      "Found 675 overlapping genes\n",
      "generated input DataFrame of size (126, 1350)\n",
      "Found 675 overlapping genes\n"
     ]
    },
    {
     "name": "stderr",
     "output_type": "stream",
     "text": [
      "/Users/marc/opt/anaconda3/envs/pnet/lib/python3.10/site-packages/captum/attr/_core/deep_lift.py:304: UserWarning: Setting forward, backward hooks and attributes on non-linear\n",
      "               activations. The hooks and attributes will be removed\n",
      "            after the attribution is finished\n",
      "  warnings.warn(\n"
     ]
    },
    {
     "name": "stdout",
     "output_type": "stream",
     "text": [
      "run: 9\n",
      "Given 2 Input modalities\n",
      "Found 421 overlapping indicies\n",
      "Initializing Train Dataset\n",
      "Found 675 overlapping genes\n",
      "generated input DataFrame of size (295, 1350)\n",
      "Initializing Test Dataset\n",
      "Found 675 overlapping genes\n",
      "generated input DataFrame of size (126, 1350)\n",
      "Found 675 overlapping genes\n"
     ]
    },
    {
     "name": "stderr",
     "output_type": "stream",
     "text": [
      "/Users/marc/opt/anaconda3/envs/pnet/lib/python3.10/site-packages/captum/attr/_core/deep_lift.py:304: UserWarning: Setting forward, backward hooks and attributes on non-linear\n",
      "               activations. The hooks and attributes will be removed\n",
      "            after the attribution is finished\n",
      "  warnings.warn(\n"
     ]
    }
   ],
   "source": [
    "#heterogeneity_auc, heterogeneity_genes = fold_run(genetic_data, heterogeneity_y, 10)\n",
    "#heterogeneity_ex_auc, heterogeneity_ex_genes = fold_run(genetic_data, heterogeneity_y_ex, 10)\n",
    "ploidy_auc, ploidy_genes = fold_run(genetic_data, ploidy_y, 10)\n",
    "#ploidy_ex_auc, ploidy_ex_genes = fold_run(genetic_data, ploidy_y_ex, 10)"
   ]
  },
  {
   "cell_type": "code",
   "execution_count": 307,
   "id": "670acc58",
   "metadata": {},
   "outputs": [
    {
     "data": {
      "image/png": "[encoded data removed]",
      "text/plain": [
       "<Figure size 640x480 with 1 Axes>"
      ]
     },
     "metadata": {},
     "output_type": "display_data"
    }
   ],
   "source": [
    "plt.boxplot([heterogeneity_auc, heterogeneity_ex_auc, ploidy_auc, ploidy_ex_auc],\n",
    "            labels=['heterogeneity', 'heterogeneity \\n extremes', 'ploidy', 'ploidy \\n extremes'])\n",
    "plt.show()"
   ]
  },
  {
   "cell_type": "code",
   "execution_count": 304,
   "id": "00acd8a9",
   "metadata": {},
   "outputs": [],
   "source": [
    "def fold_run_rf(x, y, n):\n",
    "    aucs = []\n",
    "    most_imp_genes = []\n",
    "    for r in range(n):\n",
    "        print('run: {}'.format(r))\n",
    "        train_dataset, test_dataset = pnet_loader.generate_train_test(x, y, None, None, 0.3, None)\n",
    "        clf = RandomForestClassifier()\n",
    "        clf.fit(train_dataset.input_df.values, train_dataset.target.values.reshape(-1))\n",
    "        \n",
    "        x_train = train_dataset.input_df.values\n",
    "        additional_train = train_dataset.additional_data.values\n",
    "        y_train = train_dataset.target.values.reshape(-1)\n",
    "        x_test = test_dataset.input_df.values\n",
    "        additional_test = test_dataset.additional_data.values\n",
    "        y_test = test_dataset.target.values.reshape(-1)\n",
    "\n",
    "        y_pred_proba = clf.predict_proba(x_test)\n",
    "        fpr, tpr, _ = metrics.roc_curve(y_test,  y_pred_proba[:,1])\n",
    "        test_auc = metrics.roc_auc_score(y_test, y_pred_proba[:,1])\n",
    "\n",
    "        aucs.append(test_auc)\n",
    "\n",
    "        gene_importances = clf.feature_importances_\n",
    "        most_imp_genes.append(pd.DataFrame(clf.feature_importances_, index=test_dataset.input_df.columns).nlargest(20, 0))\n",
    "    return aucs, most_imp_genes"
   ]
  },
  {
   "cell_type": "code",
   "execution_count": 305,
   "id": "143f2565",
   "metadata": {},
   "outputs": [
    {
     "name": "stdout",
     "output_type": "stream",
     "text": [
      "run: 0\n",
      "Given 2 Input modalities\n",
      "Found 421 overlapping indicies\n",
      "Initializing Train Dataset\n",
      "Found 675 overlapping genes\n",
      "generated input DataFrame of size (295, 1350)\n",
      "Initializing Test Dataset\n",
      "Found 675 overlapping genes\n",
      "generated input DataFrame of size (126, 1350)\n",
      "run: 1\n",
      "Given 2 Input modalities\n",
      "Found 421 overlapping indicies\n",
      "Initializing Train Dataset\n",
      "Found 675 overlapping genes\n",
      "generated input DataFrame of size (295, 1350)\n",
      "Initializing Test Dataset\n",
      "Found 675 overlapping genes\n",
      "generated input DataFrame of size (126, 1350)\n",
      "run: 2\n",
      "Given 2 Input modalities\n",
      "Found 421 overlapping indicies\n",
      "Initializing Train Dataset\n",
      "Found 675 overlapping genes\n",
      "generated input DataFrame of size (295, 1350)\n",
      "Initializing Test Dataset\n",
      "Found 675 overlapping genes\n",
      "generated input DataFrame of size (126, 1350)\n",
      "run: 3\n",
      "Given 2 Input modalities\n",
      "Found 421 overlapping indicies\n",
      "Initializing Train Dataset\n",
      "Found 675 overlapping genes\n",
      "generated input DataFrame of size (295, 1350)\n",
      "Initializing Test Dataset\n",
      "Found 675 overlapping genes\n",
      "generated input DataFrame of size (126, 1350)\n",
      "run: 4\n",
      "Given 2 Input modalities\n",
      "Found 421 overlapping indicies\n",
      "Initializing Train Dataset\n",
      "Found 675 overlapping genes\n",
      "generated input DataFrame of size (295, 1350)\n",
      "Initializing Test Dataset\n",
      "Found 675 overlapping genes\n",
      "generated input DataFrame of size (126, 1350)\n",
      "run: 5\n",
      "Given 2 Input modalities\n",
      "Found 421 overlapping indicies\n",
      "Initializing Train Dataset\n",
      "Found 675 overlapping genes\n",
      "generated input DataFrame of size (295, 1350)\n",
      "Initializing Test Dataset\n",
      "Found 675 overlapping genes\n",
      "generated input DataFrame of size (126, 1350)\n",
      "run: 6\n",
      "Given 2 Input modalities\n",
      "Found 421 overlapping indicies\n",
      "Initializing Train Dataset\n",
      "Found 675 overlapping genes\n",
      "generated input DataFrame of size (295, 1350)\n",
      "Initializing Test Dataset\n",
      "Found 675 overlapping genes\n",
      "generated input DataFrame of size (126, 1350)\n",
      "run: 7\n",
      "Given 2 Input modalities\n",
      "Found 421 overlapping indicies\n",
      "Initializing Train Dataset\n",
      "Found 675 overlapping genes\n",
      "generated input DataFrame of size (295, 1350)\n",
      "Initializing Test Dataset\n",
      "Found 675 overlapping genes\n",
      "generated input DataFrame of size (126, 1350)\n",
      "run: 8\n",
      "Given 2 Input modalities\n",
      "Found 421 overlapping indicies\n",
      "Initializing Train Dataset\n",
      "Found 675 overlapping genes\n",
      "generated input DataFrame of size (295, 1350)\n",
      "Initializing Test Dataset\n",
      "Found 675 overlapping genes\n",
      "generated input DataFrame of size (126, 1350)\n",
      "run: 9\n",
      "Given 2 Input modalities\n",
      "Found 421 overlapping indicies\n",
      "Initializing Train Dataset\n",
      "Found 675 overlapping genes\n",
      "generated input DataFrame of size (295, 1350)\n",
      "Initializing Test Dataset\n",
      "Found 675 overlapping genes\n",
      "generated input DataFrame of size (126, 1350)\n",
      "run: 0\n",
      "Given 2 Input modalities\n",
      "Found 283 overlapping indicies\n",
      "Initializing Train Dataset\n",
      "Found 675 overlapping genes\n",
      "generated input DataFrame of size (198, 1350)\n",
      "Initializing Test Dataset\n",
      "Found 675 overlapping genes\n",
      "generated input DataFrame of size (85, 1350)\n",
      "run: 1\n",
      "Given 2 Input modalities\n",
      "Found 283 overlapping indicies\n",
      "Initializing Train Dataset\n",
      "Found 675 overlapping genes\n",
      "generated input DataFrame of size (198, 1350)\n",
      "Initializing Test Dataset\n",
      "Found 675 overlapping genes\n",
      "generated input DataFrame of size (85, 1350)\n",
      "run: 2\n",
      "Given 2 Input modalities\n",
      "Found 283 overlapping indicies\n",
      "Initializing Train Dataset\n",
      "Found 675 overlapping genes\n",
      "generated input DataFrame of size (198, 1350)\n",
      "Initializing Test Dataset\n",
      "Found 675 overlapping genes\n",
      "generated input DataFrame of size (85, 1350)\n",
      "run: 3\n",
      "Given 2 Input modalities\n",
      "Found 283 overlapping indicies\n",
      "Initializing Train Dataset\n",
      "Found 675 overlapping genes\n",
      "generated input DataFrame of size (198, 1350)\n",
      "Initializing Test Dataset\n",
      "Found 675 overlapping genes\n",
      "generated input DataFrame of size (85, 1350)\n",
      "run: 4\n",
      "Given 2 Input modalities\n",
      "Found 283 overlapping indicies\n",
      "Initializing Train Dataset\n",
      "Found 675 overlapping genes\n",
      "generated input DataFrame of size (198, 1350)\n",
      "Initializing Test Dataset\n",
      "Found 675 overlapping genes\n",
      "generated input DataFrame of size (85, 1350)\n",
      "run: 5\n",
      "Given 2 Input modalities\n",
      "Found 283 overlapping indicies\n",
      "Initializing Train Dataset\n",
      "Found 675 overlapping genes\n",
      "generated input DataFrame of size (198, 1350)\n",
      "Initializing Test Dataset\n",
      "Found 675 overlapping genes\n",
      "generated input DataFrame of size (85, 1350)\n",
      "run: 6\n",
      "Given 2 Input modalities\n",
      "Found 283 overlapping indicies\n",
      "Initializing Train Dataset\n",
      "Found 675 overlapping genes\n",
      "generated input DataFrame of size (198, 1350)\n",
      "Initializing Test Dataset\n",
      "Found 675 overlapping genes\n",
      "generated input DataFrame of size (85, 1350)\n",
      "run: 7\n",
      "Given 2 Input modalities\n",
      "Found 283 overlapping indicies\n",
      "Initializing Train Dataset\n",
      "Found 675 overlapping genes\n",
      "generated input DataFrame of size (198, 1350)\n",
      "Initializing Test Dataset\n",
      "Found 675 overlapping genes\n",
      "generated input DataFrame of size (85, 1350)\n",
      "run: 8\n",
      "Given 2 Input modalities\n",
      "Found 283 overlapping indicies\n",
      "Initializing Train Dataset\n",
      "Found 675 overlapping genes\n",
      "generated input DataFrame of size (198, 1350)\n",
      "Initializing Test Dataset\n",
      "Found 675 overlapping genes\n",
      "generated input DataFrame of size (85, 1350)\n",
      "run: 9\n",
      "Given 2 Input modalities\n",
      "Found 283 overlapping indicies\n",
      "Initializing Train Dataset\n",
      "Found 675 overlapping genes\n",
      "generated input DataFrame of size (198, 1350)\n",
      "Initializing Test Dataset\n",
      "Found 675 overlapping genes\n",
      "generated input DataFrame of size (85, 1350)\n",
      "run: 0\n",
      "Given 2 Input modalities\n",
      "Found 421 overlapping indicies\n",
      "Initializing Train Dataset\n",
      "Found 675 overlapping genes\n",
      "generated input DataFrame of size (295, 1350)\n",
      "Initializing Test Dataset\n",
      "Found 675 overlapping genes\n",
      "generated input DataFrame of size (126, 1350)\n",
      "run: 1\n",
      "Given 2 Input modalities\n",
      "Found 421 overlapping indicies\n",
      "Initializing Train Dataset\n",
      "Found 675 overlapping genes\n",
      "generated input DataFrame of size (295, 1350)\n",
      "Initializing Test Dataset\n",
      "Found 675 overlapping genes\n",
      "generated input DataFrame of size (126, 1350)\n",
      "run: 2\n",
      "Given 2 Input modalities\n",
      "Found 421 overlapping indicies\n",
      "Initializing Train Dataset\n",
      "Found 675 overlapping genes\n",
      "generated input DataFrame of size (295, 1350)\n",
      "Initializing Test Dataset\n",
      "Found 675 overlapping genes\n",
      "generated input DataFrame of size (126, 1350)\n",
      "run: 3\n",
      "Given 2 Input modalities\n",
      "Found 421 overlapping indicies\n",
      "Initializing Train Dataset\n",
      "Found 675 overlapping genes\n",
      "generated input DataFrame of size (295, 1350)\n",
      "Initializing Test Dataset\n",
      "Found 675 overlapping genes\n",
      "generated input DataFrame of size (126, 1350)\n",
      "run: 4\n",
      "Given 2 Input modalities\n",
      "Found 421 overlapping indicies\n",
      "Initializing Train Dataset\n",
      "Found 675 overlapping genes\n",
      "generated input DataFrame of size (295, 1350)\n",
      "Initializing Test Dataset\n",
      "Found 675 overlapping genes\n",
      "generated input DataFrame of size (126, 1350)\n",
      "run: 5\n",
      "Given 2 Input modalities\n",
      "Found 421 overlapping indicies\n",
      "Initializing Train Dataset\n",
      "Found 675 overlapping genes\n",
      "generated input DataFrame of size (295, 1350)\n",
      "Initializing Test Dataset\n",
      "Found 675 overlapping genes\n",
      "generated input DataFrame of size (126, 1350)\n",
      "run: 6\n",
      "Given 2 Input modalities\n",
      "Found 421 overlapping indicies\n",
      "Initializing Train Dataset\n",
      "Found 675 overlapping genes\n",
      "generated input DataFrame of size (295, 1350)\n",
      "Initializing Test Dataset\n",
      "Found 675 overlapping genes\n",
      "generated input DataFrame of size (126, 1350)\n",
      "run: 7\n",
      "Given 2 Input modalities\n",
      "Found 421 overlapping indicies\n",
      "Initializing Train Dataset\n",
      "Found 675 overlapping genes\n",
      "generated input DataFrame of size (295, 1350)\n",
      "Initializing Test Dataset\n",
      "Found 675 overlapping genes\n",
      "generated input DataFrame of size (126, 1350)\n",
      "run: 8\n",
      "Given 2 Input modalities\n",
      "Found 421 overlapping indicies\n",
      "Initializing Train Dataset\n",
      "Found 675 overlapping genes\n",
      "generated input DataFrame of size (295, 1350)\n",
      "Initializing Test Dataset\n",
      "Found 675 overlapping genes\n",
      "generated input DataFrame of size (126, 1350)\n",
      "run: 9\n",
      "Given 2 Input modalities\n",
      "Found 421 overlapping indicies\n",
      "Initializing Train Dataset\n",
      "Found 675 overlapping genes\n",
      "generated input DataFrame of size (295, 1350)\n",
      "Initializing Test Dataset\n",
      "Found 675 overlapping genes\n",
      "generated input DataFrame of size (126, 1350)\n",
      "run: 0\n",
      "Given 2 Input modalities\n",
      "Found 280 overlapping indicies\n",
      "Initializing Train Dataset\n",
      "Found 675 overlapping genes\n",
      "generated input DataFrame of size (196, 1350)\n",
      "Initializing Test Dataset\n",
      "Found 675 overlapping genes\n",
      "generated input DataFrame of size (84, 1350)\n",
      "run: 1\n",
      "Given 2 Input modalities\n",
      "Found 280 overlapping indicies\n",
      "Initializing Train Dataset\n"
     ]
    },
    {
     "name": "stdout",
     "output_type": "stream",
     "text": [
      "Found 675 overlapping genes\n",
      "generated input DataFrame of size (196, 1350)\n",
      "Initializing Test Dataset\n",
      "Found 675 overlapping genes\n",
      "generated input DataFrame of size (84, 1350)\n",
      "run: 2\n",
      "Given 2 Input modalities\n",
      "Found 280 overlapping indicies\n",
      "Initializing Train Dataset\n",
      "Found 675 overlapping genes\n",
      "generated input DataFrame of size (196, 1350)\n",
      "Initializing Test Dataset\n",
      "Found 675 overlapping genes\n",
      "generated input DataFrame of size (84, 1350)\n",
      "run: 3\n",
      "Given 2 Input modalities\n",
      "Found 280 overlapping indicies\n",
      "Initializing Train Dataset\n",
      "Found 675 overlapping genes\n",
      "generated input DataFrame of size (196, 1350)\n",
      "Initializing Test Dataset\n",
      "Found 675 overlapping genes\n",
      "generated input DataFrame of size (84, 1350)\n",
      "run: 4\n",
      "Given 2 Input modalities\n",
      "Found 280 overlapping indicies\n",
      "Initializing Train Dataset\n",
      "Found 675 overlapping genes\n",
      "generated input DataFrame of size (196, 1350)\n",
      "Initializing Test Dataset\n",
      "Found 675 overlapping genes\n",
      "generated input DataFrame of size (84, 1350)\n",
      "run: 5\n",
      "Given 2 Input modalities\n",
      "Found 280 overlapping indicies\n",
      "Initializing Train Dataset\n",
      "Found 675 overlapping genes\n",
      "generated input DataFrame of size (196, 1350)\n",
      "Initializing Test Dataset\n",
      "Found 675 overlapping genes\n",
      "generated input DataFrame of size (84, 1350)\n",
      "run: 6\n",
      "Given 2 Input modalities\n",
      "Found 280 overlapping indicies\n",
      "Initializing Train Dataset\n",
      "Found 675 overlapping genes\n",
      "generated input DataFrame of size (196, 1350)\n",
      "Initializing Test Dataset\n",
      "Found 675 overlapping genes\n",
      "generated input DataFrame of size (84, 1350)\n",
      "run: 7\n",
      "Given 2 Input modalities\n",
      "Found 280 overlapping indicies\n",
      "Initializing Train Dataset\n",
      "Found 675 overlapping genes\n",
      "generated input DataFrame of size (196, 1350)\n",
      "Initializing Test Dataset\n",
      "Found 675 overlapping genes\n",
      "generated input DataFrame of size (84, 1350)\n",
      "run: 8\n",
      "Given 2 Input modalities\n",
      "Found 280 overlapping indicies\n",
      "Initializing Train Dataset\n",
      "Found 675 overlapping genes\n",
      "generated input DataFrame of size (196, 1350)\n",
      "Initializing Test Dataset\n",
      "Found 675 overlapping genes\n",
      "generated input DataFrame of size (84, 1350)\n",
      "run: 9\n",
      "Given 2 Input modalities\n",
      "Found 280 overlapping indicies\n",
      "Initializing Train Dataset\n",
      "Found 675 overlapping genes\n",
      "generated input DataFrame of size (196, 1350)\n",
      "Initializing Test Dataset\n",
      "Found 675 overlapping genes\n",
      "generated input DataFrame of size (84, 1350)\n"
     ]
    }
   ],
   "source": [
    "heterogeneity_auc, heterogeneity_genes_rf = fold_run_rf(genetic_data, heterogeneity_y, 10)\n",
    "heterogeneity_ex_auc_rf, heterogeneity_ex_genes_rf = fold_run_rf(genetic_data, heterogeneity_y_ex, 10)\n",
    "ploidy_auc_rf, ploidy_genes_rf = fold_run_rf(genetic_data, ploidy_y, 10)\n",
    "ploidy_ex_auc_rf, ploidy_ex_genes_rf = fold_run_rf(genetic_data, ploidy_y_ex, 10)"
   ]
  },
  {
   "cell_type": "code",
   "execution_count": 306,
   "id": "fda977fe",
   "metadata": {},
   "outputs": [
    {
     "data": {
      "image/png": "[encoded data removed]",
      "text/plain": [
       "<Figure size 640x480 with 1 Axes>"
      ]
     },
     "metadata": {},
     "output_type": "display_data"
    }
   ],
   "source": [
    "data_pnet = [heterogeneity_auc, heterogeneity_ex_auc, ploidy_auc, ploidy_ex_auc]\n",
    "data_rf = [heterogeneity_auc_rf, heterogeneity_ex_auc_rf, ploidy_auc_rf, ploidy_ex_auc_rf]\n",
    "\n",
    "ticks = ['heterogeneity', 'heterogeneity \\n extremes', 'ploidy', 'ploidy \\n extremes']\n",
    "\n",
    "def set_box_color(bp, color):\n",
    "    plt.setp(bp['boxes'], color=color)\n",
    "    plt.setp(bp['whiskers'], color=color)\n",
    "    plt.setp(bp['caps'], color=color)\n",
    "    plt.setp(bp['medians'], color=color)\n",
    "    \n",
    "    \n",
    "bpl = plt.boxplot(data_pnet, positions=np.array(range(len(data_pnet)))*2.0-0.4, sym='', widths=0.6)\n",
    "bpr = plt.boxplot(data_rf, positions=np.array(range(len(data_pnet)))*2.0+0.4, sym='', widths=0.6)\n",
    "set_box_color(bpl, '#D7191C') # colors are from http://colorbrewer2.org/\n",
    "set_box_color(bpr, '#2C7BB6')\n",
    "\n",
    "plt.plot([], c='#D7191C', label='pnet')\n",
    "plt.plot([], c='#2C7BB6', label='rf')\n",
    "plt.legend()\n",
    "\n",
    "plt.xticks(range(0, len(ticks) * 2, 2), ticks)\n",
    "plt.xlim(-2, len(ticks)*2)\n",
    "plt.tight_layout()\n",
    "plt.savefig('heterogeneity_ploidy_auc_pnet_vs_rf.pdf')"
   ]
  },
  {
   "cell_type": "code",
   "execution_count": 117,
   "id": "67017873",
   "metadata": {},
   "outputs": [
    {
     "data": {
      "text/plain": [
       "Index(['FBXO47', 'TSSK1B', 'GPR52', 'ADPRHL2', 'RARRES1', 'ZBTB22', 'MACF1',\n",
       "       'MEP1B', 'PLEKHH3', 'SPATS2L', 'ZNF878', 'HIST1H4C', 'SOCS7', 'FAM194A',\n",
       "       'ZNF787', 'KIAA1109', 'BTBD8', 'KCTD16', 'MED8', 'FAM32A'],\n",
       "      dtype='object')"
      ]
     },
     "execution_count": 117,
     "metadata": {},
     "output_type": "execute_result"
    }
   ],
   "source": [
    "ploidy_genes[0].index"
   ]
  },
  {
   "cell_type": "code",
   "execution_count": 124,
   "id": "3aae87a7",
   "metadata": {},
   "outputs": [
    {
     "data": {
      "text/html": [
       "<div>\n",
       "<style scoped>\n",
       "    .dataframe tbody tr th:only-of-type {\n",
       "        vertical-align: middle;\n",
       "    }\n",
       "\n",
       "    .dataframe tbody tr th {\n",
       "        vertical-align: top;\n",
       "    }\n",
       "\n",
       "    .dataframe thead th {\n",
       "        text-align: right;\n",
       "    }\n",
       "</style>\n",
       "<table border=\"1\" class=\"dataframe\">\n",
       "  <thead>\n",
       "    <tr style=\"text-align: right;\">\n",
       "      <th></th>\n",
       "      <th>0</th>\n",
       "    </tr>\n",
       "  </thead>\n",
       "  <tbody>\n",
       "    <tr>\n",
       "      <th>HIST1H4C</th>\n",
       "      <td>7</td>\n",
       "    </tr>\n",
       "    <tr>\n",
       "      <th>MEP1B</th>\n",
       "      <td>6</td>\n",
       "    </tr>\n",
       "    <tr>\n",
       "      <th>ZBTB22</th>\n",
       "      <td>5</td>\n",
       "    </tr>\n",
       "    <tr>\n",
       "      <th>CAGE1</th>\n",
       "      <td>5</td>\n",
       "    </tr>\n",
       "    <tr>\n",
       "      <th>GPR52</th>\n",
       "      <td>4</td>\n",
       "    </tr>\n",
       "    <tr>\n",
       "      <th>ADPRHL2</th>\n",
       "      <td>4</td>\n",
       "    </tr>\n",
       "    <tr>\n",
       "      <th>PRSS37</th>\n",
       "      <td>4</td>\n",
       "    </tr>\n",
       "    <tr>\n",
       "      <th>CXorf58</th>\n",
       "      <td>4</td>\n",
       "    </tr>\n",
       "    <tr>\n",
       "      <th>FBXO47</th>\n",
       "      <td>3</td>\n",
       "    </tr>\n",
       "    <tr>\n",
       "      <th>ARID3C</th>\n",
       "      <td>3</td>\n",
       "    </tr>\n",
       "  </tbody>\n",
       "</table>\n",
       "</div>"
      ],
      "text/plain": [
       "          0\n",
       "HIST1H4C  7\n",
       "MEP1B     6\n",
       "ZBTB22    5\n",
       "CAGE1     5\n",
       "GPR52     4\n",
       "ADPRHL2   4\n",
       "PRSS37    4\n",
       "CXorf58   4\n",
       "FBXO47    3\n",
       "ARID3C    3"
      ]
     },
     "execution_count": 124,
     "metadata": {},
     "output_type": "execute_result"
    }
   ],
   "source": [
    "gene_count_dict = {}\n",
    "for r in ploidy_genes:\n",
    "    for g in r.index:\n",
    "        try:\n",
    "            gene_count_dict[g] += 1\n",
    "        except KeyError:\n",
    "            gene_count_dict[g] = 1\n",
    "pd.DataFrame.from_dict(gene_count_dict, orient='index').nlargest(10, 0)"
   ]
  },
  {
   "cell_type": "code",
   "execution_count": 125,
   "id": "4bbe4a2a",
   "metadata": {},
   "outputs": [
    {
     "data": {
      "text/html": [
       "<div>\n",
       "<style scoped>\n",
       "    .dataframe tbody tr th:only-of-type {\n",
       "        vertical-align: middle;\n",
       "    }\n",
       "\n",
       "    .dataframe tbody tr th {\n",
       "        vertical-align: top;\n",
       "    }\n",
       "\n",
       "    .dataframe thead th {\n",
       "        text-align: right;\n",
       "    }\n",
       "</style>\n",
       "<table border=\"1\" class=\"dataframe\">\n",
       "  <thead>\n",
       "    <tr style=\"text-align: right;\">\n",
       "      <th></th>\n",
       "      <th>0</th>\n",
       "    </tr>\n",
       "  </thead>\n",
       "  <tbody>\n",
       "    <tr>\n",
       "      <th>HSD17B12</th>\n",
       "      <td>9</td>\n",
       "    </tr>\n",
       "    <tr>\n",
       "      <th>KLHL23</th>\n",
       "      <td>7</td>\n",
       "    </tr>\n",
       "    <tr>\n",
       "      <th>NAPG</th>\n",
       "      <td>7</td>\n",
       "    </tr>\n",
       "    <tr>\n",
       "      <th>TMEM9B</th>\n",
       "      <td>7</td>\n",
       "    </tr>\n",
       "    <tr>\n",
       "      <th>DGKD</th>\n",
       "      <td>6</td>\n",
       "    </tr>\n",
       "    <tr>\n",
       "      <th>B4GALT3</th>\n",
       "      <td>6</td>\n",
       "    </tr>\n",
       "    <tr>\n",
       "      <th>ILVBL</th>\n",
       "      <td>4</td>\n",
       "    </tr>\n",
       "    <tr>\n",
       "      <th>DNMT3A</th>\n",
       "      <td>4</td>\n",
       "    </tr>\n",
       "    <tr>\n",
       "      <th>STK4</th>\n",
       "      <td>4</td>\n",
       "    </tr>\n",
       "    <tr>\n",
       "      <th>UBE2R2</th>\n",
       "      <td>4</td>\n",
       "    </tr>\n",
       "  </tbody>\n",
       "</table>\n",
       "</div>"
      ],
      "text/plain": [
       "          0\n",
       "HSD17B12  9\n",
       "KLHL23    7\n",
       "NAPG      7\n",
       "TMEM9B    7\n",
       "DGKD      6\n",
       "B4GALT3   6\n",
       "ILVBL     4\n",
       "DNMT3A    4\n",
       "STK4      4\n",
       "UBE2R2    4"
      ]
     },
     "execution_count": 125,
     "metadata": {},
     "output_type": "execute_result"
    }
   ],
   "source": [
    "gene_count_dict = {}\n",
    "for r in ploidy_genes_rf:\n",
    "    for g in r.index:\n",
    "        try:\n",
    "            gene_count_dict[g] += 1\n",
    "        except KeyError:\n",
    "            gene_count_dict[g] = 1\n",
    "pd.DataFrame.from_dict(gene_count_dict, orient='index').nlargest(10, 0)"
   ]
  },
  {
   "cell_type": "code",
   "execution_count": 299,
   "id": "5718c256",
   "metadata": {},
   "outputs": [
    {
     "name": "stdout",
     "output_type": "stream",
     "text": [
      "run: 0\n",
      "Given 2 Input modalities\n",
      "Found 414 overlapping indicies\n",
      "Initializing Train Dataset\n",
      "Found 675 overlapping genes\n",
      "generated input DataFrame of size (290, 1350)\n",
      "Initializing Test Dataset\n",
      "Found 675 overlapping genes\n",
      "generated input DataFrame of size (124, 1350)\n",
      "Found 675 overlapping genes\n"
     ]
    },
    {
     "name": "stderr",
     "output_type": "stream",
     "text": [
      "/Users/marc/opt/anaconda3/envs/pnet/lib/python3.10/site-packages/captum/attr/_core/deep_lift.py:304: UserWarning: Setting forward, backward hooks and attributes on non-linear\n",
      "               activations. The hooks and attributes will be removed\n",
      "            after the attribution is finished\n",
      "  warnings.warn(\n"
     ]
    },
    {
     "name": "stdout",
     "output_type": "stream",
     "text": [
      "run: 1\n",
      "Given 2 Input modalities\n",
      "Found 414 overlapping indicies\n",
      "Initializing Train Dataset\n",
      "Found 675 overlapping genes\n",
      "generated input DataFrame of size (290, 1350)\n",
      "Initializing Test Dataset\n",
      "Found 675 overlapping genes\n",
      "generated input DataFrame of size (124, 1350)\n",
      "Found 675 overlapping genes\n"
     ]
    },
    {
     "name": "stderr",
     "output_type": "stream",
     "text": [
      "/Users/marc/opt/anaconda3/envs/pnet/lib/python3.10/site-packages/captum/attr/_core/deep_lift.py:304: UserWarning: Setting forward, backward hooks and attributes on non-linear\n",
      "               activations. The hooks and attributes will be removed\n",
      "            after the attribution is finished\n",
      "  warnings.warn(\n"
     ]
    },
    {
     "name": "stdout",
     "output_type": "stream",
     "text": [
      "run: 2\n",
      "Given 2 Input modalities\n",
      "Found 414 overlapping indicies\n",
      "Initializing Train Dataset\n",
      "Found 675 overlapping genes\n",
      "generated input DataFrame of size (290, 1350)\n",
      "Initializing Test Dataset\n",
      "Found 675 overlapping genes\n",
      "generated input DataFrame of size (124, 1350)\n",
      "Found 675 overlapping genes\n"
     ]
    },
    {
     "name": "stderr",
     "output_type": "stream",
     "text": [
      "/Users/marc/opt/anaconda3/envs/pnet/lib/python3.10/site-packages/captum/attr/_core/deep_lift.py:304: UserWarning: Setting forward, backward hooks and attributes on non-linear\n",
      "               activations. The hooks and attributes will be removed\n",
      "            after the attribution is finished\n",
      "  warnings.warn(\n"
     ]
    },
    {
     "name": "stdout",
     "output_type": "stream",
     "text": [
      "run: 3\n",
      "Given 2 Input modalities\n",
      "Found 414 overlapping indicies\n",
      "Initializing Train Dataset\n",
      "Found 675 overlapping genes\n",
      "generated input DataFrame of size (290, 1350)\n",
      "Initializing Test Dataset\n",
      "Found 675 overlapping genes\n",
      "generated input DataFrame of size (124, 1350)\n",
      "Found 675 overlapping genes\n"
     ]
    },
    {
     "name": "stderr",
     "output_type": "stream",
     "text": [
      "/Users/marc/opt/anaconda3/envs/pnet/lib/python3.10/site-packages/captum/attr/_core/deep_lift.py:304: UserWarning: Setting forward, backward hooks and attributes on non-linear\n",
      "               activations. The hooks and attributes will be removed\n",
      "            after the attribution is finished\n",
      "  warnings.warn(\n"
     ]
    },
    {
     "name": "stdout",
     "output_type": "stream",
     "text": [
      "run: 4\n",
      "Given 2 Input modalities\n",
      "Found 414 overlapping indicies\n",
      "Initializing Train Dataset\n",
      "Found 675 overlapping genes\n",
      "generated input DataFrame of size (290, 1350)\n",
      "Initializing Test Dataset\n",
      "Found 675 overlapping genes\n",
      "generated input DataFrame of size (124, 1350)\n",
      "Found 675 overlapping genes\n"
     ]
    },
    {
     "name": "stderr",
     "output_type": "stream",
     "text": [
      "/Users/marc/opt/anaconda3/envs/pnet/lib/python3.10/site-packages/captum/attr/_core/deep_lift.py:304: UserWarning: Setting forward, backward hooks and attributes on non-linear\n",
      "               activations. The hooks and attributes will be removed\n",
      "            after the attribution is finished\n",
      "  warnings.warn(\n"
     ]
    },
    {
     "name": "stdout",
     "output_type": "stream",
     "text": [
      "run: 5\n",
      "Given 2 Input modalities\n",
      "Found 414 overlapping indicies\n",
      "Initializing Train Dataset\n",
      "Found 675 overlapping genes\n",
      "generated input DataFrame of size (290, 1350)\n",
      "Initializing Test Dataset\n",
      "Found 675 overlapping genes\n",
      "generated input DataFrame of size (124, 1350)\n",
      "Found 675 overlapping genes\n"
     ]
    },
    {
     "name": "stderr",
     "output_type": "stream",
     "text": [
      "/Users/marc/opt/anaconda3/envs/pnet/lib/python3.10/site-packages/captum/attr/_core/deep_lift.py:304: UserWarning: Setting forward, backward hooks and attributes on non-linear\n",
      "               activations. The hooks and attributes will be removed\n",
      "            after the attribution is finished\n",
      "  warnings.warn(\n"
     ]
    },
    {
     "name": "stdout",
     "output_type": "stream",
     "text": [
      "run: 6\n",
      "Given 2 Input modalities\n",
      "Found 414 overlapping indicies\n",
      "Initializing Train Dataset\n",
      "Found 675 overlapping genes\n",
      "generated input DataFrame of size (290, 1350)\n",
      "Initializing Test Dataset\n",
      "Found 675 overlapping genes\n",
      "generated input DataFrame of size (124, 1350)\n",
      "Found 675 overlapping genes\n"
     ]
    },
    {
     "name": "stderr",
     "output_type": "stream",
     "text": [
      "/Users/marc/opt/anaconda3/envs/pnet/lib/python3.10/site-packages/captum/attr/_core/deep_lift.py:304: UserWarning: Setting forward, backward hooks and attributes on non-linear\n",
      "               activations. The hooks and attributes will be removed\n",
      "            after the attribution is finished\n",
      "  warnings.warn(\n"
     ]
    },
    {
     "name": "stdout",
     "output_type": "stream",
     "text": [
      "run: 7\n",
      "Given 2 Input modalities\n",
      "Found 414 overlapping indicies\n",
      "Initializing Train Dataset\n",
      "Found 675 overlapping genes\n",
      "generated input DataFrame of size (290, 1350)\n",
      "Initializing Test Dataset\n",
      "Found 675 overlapping genes\n",
      "generated input DataFrame of size (124, 1350)\n",
      "Found 675 overlapping genes\n"
     ]
    },
    {
     "name": "stderr",
     "output_type": "stream",
     "text": [
      "/Users/marc/opt/anaconda3/envs/pnet/lib/python3.10/site-packages/captum/attr/_core/deep_lift.py:304: UserWarning: Setting forward, backward hooks and attributes on non-linear\n",
      "               activations. The hooks and attributes will be removed\n",
      "            after the attribution is finished\n",
      "  warnings.warn(\n"
     ]
    },
    {
     "name": "stdout",
     "output_type": "stream",
     "text": [
      "run: 8\n",
      "Given 2 Input modalities\n",
      "Found 414 overlapping indicies\n",
      "Initializing Train Dataset\n",
      "Found 675 overlapping genes\n",
      "generated input DataFrame of size (290, 1350)\n",
      "Initializing Test Dataset\n",
      "Found 675 overlapping genes\n",
      "generated input DataFrame of size (124, 1350)\n",
      "Found 675 overlapping genes\n"
     ]
    },
    {
     "name": "stderr",
     "output_type": "stream",
     "text": [
      "/Users/marc/opt/anaconda3/envs/pnet/lib/python3.10/site-packages/captum/attr/_core/deep_lift.py:304: UserWarning: Setting forward, backward hooks and attributes on non-linear\n",
      "               activations. The hooks and attributes will be removed\n",
      "            after the attribution is finished\n",
      "  warnings.warn(\n"
     ]
    },
    {
     "name": "stdout",
     "output_type": "stream",
     "text": [
      "run: 9\n",
      "Given 2 Input modalities\n",
      "Found 414 overlapping indicies\n",
      "Initializing Train Dataset\n",
      "Found 675 overlapping genes\n",
      "generated input DataFrame of size (290, 1350)\n",
      "Initializing Test Dataset\n",
      "Found 675 overlapping genes\n",
      "generated input DataFrame of size (124, 1350)\n",
      "Found 675 overlapping genes\n"
     ]
    },
    {
     "name": "stderr",
     "output_type": "stream",
     "text": [
      "/Users/marc/opt/anaconda3/envs/pnet/lib/python3.10/site-packages/captum/attr/_core/deep_lift.py:304: UserWarning: Setting forward, backward hooks and attributes on non-linear\n",
      "               activations. The hooks and attributes will be removed\n",
      "            after the attribution is finished\n",
      "  warnings.warn(\n"
     ]
    }
   ],
   "source": [
    "ploidy_absolut_auc, ploidy_absolut_genes = fold_run(genetic_data, absolute_ploidy_y, 10)"
   ]
  },
  {
   "cell_type": "code",
   "execution_count": 300,
   "id": "d27885fc",
   "metadata": {},
   "outputs": [
    {
     "data": {
      "image/png": "[encoded data removed]",
      "text/plain": [
       "<Figure size 640x480 with 1 Axes>"
      ]
     },
     "metadata": {},
     "output_type": "display_data"
    }
   ],
   "source": [
    "plt.boxplot(ploidy_absolut_auc,\n",
    "            labels=['absolute \\n ploidy'])\n",
    "plt.show()"
   ]
  },
  {
   "cell_type": "code",
   "execution_count": 76,
   "id": "3380e06f",
   "metadata": {
    "scrolled": true
   },
   "outputs": [
    {
     "name": "stdout",
     "output_type": "stream",
     "text": [
      "Given 2 Input modalities\n",
      "Found 421 overlapping indicies\n",
      "Initializing Train Dataset\n",
      "Found 675 overlapping genes\n",
      "generated input DataFrame of size (295, 1350)\n",
      "Initializing Test Dataset\n",
      "Found 675 overlapping genes\n",
      "generated input DataFrame of size (126, 1350)\n",
      "Found 675 overlapping genes\n"
     ]
    }
   ],
   "source": [
    "model, train_scores, test_scores, train_dataset, test_dataset = Pnet.run(genetic_data,\n",
    "                                                                         heterogeneity_y,\n",
    "                                                                         verbose=False,\n",
    "                                                                         early_stopping=False)"
   ]
  },
  {
   "cell_type": "code",
   "execution_count": 77,
   "id": "bc25c410",
   "metadata": {},
   "outputs": [],
   "source": [
    "x_train = train_dataset.input_df.values\n",
    "additional_train = train_dataset.additional_data.values\n",
    "y_train = train_dataset.target.values.reshape(-1)\n",
    "x_test = test_dataset.input_df.values\n",
    "additional_test = test_dataset.additional_data.values\n",
    "y_test = test_dataset.target.values.reshape(-1)"
   ]
  },
  {
   "cell_type": "code",
   "execution_count": 78,
   "id": "43dc22ef",
   "metadata": {},
   "outputs": [
    {
     "data": {
      "image/png": "[encoded data removed]",
      "text/plain": [
       "<Figure size 640x480 with 1 Axes>"
      ]
     },
     "metadata": {},
     "output_type": "display_data"
    }
   ],
   "source": [
    "pred = model(torch.tensor(x_test, dtype=torch.float),\n",
    "                          torch.tensor(additional_test, dtype=torch.float)\n",
    "            )\n",
    "y_pred_proba = pred.detach().numpy().squeeze()\n",
    "fpr, tpr, _ = metrics.roc_curve(y_test,  y_pred_proba)\n",
    "test_auc = metrics.roc_auc_score(y_test, pred.detach().numpy().squeeze())\n",
    "#create ROC curve\n",
    "plt.plot(fpr,tpr, color=\"darkorange\", label=\"ROC curve (area = %0.2f)\" % test_auc)\n",
    "plt.ylabel('True Positive Rate')\n",
    "plt.xlabel('False Positive Rate')\n",
    "plt.plot([0, 1], [0, 1], color=\"navy\", linestyle=\"--\")\n",
    "plt.legend(loc=\"lower right\")\n",
    "plt.savefig('PNET_heterogeneity_ROC_curve.pdf')\n",
    "plt.show()"
   ]
  },
  {
   "cell_type": "markdown",
   "id": "5dbcadc6",
   "metadata": {},
   "source": [
    "# Interpretability"
   ]
  },
  {
   "cell_type": "markdown",
   "id": "c9a50e21",
   "metadata": {},
   "source": [
    "## Gene level"
   ]
  },
  {
   "cell_type": "markdown",
   "id": "fc26dbc3",
   "metadata": {},
   "source": [
    "### General correlations"
   ]
  },
  {
   "cell_type": "code",
   "execution_count": 79,
   "id": "b2d709c4",
   "metadata": {},
   "outputs": [],
   "source": [
    "from scipy.stats import pearsonr"
   ]
  },
  {
   "cell_type": "code",
   "execution_count": 88,
   "id": "5a894716",
   "metadata": {},
   "outputs": [],
   "source": [
    "input_df = pd.concat([train_dataset.input_df, test_dataset.input_df]).iloc[:,:int(1376/2)]\n",
    "target_df = mat_TCGA.loc[input_df.index]\n",
    "corr = []\n",
    "for col in input_df.columns:\n",
    "    r, p = pearsonr(input_df[col], target_df['ploidy'])\n",
    "    corr.append((r,p))\n",
    "heterog_corr = pd.DataFrame(corr, columns=['R', 'p_val'], index=input_df.columns)\n",
    "heterog_corr['-log10_pval'] = -np.log10(heterog_corr['p_val'])"
   ]
  },
  {
   "cell_type": "code",
   "execution_count": 89,
   "id": "dc52c56a",
   "metadata": {},
   "outputs": [
    {
     "data": {
      "image/png": "[encoded data removed]",
      "text/plain": [
       "<Figure size 640x480 with 1 Axes>"
      ]
     },
     "metadata": {},
     "output_type": "display_data"
    }
   ],
   "source": [
    "fig, ax = plt.subplots()\n",
    "sns.scatterplot(heterog_corr, x='R', y='-log10_pval', ax=ax)\n",
    "ax.axhline(y=-np.log10(0.05/heterog_corr.shape[0]), color='r', linestyle='--')\n",
    "\n",
    "\n",
    "for gene in heterog_corr.index:\n",
    "    if heterog_corr.loc[gene]['-log10_pval'] > -np.log10(0.05/heterog_corr.shape[0]):\n",
    "        ax.annotate(gene, (heterog_corr.loc[gene]['R'], heterog_corr.loc[gene]['-log10_pval']))\n",
    "fig.suptitle('Ploidy correlation of genes')\n",
    "fig.savefig('Ploidy_correlation_genes.pdf')"
   ]
  },
  {
   "cell_type": "code",
   "execution_count": 90,
   "id": "6935c528",
   "metadata": {},
   "outputs": [
    {
     "data": {
      "text/html": [
       "<div>\n",
       "<style scoped>\n",
       "    .dataframe tbody tr th:only-of-type {\n",
       "        vertical-align: middle;\n",
       "    }\n",
       "\n",
       "    .dataframe tbody tr th {\n",
       "        vertical-align: top;\n",
       "    }\n",
       "\n",
       "    .dataframe thead th {\n",
       "        text-align: right;\n",
       "    }\n",
       "</style>\n",
       "<table border=\"1\" class=\"dataframe\">\n",
       "  <thead>\n",
       "    <tr style=\"text-align: right;\">\n",
       "      <th></th>\n",
       "      <th>R</th>\n",
       "      <th>p_val</th>\n",
       "      <th>-log10_pval</th>\n",
       "    </tr>\n",
       "  </thead>\n",
       "  <tbody>\n",
       "    <tr>\n",
       "      <th>KLHL23</th>\n",
       "      <td>0.219754</td>\n",
       "      <td>0.000005</td>\n",
       "      <td>5.273195</td>\n",
       "    </tr>\n",
       "    <tr>\n",
       "      <th>TAF1A</th>\n",
       "      <td>0.212883</td>\n",
       "      <td>0.000011</td>\n",
       "      <td>4.976801</td>\n",
       "    </tr>\n",
       "    <tr>\n",
       "      <th>FAM122C</th>\n",
       "      <td>0.196729</td>\n",
       "      <td>0.000048</td>\n",
       "      <td>4.317214</td>\n",
       "    </tr>\n",
       "    <tr>\n",
       "      <th>ATG16L1</th>\n",
       "      <td>0.195647</td>\n",
       "      <td>0.000053</td>\n",
       "      <td>4.274879</td>\n",
       "    </tr>\n",
       "    <tr>\n",
       "      <th>ZACN</th>\n",
       "      <td>0.191657</td>\n",
       "      <td>0.000076</td>\n",
       "      <td>4.120719</td>\n",
       "    </tr>\n",
       "    <tr>\n",
       "      <th>IL1RAP</th>\n",
       "      <td>0.185530</td>\n",
       "      <td>0.000129</td>\n",
       "      <td>3.890047</td>\n",
       "    </tr>\n",
       "    <tr>\n",
       "      <th>SUMO2</th>\n",
       "      <td>0.185429</td>\n",
       "      <td>0.000130</td>\n",
       "      <td>3.886329</td>\n",
       "    </tr>\n",
       "    <tr>\n",
       "      <th>SP4</th>\n",
       "      <td>0.185264</td>\n",
       "      <td>0.000132</td>\n",
       "      <td>3.880217</td>\n",
       "    </tr>\n",
       "    <tr>\n",
       "      <th>CCDC142</th>\n",
       "      <td>0.179573</td>\n",
       "      <td>0.000212</td>\n",
       "      <td>3.672738</td>\n",
       "    </tr>\n",
       "    <tr>\n",
       "      <th>GABRA3</th>\n",
       "      <td>0.178456</td>\n",
       "      <td>0.000233</td>\n",
       "      <td>3.632723</td>\n",
       "    </tr>\n",
       "  </tbody>\n",
       "</table>\n",
       "</div>"
      ],
      "text/plain": [
       "                R     p_val  -log10_pval\n",
       "KLHL23   0.219754  0.000005     5.273195\n",
       "TAF1A    0.212883  0.000011     4.976801\n",
       "FAM122C  0.196729  0.000048     4.317214\n",
       "ATG16L1  0.195647  0.000053     4.274879\n",
       "ZACN     0.191657  0.000076     4.120719\n",
       "IL1RAP   0.185530  0.000129     3.890047\n",
       "SUMO2    0.185429  0.000130     3.886329\n",
       "SP4      0.185264  0.000132     3.880217\n",
       "CCDC142  0.179573  0.000212     3.672738\n",
       "GABRA3   0.178456  0.000233     3.632723"
      ]
     },
     "execution_count": 90,
     "metadata": {},
     "output_type": "execute_result"
    }
   ],
   "source": [
    "heterog_corr.nlargest(10, 'R')"
   ]
  },
  {
   "cell_type": "markdown",
   "id": "b7e9970c",
   "metadata": {},
   "source": [
    "### Pnet importances"
   ]
  },
  {
   "cell_type": "code",
   "execution_count": 83,
   "id": "22bbf182",
   "metadata": {
    "scrolled": true
   },
   "outputs": [
    {
     "name": "stderr",
     "output_type": "stream",
     "text": [
      "/Users/marc/opt/anaconda3/envs/pnet/lib/python3.10/site-packages/captum/attr/_core/deep_lift.py:304: UserWarning: Setting forward, backward hooks and attributes on non-linear\n",
      "               activations. The hooks and attributes will be removed\n",
      "            after the attribution is finished\n",
      "  warnings.warn(\n"
     ]
    }
   ],
   "source": [
    "gene_importances, additional_importances = model.deepLIFT(test_dataset)"
   ]
  },
  {
   "cell_type": "code",
   "execution_count": 84,
   "id": "026a6c37",
   "metadata": {},
   "outputs": [],
   "source": [
    "gene_imp_by_target = gene_importances.join(test_dataset.target).groupby('dichtomized_heterogeneity').mean().T\n",
    "gene_imp_by_target['diff'] = abs(gene_imp_by_target[0] - gene_imp_by_target[1])"
   ]
  },
  {
   "cell_type": "code",
   "execution_count": 85,
   "id": "1d1e56a4",
   "metadata": {},
   "outputs": [
    {
     "data": {
      "text/html": [
       "<div>\n",
       "<style scoped>\n",
       "    .dataframe tbody tr th:only-of-type {\n",
       "        vertical-align: middle;\n",
       "    }\n",
       "\n",
       "    .dataframe tbody tr th {\n",
       "        vertical-align: top;\n",
       "    }\n",
       "\n",
       "    .dataframe thead th {\n",
       "        text-align: right;\n",
       "    }\n",
       "</style>\n",
       "<table border=\"1\" class=\"dataframe\">\n",
       "  <thead>\n",
       "    <tr style=\"text-align: right;\">\n",
       "      <th>dichtomized_heterogeneity</th>\n",
       "      <th>0</th>\n",
       "      <th>1</th>\n",
       "      <th>diff</th>\n",
       "    </tr>\n",
       "  </thead>\n",
       "  <tbody>\n",
       "    <tr>\n",
       "      <th>SH3GLB1</th>\n",
       "      <td>-0.073053</td>\n",
       "      <td>-0.033768</td>\n",
       "      <td>0.039284</td>\n",
       "    </tr>\n",
       "    <tr>\n",
       "      <th>ARID3C</th>\n",
       "      <td>-0.017910</td>\n",
       "      <td>0.001619</td>\n",
       "      <td>0.019529</td>\n",
       "    </tr>\n",
       "    <tr>\n",
       "      <th>CD200R1L</th>\n",
       "      <td>-0.054136</td>\n",
       "      <td>-0.039565</td>\n",
       "      <td>0.014572</td>\n",
       "    </tr>\n",
       "    <tr>\n",
       "      <th>BCL2L2</th>\n",
       "      <td>-0.032560</td>\n",
       "      <td>-0.018054</td>\n",
       "      <td>0.014505</td>\n",
       "    </tr>\n",
       "    <tr>\n",
       "      <th>IMPG1</th>\n",
       "      <td>0.035152</td>\n",
       "      <td>0.021860</td>\n",
       "      <td>0.013292</td>\n",
       "    </tr>\n",
       "    <tr>\n",
       "      <th>PM20D2</th>\n",
       "      <td>-0.024215</td>\n",
       "      <td>-0.011091</td>\n",
       "      <td>0.013124</td>\n",
       "    </tr>\n",
       "    <tr>\n",
       "      <th>TLCD1</th>\n",
       "      <td>0.002995</td>\n",
       "      <td>-0.010089</td>\n",
       "      <td>0.013085</td>\n",
       "    </tr>\n",
       "    <tr>\n",
       "      <th>C1orf198</th>\n",
       "      <td>-0.012366</td>\n",
       "      <td>0.000217</td>\n",
       "      <td>0.012583</td>\n",
       "    </tr>\n",
       "    <tr>\n",
       "      <th>BTBD9</th>\n",
       "      <td>0.031969</td>\n",
       "      <td>0.019549</td>\n",
       "      <td>0.012420</td>\n",
       "    </tr>\n",
       "    <tr>\n",
       "      <th>KIAA1467</th>\n",
       "      <td>-0.001347</td>\n",
       "      <td>-0.013307</td>\n",
       "      <td>0.011960</td>\n",
       "    </tr>\n",
       "  </tbody>\n",
       "</table>\n",
       "</div>"
      ],
      "text/plain": [
       "dichtomized_heterogeneity         0         1      diff\n",
       "SH3GLB1                   -0.073053 -0.033768  0.039284\n",
       "ARID3C                    -0.017910  0.001619  0.019529\n",
       "CD200R1L                  -0.054136 -0.039565  0.014572\n",
       "BCL2L2                    -0.032560 -0.018054  0.014505\n",
       "IMPG1                      0.035152  0.021860  0.013292\n",
       "PM20D2                    -0.024215 -0.011091  0.013124\n",
       "TLCD1                      0.002995 -0.010089  0.013085\n",
       "C1orf198                  -0.012366  0.000217  0.012583\n",
       "BTBD9                      0.031969  0.019549  0.012420\n",
       "KIAA1467                  -0.001347 -0.013307  0.011960"
      ]
     },
     "execution_count": 85,
     "metadata": {},
     "output_type": "execute_result"
    }
   ],
   "source": [
    "gene_imp_by_target[abs(gene_imp_by_target['diff']) > 0].nlargest(10, 'diff')"
   ]
  },
  {
   "cell_type": "code",
   "execution_count": 86,
   "id": "de2867cf",
   "metadata": {
    "scrolled": true
   },
   "outputs": [
    {
     "data": {
      "text/plain": [
       "ANP32D      8.746487\n",
       "C12orf71    4.489496\n",
       "BARHL1      4.385831\n",
       "FAM78A      3.905925\n",
       "IMPG1       3.658271\n",
       "BTBD9       3.307747\n",
       "TMEM86A     3.057227\n",
       "ILVBL       2.997970\n",
       "PATE2       2.913318\n",
       "C22orf43    2.861485\n",
       "MEGF8       2.840646\n",
       "C10orf67    2.775090\n",
       "GRASP       2.650676\n",
       "FAM154A     2.592915\n",
       "RPL6        2.460897\n",
       "RBM11       2.384999\n",
       "PAK1IP1     2.078421\n",
       "TMEM62      2.042723\n",
       "TMEM9B      1.587606\n",
       "TSSK4       1.526687\n",
       "dtype: float32"
      ]
     },
     "execution_count": 86,
     "metadata": {},
     "output_type": "execute_result"
    }
   ],
   "source": [
    "gene_importances.sum().nlargest(20)"
   ]
  },
  {
   "cell_type": "code",
   "execution_count": 87,
   "id": "2822c1f5",
   "metadata": {},
   "outputs": [
    {
     "ename": "NameError",
     "evalue": "name 'rn' is not defined",
     "output_type": "error",
     "traceback": [
      "\u001b[0;31m---------------------------------------------------------------------------\u001b[0m",
      "\u001b[0;31mNameError\u001b[0m                                 Traceback (most recent call last)",
      "Cell \u001b[0;32mIn[87], line 2\u001b[0m\n\u001b[1;32m      1\u001b[0m gene_impacts \u001b[38;5;241m=\u001b[39m pd\u001b[38;5;241m.\u001b[39mDataFrame()\n\u001b[0;32m----> 2\u001b[0m gene_impacts[\u001b[38;5;124m'\u001b[39m\u001b[38;5;124mgene\u001b[39m\u001b[38;5;124m'\u001b[39m] \u001b[38;5;241m=\u001b[39m \u001b[43mrn\u001b[49m\u001b[38;5;241m.\u001b[39mgene_list\n\u001b[1;32m      3\u001b[0m gene_impacts[\u001b[38;5;124m'\u001b[39m\u001b[38;5;124mimpact\u001b[39m\u001b[38;5;124m'\u001b[39m] \u001b[38;5;241m=\u001b[39m gene_impacts[\u001b[38;5;124m'\u001b[39m\u001b[38;5;124mgene\u001b[39m\u001b[38;5;124m'\u001b[39m]\u001b[38;5;241m.\u001b[39mapply(\u001b[38;5;28;01mlambda\u001b[39;00m x: \u001b[38;5;28msum\u001b[39m([l\u001b[38;5;241m.\u001b[39mloc[x]\u001b[38;5;241m.\u001b[39msum() \u001b[38;5;28;01mfor\u001b[39;00m l \u001b[38;5;129;01min\u001b[39;00m rn\u001b[38;5;241m.\u001b[39mgene_layers]))\n\u001b[1;32m      4\u001b[0m gene_impacts[\u001b[38;5;124m'\u001b[39m\u001b[38;5;124mimpact\u001b[39m\u001b[38;5;124m'\u001b[39m]\u001b[38;5;241m.\u001b[39mmean()\n",
      "\u001b[0;31mNameError\u001b[0m: name 'rn' is not defined"
     ]
    }
   ],
   "source": [
    "gene_impacts = pd.DataFrame()\n",
    "gene_impacts['gene'] = rn.gene_list\n",
    "gene_impacts['impact'] = gene_impacts['gene'].apply(lambda x: sum([l.loc[x].sum() for l in rn.gene_layers]))\n",
    "gene_impacts['impact'].mean()"
   ]
  },
  {
   "cell_type": "code",
   "execution_count": null,
   "id": "f3e6ff23",
   "metadata": {},
   "outputs": [],
   "source": [
    "gene_impacts.nlargest(20, 'impact')"
   ]
  },
  {
   "cell_type": "code",
   "execution_count": null,
   "id": "285764f5",
   "metadata": {},
   "outputs": [],
   "source": [
    "flat_list = [item.split('_')[0] for sublist in altered_genes for item in sublist]\n",
    "df = pd.DataFrame(index=flat_list)\n",
    "df['gene_impact'] = gene_impacts.set_index('gene').loc[flat_list]['impact']\n",
    "df['auc'] = aucs\n",
    "df['most_imp_gene'] = most_imp_genes\n",
    "df"
   ]
  },
  {
   "cell_type": "code",
   "execution_count": null,
   "id": "7680def9",
   "metadata": {},
   "outputs": [],
   "source": [
    "df = df.reset_index(names='gene')"
   ]
  },
  {
   "cell_type": "code",
   "execution_count": null,
   "id": "46af5dd6",
   "metadata": {},
   "outputs": [],
   "source": [
    "df_2 = pd.DataFrame()\n",
    "df_2['gene_1'] = [x[0].split('_')[0] for x in altered_genes_2]\n",
    "df_2['gene_2'] = [x[1].split('_')[0] for x in altered_genes_2]\n",
    "df_2['gene_1_impact'] = gene_impacts.set_index('gene').loc[df_2['gene_1'].values]['impact'].values\n",
    "df_2['gene_2_impact'] = gene_impacts.set_index('gene').loc[df_2['gene_2'].values]['impact'].values\n",
    "df_2['auc_2'] = aucs_2\n",
    "df_2['most_imp_gene_2'] = most_imp_genes_2\n",
    "df_2"
   ]
  },
  {
   "cell_type": "code",
   "execution_count": null,
   "id": "ae8a3570",
   "metadata": {},
   "outputs": [],
   "source": [
    "df.join(df_2)"
   ]
  },
  {
   "cell_type": "code",
   "execution_count": null,
   "id": "51e168d3",
   "metadata": {},
   "outputs": [],
   "source": [
    "fig, ax = plt.subplots()\n",
    "ax.boxplot(df.join(df_2)[['auc','auc_2']])\n",
    "ax.set_xticklabels(['1 target gene','2 target genes'])\n",
    "plt.savefig('AUC_with_perfectly_correlated_genes.pdf')"
   ]
  },
  {
   "cell_type": "markdown",
   "id": "ce13c73f",
   "metadata": {},
   "source": [
    "## Compare with Random Forest"
   ]
  },
  {
   "cell_type": "code",
   "execution_count": 91,
   "id": "74eeb473",
   "metadata": {},
   "outputs": [],
   "source": [
    "from sklearn.ensemble import RandomForestClassifier"
   ]
  },
  {
   "cell_type": "code",
   "execution_count": 92,
   "id": "edab948d",
   "metadata": {},
   "outputs": [
    {
     "data": {
      "text/html": [
       "<style>#sk-container-id-1 {color: black;background-color: white;}#sk-container-id-1 pre{padding: 0;}#sk-container-id-1 div.sk-toggleable {background-color: white;}#sk-container-id-1 label.sk-toggleable__label {cursor: pointer;display: block;width: 100%;margin-bottom: 0;padding: 0.3em;box-sizing: border-box;text-align: center;}#sk-container-id-1 label.sk-toggleable__label-arrow:before {content: \"▸\";float: left;margin-right: 0.25em;color: #696969;}#sk-container-id-1 label.sk-toggleable__label-arrow:hover:before {color: black;}#sk-container-id-1 div.sk-estimator:hover label.sk-toggleable__label-arrow:before {color: black;}#sk-container-id-1 div.sk-toggleable__content {max-height: 0;max-width: 0;overflow: hidden;text-align: left;background-color: #f0f8ff;}#sk-container-id-1 div.sk-toggleable__content pre {margin: 0.2em;color: black;border-radius: 0.25em;background-color: #f0f8ff;}#sk-container-id-1 input.sk-toggleable__control:checked~div.sk-toggleable__content {max-height: 200px;max-width: 100%;overflow: auto;}#sk-container-id-1 input.sk-toggleable__control:checked~label.sk-toggleable__label-arrow:before {content: \"▾\";}#sk-container-id-1 div.sk-estimator input.sk-toggleable__control:checked~label.sk-toggleable__label {background-color: #d4ebff;}#sk-container-id-1 div.sk-label input.sk-toggleable__control:checked~label.sk-toggleable__label {background-color: #d4ebff;}#sk-container-id-1 input.sk-hidden--visually {border: 0;clip: rect(1px 1px 1px 1px);clip: rect(1px, 1px, 1px, 1px);height: 1px;margin: -1px;overflow: hidden;padding: 0;position: absolute;width: 1px;}#sk-container-id-1 div.sk-estimator {font-family: monospace;background-color: #f0f8ff;border: 1px dotted black;border-radius: 0.25em;box-sizing: border-box;margin-bottom: 0.5em;}#sk-container-id-1 div.sk-estimator:hover {background-color: #d4ebff;}#sk-container-id-1 div.sk-parallel-item::after {content: \"\";width: 100%;border-bottom: 1px solid gray;flex-grow: 1;}#sk-container-id-1 div.sk-label:hover label.sk-toggleable__label {background-color: #d4ebff;}#sk-container-id-1 div.sk-serial::before {content: \"\";position: absolute;border-left: 1px solid gray;box-sizing: border-box;top: 0;bottom: 0;left: 50%;z-index: 0;}#sk-container-id-1 div.sk-serial {display: flex;flex-direction: column;align-items: center;background-color: white;padding-right: 0.2em;padding-left: 0.2em;position: relative;}#sk-container-id-1 div.sk-item {position: relative;z-index: 1;}#sk-container-id-1 div.sk-parallel {display: flex;align-items: stretch;justify-content: center;background-color: white;position: relative;}#sk-container-id-1 div.sk-item::before, #sk-container-id-1 div.sk-parallel-item::before {content: \"\";position: absolute;border-left: 1px solid gray;box-sizing: border-box;top: 0;bottom: 0;left: 50%;z-index: -1;}#sk-container-id-1 div.sk-parallel-item {display: flex;flex-direction: column;z-index: 1;position: relative;background-color: white;}#sk-container-id-1 div.sk-parallel-item:first-child::after {align-self: flex-end;width: 50%;}#sk-container-id-1 div.sk-parallel-item:last-child::after {align-self: flex-start;width: 50%;}#sk-container-id-1 div.sk-parallel-item:only-child::after {width: 0;}#sk-container-id-1 div.sk-dashed-wrapped {border: 1px dashed gray;margin: 0 0.4em 0.5em 0.4em;box-sizing: border-box;padding-bottom: 0.4em;background-color: white;}#sk-container-id-1 div.sk-label label {font-family: monospace;font-weight: bold;display: inline-block;line-height: 1.2em;}#sk-container-id-1 div.sk-label-container {text-align: center;}#sk-container-id-1 div.sk-container {/* jupyter's `normalize.less` sets `[hidden] { display: none; }` but bootstrap.min.css set `[hidden] { display: none !important; }` so we also need the `!important` here to be able to override the default hidden behavior on the sphinx rendered scikit-learn.org. See: https://github.com/scikit-learn/scikit-learn/issues/21755 */display: inline-block !important;position: relative;}#sk-container-id-1 div.sk-text-repr-fallback {display: none;}</style><div id=\"sk-container-id-1\" class=\"sk-top-container\"><div class=\"sk-text-repr-fallback\"><pre>RandomForestClassifier()</pre><b>In a Jupyter environment, please rerun this cell to show the HTML representation or trust the notebook. <br />On GitHub, the HTML representation is unable to render, please try loading this page with nbviewer.org.</b></div><div class=\"sk-container\" hidden><div class=\"sk-item\"><div class=\"sk-estimator sk-toggleable\"><input class=\"sk-toggleable__control sk-hidden--visually\" id=\"sk-estimator-id-1\" type=\"checkbox\" checked><label for=\"sk-estimator-id-1\" class=\"sk-toggleable__label sk-toggleable__label-arrow\">RandomForestClassifier</label><div class=\"sk-toggleable__content\"><pre>RandomForestClassifier()</pre></div></div></div></div></div>"
      ],
      "text/plain": [
       "RandomForestClassifier()"
      ]
     },
     "execution_count": 92,
     "metadata": {},
     "output_type": "execute_result"
    }
   ],
   "source": [
    "clf = RandomForestClassifier()\n",
    "clf.fit(train_dataset.input_df.values, train_dataset.target.values.reshape(-1))"
   ]
  },
  {
   "cell_type": "code",
   "execution_count": 93,
   "id": "3bb584ae",
   "metadata": {},
   "outputs": [
    {
     "data": {
      "text/plain": [
       "0.6190476190476191"
      ]
     },
     "execution_count": 93,
     "metadata": {},
     "output_type": "execute_result"
    }
   ],
   "source": [
    "test_acc = sum(clf.predict(test_dataset.input_df.values) == test_dataset.target.values.reshape(-1))/len(test_dataset)\n",
    "test_acc"
   ]
  },
  {
   "cell_type": "code",
   "execution_count": 94,
   "id": "62ef171c",
   "metadata": {},
   "outputs": [
    {
     "data": {
      "text/html": [
       "<div>\n",
       "<style scoped>\n",
       "    .dataframe tbody tr th:only-of-type {\n",
       "        vertical-align: middle;\n",
       "    }\n",
       "\n",
       "    .dataframe tbody tr th {\n",
       "        vertical-align: top;\n",
       "    }\n",
       "\n",
       "    .dataframe thead th {\n",
       "        text-align: right;\n",
       "    }\n",
       "</style>\n",
       "<table border=\"1\" class=\"dataframe\">\n",
       "  <thead>\n",
       "    <tr style=\"text-align: right;\">\n",
       "      <th></th>\n",
       "      <th>0</th>\n",
       "    </tr>\n",
       "  </thead>\n",
       "  <tbody>\n",
       "    <tr>\n",
       "      <th>PKN1</th>\n",
       "      <td>0.009412</td>\n",
       "    </tr>\n",
       "    <tr>\n",
       "      <th>SNTB1</th>\n",
       "      <td>0.007038</td>\n",
       "    </tr>\n",
       "    <tr>\n",
       "      <th>IGSF11</th>\n",
       "      <td>0.005487</td>\n",
       "    </tr>\n",
       "    <tr>\n",
       "      <th>UGT2B7</th>\n",
       "      <td>0.005362</td>\n",
       "    </tr>\n",
       "    <tr>\n",
       "      <th>DUSP16</th>\n",
       "      <td>0.005077</td>\n",
       "    </tr>\n",
       "    <tr>\n",
       "      <th>FUK</th>\n",
       "      <td>0.005070</td>\n",
       "    </tr>\n",
       "    <tr>\n",
       "      <th>ZIC1</th>\n",
       "      <td>0.005023</td>\n",
       "    </tr>\n",
       "    <tr>\n",
       "      <th>TESK2</th>\n",
       "      <td>0.004941</td>\n",
       "    </tr>\n",
       "    <tr>\n",
       "      <th>NAPG</th>\n",
       "      <td>0.004632</td>\n",
       "    </tr>\n",
       "    <tr>\n",
       "      <th>MAGEA3</th>\n",
       "      <td>0.004620</td>\n",
       "    </tr>\n",
       "  </tbody>\n",
       "</table>\n",
       "</div>"
      ],
      "text/plain": [
       "               0\n",
       "PKN1    0.009412\n",
       "SNTB1   0.007038\n",
       "IGSF11  0.005487\n",
       "UGT2B7  0.005362\n",
       "DUSP16  0.005077\n",
       "FUK     0.005070\n",
       "ZIC1    0.005023\n",
       "TESK2   0.004941\n",
       "NAPG    0.004632\n",
       "MAGEA3  0.004620"
      ]
     },
     "execution_count": 94,
     "metadata": {},
     "output_type": "execute_result"
    }
   ],
   "source": [
    "pd.DataFrame(clf.feature_importances_, index=test_dataset.input_df.columns).nlargest(10, 0)"
   ]
  },
  {
   "cell_type": "code",
   "execution_count": 95,
   "id": "f225b8c4",
   "metadata": {},
   "outputs": [
    {
     "data": {
      "text/plain": [
       "<AxesSubplot: xlabel='ZACN', ylabel='Count'>"
      ]
     },
     "execution_count": 95,
     "metadata": {},
     "output_type": "execute_result"
    },
    {
     "data": {
      "image/png": "[encoded data removed]",
      "text/plain": [
       "<Figure size 640x480 with 1 Axes>"
      ]
     },
     "metadata": {},
     "output_type": "display_data"
    }
   ],
   "source": [
    "plot_df = skcm_exp.join(heterogeneity_y)\n",
    "sns.histplot(plot_df, x='ZACN', hue='dichtomized_heterogeneity', bins=80)\n"
   ]
  },
  {
   "cell_type": "code",
   "execution_count": 96,
   "id": "47e86881",
   "metadata": {},
   "outputs": [],
   "source": [
    "importances_df = pd.DataFrame(index=heterog_corr.index)\n",
    "importances_df['corr'] = heterog_corr['R']\n",
    "importances_df['pnet_diff'] = gene_imp_by_target['diff'].loc[heterog_corr.index]\n",
    "importances_df['pnet_sum'] = gene_importances.sum().loc[heterog_corr.index]"
   ]
  },
  {
   "cell_type": "code",
   "execution_count": 97,
   "id": "470fba17",
   "metadata": {},
   "outputs": [
    {
     "data": {
      "text/plain": [
       "<AxesSubplot: xlabel='corr', ylabel='pnet_diff'>"
      ]
     },
     "execution_count": 97,
     "metadata": {},
     "output_type": "execute_result"
    },
    {
     "data": {
      "image/png": "[encoded data removed]",
      "text/plain": [
       "<Figure size 640x480 with 1 Axes>"
      ]
     },
     "metadata": {},
     "output_type": "display_data"
    }
   ],
   "source": [
    "sns.scatterplot(importances_df, x='corr', y='pnet_diff')\n"
   ]
  },
  {
   "cell_type": "code",
   "execution_count": 98,
   "id": "ddf5ea4f",
   "metadata": {},
   "outputs": [
    {
     "data": {
      "image/png": "[encoded data removed]",
      "text/plain": [
       "<Figure size 640x480 with 1 Axes>"
      ]
     },
     "metadata": {},
     "output_type": "display_data"
    }
   ],
   "source": [
    "sns.scatterplot(importances_df, x='corr', y='pnet_sum')\n",
    "plt.savefig('pnet_importance_vs_correlation.pdf')"
   ]
  },
  {
   "cell_type": "code",
   "execution_count": 99,
   "id": "0c89aea9",
   "metadata": {},
   "outputs": [
    {
     "data": {
      "text/plain": [
       "<AxesSubplot: xlabel='pnet_diff', ylabel='pnet_sum'>"
      ]
     },
     "execution_count": 99,
     "metadata": {},
     "output_type": "execute_result"
    },
    {
     "data": {
      "image/png": "[encoded data removed]",
      "text/plain": [
       "<Figure size 640x480 with 1 Axes>"
      ]
     },
     "metadata": {},
     "output_type": "display_data"
    }
   ],
   "source": [
    "sns.scatterplot(importances_df, x='pnet_diff', y='pnet_sum')"
   ]
  },
  {
   "cell_type": "markdown",
   "id": "09852f2f",
   "metadata": {},
   "source": [
    "## Pathway level"
   ]
  },
  {
   "cell_type": "markdown",
   "id": "eb34d99a",
   "metadata": {},
   "source": [
    "### General correlations"
   ]
  },
  {
   "cell_type": "code",
   "execution_count": 100,
   "id": "43479ba1",
   "metadata": {},
   "outputs": [],
   "source": [
    "import gseapy as gp"
   ]
  },
  {
   "cell_type": "code",
   "execution_count": 101,
   "id": "9df6bf25",
   "metadata": {},
   "outputs": [
    {
     "name": "stderr",
     "output_type": "stream",
     "text": [
      "/Users/marc/opt/anaconda3/envs/pnet/lib/python3.10/site-packages/gseapy/base.py:505: FutureWarning: In a future version of pandas, a length 1 tuple will be returned when iterating over a groupby with a grouper equal to a list of length 1. Don't supply a list with a single grouper to avoid this warning.\n",
      "  for name, dd in res_df.groupby([\"name\"]):\n"
     ]
    }
   ],
   "source": [
    "ss = gp.ssgsea(data=input_df.T, \n",
    "               gene_sets='../data/reactome/ReactomePathways.gmt', \n",
    "               outdir='../ssgsea')"
   ]
  },
  {
   "cell_type": "code",
   "execution_count": 102,
   "id": "767ca36b",
   "metadata": {},
   "outputs": [],
   "source": [
    "pathway_scores = ss.res2d.pivot(index='Term', columns='Name', values='NES').T"
   ]
  },
  {
   "cell_type": "code",
   "execution_count": 103,
   "id": "8c229921",
   "metadata": {},
   "outputs": [],
   "source": [
    "target_df = mat_TCGA.loc[input_df.index]\n",
    "corr = []\n",
    "for col in pathway_scores.columns:\n",
    "    r, p = pearsonr(pathway_scores[col], target_df['heterogeneity'])\n",
    "    corr.append((r,p))\n",
    "heterog_pathway_corr = pd.DataFrame(corr, columns=['R', 'p_val'], index=pathway_scores.columns)\n",
    "heterog_pathway_corr['-log10_pval'] = -np.log10(heterog_pathway_corr['p_val'])"
   ]
  },
  {
   "cell_type": "code",
   "execution_count": 104,
   "id": "6ffc0f7c",
   "metadata": {},
   "outputs": [
    {
     "data": {
      "image/png": "[encoded data removed]",
      "text/plain": [
       "<Figure size 640x480 with 1 Axes>"
      ]
     },
     "metadata": {},
     "output_type": "display_data"
    }
   ],
   "source": [
    "fig, ax = plt.subplots()\n",
    "sns.scatterplot(heterog_pathway_corr, x='R', y='-log10_pval', ax=ax)\n",
    "ax.axhline(y=-np.log10(0.05/heterog_pathway_corr.shape[0]), color='r', linestyle='--')\n",
    "\n",
    "\n",
    "for gene in heterog_pathway_corr.index:\n",
    "    if heterog_pathway_corr.loc[gene]['-log10_pval'] > -np.log10(0.05/heterog_pathway_corr.shape[0]):\n",
    "        ax.annotate(gene, (heterog_pathway_corr.loc[gene]['R'], heterog_pathway_corr.loc[gene]['-log10_pval']))\n",
    "        \n",
    "fig.suptitle('Ploidy correlation of pathways ssGSEA scores')\n",
    "fig.savefig('Ploidy_correlation_pathways.pdf')"
   ]
  },
  {
   "cell_type": "code",
   "execution_count": 105,
   "id": "cb406edd",
   "metadata": {},
   "outputs": [
    {
     "data": {
      "text/html": [
       "<div>\n",
       "<style scoped>\n",
       "    .dataframe tbody tr th:only-of-type {\n",
       "        vertical-align: middle;\n",
       "    }\n",
       "\n",
       "    .dataframe tbody tr th {\n",
       "        vertical-align: top;\n",
       "    }\n",
       "\n",
       "    .dataframe thead th {\n",
       "        text-align: right;\n",
       "    }\n",
       "</style>\n",
       "<table border=\"1\" class=\"dataframe\">\n",
       "  <thead>\n",
       "    <tr style=\"text-align: right;\">\n",
       "      <th></th>\n",
       "      <th>R</th>\n",
       "      <th>p_val</th>\n",
       "      <th>-log10_pval</th>\n",
       "    </tr>\n",
       "    <tr>\n",
       "      <th>Term</th>\n",
       "      <th></th>\n",
       "      <th></th>\n",
       "      <th></th>\n",
       "    </tr>\n",
       "  </thead>\n",
       "  <tbody>\n",
       "    <tr>\n",
       "      <th>Metabolism of proteins</th>\n",
       "      <td>0.129068</td>\n",
       "      <td>0.008014</td>\n",
       "      <td>2.096163</td>\n",
       "    </tr>\n",
       "    <tr>\n",
       "      <th>GPCR downstream signalling</th>\n",
       "      <td>0.123905</td>\n",
       "      <td>0.010941</td>\n",
       "      <td>1.960940</td>\n",
       "    </tr>\n",
       "    <tr>\n",
       "      <th>Signaling by GPCR</th>\n",
       "      <td>0.123905</td>\n",
       "      <td>0.010941</td>\n",
       "      <td>1.960940</td>\n",
       "    </tr>\n",
       "    <tr>\n",
       "      <th>Post-translational protein modification</th>\n",
       "      <td>0.103694</td>\n",
       "      <td>0.033416</td>\n",
       "      <td>1.476040</td>\n",
       "    </tr>\n",
       "    <tr>\n",
       "      <th>Antigen processing: Ubiquitination &amp; Proteasome degradation</th>\n",
       "      <td>0.096816</td>\n",
       "      <td>0.047115</td>\n",
       "      <td>1.326840</td>\n",
       "    </tr>\n",
       "    <tr>\n",
       "      <th>Class I MHC mediated antigen processing &amp; presentation</th>\n",
       "      <td>0.096816</td>\n",
       "      <td>0.047115</td>\n",
       "      <td>1.326840</td>\n",
       "    </tr>\n",
       "    <tr>\n",
       "      <th>Metabolism of RNA</th>\n",
       "      <td>0.086823</td>\n",
       "      <td>0.075153</td>\n",
       "      <td>1.124053</td>\n",
       "    </tr>\n",
       "    <tr>\n",
       "      <th>Cell Cycle, Mitotic</th>\n",
       "      <td>0.086392</td>\n",
       "      <td>0.076618</td>\n",
       "      <td>1.115667</td>\n",
       "    </tr>\n",
       "    <tr>\n",
       "      <th>G alpha (i) signalling events</th>\n",
       "      <td>0.082021</td>\n",
       "      <td>0.092810</td>\n",
       "      <td>1.032406</td>\n",
       "    </tr>\n",
       "    <tr>\n",
       "      <th>Translation</th>\n",
       "      <td>0.080293</td>\n",
       "      <td>0.099922</td>\n",
       "      <td>1.000338</td>\n",
       "    </tr>\n",
       "    <tr>\n",
       "      <th>Metabolism of amino acids and derivatives</th>\n",
       "      <td>0.078292</td>\n",
       "      <td>0.108691</td>\n",
       "      <td>0.963806</td>\n",
       "    </tr>\n",
       "    <tr>\n",
       "      <th>Cell Cycle</th>\n",
       "      <td>0.077636</td>\n",
       "      <td>0.111694</td>\n",
       "      <td>0.951971</td>\n",
       "    </tr>\n",
       "    <tr>\n",
       "      <th>Infectious disease</th>\n",
       "      <td>0.073349</td>\n",
       "      <td>0.132957</td>\n",
       "      <td>0.876289</td>\n",
       "    </tr>\n",
       "    <tr>\n",
       "      <th>M Phase</th>\n",
       "      <td>0.072681</td>\n",
       "      <td>0.136534</td>\n",
       "      <td>0.864759</td>\n",
       "    </tr>\n",
       "    <tr>\n",
       "      <th>Developmental Biology</th>\n",
       "      <td>0.065095</td>\n",
       "      <td>0.182506</td>\n",
       "      <td>0.738723</td>\n",
       "    </tr>\n",
       "    <tr>\n",
       "      <th>Signal Transduction</th>\n",
       "      <td>0.063573</td>\n",
       "      <td>0.192970</td>\n",
       "      <td>0.714510</td>\n",
       "    </tr>\n",
       "    <tr>\n",
       "      <th>Cellular responses to external stimuli</th>\n",
       "      <td>0.063427</td>\n",
       "      <td>0.193998</td>\n",
       "      <td>0.712203</td>\n",
       "    </tr>\n",
       "    <tr>\n",
       "      <th>Cellular responses to stress</th>\n",
       "      <td>0.063427</td>\n",
       "      <td>0.193998</td>\n",
       "      <td>0.712203</td>\n",
       "    </tr>\n",
       "    <tr>\n",
       "      <th>Membrane Trafficking</th>\n",
       "      <td>0.056472</td>\n",
       "      <td>0.247608</td>\n",
       "      <td>0.606234</td>\n",
       "    </tr>\n",
       "    <tr>\n",
       "      <th>Nervous system development</th>\n",
       "      <td>0.054968</td>\n",
       "      <td>0.260446</td>\n",
       "      <td>0.584283</td>\n",
       "    </tr>\n",
       "  </tbody>\n",
       "</table>\n",
       "</div>"
      ],
      "text/plain": [
       "                                                           R     p_val  \\\n",
       "Term                                                                     \n",
       "Metabolism of proteins                              0.129068  0.008014   \n",
       "GPCR downstream signalling                          0.123905  0.010941   \n",
       "Signaling by GPCR                                   0.123905  0.010941   \n",
       "Post-translational protein modification             0.103694  0.033416   \n",
       "Antigen processing: Ubiquitination & Proteasome...  0.096816  0.047115   \n",
       "Class I MHC mediated antigen processing & prese...  0.096816  0.047115   \n",
       "Metabolism of RNA                                   0.086823  0.075153   \n",
       "Cell Cycle, Mitotic                                 0.086392  0.076618   \n",
       "G alpha (i) signalling events                       0.082021  0.092810   \n",
       "Translation                                         0.080293  0.099922   \n",
       "Metabolism of amino acids and derivatives           0.078292  0.108691   \n",
       "Cell Cycle                                          0.077636  0.111694   \n",
       "Infectious disease                                  0.073349  0.132957   \n",
       "M Phase                                             0.072681  0.136534   \n",
       "Developmental Biology                               0.065095  0.182506   \n",
       "Signal Transduction                                 0.063573  0.192970   \n",
       "Cellular responses to external stimuli              0.063427  0.193998   \n",
       "Cellular responses to stress                        0.063427  0.193998   \n",
       "Membrane Trafficking                                0.056472  0.247608   \n",
       "Nervous system development                          0.054968  0.260446   \n",
       "\n",
       "                                                    -log10_pval  \n",
       "Term                                                             \n",
       "Metabolism of proteins                                 2.096163  \n",
       "GPCR downstream signalling                             1.960940  \n",
       "Signaling by GPCR                                      1.960940  \n",
       "Post-translational protein modification                1.476040  \n",
       "Antigen processing: Ubiquitination & Proteasome...     1.326840  \n",
       "Class I MHC mediated antigen processing & prese...     1.326840  \n",
       "Metabolism of RNA                                      1.124053  \n",
       "Cell Cycle, Mitotic                                    1.115667  \n",
       "G alpha (i) signalling events                          1.032406  \n",
       "Translation                                            1.000338  \n",
       "Metabolism of amino acids and derivatives              0.963806  \n",
       "Cell Cycle                                             0.951971  \n",
       "Infectious disease                                     0.876289  \n",
       "M Phase                                                0.864759  \n",
       "Developmental Biology                                  0.738723  \n",
       "Signal Transduction                                    0.714510  \n",
       "Cellular responses to external stimuli                 0.712203  \n",
       "Cellular responses to stress                           0.712203  \n",
       "Membrane Trafficking                                   0.606234  \n",
       "Nervous system development                             0.584283  "
      ]
     },
     "execution_count": 105,
     "metadata": {},
     "output_type": "execute_result"
    }
   ],
   "source": [
    "abs(heterog_pathway_corr).nlargest(20, 'R')"
   ]
  },
  {
   "cell_type": "markdown",
   "id": "069a2d19",
   "metadata": {},
   "source": [
    "### Pnet pathway importances"
   ]
  },
  {
   "cell_type": "code",
   "execution_count": null,
   "id": "4e7cad2e",
   "metadata": {},
   "outputs": [],
   "source": [
    "pathway_importances = model.layerwise_importance(test_dataset)"
   ]
  },
  {
   "cell_type": "code",
   "execution_count": null,
   "id": "22babc84",
   "metadata": {},
   "outputs": [],
   "source": [
    "pathway_importances[-1].nlargest(20, 'diff')"
   ]
  },
  {
   "cell_type": "code",
   "execution_count": null,
   "id": "407d8ba2",
   "metadata": {},
   "outputs": [],
   "source": [
    "test_df = test_dataset.target\n",
    "test_df['pred'] = pred.round().detach().numpy()\n",
    "test_df['missclass'] = abs(test_df['dichtomized_heterogeneity'] - test_df['pred'])\n",
    "test_df[test_df['missclass'] > 0].index"
   ]
  },
  {
   "cell_type": "code",
   "execution_count": null,
   "id": "bf7a3e1d",
   "metadata": {},
   "outputs": [],
   "source": [
    "sns.histplot(mat_TCGA.join(test_df), x='heterogeneity', hue='missclass', bins=30)"
   ]
  },
  {
   "cell_type": "code",
   "execution_count": null,
   "id": "01059477",
   "metadata": {},
   "outputs": [],
   "source": [
    "pred.detach().round().mean()"
   ]
  },
  {
   "cell_type": "markdown",
   "id": "31e2662b",
   "metadata": {},
   "source": [
    "## Train with Lightning"
   ]
  },
  {
   "cell_type": "code",
   "execution_count": null,
   "id": "91d941af",
   "metadata": {},
   "outputs": [],
   "source": [
    "%cd src\n",
    "import Pnet\n",
    "import ReactomeNetwork"
   ]
  },
  {
   "cell_type": "code",
   "execution_count": null,
   "id": "c470b46c",
   "metadata": {},
   "outputs": [],
   "source": [
    "import pytorch_lightning as pl"
   ]
  },
  {
   "cell_type": "code",
   "execution_count": null,
   "id": "d8483a19",
   "metadata": {},
   "outputs": [],
   "source": [
    "reactome_network = ReactomeNetwork.ReactomeNetwork(train_dataset.get_genes())"
   ]
  },
  {
   "cell_type": "code",
   "execution_count": null,
   "id": "fc3ef5d9",
   "metadata": {},
   "outputs": [],
   "source": [
    "model = Pnet.PNET_NN(hparams=\n",
    "                     {'reactome_network':reactome_network, 'nbr_gene_inputs':len(genetic_data), 'dropout':0.2,\n",
    "                      'additional_dims':0, 'lr':1e-3, 'weight_decay':1e-5}\n",
    "                    )"
   ]
  },
  {
   "cell_type": "code",
   "execution_count": null,
   "id": "659aeefb",
   "metadata": {},
   "outputs": [],
   "source": [
    "train_loader, val_loader = pnet_loader.to_dataloader(train_dataset, test_dataset, 56)"
   ]
  },
  {
   "cell_type": "code",
   "execution_count": null,
   "id": "e698e340",
   "metadata": {},
   "outputs": [],
   "source": [
    "batch_x, additional, batch_y = next(iter(train_loader))"
   ]
  },
  {
   "cell_type": "code",
   "execution_count": null,
   "id": "71783d69",
   "metadata": {},
   "outputs": [],
   "source": [
    "additional.shape"
   ]
  },
  {
   "cell_type": "code",
   "execution_count": null,
   "id": "b4d8b348",
   "metadata": {
    "scrolled": true
   },
   "outputs": [],
   "source": [
    "trainer = pl.Trainer(precision=16, accelerator=None, max_epochs=100, log_every_n_steps=50, \n",
    "                     enable_checkpointing=False)\n",
    "\n",
    "trainer.fit(model=model, train_dataloaders=train_loader, val_dataloaders=val_loader,)"
   ]
  },
  {
   "cell_type": "code",
   "execution_count": null,
   "id": "60bf0ade",
   "metadata": {},
   "outputs": [],
   "source": []
  }
 ],
 "metadata": {
  "kernelspec": {
   "display_name": "Python 3 (ipykernel)",
   "language": "python",
   "name": "python3"
  },
  "language_info": {
   "codemirror_mode": {
    "name": "ipython",
    "version": 3
   },
   "file_extension": ".py",
   "mimetype": "text/x-python",
   "name": "python",
   "nbconvert_exporter": "python",
   "pygments_lexer": "ipython3",
   "version": "3.10.9"
  }
 },
 "nbformat": 4,
 "nbformat_minor": 5
}
