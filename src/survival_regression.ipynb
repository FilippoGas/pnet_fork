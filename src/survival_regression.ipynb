{
 "cells": [
  {
   "cell_type": "code",
   "execution_count": 61,
   "id": "b6106fe9-0abc-43b4-972d-f8267cf7c9a8",
   "metadata": {},
   "outputs": [
    {
     "name": "stdout",
     "output_type": "stream",
     "text": [
      "The autoreload extension is already loaded. To reload it, use:\n",
      "  %reload_ext autoreload\n"
     ]
    }
   ],
   "source": [
    "import pnet_loader\n",
    "import util\n",
    "import Pnet\n",
    "import ReactomeNetwork\n",
    "import torch\n",
    "import random\n",
    "import seaborn as sns\n",
    "import pandas as pd\n",
    "import numpy as np\n",
    "import os\n",
    "from sklearn import metrics\n",
    "import matplotlib.pyplot as plt\n",
    "from sklearn.metrics import accuracy_score, roc_auc_score, roc_curve, auc\n",
    "from sklearn.ensemble import RandomForestClassifier\n",
    "from sklearn.datasets import make_classification\n",
    "from sklearn.svm import SVC\n",
    "import torch.nn.functional as F\n",
    "import torch.nn as nn\n",
    "\n",
    "\n",
    "pd.set_option('display.max_columns', None)\n",
    "%load_ext autoreload\n",
    "%autoreload 2"
   ]
  },
  {
   "cell_type": "code",
   "execution_count": 2,
   "id": "bf16e031-f9d8-4f11-aa31-fa29395204cf",
   "metadata": {},
   "outputs": [],
   "source": [
    "path = '../../data/brca_tcga_pan_can_atlas_2018'"
   ]
  },
  {
   "cell_type": "code",
   "execution_count": 4,
   "id": "69317e3b-a0c9-42ef-9e68-fcaaa451581d",
   "metadata": {},
   "outputs": [
    {
     "name": "stderr",
     "output_type": "stream",
     "text": [
      "/opt/conda/lib/python3.7/site-packages/ipykernel_launcher.py:1: DtypeWarning: Columns (38,39) have mixed types.Specify dtype option on import or set low_memory=False.\n",
      "  \"\"\"Entry point for launching an IPython kernel.\n"
     ]
    }
   ],
   "source": [
    "brca_rna, brca_cna, brca_tumor_type, brca_mut = util.load_tcga_dataset(path)\n",
    "\n",
    "rna = brca_rna.dropna(axis=1)\n",
    "rna = (rna-rna.mean())/rna.std()\n",
    "rna = rna.dropna(axis=1)\n",
    "cna = brca_cna.dropna(axis=1)\n",
    "mut = brca_mut.dropna(axis=1)\n",
    "\n",
    "genetic_data = {'rna': rna, 'cna': cna, 'mut': mut}\n",
    "for gd in genetic_data:\n",
    "    genetic_data[gd].index = [i[:12] for i in genetic_data[gd].index]"
   ]
  },
  {
   "cell_type": "code",
   "execution_count": 70,
   "id": "b6285d5e-8ba5-4e52-a04d-125af3da9ca4",
   "metadata": {},
   "outputs": [],
   "source": [
    "clinical = pd.read_csv('../../data/brca_tcga_pan_can_atlas_2018/data_clinical_patient.txt', delimiter='\\t').loc[4:].set_index('#Patient Identifier')\n",
    "survival_target = pd.DataFrame(clinical['Progress Free Survival (Months)']).astype(float)\n",
    "canc_genes = list(pd.read_csv('../../pnet_database/genes/cancer_genes.txt').values.reshape(-1))"
   ]
  },
  {
   "cell_type": "code",
   "execution_count": 80,
   "id": "5e40d59e-29ca-41d0-8c79-d75d8dd157db",
   "metadata": {},
   "outputs": [
    {
     "name": "stdout",
     "output_type": "stream",
     "text": [
      "Task defined: REG \n",
      " if this is not the intended task please specify task\n",
      "Given 3 Input modalities\n",
      "Found 1066 overlapping indicies\n",
      "Initializing Train Dataset\n",
      "Found 686 overlapping genes\n",
      "generated input DataFrame of size (853, 2058)\n",
      "Initializing Test Dataset\n",
      "Found 686 overlapping genes\n",
      "generated input DataFrame of size (213, 2058)\n",
      "Found 686 overlapping genes\n",
      "Loss function used: MSELoss()\n",
      "We are sending to cuda\n",
      "Hit early stopping criteria\n"
     ]
    }
   ],
   "source": [
    "model, train_scores, test_scores, train_dataset, test_dataset = Pnet.run(genetic_data, survival_target, seed=0, dropout=0.2, lr=1e-3, weight_decay=1e-3,\n",
    "                                                                           batch_size=64, epochs=300, early_stopping=True, input_dropout=0.5, gene_set=canc_genes)"
   ]
  },
  {
   "cell_type": "code",
   "execution_count": 81,
   "id": "0747fcab-42ac-4878-a32f-70bd40ae753d",
   "metadata": {},
   "outputs": [],
   "source": [
    "x_train = train_dataset.x\n",
    "additional_train = train_dataset.additional\n",
    "y_train = train_dataset.y\n",
    "x_test = test_dataset.x\n",
    "additional_test = test_dataset.additional\n",
    "y_test = test_dataset.y"
   ]
  },
  {
   "cell_type": "code",
   "execution_count": 82,
   "id": "d05cbc75-297b-47da-a7e0-2f19ccb31a90",
   "metadata": {},
   "outputs": [],
   "source": [
    "model.to('cpu')\n",
    "y_pred = model.predict(x_test, additional_test).detach()"
   ]
  },
  {
   "cell_type": "code",
   "execution_count": 83,
   "id": "4a492ee9-516d-49d0-aa02-17bb5b885aa2",
   "metadata": {},
   "outputs": [
    {
     "data": {
      "text/plain": [
       "[<matplotlib.lines.Line2D at 0x7efd21c08a50>]"
      ]
     },
     "execution_count": 83,
     "metadata": {},
     "output_type": "execute_result"
    },
    {
     "data": {
      "image/png": "[encoded data removed]",
      "text/plain": [
       "<Figure size 432x288 with 1 Axes>"
      ]
     },
     "metadata": {
      "needs_background": "light"
     },
     "output_type": "display_data"
    }
   ],
   "source": [
    "plt.scatter(x=y_test, y=y_pred)\n",
    "plt.plot(y_test, y_test, color='red', linestyle='--', label='Diagonal Line')"
   ]
  },
  {
   "cell_type": "code",
   "execution_count": null,
   "id": "12a99138-95a0-4ad4-a556-7f3377505100",
   "metadata": {},
   "outputs": [],
   "source": []
  }
 ],
 "metadata": {
  "environment": {
   "kernel": "conda-root-py",
   "name": "pytorch-gpu.1-10.m90",
   "type": "gcloud",
   "uri": "gcr.io/deeplearning-platform-release/pytorch-gpu.1-10:m90"
  },
  "kernelspec": {
   "display_name": "Python [conda env:root] *",
   "language": "python",
   "name": "conda-root-py"
  },
  "language_info": {
   "codemirror_mode": {
    "name": "ipython",
    "version": 3
   },
   "file_extension": ".py",
   "mimetype": "text/x-python",
   "name": "python",
   "nbconvert_exporter": "python",
   "pygments_lexer": "ipython3",
   "version": "3.7.12"
  }
 },
 "nbformat": 4,
 "nbformat_minor": 5
}
