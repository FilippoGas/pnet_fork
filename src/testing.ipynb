{
 "cells": [
  {
   "cell_type": "code",
   "execution_count": 1,
   "id": "2040ab08-8550-4d4f-9ae8-0b34b46afa08",
   "metadata": {},
   "outputs": [],
   "source": [
    "import pnet_loader\n",
    "import util\n",
    "import torch\n",
    "import seaborn as sns\n",
    "import pandas as pd\n",
    "import numpy as np\n",
    "import Pnet\n",
    "import random\n",
    "import pickle\n",
    "from sklearn import metrics\n",
    "import matplotlib.pyplot as plt\n",
    "from sklearn.metrics import roc_auc_score\n",
    "from sklearn.ensemble import RandomForestClassifier\n",
    "from sklearn.mixture import GaussianMixture\n",
    "from sklearn.decomposition import PCA\n",
    "import os\n",
    "\n",
    "%load_ext autoreload\n",
    "%autoreload 2"
   ]
  },
  {
   "cell_type": "markdown",
   "id": "c53cd4fa-682f-4d90-8be3-25e78a6b2f84",
   "metadata": {},
   "source": [
    "Generate small test dataset"
   ]
  },
  {
   "cell_type": "code",
   "execution_count": 2,
   "id": "54caefaf-2a1e-45be-9449-7611c0180a83",
   "metadata": {},
   "outputs": [],
   "source": [
    "# rna_ext_val = pd.read_csv('/mnt/disks/pancan/data/mel_dfci_2019/data_RNA_Seq_expression_tpm_all_sample_Zscores.txt',\n",
    "#                           delimiter='\\t').set_index('Hugo_Symbol').T.drop('Entrez_Gene_Id').dropna(axis=1)\n",
    "# cna_ext_val = pd.read_csv('/mnt/disks/pancan/data/mel_dfci_2019/data_CNA.txt',\n",
    "#                           delimiter='\\t').set_index('Hugo_Symbol').T.dropna(axis=1)\n",
    "# ext_val = pd.read_csv('/mnt/disks/pancan/data/mel_dfci_2019/data_clinical_sample.txt',\n",
    "#                              delimiter='\\t').set_index('Sample Identifier').iloc[4:]\n",
    "# important_genes = list(pd.read_csv('/mnt/disks/pancan/m1000/cancer_genes.txt')['genes'].values)\n",
    "# joint_genes = list(set(important_genes).intersection(list(rna_ext_val.columns), list(cna_ext_val.columns)))\n",
    "# gene_list = random.sample(joint_genes, 500)\n",
    "# random_genes_a = list(rna_ext_val.sample(5, axis=1).columns)\n",
    "# random_genes_b = list(cna_ext_val.sample(5, axis=1).columns)\n",
    "# joint_samples = list(rna_ext_val.sample(20).join(cna_ext_val, rsuffix='_cna', how='inner').index)\n",
    "# random_samples_a = list(rna_ext_val.sample(5, axis=0).index)\n",
    "# random_samples_b = list(cna_ext_val.sample(5, axis=0).index)\n",
    "# random_samples_c = list(cna_ext_val.sample(5, axis=0).index)\n",
    "# random_samples_d = list(cna_ext_val.sample(5, axis=0).index)\n",
    "# test_rna = rna_ext_val.loc[joint_samples+random_samples_a][joint_genes+random_genes_a].copy().drop_duplicates()\n",
    "# test_cna = cna_ext_val.loc[joint_samples+random_samples_b][joint_genes+random_genes_b].copy().drop_duplicates()\n",
    "# test_add = ext_val.loc[joint_samples+random_samples_c][['Purity', 'Ploidy']].copy().drop_duplicates()\n",
    "# test_y = ext_val.loc[joint_samples+random_samples_d][['Heterogeneity']].copy().drop_duplicates()\n",
    "# test_rna.reset_index(inplace=True)\n",
    "# test_cna.reset_index(inplace=True)\n",
    "# test_add.reset_index(inplace=True)\n",
    "# test_y.reset_index(inplace=True)\n",
    "# test_rna.rename(columns={'index': 'sample_id'}, inplace=True)\n",
    "# test_cna.rename(columns={'index': 'sample_id'}, inplace=True)\n",
    "# test_add.rename(columns={'Sample Identifier': 'sample_id'}, inplace=True)\n",
    "# test_y.rename(columns={'Sample Identifier': 'sample_id'}, inplace=True)\n",
    "# test_rna.to_csv('../data/test_data/rna.csv', index=False)\n",
    "# test_cna.to_csv('../data/test_data/cna.csv', index=False)\n",
    "# test_add.to_csv('../data/test_data/add.csv', index=False)\n",
    "# test_y.to_csv('../data/test_data/y.csv', index=False)\n",
    "# with open('../data/test_data/gene_sublist.txt', 'wb') as fp:\n",
    "#     pickle.dump(gene_list, fp)"
   ]
  },
  {
   "cell_type": "markdown",
   "id": "411a6d5f-6537-4fc8-9f81-eda46428fde3",
   "metadata": {},
   "source": [
    "Read test data"
   ]
  },
  {
   "cell_type": "code",
   "execution_count": 3,
   "id": "0cea9892-fdc0-4bcd-bd5f-8ae612aa26d3",
   "metadata": {},
   "outputs": [],
   "source": [
    "test_rna = pd.read_csv('../data/test_data/rna.csv').set_index('sample_id')\n",
    "test_cna = pd.read_csv('../data/test_data/cna.csv').set_index('sample_id')\n",
    "test_add = pd.read_csv('../data/test_data/add.csv').set_index('sample_id')\n",
    "test_y = pd.read_csv('../data/test_data/y.csv').set_index('sample_id')\n",
    "\n",
    "with open('../data/test_data/gene_sublist.txt', 'rb') as fp:\n",
    "    gene_list = pickle.load(fp)"
   ]
  },
  {
   "cell_type": "code",
   "execution_count": 4,
   "id": "d1c495e0-7b1c-41f8-9af9-9ad38c366a5e",
   "metadata": {},
   "outputs": [],
   "source": [
    "genetic_data = {'rna': test_rna, 'cna': test_cna}"
   ]
  },
  {
   "cell_type": "code",
   "execution_count": 5,
   "id": "f324574f-f861-4c04-bdec-2f1865ff801a",
   "metadata": {},
   "outputs": [
    {
     "name": "stdout",
     "output_type": "stream",
     "text": [
      "Given 2 Input modalities\n",
      "Found 20 overlapping indicies\n",
      "Initializing Train Dataset\n",
      "Found 500 overlapping genes\n",
      "generated input DataFrame of size (16, 1000)\n",
      "Initializing Test Dataset\n",
      "Found 500 overlapping genes\n",
      "generated input DataFrame of size (4, 1000)\n",
      "Replace input of: BLM_cna with collinear feature.\n",
      "Replace input of: TBX3 with collinear feature.\n"
     ]
    }
   ],
   "source": [
    "train_dataset, test_dataset = pnet_loader.generate_train_test(genetic_data,\n",
    "                                                              test_y, \n",
    "                                                              additional_data=test_add,\n",
    "                                                              test_split=0.2,\n",
    "                                                              gene_set=gene_list,\n",
    "                                                              collinear_features=2)"
   ]
  },
  {
   "cell_type": "code",
   "execution_count": 6,
   "id": "fc854b72-b422-4b84-acaf-51cb5c852046",
   "metadata": {},
   "outputs": [],
   "source": [
    "assert set(gene_list) == set(train_dataset.genes), 'Training dataset expected to have the same gene set as in file'\n",
    "assert train_dataset.genes == list(train_dataset.input_df.columns)[:500], 'Training data genes should be ordered \\\n",
    "                                                                            as stored in the genes variable'\n",
    "assert train_dataset.input_df.shape == torch.Size([16, 1000]), 'Input DataFrame expected to be a of size\\\n",
    "                                                        [16, 1000], got: {}'.format(train_dataset.input_df.shape)\n",
    "assert train_dataset.x.shape == torch.Size([16, 1000]), 'Small train dataset expected to be a tensor of size\\\n",
    "                                                        [16, 1000], got: {}'.format(train_dataset.x.shape)\n",
    "assert train_dataset.y.shape == torch.Size([16, 1]), 'Small train dataset expected to be a tensor of size\\\n",
    "                                                        [16, 1], got: {}'.format(train_dataset.y.shape)\n"
   ]
  },
  {
   "cell_type": "code",
   "execution_count": 7,
   "id": "b95e6220-37a6-4720-a85f-90908672293d",
   "metadata": {},
   "outputs": [],
   "source": [
    "import ReactomeNetwork"
   ]
  },
  {
   "cell_type": "code",
   "execution_count": 8,
   "id": "6e119cc3-7972-4d71-8580-3ddfc3a561c1",
   "metadata": {},
   "outputs": [
    {
     "name": "stdout",
     "output_type": "stream",
     "text": [
      "Found 500 overlapping genes\n"
     ]
    }
   ],
   "source": [
    "reactome_network = ReactomeNetwork.ReactomeNetwork(train_dataset.get_genes())"
   ]
  },
  {
   "cell_type": "code",
   "execution_count": 9,
   "id": "1f479b74-9431-4339-b472-e2e3c0d141f9",
   "metadata": {},
   "outputs": [],
   "source": [
    "train_loader, val_loader = pnet_loader.to_dataloader(train_dataset, test_dataset, 64)"
   ]
  },
  {
   "cell_type": "code",
   "execution_count": 133,
   "id": "0a839929-35e4-4977-9a1f-4e0472b27bd2",
   "metadata": {},
   "outputs": [
    {
     "data": {
      "text/html": [
       "<div>\n",
       "<style scoped>\n",
       "    .dataframe tbody tr th:only-of-type {\n",
       "        vertical-align: middle;\n",
       "    }\n",
       "\n",
       "    .dataframe tbody tr th {\n",
       "        vertical-align: top;\n",
       "    }\n",
       "\n",
       "    .dataframe thead th {\n",
       "        text-align: right;\n",
       "    }\n",
       "</style>\n",
       "<table border=\"1\" class=\"dataframe\">\n",
       "  <thead>\n",
       "    <tr style=\"text-align: right;\">\n",
       "      <th></th>\n",
       "      <th>Heterogeneity</th>\n",
       "    </tr>\n",
       "    <tr>\n",
       "      <th>sample_id</th>\n",
       "      <th></th>\n",
       "    </tr>\n",
       "  </thead>\n",
       "  <tbody>\n",
       "    <tr>\n",
       "      <th>Sample159</th>\n",
       "      <td>1</td>\n",
       "    </tr>\n",
       "    <tr>\n",
       "      <th>Sample146</th>\n",
       "      <td>0</td>\n",
       "    </tr>\n",
       "    <tr>\n",
       "      <th>Sample117</th>\n",
       "      <td>1</td>\n",
       "    </tr>\n",
       "    <tr>\n",
       "      <th>Sample10</th>\n",
       "      <td>1</td>\n",
       "    </tr>\n",
       "    <tr>\n",
       "      <th>Sample61</th>\n",
       "      <td>0</td>\n",
       "    </tr>\n",
       "    <tr>\n",
       "      <th>Sample17</th>\n",
       "      <td>0</td>\n",
       "    </tr>\n",
       "    <tr>\n",
       "      <th>Sample24</th>\n",
       "      <td>0</td>\n",
       "    </tr>\n",
       "    <tr>\n",
       "      <th>Sample78</th>\n",
       "      <td>0</td>\n",
       "    </tr>\n",
       "    <tr>\n",
       "      <th>Sample45</th>\n",
       "      <td>0</td>\n",
       "    </tr>\n",
       "    <tr>\n",
       "      <th>Sample134</th>\n",
       "      <td>0</td>\n",
       "    </tr>\n",
       "    <tr>\n",
       "      <th>Sample1</th>\n",
       "      <td>1</td>\n",
       "    </tr>\n",
       "    <tr>\n",
       "      <th>Sample141</th>\n",
       "      <td>0</td>\n",
       "    </tr>\n",
       "    <tr>\n",
       "      <th>Sample184</th>\n",
       "      <td>0</td>\n",
       "    </tr>\n",
       "    <tr>\n",
       "      <th>Sample20</th>\n",
       "      <td>0</td>\n",
       "    </tr>\n",
       "    <tr>\n",
       "      <th>Sample14</th>\n",
       "      <td>1</td>\n",
       "    </tr>\n",
       "    <tr>\n",
       "      <th>Sample189</th>\n",
       "      <td>1</td>\n",
       "    </tr>\n",
       "    <tr>\n",
       "      <th>Sample83</th>\n",
       "      <td>0</td>\n",
       "    </tr>\n",
       "    <tr>\n",
       "      <th>Sample47</th>\n",
       "      <td>0</td>\n",
       "    </tr>\n",
       "    <tr>\n",
       "      <th>Sample165</th>\n",
       "      <td>0</td>\n",
       "    </tr>\n",
       "    <tr>\n",
       "      <th>Sample196</th>\n",
       "      <td>0</td>\n",
       "    </tr>\n",
       "    <tr>\n",
       "      <th>Sample44</th>\n",
       "      <td>1</td>\n",
       "    </tr>\n",
       "    <tr>\n",
       "      <th>Sample58</th>\n",
       "      <td>0</td>\n",
       "    </tr>\n",
       "    <tr>\n",
       "      <th>Sample86</th>\n",
       "      <td>1</td>\n",
       "    </tr>\n",
       "    <tr>\n",
       "      <th>Sample56</th>\n",
       "      <td>0</td>\n",
       "    </tr>\n",
       "  </tbody>\n",
       "</table>\n",
       "</div>"
      ],
      "text/plain": [
       "           Heterogeneity\n",
       "sample_id               \n",
       "Sample159              1\n",
       "Sample146              0\n",
       "Sample117              1\n",
       "Sample10               1\n",
       "Sample61               0\n",
       "Sample17               0\n",
       "Sample24               0\n",
       "Sample78               0\n",
       "Sample45               0\n",
       "Sample134              0\n",
       "Sample1                1\n",
       "Sample141              0\n",
       "Sample184              0\n",
       "Sample20               0\n",
       "Sample14               1\n",
       "Sample189              1\n",
       "Sample83               0\n",
       "Sample47               0\n",
       "Sample165              0\n",
       "Sample196              0\n",
       "Sample44               1\n",
       "Sample58               0\n",
       "Sample86               1\n",
       "Sample56               0"
      ]
     },
     "execution_count": 133,
     "metadata": {},
     "output_type": "execute_result"
    }
   ],
   "source": [
    "test_y_bin = test_y.apply(lambda x: round(2*x))\n",
    "pd.get_dummies(test_y_bin.astype('long'), 'Heterogeneity')"
   ]
  },
  {
   "cell_type": "code",
   "execution_count": 134,
   "id": "d70b384b-5e4f-497c-97f1-76e7b0a39bd5",
   "metadata": {
    "tags": []
   },
   "outputs": [
    {
     "name": "stdout",
     "output_type": "stream",
     "text": [
      "Task defined: BC \n",
      " if this is not the intended task please specify task\n",
      "Given 2 Input modalities\n",
      "Found 20 overlapping indicies\n",
      "Initializing Train Dataset\n",
      "Found 649 overlapping genes\n",
      "generated input DataFrame of size (16, 1298)\n",
      "Initializing Test Dataset\n",
      "Found 649 overlapping genes\n",
      "generated input DataFrame of size (4, 1298)\n",
      "Found 649 overlapping genes\n",
      "Loss function used: BCEWithLogitsLoss()\n",
      "Epoch 1 of 10\n",
      "Train Loss: 1.2823991775512695\n",
      "Test Loss: 1.4118282794952393\n",
      "Epoch 2 of 10\n",
      "Train Loss: 1.2894823551177979\n",
      "Test Loss: 1.4125237464904785\n",
      "Epoch 3 of 10\n",
      "Train Loss: 1.2473118305206299\n",
      "Test Loss: 1.4132188558578491\n",
      "Epoch 4 of 10\n",
      "Train Loss: 1.2277729511260986\n",
      "Test Loss: 1.413933515548706\n",
      "Epoch 5 of 10\n",
      "Train Loss: 1.2076926231384277\n",
      "Test Loss: 1.4146549701690674\n",
      "Epoch 6 of 10\n",
      "Train Loss: 1.1683881282806396\n",
      "Test Loss: 1.4153600931167603\n",
      "Epoch 7 of 10\n",
      "Train Loss: 1.1836776733398438\n",
      "Test Loss: 1.4160659313201904\n",
      "Epoch 8 of 10\n",
      "Train Loss: 1.1784753799438477\n",
      "Test Loss: 1.4167823791503906\n",
      "Epoch 9 of 10\n",
      "Train Loss: 1.1499295234680176\n",
      "Test Loss: 1.4174795150756836\n",
      "Epoch 10 of 10\n",
      "Train Loss: 1.1360700130462646\n",
      "Test Loss: 1.4182140827178955\n"
     ]
    }
   ],
   "source": [
    "model, train_scores, test_scores, train_dataset, test_dataset = Pnet.run(genetic_data,\n",
    "                                                                         test_y_bin,\n",
    "                                                                         verbose=True,\n",
    "                                                                         early_stopping=True,\n",
    "                                                                         epochs=10,\n",
    "                                                                        )"
   ]
  },
  {
   "cell_type": "code",
   "execution_count": 54,
   "id": "a4c4c725-fa91-46ae-90e7-5404bec0018d",
   "metadata": {},
   "outputs": [],
   "source": [
    "x_train = train_dataset.x\n",
    "additional_train = train_dataset.additional\n",
    "y_train = train_dataset.y\n",
    "x_test = test_dataset.x\n",
    "additional_test = test_dataset.additional\n",
    "y_test = test_dataset.y"
   ]
  },
  {
   "cell_type": "code",
   "execution_count": 49,
   "id": "7bd32cee-5261-49b1-ae6b-20a4d5d33a98",
   "metadata": {},
   "outputs": [],
   "source": [
    "model.to('cpu')\n",
    "pred = model.predict(x_test, additional_test)\n"
   ]
  },
  {
   "cell_type": "code",
   "execution_count": 49,
   "id": "1d73c4c4-2f0f-470d-a73e-2018b74ce0d0",
   "metadata": {},
   "outputs": [
    {
     "data": {
      "text/plain": [
       "tensor([[ 1.1193,  0.0246, -0.9385]])"
      ]
     },
     "execution_count": 49,
     "metadata": {},
     "output_type": "execute_result"
    }
   ],
   "source": [
    "x = torch.randn(1, 3)\n",
    "x"
   ]
  },
  {
   "cell_type": "code",
   "execution_count": 44,
   "id": "ffdde7b7-a765-43eb-8e5f-818d89ee2293",
   "metadata": {},
   "outputs": [],
   "source": [
    "a =torch.randint(10,(10,1))"
   ]
  },
  {
   "cell_type": "code",
   "execution_count": 45,
   "id": "1ef1e62e-ddbe-4fd7-b8e3-b0dc1e3a8dc4",
   "metadata": {},
   "outputs": [],
   "source": [
    "import torch.nn as nn"
   ]
  },
  {
   "cell_type": "code",
   "execution_count": 35,
   "id": "84561545-1a88-4993-8530-1cf79ee622d9",
   "metadata": {},
   "outputs": [
    {
     "data": {
      "text/plain": [
       "tensor([0.5792, 0.5397])"
      ]
     },
     "execution_count": 35,
     "metadata": {},
     "output_type": "execute_result"
    }
   ],
   "source": [
    "m(a[1])"
   ]
  },
  {
   "cell_type": "code",
   "execution_count": 36,
   "id": "4b206e02-495e-43be-add1-c2f234d02b53",
   "metadata": {},
   "outputs": [
    {
     "data": {
      "text/plain": [
       "tensor([0.3194, 0.1592])"
      ]
     },
     "execution_count": 36,
     "metadata": {},
     "output_type": "execute_result"
    }
   ],
   "source": [
    "a[1]"
   ]
  },
  {
   "cell_type": "code",
   "execution_count": null,
   "id": "c91bad1d-df11-4e2b-81d0-7b0b2ad9b76e",
   "metadata": {},
   "outputs": [],
   "source": []
  }
 ],
 "metadata": {
  "environment": {
   "kernel": "conda-root-py",
   "name": "pytorch-gpu.1-10.m90",
   "type": "gcloud",
   "uri": "gcr.io/deeplearning-platform-release/pytorch-gpu.1-10:m90"
  },
  "kernelspec": {
   "display_name": "Python 3 (ipykernel)",
   "language": "python",
   "name": "python3"
  },
  "language_info": {
   "codemirror_mode": {
    "name": "ipython",
    "version": 3
   },
   "file_extension": ".py",
   "mimetype": "text/x-python",
   "name": "python",
   "nbconvert_exporter": "python",
   "pygments_lexer": "ipython3",
   "version": "3.10.8"
  }
 },
 "nbformat": 4,
 "nbformat_minor": 5
}
