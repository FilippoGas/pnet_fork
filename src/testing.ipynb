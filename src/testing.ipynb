{
 "cells": [
  {
   "cell_type": "code",
   "execution_count": 1,
   "id": "2040ab08-8550-4d4f-9ae8-0b34b46afa08",
   "metadata": {},
   "outputs": [],
   "source": [
    "import pnet_loader\n",
    "import util\n",
    "import torch\n",
    "import seaborn as sns\n",
    "import pandas as pd\n",
    "import numpy as np\n",
    "import Pnet\n",
    "import random\n",
    "import pickle\n",
    "from sklearn import metrics\n",
    "import matplotlib.pyplot as plt\n",
    "from sklearn.metrics import roc_auc_score\n",
    "from sklearn.ensemble import RandomForestClassifier\n",
    "from sklearn.mixture import GaussianMixture\n",
    "from sklearn.decomposition import PCA\n",
    "import os\n",
    "\n",
    "%load_ext autoreload\n",
    "%autoreload 2"
   ]
  },
  {
   "cell_type": "markdown",
   "id": "c53cd4fa-682f-4d90-8be3-25e78a6b2f84",
   "metadata": {},
   "source": [
    "Generate small test dataset"
   ]
  },
  {
   "cell_type": "code",
   "execution_count": 2,
   "id": "54caefaf-2a1e-45be-9449-7611c0180a83",
   "metadata": {},
   "outputs": [],
   "source": [
    "# rna_ext_val = pd.read_csv('/mnt/disks/pancan/data/mel_dfci_2019/data_RNA_Seq_expression_tpm_all_sample_Zscores.txt',\n",
    "#                           delimiter='\\t').set_index('Hugo_Symbol').T.drop('Entrez_Gene_Id').dropna(axis=1)\n",
    "# cna_ext_val = pd.read_csv('/mnt/disks/pancan/data/mel_dfci_2019/data_CNA.txt',\n",
    "#                           delimiter='\\t').set_index('Hugo_Symbol').T.dropna(axis=1)\n",
    "# ext_val = pd.read_csv('/mnt/disks/pancan/data/mel_dfci_2019/data_clinical_sample.txt',\n",
    "#                              delimiter='\\t').set_index('Sample Identifier').iloc[4:]\n",
    "# important_genes = list(pd.read_csv('/mnt/disks/pancan/m1000/cancer_genes.txt')['genes'].values)\n",
    "# joint_genes = list(set(important_genes).intersection(list(rna_ext_val.columns), list(cna_ext_val.columns)))\n",
    "# gene_list = random.sample(joint_genes, 500)\n",
    "# random_genes_a = list(rna_ext_val.sample(5, axis=1).columns)\n",
    "# random_genes_b = list(cna_ext_val.sample(5, axis=1).columns)\n",
    "# joint_samples = list(rna_ext_val.sample(20).join(cna_ext_val, rsuffix='_cna', how='inner').index)\n",
    "# random_samples_a = list(rna_ext_val.sample(5, axis=0).index)\n",
    "# random_samples_b = list(cna_ext_val.sample(5, axis=0).index)\n",
    "# random_samples_c = list(cna_ext_val.sample(5, axis=0).index)\n",
    "# random_samples_d = list(cna_ext_val.sample(5, axis=0).index)\n",
    "# test_rna = rna_ext_val.loc[joint_samples+random_samples_a][joint_genes+random_genes_a].copy().drop_duplicates()\n",
    "# test_cna = cna_ext_val.loc[joint_samples+random_samples_b][joint_genes+random_genes_b].copy().drop_duplicates()\n",
    "# test_add = ext_val.loc[joint_samples+random_samples_c][['Purity', 'Ploidy']].copy().drop_duplicates()\n",
    "# test_y = ext_val.loc[joint_samples+random_samples_d][['Heterogeneity']].copy().drop_duplicates()\n",
    "# test_rna.reset_index(inplace=True)\n",
    "# test_cna.reset_index(inplace=True)\n",
    "# test_add.reset_index(inplace=True)\n",
    "# test_y.reset_index(inplace=True)\n",
    "# test_rna.rename(columns={'index': 'sample_id'}, inplace=True)\n",
    "# test_cna.rename(columns={'index': 'sample_id'}, inplace=True)\n",
    "# test_add.rename(columns={'Sample Identifier': 'sample_id'}, inplace=True)\n",
    "# test_y.rename(columns={'Sample Identifier': 'sample_id'}, inplace=True)\n",
    "# test_rna.to_csv('../data/test_data/rna.csv', index=False)\n",
    "# test_cna.to_csv('../data/test_data/cna.csv', index=False)\n",
    "# test_add.to_csv('../data/test_data/add.csv', index=False)\n",
    "# test_y.to_csv('../data/test_data/y.csv', index=False)\n",
    "# with open('../data/test_data/gene_sublist.txt', 'wb') as fp:\n",
    "#     pickle.dump(gene_list, fp)"
   ]
  },
  {
   "cell_type": "markdown",
   "id": "411a6d5f-6537-4fc8-9f81-eda46428fde3",
   "metadata": {},
   "source": [
    "Read test data"
   ]
  },
  {
   "cell_type": "code",
   "execution_count": 3,
   "id": "0cea9892-fdc0-4bcd-bd5f-8ae612aa26d3",
   "metadata": {},
   "outputs": [],
   "source": [
    "test_rna = pd.read_csv('../data/test_data/rna.csv').set_index('sample_id')\n",
    "test_cna = pd.read_csv('../data/test_data/cna.csv').set_index('sample_id')\n",
    "test_add = pd.read_csv('../data/test_data/add.csv').set_index('sample_id')\n",
    "test_y = pd.read_csv('../data/test_data/y.csv').set_index('sample_id')\n",
    "\n",
    "with open('../data/test_data/gene_sublist.txt', 'rb') as fp:\n",
    "    gene_list = pickle.load(fp)"
   ]
  },
  {
   "cell_type": "code",
   "execution_count": 4,
   "id": "d1c495e0-7b1c-41f8-9af9-9ad38c366a5e",
   "metadata": {},
   "outputs": [],
   "source": [
    "genetic_data = {'rna': test_rna, 'cna': test_cna}"
   ]
  },
  {
   "cell_type": "code",
   "execution_count": 5,
   "id": "f324574f-f861-4c04-bdec-2f1865ff801a",
   "metadata": {},
   "outputs": [
    {
     "name": "stdout",
     "output_type": "stream",
     "text": [
      "Given 2 Input modalities\n",
      "Found 20 overlapping indicies\n",
      "Initializing Train Dataset\n",
      "Found 500 overlapping genes\n",
      "generated input DataFrame of size (16, 1000)\n",
      "Initializing Test Dataset\n",
      "Found 500 overlapping genes\n",
      "generated input DataFrame of size (4, 1000)\n",
      "Replace input of: EBF1_cna with collinear feature.\n",
      "Replace input of: USP6 with collinear feature.\n"
     ]
    }
   ],
   "source": [
    "train_dataset, test_dataset = pnet_loader.generate_train_test(genetic_data,\n",
    "                                                              test_y, \n",
    "                                                              additional_data=test_add,\n",
    "                                                              test_split=0.2,\n",
    "                                                              gene_set=gene_list,\n",
    "                                                              collinear_features=2)"
   ]
  },
  {
   "cell_type": "code",
   "execution_count": 6,
   "id": "fc854b72-b422-4b84-acaf-51cb5c852046",
   "metadata": {},
   "outputs": [],
   "source": [
    "assert set(gene_list) == set(train_dataset.genes), 'Training dataset expected to have the same gene set as in file'\n",
    "assert train_dataset.genes == list(train_dataset.input_df.columns)[:500], 'Training data genes should be ordered \\\n",
    "                                                                            as stored in the genes variable'\n",
    "assert train_dataset.input_df.shape == torch.Size([16, 1000]), 'Input DataFrame expected to be a of size\\\n",
    "                                                        [16, 1000], got: {}'.format(train_dataset.input_df.shape)\n",
    "assert train_dataset.x.shape == torch.Size([16, 1000]), 'Small train dataset expected to be a tensor of size\\\n",
    "                                                        [16, 1000], got: {}'.format(train_dataset.x.shape)\n",
    "assert train_dataset.y.shape == torch.Size([16, 1]), 'Small train dataset expected to be a tensor of size\\\n",
    "                                                        [16, 1], got: {}'.format(train_dataset.y.shape)\n"
   ]
  },
  {
   "cell_type": "code",
   "execution_count": 7,
   "id": "b95e6220-37a6-4720-a85f-90908672293d",
   "metadata": {},
   "outputs": [],
   "source": [
    "import ReactomeNetwork"
   ]
  },
  {
   "cell_type": "code",
   "execution_count": 8,
   "id": "6e119cc3-7972-4d71-8580-3ddfc3a561c1",
   "metadata": {},
   "outputs": [
    {
     "name": "stdout",
     "output_type": "stream",
     "text": [
      "Found 500 overlapping genes\n"
     ]
    }
   ],
   "source": [
    "reactome_network = ReactomeNetwork.ReactomeNetwork(train_dataset.get_genes())"
   ]
  },
  {
   "cell_type": "code",
   "execution_count": 9,
   "id": "1f479b74-9431-4339-b472-e2e3c0d141f9",
   "metadata": {},
   "outputs": [],
   "source": [
    "train_loader, val_loader = pnet_loader.to_dataloader(train_dataset, test_dataset, 64)"
   ]
  },
  {
   "cell_type": "code",
   "execution_count": 51,
   "id": "0a839929-35e4-4977-9a1f-4e0472b27bd2",
   "metadata": {},
   "outputs": [
    {
     "data": {
      "text/html": [
       "<div>\n",
       "<style scoped>\n",
       "    .dataframe tbody tr th:only-of-type {\n",
       "        vertical-align: middle;\n",
       "    }\n",
       "\n",
       "    .dataframe tbody tr th {\n",
       "        vertical-align: top;\n",
       "    }\n",
       "\n",
       "    .dataframe thead th {\n",
       "        text-align: right;\n",
       "    }\n",
       "</style>\n",
       "<table border=\"1\" class=\"dataframe\">\n",
       "  <thead>\n",
       "    <tr style=\"text-align: right;\">\n",
       "      <th></th>\n",
       "      <th>Heterogeneity</th>\n",
       "    </tr>\n",
       "    <tr>\n",
       "      <th>sample_id</th>\n",
       "      <th></th>\n",
       "    </tr>\n",
       "  </thead>\n",
       "  <tbody>\n",
       "    <tr>\n",
       "      <th>Sample159</th>\n",
       "      <td>1.0</td>\n",
       "    </tr>\n",
       "    <tr>\n",
       "      <th>Sample146</th>\n",
       "      <td>0.0</td>\n",
       "    </tr>\n",
       "    <tr>\n",
       "      <th>Sample117</th>\n",
       "      <td>1.0</td>\n",
       "    </tr>\n",
       "    <tr>\n",
       "      <th>Sample10</th>\n",
       "      <td>1.0</td>\n",
       "    </tr>\n",
       "    <tr>\n",
       "      <th>Sample61</th>\n",
       "      <td>1.0</td>\n",
       "    </tr>\n",
       "    <tr>\n",
       "      <th>Sample17</th>\n",
       "      <td>0.0</td>\n",
       "    </tr>\n",
       "    <tr>\n",
       "      <th>Sample24</th>\n",
       "      <td>0.0</td>\n",
       "    </tr>\n",
       "    <tr>\n",
       "      <th>Sample78</th>\n",
       "      <td>1.0</td>\n",
       "    </tr>\n",
       "    <tr>\n",
       "      <th>Sample45</th>\n",
       "      <td>1.0</td>\n",
       "    </tr>\n",
       "    <tr>\n",
       "      <th>Sample134</th>\n",
       "      <td>1.0</td>\n",
       "    </tr>\n",
       "    <tr>\n",
       "      <th>Sample1</th>\n",
       "      <td>1.0</td>\n",
       "    </tr>\n",
       "    <tr>\n",
       "      <th>Sample141</th>\n",
       "      <td>0.0</td>\n",
       "    </tr>\n",
       "    <tr>\n",
       "      <th>Sample184</th>\n",
       "      <td>0.0</td>\n",
       "    </tr>\n",
       "    <tr>\n",
       "      <th>Sample20</th>\n",
       "      <td>0.0</td>\n",
       "    </tr>\n",
       "    <tr>\n",
       "      <th>Sample14</th>\n",
       "      <td>1.0</td>\n",
       "    </tr>\n",
       "    <tr>\n",
       "      <th>Sample189</th>\n",
       "      <td>1.0</td>\n",
       "    </tr>\n",
       "    <tr>\n",
       "      <th>Sample83</th>\n",
       "      <td>0.0</td>\n",
       "    </tr>\n",
       "    <tr>\n",
       "      <th>Sample47</th>\n",
       "      <td>0.0</td>\n",
       "    </tr>\n",
       "    <tr>\n",
       "      <th>Sample165</th>\n",
       "      <td>0.0</td>\n",
       "    </tr>\n",
       "    <tr>\n",
       "      <th>Sample196</th>\n",
       "      <td>0.0</td>\n",
       "    </tr>\n",
       "    <tr>\n",
       "      <th>Sample44</th>\n",
       "      <td>1.0</td>\n",
       "    </tr>\n",
       "    <tr>\n",
       "      <th>Sample58</th>\n",
       "      <td>0.0</td>\n",
       "    </tr>\n",
       "    <tr>\n",
       "      <th>Sample86</th>\n",
       "      <td>1.0</td>\n",
       "    </tr>\n",
       "    <tr>\n",
       "      <th>Sample56</th>\n",
       "      <td>0.0</td>\n",
       "    </tr>\n",
       "  </tbody>\n",
       "</table>\n",
       "</div>"
      ],
      "text/plain": [
       "           Heterogeneity\n",
       "sample_id               \n",
       "Sample159            1.0\n",
       "Sample146            0.0\n",
       "Sample117            1.0\n",
       "Sample10             1.0\n",
       "Sample61             1.0\n",
       "Sample17             0.0\n",
       "Sample24             0.0\n",
       "Sample78             1.0\n",
       "Sample45             1.0\n",
       "Sample134            1.0\n",
       "Sample1              1.0\n",
       "Sample141            0.0\n",
       "Sample184            0.0\n",
       "Sample20             0.0\n",
       "Sample14             1.0\n",
       "Sample189            1.0\n",
       "Sample83             0.0\n",
       "Sample47             0.0\n",
       "Sample165            0.0\n",
       "Sample196            0.0\n",
       "Sample44             1.0\n",
       "Sample58             0.0\n",
       "Sample86             1.0\n",
       "Sample56             0.0"
      ]
     },
     "execution_count": 51,
     "metadata": {},
     "output_type": "execute_result"
    }
   ],
   "source": [
    "test_y_bin = test_y.apply(lambda x: round(2.3*x))\n",
    "test_y_bin"
   ]
  },
  {
   "cell_type": "code",
   "execution_count": 52,
   "id": "d70b384b-5e4f-497c-97f1-76e7b0a39bd5",
   "metadata": {
    "tags": []
   },
   "outputs": [
    {
     "name": "stdout",
     "output_type": "stream",
     "text": [
      "Given 2 Input modalities\n",
      "Found 20 overlapping indicies\n",
      "Initializing Train Dataset\n",
      "Found 649 overlapping genes\n",
      "generated input DataFrame of size (16, 1298)\n",
      "Initializing Test Dataset\n",
      "Found 649 overlapping genes\n",
      "generated input DataFrame of size (4, 1298)\n",
      "Found 649 overlapping genes\n",
      "We are sending to cuda\n",
      "BCEWithLogitsLoss()\n",
      "BCEWithLogitsLoss()\n",
      "Epoch 1 of 300\n",
      "Train Loss: 1.7392191886901855\n",
      "Test Loss: 0.6940104961395264\n",
      "BCEWithLogitsLoss()\n",
      "BCEWithLogitsLoss()\n",
      "Epoch 2 of 300\n",
      "Train Loss: 1.737900733947754\n",
      "Test Loss: 0.6959637403488159\n",
      "BCEWithLogitsLoss()\n",
      "BCEWithLogitsLoss()\n",
      "Epoch 3 of 300\n",
      "Train Loss: 1.6664104461669922\n",
      "Test Loss: 0.6979390382766724\n",
      "BCEWithLogitsLoss()\n",
      "BCEWithLogitsLoss()\n",
      "Epoch 4 of 300\n",
      "Train Loss: 1.6824779510498047\n",
      "Test Loss: 0.6996645331382751\n",
      "BCEWithLogitsLoss()\n",
      "BCEWithLogitsLoss()\n",
      "Epoch 5 of 300\n",
      "Train Loss: 1.6153452396392822\n",
      "Test Loss: 0.7014715075492859\n",
      "exceeded delta\n",
      "BCEWithLogitsLoss()\n",
      "BCEWithLogitsLoss()\n",
      "Epoch 6 of 300\n",
      "Train Loss: 1.5708953142166138\n",
      "Test Loss: 0.7031954526901245\n",
      "exceeded delta\n",
      "BCEWithLogitsLoss()\n",
      "BCEWithLogitsLoss()\n",
      "Epoch 7 of 300\n",
      "Train Loss: 1.555025339126587\n",
      "Test Loss: 0.704846203327179\n",
      "exceeded delta\n",
      "BCEWithLogitsLoss()\n",
      "BCEWithLogitsLoss()\n",
      "Epoch 8 of 300\n",
      "Train Loss: 1.525660753250122\n",
      "Test Loss: 0.7064546942710876\n",
      "exceeded delta\n",
      "BCEWithLogitsLoss()\n",
      "BCEWithLogitsLoss()\n",
      "Epoch 9 of 300\n",
      "Train Loss: 1.5140910148620605\n",
      "Test Loss: 0.708125114440918\n",
      "exceeded delta\n",
      "BCEWithLogitsLoss()\n",
      "BCEWithLogitsLoss()\n",
      "Epoch 10 of 300\n",
      "Train Loss: 1.4813507795333862\n",
      "Test Loss: 0.7097112536430359\n",
      "exceeded delta\n",
      "BCEWithLogitsLoss()\n",
      "BCEWithLogitsLoss()\n",
      "Epoch 11 of 300\n",
      "Train Loss: 1.450632929801941\n",
      "Test Loss: 0.7112010717391968\n",
      "exceeded delta\n",
      "BCEWithLogitsLoss()\n",
      "BCEWithLogitsLoss()\n",
      "Epoch 12 of 300\n",
      "Train Loss: 1.4275662899017334\n",
      "Test Loss: 0.7127014398574829\n",
      "exceeded delta\n",
      "BCEWithLogitsLoss()\n",
      "BCEWithLogitsLoss()\n",
      "Epoch 13 of 300\n",
      "Train Loss: 1.4103292226791382\n",
      "Test Loss: 0.7141360640525818\n",
      "exceeded delta\n",
      "BCEWithLogitsLoss()\n",
      "BCEWithLogitsLoss()\n",
      "Epoch 14 of 300\n",
      "Train Loss: 1.3890936374664307\n",
      "Test Loss: 0.7156130075454712\n",
      "exceeded delta\n",
      "Hit early stopping criteria\n"
     ]
    }
   ],
   "source": [
    "model, train_scores, test_scores, train_dataset, test_dataset = Pnet.run(genetic_data,\n",
    "                                                                         test_y_bin,\n",
    "                                                                         verbose=True,\n",
    "                                                                         early_stopping=True)"
   ]
  },
  {
   "cell_type": "code",
   "execution_count": 53,
   "id": "a4c4c725-fa91-46ae-90e7-5404bec0018d",
   "metadata": {},
   "outputs": [],
   "source": [
    "x_train = train_dataset.x\n",
    "additional_train = train_dataset.additional\n",
    "y_train = train_dataset.y\n",
    "x_test = test_dataset.x\n",
    "additional_test = test_dataset.additional\n",
    "y_test = test_dataset.y"
   ]
  },
  {
   "cell_type": "code",
   "execution_count": 54,
   "id": "7bd32cee-5261-49b1-ae6b-20a4d5d33a98",
   "metadata": {},
   "outputs": [],
   "source": [
    "model.to('cpu')\n",
    "pred, preds = model(x_test, additional_test)\n",
    "y_pred_proba = pred.detach().numpy().squeeze()\n"
   ]
  },
  {
   "cell_type": "code",
   "execution_count": 56,
   "id": "e6ce5700-f0b2-4af9-a573-8f9f59090293",
   "metadata": {},
   "outputs": [
    {
     "data": {
      "text/plain": [
       "tensor([[0.0031],\n",
       "        [0.0029],\n",
       "        [0.0032],\n",
       "        [0.0035]], grad_fn=<AddmmBackward0>)"
      ]
     },
     "execution_count": 56,
     "metadata": {},
     "output_type": "execute_result"
    }
   ],
   "source": [
    "pred"
   ]
  },
  {
   "cell_type": "code",
   "execution_count": 100,
   "id": "b2314e9d-9f6a-4f05-9bcf-7bc6d85eaeb2",
   "metadata": {},
   "outputs": [
    {
     "data": {
      "text/plain": [
       "tensor([[1.],\n",
       "        [1.],\n",
       "        [0.],\n",
       "        [1.]])"
      ]
     },
     "execution_count": 100,
     "metadata": {},
     "output_type": "execute_result"
    }
   ],
   "source": [
    "y_test"
   ]
  },
  {
   "cell_type": "code",
   "execution_count": 101,
   "id": "80b531ff-f7bd-4e4a-8d8b-51836ba1c978",
   "metadata": {},
   "outputs": [
    {
     "name": "stdout",
     "output_type": "stream",
     "text": [
      "Parameter containing:\n",
      "tensor([[ 0.3277, -0.3369,  0.3249,  0.1117,  0.0676]], requires_grad=True)\n",
      "Parameter containing:\n",
      "tensor([0.1254], requires_grad=True)\n"
     ]
    }
   ],
   "source": [
    "for p in model.attn.parameters():\n",
    "    print(p)"
   ]
  },
  {
   "cell_type": "code",
   "execution_count": 49,
   "id": "1d73c4c4-2f0f-470d-a73e-2018b74ce0d0",
   "metadata": {},
   "outputs": [
    {
     "data": {
      "text/plain": [
       "tensor([[ 1.1193,  0.0246, -0.9385]])"
      ]
     },
     "execution_count": 49,
     "metadata": {},
     "output_type": "execute_result"
    }
   ],
   "source": [
    "x = torch.randn(1, 3)\n",
    "x"
   ]
  },
  {
   "cell_type": "code",
   "execution_count": 44,
   "id": "ffdde7b7-a765-43eb-8e5f-818d89ee2293",
   "metadata": {},
   "outputs": [],
   "source": [
    "a =torch.randint(10,(10,1))"
   ]
  },
  {
   "cell_type": "code",
   "execution_count": 45,
   "id": "1ef1e62e-ddbe-4fd7-b8e3-b0dc1e3a8dc4",
   "metadata": {},
   "outputs": [],
   "source": [
    "import torch.nn as nn"
   ]
  },
  {
   "cell_type": "code",
   "execution_count": 35,
   "id": "84561545-1a88-4993-8530-1cf79ee622d9",
   "metadata": {},
   "outputs": [
    {
     "data": {
      "text/plain": [
       "tensor([0.5792, 0.5397])"
      ]
     },
     "execution_count": 35,
     "metadata": {},
     "output_type": "execute_result"
    }
   ],
   "source": [
    "m(a[1])"
   ]
  },
  {
   "cell_type": "code",
   "execution_count": 36,
   "id": "4b206e02-495e-43be-add1-c2f234d02b53",
   "metadata": {},
   "outputs": [
    {
     "data": {
      "text/plain": [
       "tensor([0.3194, 0.1592])"
      ]
     },
     "execution_count": 36,
     "metadata": {},
     "output_type": "execute_result"
    }
   ],
   "source": [
    "a[1]"
   ]
  },
  {
   "cell_type": "code",
   "execution_count": null,
   "id": "c91bad1d-df11-4e2b-81d0-7b0b2ad9b76e",
   "metadata": {},
   "outputs": [],
   "source": []
  }
 ],
 "metadata": {
  "environment": {
   "kernel": "conda-root-py",
   "name": "pytorch-gpu.1-10.m90",
   "type": "gcloud",
   "uri": "gcr.io/deeplearning-platform-release/pytorch-gpu.1-10:m90"
  },
  "kernelspec": {
   "display_name": "Python [conda env:root] *",
   "language": "python",
   "name": "conda-root-py"
  },
  "language_info": {
   "codemirror_mode": {
    "name": "ipython",
    "version": 3
   },
   "file_extension": ".py",
   "mimetype": "text/x-python",
   "name": "python",
   "nbconvert_exporter": "python",
   "pygments_lexer": "ipython3",
   "version": "3.7.12"
  }
 },
 "nbformat": 4,
 "nbformat_minor": 5
}
