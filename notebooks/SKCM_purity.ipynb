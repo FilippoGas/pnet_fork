{
 "cells": [
  {
   "cell_type": "markdown",
   "id": "b6e2f0a8-6b0f-4017-ab72-dd95b3132f5a",
   "metadata": {},
   "source": [
    "# P-Net Example Notebook: SKCM tumor purity prediction"
   ]
  },
  {
   "cell_type": "markdown",
   "id": "728e026b-5fe2-455d-a67c-750260360c26",
   "metadata": {},
   "source": [
    "Imports:"
   ]
  },
  {
   "cell_type": "code",
   "execution_count": 1,
   "id": "7556505a",
   "metadata": {
    "tags": []
   },
   "outputs": [],
   "source": [
    "import pnet_loader\n",
    "import util\n",
    "import torch\n",
    "import seaborn as sns\n",
    "import pandas as pd\n",
    "import numpy as np\n",
    "import Pnet\n",
    "import random\n",
    "from sklearn import metrics\n",
    "import matplotlib.pyplot as plt\n",
    "from sklearn.metrics import roc_auc_score\n",
    "import os\n",
    "import warnings\n",
    "warnings.filterwarnings('ignore')\n",
    "\n",
    "pd.set_option('display.max_columns', None)\n",
    "\n",
    "%load_ext autoreload\n",
    "%autoreload 2"
   ]
  },
  {
   "cell_type": "markdown",
   "id": "97701739-fa4b-4155-b1f5-57d96280f8bb",
   "metadata": {},
   "source": [
    "### Load Input"
   ]
  },
  {
   "cell_type": "code",
   "execution_count": 2,
   "id": "f50d9af5-b861-48ad-87f3-3460ec8ddf97",
   "metadata": {},
   "outputs": [],
   "source": [
    "datapath='/mnt/disks/pancan/data/'\n",
    "rna, cna, tumor_type = util.load_tcga_dataset(datapath+'skcm_tcga_pan_can_atlas_2018')\n",
    "genetic_data = {'rna': rna}                         # Bring input into dictionary shape"
   ]
  },
  {
   "cell_type": "markdown",
   "id": "1684f112-3648-44a7-ad34-366340bef6a8",
   "metadata": {
    "tags": []
   },
   "source": [
    "### Load Target"
   ]
  },
  {
   "cell_type": "code",
   "execution_count": 3,
   "id": "9dbfc79f-cfd5-4970-950d-792b4482764b",
   "metadata": {},
   "outputs": [],
   "source": [
    "purity_TCGA = pd.read_csv(datapath+'TCGA_mastercalls.abs_tables_JSedit.fixed.txt', delimiter='\\t').set_index('array')\n",
    "purity = pd.DataFrame(purity_TCGA.join(rna, how='inner')['purity'])"
   ]
  },
  {
   "cell_type": "code",
   "execution_count": 4,
   "id": "32bfe4f7-8e3c-40b1-8736-ac1ba84b450d",
   "metadata": {},
   "outputs": [
    {
     "data": {
      "text/html": [
       "<div>\n",
       "<style scoped>\n",
       "    .dataframe tbody tr th:only-of-type {\n",
       "        vertical-align: middle;\n",
       "    }\n",
       "\n",
       "    .dataframe tbody tr th {\n",
       "        vertical-align: top;\n",
       "    }\n",
       "\n",
       "    .dataframe thead th {\n",
       "        text-align: right;\n",
       "    }\n",
       "</style>\n",
       "<table border=\"1\" class=\"dataframe\">\n",
       "  <thead>\n",
       "    <tr style=\"text-align: right;\">\n",
       "      <th></th>\n",
       "      <th>purity</th>\n",
       "    </tr>\n",
       "  </thead>\n",
       "  <tbody>\n",
       "    <tr>\n",
       "      <th>TCGA-3N-A9WB-06</th>\n",
       "      <td>0.91</td>\n",
       "    </tr>\n",
       "    <tr>\n",
       "      <th>TCGA-3N-A9WC-06</th>\n",
       "      <td>0.58</td>\n",
       "    </tr>\n",
       "    <tr>\n",
       "      <th>TCGA-3N-A9WD-06</th>\n",
       "      <td>0.45</td>\n",
       "    </tr>\n",
       "    <tr>\n",
       "      <th>TCGA-BF-A1PU-01</th>\n",
       "      <td>0.92</td>\n",
       "    </tr>\n",
       "    <tr>\n",
       "      <th>TCGA-BF-A1PV-01</th>\n",
       "      <td>0.92</td>\n",
       "    </tr>\n",
       "  </tbody>\n",
       "</table>\n",
       "</div>"
      ],
      "text/plain": [
       "                 purity\n",
       "TCGA-3N-A9WB-06    0.91\n",
       "TCGA-3N-A9WC-06    0.58\n",
       "TCGA-3N-A9WD-06    0.45\n",
       "TCGA-BF-A1PU-01    0.92\n",
       "TCGA-BF-A1PV-01    0.92"
      ]
     },
     "execution_count": 4,
     "metadata": {},
     "output_type": "execute_result"
    }
   ],
   "source": [
    "purity.head()"
   ]
  },
  {
   "cell_type": "code",
   "execution_count": 5,
   "id": "e64a4982-7ffb-4ba9-bdd9-19804316c1a8",
   "metadata": {},
   "outputs": [],
   "source": [
    "muts = pd.read_csv('/mnt/disks/pancan/data/skcm_tcga_pan_can_atlas_2018/data_mutations.txt', delimiter='\\t')\n",
    "muts.dropna(subset=['Variant_Classification'], inplace=True)"
   ]
  },
  {
   "cell_type": "code",
   "execution_count": 6,
   "id": "e5f1b095-3e4a-45e2-a6b3-0b273edf0fae",
   "metadata": {},
   "outputs": [],
   "source": [
    "v600muts = list(muts[muts['HGVSp_Short'] == 'p.V600E']['Tumor_Sample_Barcode'])"
   ]
  },
  {
   "cell_type": "code",
   "execution_count": 7,
   "id": "7ada6e5a-369d-4f05-b694-5967e0bb96ae",
   "metadata": {},
   "outputs": [],
   "source": [
    "braf_target = pd.DataFrame(data=cna.index.isin(v600muts).astype(int), index=cna.index, columns=['v600e'])"
   ]
  },
  {
   "cell_type": "markdown",
   "id": "3ca670b3",
   "metadata": {},
   "source": [
    "## Run pnet"
   ]
  },
  {
   "cell_type": "code",
   "execution_count": 8,
   "id": "06e4c8e9",
   "metadata": {},
   "outputs": [],
   "source": [
    "import Pnet"
   ]
  },
  {
   "cell_type": "code",
   "execution_count": 9,
   "id": "ce70a3fe-fdc9-41a1-ac42-9edf084e7fb2",
   "metadata": {},
   "outputs": [
    {
     "data": {
      "text/plain": [
       "['ANK1', 'CD274', 'EIF4A2', 'GATA2', 'MUC16']"
      ]
     },
     "execution_count": 9,
     "metadata": {},
     "output_type": "execute_result"
    }
   ],
   "source": [
    "canc_genes = list(pd.read_csv('../../pnet_database/genes/cancer_genes_demo.txt'))\n",
    "canc_genes[:5]"
   ]
  },
  {
   "cell_type": "code",
   "execution_count": 10,
   "id": "ac97485e",
   "metadata": {},
   "outputs": [
    {
     "name": "stdout",
     "output_type": "stream",
     "text": [
      "Task defined: REG \n",
      " if this is not the intended task please specify task\n",
      "Given 1 Input modalities\n",
      "Found 433 overlapping indicies\n",
      "Initializing Train Dataset\n",
      "Found 626 overlapping genes\n",
      "generated input DataFrame of size (347, 626)\n",
      "Initializing Test Dataset\n",
      "Found 626 overlapping genes\n",
      "generated input DataFrame of size (86, 626)\n",
      "Found 626 overlapping genes\n",
      "Loss function used: MSELoss()\n",
      "We are sending to cuda\n",
      "Hit early stopping criteria\n"
     ]
    }
   ],
   "source": [
    "model, train_scores, test_scores, train_dataset, test_dataset = Pnet.run(genetic_data,\n",
    "                                                                         purity,\n",
    "                                                                         gene_set=canc_genes)"
   ]
  },
  {
   "cell_type": "code",
   "execution_count": 11,
   "id": "1f500058",
   "metadata": {},
   "outputs": [],
   "source": [
    "x_train = train_dataset.x\n",
    "additional_train = train_dataset.additional\n",
    "y_train = train_dataset.y\n",
    "x_test = test_dataset.x\n",
    "additional_test = test_dataset.additional\n",
    "y_test = test_dataset.y"
   ]
  },
  {
   "cell_type": "code",
   "execution_count": 12,
   "id": "edb73f26",
   "metadata": {},
   "outputs": [
    {
     "data": {
      "image/png": "[encoded data removed]",
      "text/plain": [
       "<Figure size 432x288 with 1 Axes>"
      ]
     },
     "metadata": {
      "needs_background": "light"
     },
     "output_type": "display_data"
    }
   ],
   "source": [
    "model.to('cpu')\n",
    "\n",
    "y_pred = model.predict(x_test, additional_test).detach()\n",
    "\n",
    "df = pd.DataFrame(index=test_dataset.input_df.index)\n",
    "df['y_test'] = y_test\n",
    "df['y_pred'] = y_pred\n",
    "\n",
    "sns.regplot(data=df, x='y_test', y='y_pred', color='#41B6E6')\n",
    "correlation_coefficient = round(df['y_test'].corr(df['y_pred']), 2)\n",
    "plt.text(0.95, 0.05, f'Correlation: {correlation_coefficient}', ha='right', va='center', transform=plt.gca().transAxes)\n",
    "plt.plot(y_test, y_test, color='#FFA300', linestyle='--', label='Diagonal Line')\n",
    "sns.despine()\n",
    "plt.show()"
   ]
  },
  {
   "cell_type": "code",
   "execution_count": 13,
   "id": "94d4ca4b-3bc5-4fde-a44f-f38d4e254260",
   "metadata": {},
   "outputs": [],
   "source": [
    "gene_feature_importances, additional_feature_importances, gene_importances, layer_importance_scores = model.interpret(test_dataset)"
   ]
  },
  {
   "cell_type": "code",
   "execution_count": 14,
   "id": "0038d213-09ad-4ffa-a7e6-d1fc01996561",
   "metadata": {},
   "outputs": [
    {
     "data": {
      "text/plain": [
       "NRG1      0.003794\n",
       "FLT3      0.002144\n",
       "S100A7    0.001659\n",
       "GPC5      0.001549\n",
       "WIF1      0.001435\n",
       "KLK2      0.001398\n",
       "ID3       0.001169\n",
       "PDGFRB    0.001038\n",
       "CYP2C8    0.001033\n",
       "NTRK3     0.001018\n",
       "dtype: float32"
      ]
     },
     "execution_count": 14,
     "metadata": {},
     "output_type": "execute_result"
    }
   ],
   "source": [
    "gene_importances.mean().sort_values(ascending=False).nlargest(10)"
   ]
  },
  {
   "cell_type": "markdown",
   "id": "881ede55",
   "metadata": {},
   "source": [
    "### External Validation"
   ]
  },
  {
   "cell_type": "markdown",
   "id": "b78896b1-ef8d-4be5-a632-79e735091034",
   "metadata": {},
   "source": [
    "#### Data Loading"
   ]
  },
  {
   "cell_type": "code",
   "execution_count": 15,
   "id": "c0f3663e-8794-4e45-aa33-1aa93fbe4919",
   "metadata": {},
   "outputs": [
    {
     "name": "stdout",
     "output_type": "stream",
     "text": [
      "Found 121 overlapping indicies\n",
      "Found 626 overlapping genes\n",
      "generated input DataFrame of size (121, 626)\n"
     ]
    }
   ],
   "source": [
    "rna_ext_val = pd.read_csv('/mnt/disks/pancan/data/mel_dfci_2019/data_RNA_Seq_expression_tpm_all_sample_Zscores.txt',\n",
    "                          delimiter='\\t').set_index('Hugo_Symbol').T.drop('Entrez_Gene_Id').dropna(axis=1)\n",
    "cna_ext_val = pd.read_csv('/mnt/disks/pancan/data/mel_dfci_2019/data_CNA.txt',\n",
    "                          delimiter='\\t').set_index('Hugo_Symbol').T.dropna(axis=1)\n",
    "\n",
    "ext_val = pd.read_csv('/mnt/disks/pancan/data/mel_dfci_2019/data_clinical_sample.txt',\n",
    "                             delimiter='\\t').set_index('Sample Identifier').iloc[4:]\n",
    "\n",
    "ext_val_target = ext_val['Purity'].astype('float')\n",
    "\n",
    "inds = pnet_loader.get_indicies(genetic_data = {'rna': rna_ext_val, 'cna': cna_ext_val},\n",
    "                                target=ext_val_target)\n",
    "\n",
    "ext_val_dataset = pnet_loader.PnetDataset(genetic_data = {'rna': rna_ext_val},\n",
    "                                          target=ext_val_target, indicies=inds, gene_set=canc_genes)\n",
    "\n",
    "x_val = ext_val_dataset.x\n",
    "additional_val = ext_val_dataset.additional\n",
    "y_val = ext_val_dataset.y"
   ]
  },
  {
   "cell_type": "markdown",
   "id": "d240c212-27be-4dbc-8358-30102c6ad9f4",
   "metadata": {},
   "source": [
    "#### Predict Validation Samples"
   ]
  },
  {
   "cell_type": "code",
   "execution_count": 16,
   "id": "de8df683-f8a6-4ca5-81e2-d89aefb6db09",
   "metadata": {
    "tags": []
   },
   "outputs": [],
   "source": [
    "y_pred = model.predict(x_val, additional_val).detach()"
   ]
  },
  {
   "cell_type": "markdown",
   "id": "e68a26cb-8dd4-4328-8e2a-4d2183557241",
   "metadata": {},
   "source": [
    "#### Plot Validation Samples"
   ]
  },
  {
   "cell_type": "code",
   "execution_count": 17,
   "id": "576a017a-4757-4b91-a291-b3e1bc0e5336",
   "metadata": {},
   "outputs": [
    {
     "data": {
      "image/png": "[encoded data removed]",
      "text/plain": [
       "<Figure size 432x288 with 1 Axes>"
      ]
     },
     "metadata": {
      "needs_background": "light"
     },
     "output_type": "display_data"
    }
   ],
   "source": [
    "df = pd.DataFrame(index=ext_val_dataset.input_df.index)\n",
    "df['y_test'] = y_val\n",
    "df['y_pred'] = y_pred\n",
    "\n",
    "sns.regplot(data=df, x='y_test', y='y_pred', color='#41B6E6')\n",
    "correlation_coefficient = round(df['y_test'].corr(df['y_pred']), 2)\n",
    "plt.text(0.95, 0.05, f'Correlation: {correlation_coefficient}', ha='right', va='center', transform=plt.gca().transAxes)\n",
    "plt.plot(y_test, y_test, color='#FFA300', linestyle='--', label='Diagonal Line')\n",
    "sns.despine()\n",
    "plt.show()"
   ]
  },
  {
   "cell_type": "code",
   "execution_count": null,
   "id": "b550434b",
   "metadata": {},
   "outputs": [],
   "source": []
  }
 ],
 "metadata": {
  "environment": {
   "kernel": "python3",
   "name": "pytorch-gpu.1-10.m90",
   "type": "gcloud",
   "uri": "gcr.io/deeplearning-platform-release/pytorch-gpu.1-10:m90"
  },
  "kernelspec": {
   "display_name": "Python 3",
   "language": "python",
   "name": "python3"
  },
  "language_info": {
   "codemirror_mode": {
    "name": "ipython",
    "version": 3
   },
   "file_extension": ".py",
   "mimetype": "text/x-python",
   "name": "python",
   "nbconvert_exporter": "python",
   "pygments_lexer": "ipython3",
   "version": "3.7.12"
  }
 },
 "nbformat": 4,
 "nbformat_minor": 5
}
