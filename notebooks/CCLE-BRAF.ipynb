{
 "cells": [
  {
   "cell_type": "code",
   "execution_count": 1,
   "id": "901c6832-504d-4e1c-8cc8-253ad280e585",
   "metadata": {},
   "outputs": [],
   "source": [
    "import pnet_loader\n",
    "import sankey_diag\n",
    "import util\n",
    "import torch\n",
    "import seaborn as sns\n",
    "import pandas as pd\n",
    "import numpy as np\n",
    "import Pnet\n",
    "import random\n",
    "from sklearn import metrics\n",
    "import matplotlib.pyplot as plt\n",
    "from sklearn.metrics import roc_auc_score\n",
    "from sklearn.ensemble import RandomForestClassifier\n",
    "from sklearn.mixture import GaussianMixture\n",
    "from sklearn.decomposition import PCA\n",
    "import torch.nn.functional as F\n",
    "import torch.nn as nn\n",
    "import os\n",
    "\n",
    "%load_ext autoreload\n",
    "%autoreload 2"
   ]
  },
  {
   "cell_type": "code",
   "execution_count": 2,
   "id": "9d576e0c-346e-47d8-b672-ece66828479c",
   "metadata": {},
   "outputs": [],
   "source": [
    "gene_cn = pd.read_csv('/mnt/disks/pancan/CCLE/CCLE_gene_cn.csv').set_index('Unnamed: 0')\n",
    "gene_cn.rename(columns=dict(zip(gene_cn.columns, [x.split(' ')[0] for x in gene_cn.columns])), inplace=True)"
   ]
  },
  {
   "cell_type": "code",
   "execution_count": 3,
   "id": "b1e64bb1-881d-451d-b763-979be12271e4",
   "metadata": {},
   "outputs": [
    {
     "name": "stderr",
     "output_type": "stream",
     "text": [
      "/opt/conda/lib/python3.7/site-packages/IPython/core/interactiveshell.py:3524: DtypeWarning: Columns (5,21,27,28,29,30,31,32,33) have mixed types.Specify dtype option on import or set low_memory=False.\n",
      "  exec(code_obj, self.user_global_ns, self.user_ns)\n"
     ]
    }
   ],
   "source": [
    "muts = pd.read_csv('/mnt/disks/pancan/CCLE/CCLE_mutations.csv')\n",
    "muts.dropna(subset=['Variant_Classification'], inplace=True)"
   ]
  },
  {
   "cell_type": "code",
   "execution_count": 4,
   "id": "03f0f1bd-ac0c-4f6c-9361-a94f78059356",
   "metadata": {},
   "outputs": [],
   "source": [
    "MUTATIONS_DICT = util.MUTATIONS_DICT"
   ]
  },
  {
   "cell_type": "code",
   "execution_count": 5,
   "id": "8f07feab-ccfb-4353-8fc7-985fce71fe87",
   "metadata": {},
   "outputs": [],
   "source": [
    "grouped_muts = muts[muts['Variant_Classification'].apply(lambda x: MUTATIONS_DICT[x]) != 'Silent'][['Hugo_Symbol',\n",
    "                                                                                                    'Variant_Classification',\n",
    "                                                                                                    'Tumor_Sample_Barcode']].groupby(['Tumor_Sample_Barcode',\n",
    "                                                                                                                                          'Hugo_Symbol']).count()\n",
    "mut = grouped_muts.unstack(level=-1).fillna(0).droplevel(0, axis=1)"
   ]
  },
  {
   "cell_type": "code",
   "execution_count": 6,
   "id": "8b87b441-32ae-4ebc-8142-4ff76cda1751",
   "metadata": {},
   "outputs": [],
   "source": [
    "v600e_mut_samples = muts[muts['Protein_Change']=='p.V600E']['Tumor_Sample_Barcode'].values"
   ]
  },
  {
   "cell_type": "code",
   "execution_count": 7,
   "id": "a46c73cd-e9b5-4b3c-b294-a533d1a4d177",
   "metadata": {},
   "outputs": [],
   "source": [
    "v600_target = pd.DataFrame(index=mut.index)\n",
    "v600_target['v600_mut'] = [int(x in v600e_mut_samples) for x in mut.index]"
   ]
  },
  {
   "cell_type": "code",
   "execution_count": 8,
   "id": "6876db46-566f-4ca2-a189-bcf41f42ddb6",
   "metadata": {},
   "outputs": [],
   "source": [
    "braf_target = pd.DataFrame(mut['BRAF'] > 0).astype(int)\n",
    "braf_target.rename(columns=dict.fromkeys(['BRAF'],'BRAF_mut'), inplace=True)"
   ]
  },
  {
   "cell_type": "code",
   "execution_count": 9,
   "id": "a4259ecb-c858-4d3e-bfc8-ab1416b82f69",
   "metadata": {},
   "outputs": [],
   "source": [
    "df_mut_0 = v600_target[v600_target['v600_mut'] == 0].sample(n=v600_target['v600_mut'].sum(), random_state=42)\n",
    "df_mut_1 = v600_target[v600_target['v600_mut'] == 1]\n",
    "downsampled_target = pd.concat([df_mut_0, df_mut_1])"
   ]
  },
  {
   "cell_type": "code",
   "execution_count": 10,
   "id": "f6d33b6a-6ead-4788-af21-b94e47a85114",
   "metadata": {},
   "outputs": [],
   "source": [
    "rna = pd.read_csv('/mnt/disks/pancan/CCLE/CCLE_expression_full.csv').set_index('Unnamed: 0')\n",
    "rna.rename(columns=dict(zip(rna.columns, [x.split(' ')[0] for x in rna.columns])), inplace=True)"
   ]
  },
  {
   "cell_type": "code",
   "execution_count": 11,
   "id": "991b8543-abe7-4677-9212-e87664a834b0",
   "metadata": {},
   "outputs": [],
   "source": [
    "canc_genes = list(pd.read_csv('../../pnet_database/genes/cancer_genes.txt').values.reshape(-1))\n",
    "canc_genes.remove('BRAF')"
   ]
  },
  {
   "cell_type": "code",
   "execution_count": 12,
   "id": "9d06491d-e045-469c-ae8c-f864450d4696",
   "metadata": {},
   "outputs": [],
   "source": [
    "genetic_data = {'rna': rna, 'mut': mut}"
   ]
  },
  {
   "cell_type": "code",
   "execution_count": 13,
   "id": "cb6016bd-0ecf-47a0-99bf-39d4f717598d",
   "metadata": {},
   "outputs": [
    {
     "name": "stdout",
     "output_type": "stream",
     "text": [
      "Given 2 Input modalities\n",
      "Found 1183 overlapping indicies\n",
      "Initializing Train Dataset\n",
      "Found 706 overlapping genes\n",
      "generated input DataFrame of size (1064, 1412)\n",
      "Initializing Test Dataset\n",
      "Found 706 overlapping genes\n",
      "generated input DataFrame of size (119, 1412)\n",
      "Given 2 Input modalities\n",
      "Found 1183 overlapping indicies\n",
      "Initializing Train Dataset\n",
      "Found 706 overlapping genes\n",
      "generated input DataFrame of size (1064, 1412)\n",
      "Initializing Test Dataset\n",
      "Found 706 overlapping genes\n",
      "generated input DataFrame of size (119, 1412)\n",
      "Given 2 Input modalities\n",
      "Found 1183 overlapping indicies\n",
      "Initializing Train Dataset\n",
      "Found 706 overlapping genes\n",
      "generated input DataFrame of size (1064, 1412)\n",
      "Initializing Test Dataset\n",
      "Found 706 overlapping genes\n",
      "generated input DataFrame of size (119, 1412)\n",
      "Given 2 Input modalities\n",
      "Found 1183 overlapping indicies\n",
      "Initializing Train Dataset\n",
      "Found 706 overlapping genes\n",
      "generated input DataFrame of size (1065, 1412)\n",
      "Initializing Test Dataset\n",
      "Found 706 overlapping genes\n",
      "generated input DataFrame of size (118, 1412)\n",
      "Given 2 Input modalities\n",
      "Found 1183 overlapping indicies\n",
      "Initializing Train Dataset\n",
      "Found 706 overlapping genes\n",
      "generated input DataFrame of size (1065, 1412)\n",
      "Initializing Test Dataset\n",
      "Found 706 overlapping genes\n",
      "generated input DataFrame of size (118, 1412)\n",
      "Given 2 Input modalities\n",
      "Found 1183 overlapping indicies\n",
      "Initializing Train Dataset\n",
      "Found 706 overlapping genes\n",
      "generated input DataFrame of size (1065, 1412)\n",
      "Initializing Test Dataset\n",
      "Found 706 overlapping genes\n",
      "generated input DataFrame of size (118, 1412)\n",
      "Given 2 Input modalities\n",
      "Found 1183 overlapping indicies\n",
      "Initializing Train Dataset\n",
      "Found 706 overlapping genes\n",
      "generated input DataFrame of size (1065, 1412)\n",
      "Initializing Test Dataset\n",
      "Found 706 overlapping genes\n",
      "generated input DataFrame of size (118, 1412)\n",
      "Given 2 Input modalities\n",
      "Found 1183 overlapping indicies\n",
      "Initializing Train Dataset\n",
      "Found 706 overlapping genes\n",
      "generated input DataFrame of size (1065, 1412)\n",
      "Initializing Test Dataset\n",
      "Found 706 overlapping genes\n",
      "generated input DataFrame of size (118, 1412)\n",
      "Given 2 Input modalities\n",
      "Found 1183 overlapping indicies\n",
      "Initializing Train Dataset\n",
      "Found 706 overlapping genes\n",
      "generated input DataFrame of size (1065, 1412)\n",
      "Initializing Test Dataset\n",
      "Found 706 overlapping genes\n",
      "generated input DataFrame of size (118, 1412)\n",
      "Given 2 Input modalities\n",
      "Found 1183 overlapping indicies\n",
      "Initializing Train Dataset\n",
      "Found 706 overlapping genes\n",
      "generated input DataFrame of size (1065, 1412)\n",
      "Initializing Test Dataset\n",
      "Found 706 overlapping genes\n",
      "generated input DataFrame of size (118, 1412)\n"
     ]
    },
    {
     "data": {
      "image/png": "[encoded data removed]",
      "text/plain": [
       "<Figure size 432x288 with 1 Axes>"
      ]
     },
     "metadata": {
      "needs_background": "light"
     },
     "output_type": "display_data"
    }
   ],
   "source": [
    "for i in range(10):\n",
    "    path = '../results/ccle_val_braf_rf/run{}'.format(i)\n",
    "    if not os.path.exists(path):\n",
    "        os.makedirs(path)\n",
    "    train_inds = list(pd.read_csv('../data/splits/ccle/train_set_{}.csv'.format(i))['indicies'])\n",
    "    test_inds = list(pd.read_csv('../data/splits/ccle/test_set_{}.csv'.format(i))['indicies'])\n",
    "    train_dataset, test_dataset = pnet_loader.generate_train_test(genetic_data, target=v600_target,\n",
    "                                                                  train_inds=train_inds, test_inds=test_inds, gene_set=canc_genes)\n",
    "    \n",
    "    x_train = train_dataset.x\n",
    "    additional_train = train_dataset.additional\n",
    "    y_train = train_dataset.y.ravel()\n",
    "    x_test = test_dataset.x\n",
    "    additional_test = test_dataset.additional\n",
    "    y_test = test_dataset.y.ravel()\n",
    "    \n",
    "    rfc = RandomForestClassifier(max_depth=None, random_state=0)\n",
    "    rfc.fit(x_train, y_train)\n",
    "    preds = rfc.predict(x_test)\n",
    "    preds_prob = rfc.predict_proba(x_test)\n",
    "    plt.clf()\n",
    "    auc = util.get_auc(torch.tensor(preds_prob[:,1], dtype=torch.float), y_test, save=path+'/auc_curve.pdf')\n",
    "    auc_prc = util.get_auc_prc(torch.tensor(preds_prob[:,1], dtype=torch.float), y_test)\n",
    "    f1_score = util.get_f1(torch.tensor(preds, dtype=torch.float), y_test)\n",
    "    importances = rfc.feature_importances_\n",
    "    forest_importances = pd.Series(importances, index=test_dataset.input_df.columns)\n",
    "    forest_importances.to_csv(path+'/gene_feature_importances.csv')\n",
    "    torch.save(auc, path+'/AUC.pt')\n",
    "    torch.save(auc_prc, path+'/AUC_PRC.pt')\n",
    "    torch.save(f1_score, path+'/F1.pt')"
   ]
  },
  {
   "cell_type": "code",
   "execution_count": 14,
   "id": "e3c58af9-88ae-47e8-9900-015672aae6cd",
   "metadata": {
    "collapsed": true,
    "jupyter": {
     "outputs_hidden": true
    },
    "tags": []
   },
   "outputs": [
    {
     "name": "stdout",
     "output_type": "stream",
     "text": [
      "Task defined: BC \n",
      " if this is not the intended task please specify task\n",
      "Given 2 Input modalities\n",
      "Found 1183 overlapping indicies\n",
      "Initializing Train Dataset\n",
      "Found 706 overlapping genes\n",
      "generated input DataFrame of size (1064, 1412)\n",
      "Initializing Test Dataset\n",
      "Found 706 overlapping genes\n",
      "generated input DataFrame of size (119, 1412)\n",
      "Found 706 overlapping genes\n",
      "We are sending to cuda\n"
     ]
    },
    {
     "name": "stderr",
     "output_type": "stream",
     "text": [
      "Exception ignored in: <function _releaseLock at 0x7fd49434e8c0>\n",
      "Traceback (most recent call last):\n",
      "  File \"/opt/conda/lib/python3.7/logging/__init__.py\", line 221, in _releaseLock\n",
      "    def _releaseLock():\n",
      "KeyboardInterrupt\n"
     ]
    },
    {
     "ename": "RuntimeError",
     "evalue": "DataLoader worker (pid(s) 24823, 24839) exited unexpectedly",
     "output_type": "error",
     "traceback": [
      "\u001b[0;31m---------------------------------------------------------------------------\u001b[0m",
      "\u001b[0;31mEmpty\u001b[0m                                     Traceback (most recent call last)",
      "\u001b[0;32m/opt/conda/lib/python3.7/site-packages/torch/utils/data/dataloader.py\u001b[0m in \u001b[0;36m_try_get_data\u001b[0;34m(self, timeout)\u001b[0m\n\u001b[1;32m    989\u001b[0m         \u001b[0;32mtry\u001b[0m\u001b[0;34m:\u001b[0m\u001b[0;34m\u001b[0m\u001b[0;34m\u001b[0m\u001b[0m\n\u001b[0;32m--> 990\u001b[0;31m             \u001b[0mdata\u001b[0m \u001b[0;34m=\u001b[0m \u001b[0mself\u001b[0m\u001b[0;34m.\u001b[0m\u001b[0m_data_queue\u001b[0m\u001b[0;34m.\u001b[0m\u001b[0mget\u001b[0m\u001b[0;34m(\u001b[0m\u001b[0mtimeout\u001b[0m\u001b[0;34m=\u001b[0m\u001b[0mtimeout\u001b[0m\u001b[0;34m)\u001b[0m\u001b[0;34m\u001b[0m\u001b[0;34m\u001b[0m\u001b[0m\n\u001b[0m\u001b[1;32m    991\u001b[0m             \u001b[0;32mreturn\u001b[0m \u001b[0;34m(\u001b[0m\u001b[0;32mTrue\u001b[0m\u001b[0;34m,\u001b[0m \u001b[0mdata\u001b[0m\u001b[0;34m)\u001b[0m\u001b[0;34m\u001b[0m\u001b[0;34m\u001b[0m\u001b[0m\n",
      "\u001b[0;32m/opt/conda/lib/python3.7/multiprocessing/queues.py\u001b[0m in \u001b[0;36mget\u001b[0;34m(self, block, timeout)\u001b[0m\n\u001b[1;32m    104\u001b[0m                     \u001b[0;32mif\u001b[0m \u001b[0;32mnot\u001b[0m \u001b[0mself\u001b[0m\u001b[0;34m.\u001b[0m\u001b[0m_poll\u001b[0m\u001b[0;34m(\u001b[0m\u001b[0mtimeout\u001b[0m\u001b[0;34m)\u001b[0m\u001b[0;34m:\u001b[0m\u001b[0;34m\u001b[0m\u001b[0;34m\u001b[0m\u001b[0m\n\u001b[0;32m--> 105\u001b[0;31m                         \u001b[0;32mraise\u001b[0m \u001b[0mEmpty\u001b[0m\u001b[0;34m\u001b[0m\u001b[0;34m\u001b[0m\u001b[0m\n\u001b[0m\u001b[1;32m    106\u001b[0m                 \u001b[0;32melif\u001b[0m \u001b[0;32mnot\u001b[0m \u001b[0mself\u001b[0m\u001b[0;34m.\u001b[0m\u001b[0m_poll\u001b[0m\u001b[0;34m(\u001b[0m\u001b[0;34m)\u001b[0m\u001b[0;34m:\u001b[0m\u001b[0;34m\u001b[0m\u001b[0;34m\u001b[0m\u001b[0m\n",
      "\u001b[0;31mEmpty\u001b[0m: ",
      "\nThe above exception was the direct cause of the following exception:\n",
      "\u001b[0;31mRuntimeError\u001b[0m                              Traceback (most recent call last)",
      "\u001b[0;32m/tmp/ipykernel_12272/4046491664.py\u001b[0m in \u001b[0;36m<module>\u001b[0;34m\u001b[0m\n\u001b[1;32m      7\u001b[0m                                                                              \u001b[0mloss_weight\u001b[0m\u001b[0;34m=\u001b[0m\u001b[0mclass_weights\u001b[0m\u001b[0;34m,\u001b[0m \u001b[0mtrain_inds\u001b[0m\u001b[0;34m=\u001b[0m\u001b[0mtrain_inds\u001b[0m\u001b[0;34m,\u001b[0m \u001b[0mtest_inds\u001b[0m\u001b[0;34m=\u001b[0m\u001b[0mtest_inds\u001b[0m\u001b[0;34m,\u001b[0m\u001b[0;34m\u001b[0m\u001b[0;34m\u001b[0m\u001b[0m\n\u001b[1;32m      8\u001b[0m                                                                              \u001b[0msave_path\u001b[0m\u001b[0;34m=\u001b[0m\u001b[0;34m'../results/ccle_val_braf/model'\u001b[0m\u001b[0;34m,\u001b[0m\u001b[0;34m\u001b[0m\u001b[0;34m\u001b[0m\u001b[0m\n\u001b[0;32m----> 9\u001b[0;31m                                                                              loss_fn=nn.BCEWithLogitsLoss(reduce=None), gene_set=canc_genes)\n\u001b[0m\u001b[1;32m     10\u001b[0m     \u001b[0mplt\u001b[0m\u001b[0;34m.\u001b[0m\u001b[0mclf\u001b[0m\u001b[0;34m(\u001b[0m\u001b[0;34m)\u001b[0m\u001b[0;34m\u001b[0m\u001b[0;34m\u001b[0m\u001b[0m\n\u001b[1;32m     11\u001b[0m     \u001b[0mPnet\u001b[0m\u001b[0;34m.\u001b[0m\u001b[0mevaluate_interpret_save\u001b[0m\u001b[0;34m(\u001b[0m\u001b[0mmodel\u001b[0m\u001b[0;34m,\u001b[0m \u001b[0mtest_dataset\u001b[0m\u001b[0;34m,\u001b[0m \u001b[0;34m'../results/ccle_val_braf/run{}'\u001b[0m\u001b[0;34m.\u001b[0m\u001b[0mformat\u001b[0m\u001b[0;34m(\u001b[0m\u001b[0mi\u001b[0m\u001b[0;34m)\u001b[0m\u001b[0;34m)\u001b[0m\u001b[0;34m\u001b[0m\u001b[0;34m\u001b[0m\u001b[0m\n",
      "\u001b[0;32m/mnt/disks/pancan/pnet/src/Pnet.py\u001b[0m in \u001b[0;36mrun\u001b[0;34m(genetic_data, target, save_path, gene_set, additional_data, test_split, seed, dropout, input_dropout, lr, weight_decay, batch_size, epochs, verbose, early_stopping, train_inds, test_inds, random_network, fcnn, task, loss_fn, loss_weight, aux_loss_weights)\u001b[0m\n\u001b[1;32m    485\u001b[0m     \u001b[0mtrain_loader\u001b[0m\u001b[0;34m,\u001b[0m \u001b[0mtest_loader\u001b[0m \u001b[0;34m=\u001b[0m \u001b[0mpnet_loader\u001b[0m\u001b[0;34m.\u001b[0m\u001b[0mto_dataloader\u001b[0m\u001b[0;34m(\u001b[0m\u001b[0mtrain_dataset\u001b[0m\u001b[0;34m,\u001b[0m \u001b[0mtest_dataset\u001b[0m\u001b[0;34m,\u001b[0m \u001b[0mbatch_size\u001b[0m\u001b[0;34m)\u001b[0m\u001b[0;34m\u001b[0m\u001b[0;34m\u001b[0m\u001b[0m\n\u001b[1;32m    486\u001b[0m     model, train_scores, test_scores = train(model, train_loader, test_loader, save_path, lr, weight_decay, epochs, verbose,\n\u001b[0;32m--> 487\u001b[0;31m                                              early_stopping)\n\u001b[0m\u001b[1;32m    488\u001b[0m \u001b[0;34m\u001b[0m\u001b[0m\n\u001b[1;32m    489\u001b[0m     \u001b[0;32mreturn\u001b[0m \u001b[0mmodel\u001b[0m\u001b[0;34m,\u001b[0m \u001b[0mtrain_scores\u001b[0m\u001b[0;34m,\u001b[0m \u001b[0mtest_scores\u001b[0m\u001b[0;34m,\u001b[0m \u001b[0mtrain_dataset\u001b[0m\u001b[0;34m,\u001b[0m \u001b[0mtest_dataset\u001b[0m\u001b[0;34m\u001b[0m\u001b[0;34m\u001b[0m\u001b[0m\n",
      "\u001b[0;32m/mnt/disks/pancan/pnet/src/Pnet.py\u001b[0m in \u001b[0;36mtrain\u001b[0;34m(model, train_loader, test_loader, save_path, lr, weight_decay, epochs, verbose, early_stopping, lr_scheduler)\u001b[0m\n\u001b[1;32m    421\u001b[0m     \u001b[0mtest_scores\u001b[0m \u001b[0;34m=\u001b[0m \u001b[0;34m[\u001b[0m\u001b[0;34m]\u001b[0m\u001b[0;34m\u001b[0m\u001b[0;34m\u001b[0m\u001b[0m\n\u001b[1;32m    422\u001b[0m     \u001b[0;32mfor\u001b[0m \u001b[0mepoch\u001b[0m \u001b[0;32min\u001b[0m \u001b[0mrange\u001b[0m\u001b[0;34m(\u001b[0m\u001b[0mepochs\u001b[0m\u001b[0;34m)\u001b[0m\u001b[0;34m:\u001b[0m\u001b[0;34m\u001b[0m\u001b[0;34m\u001b[0m\u001b[0m\n\u001b[0;32m--> 423\u001b[0;31m         \u001b[0mtrain_epoch_loss\u001b[0m \u001b[0;34m=\u001b[0m \u001b[0mfit\u001b[0m\u001b[0;34m(\u001b[0m\u001b[0mmodel\u001b[0m\u001b[0;34m,\u001b[0m \u001b[0mtrain_loader\u001b[0m\u001b[0;34m,\u001b[0m \u001b[0moptimizer\u001b[0m\u001b[0;34m)\u001b[0m\u001b[0;34m\u001b[0m\u001b[0;34m\u001b[0m\u001b[0m\n\u001b[0m\u001b[1;32m    424\u001b[0m         \u001b[0mtest_epoch_loss\u001b[0m \u001b[0;34m=\u001b[0m \u001b[0mvalidate\u001b[0m\u001b[0;34m(\u001b[0m\u001b[0mmodel\u001b[0m\u001b[0;34m,\u001b[0m \u001b[0mtest_loader\u001b[0m\u001b[0;34m)\u001b[0m\u001b[0;34m\u001b[0m\u001b[0;34m\u001b[0m\u001b[0m\n\u001b[1;32m    425\u001b[0m         \u001b[0mtrain_scores\u001b[0m\u001b[0;34m.\u001b[0m\u001b[0mappend\u001b[0m\u001b[0;34m(\u001b[0m\u001b[0mtrain_epoch_loss\u001b[0m\u001b[0;34m)\u001b[0m\u001b[0;34m\u001b[0m\u001b[0;34m\u001b[0m\u001b[0m\n",
      "\u001b[0;32m/mnt/disks/pancan/pnet/src/Pnet.py\u001b[0m in \u001b[0;36mfit\u001b[0;34m(model, dataloader, optimizer)\u001b[0m\n\u001b[1;32m    358\u001b[0m     \u001b[0mmodel\u001b[0m\u001b[0;34m.\u001b[0m\u001b[0mtrain\u001b[0m\u001b[0;34m(\u001b[0m\u001b[0;34m)\u001b[0m\u001b[0;34m\u001b[0m\u001b[0;34m\u001b[0m\u001b[0m\n\u001b[1;32m    359\u001b[0m     \u001b[0mrunning_loss\u001b[0m \u001b[0;34m=\u001b[0m \u001b[0;36m0.0\u001b[0m\u001b[0;34m\u001b[0m\u001b[0;34m\u001b[0m\u001b[0m\n\u001b[0;32m--> 360\u001b[0;31m     \u001b[0;32mfor\u001b[0m \u001b[0mbatch\u001b[0m \u001b[0;32min\u001b[0m \u001b[0mdataloader\u001b[0m\u001b[0;34m:\u001b[0m\u001b[0;34m\u001b[0m\u001b[0;34m\u001b[0m\u001b[0m\n\u001b[0m\u001b[1;32m    361\u001b[0m         \u001b[0mgene_data\u001b[0m\u001b[0;34m,\u001b[0m \u001b[0madditional_data\u001b[0m\u001b[0;34m,\u001b[0m \u001b[0my\u001b[0m \u001b[0;34m=\u001b[0m \u001b[0mbatch\u001b[0m\u001b[0;34m\u001b[0m\u001b[0;34m\u001b[0m\u001b[0m\n\u001b[1;32m    362\u001b[0m         \u001b[0mgene_data\u001b[0m\u001b[0;34m,\u001b[0m \u001b[0madditional_data\u001b[0m\u001b[0;34m,\u001b[0m \u001b[0my\u001b[0m \u001b[0;34m=\u001b[0m \u001b[0mgene_data\u001b[0m\u001b[0;34m.\u001b[0m\u001b[0mto\u001b[0m\u001b[0;34m(\u001b[0m\u001b[0mdevice\u001b[0m\u001b[0;34m)\u001b[0m\u001b[0;34m,\u001b[0m \u001b[0madditional_data\u001b[0m\u001b[0;34m.\u001b[0m\u001b[0mto\u001b[0m\u001b[0;34m(\u001b[0m\u001b[0mdevice\u001b[0m\u001b[0;34m)\u001b[0m\u001b[0;34m,\u001b[0m \u001b[0my\u001b[0m\u001b[0;34m.\u001b[0m\u001b[0mto\u001b[0m\u001b[0;34m(\u001b[0m\u001b[0mdevice\u001b[0m\u001b[0;34m)\u001b[0m\u001b[0;34m\u001b[0m\u001b[0;34m\u001b[0m\u001b[0m\n",
      "\u001b[0;32m/opt/conda/lib/python3.7/site-packages/torch/utils/data/dataloader.py\u001b[0m in \u001b[0;36m__next__\u001b[0;34m(self)\u001b[0m\n\u001b[1;32m    519\u001b[0m             \u001b[0;32mif\u001b[0m \u001b[0mself\u001b[0m\u001b[0;34m.\u001b[0m\u001b[0m_sampler_iter\u001b[0m \u001b[0;32mis\u001b[0m \u001b[0;32mNone\u001b[0m\u001b[0;34m:\u001b[0m\u001b[0;34m\u001b[0m\u001b[0;34m\u001b[0m\u001b[0m\n\u001b[1;32m    520\u001b[0m                 \u001b[0mself\u001b[0m\u001b[0;34m.\u001b[0m\u001b[0m_reset\u001b[0m\u001b[0;34m(\u001b[0m\u001b[0;34m)\u001b[0m\u001b[0;34m\u001b[0m\u001b[0;34m\u001b[0m\u001b[0m\n\u001b[0;32m--> 521\u001b[0;31m             \u001b[0mdata\u001b[0m \u001b[0;34m=\u001b[0m \u001b[0mself\u001b[0m\u001b[0;34m.\u001b[0m\u001b[0m_next_data\u001b[0m\u001b[0;34m(\u001b[0m\u001b[0;34m)\u001b[0m\u001b[0;34m\u001b[0m\u001b[0;34m\u001b[0m\u001b[0m\n\u001b[0m\u001b[1;32m    522\u001b[0m             \u001b[0mself\u001b[0m\u001b[0;34m.\u001b[0m\u001b[0m_num_yielded\u001b[0m \u001b[0;34m+=\u001b[0m \u001b[0;36m1\u001b[0m\u001b[0;34m\u001b[0m\u001b[0;34m\u001b[0m\u001b[0m\n\u001b[1;32m    523\u001b[0m             \u001b[0;32mif\u001b[0m \u001b[0mself\u001b[0m\u001b[0;34m.\u001b[0m\u001b[0m_dataset_kind\u001b[0m \u001b[0;34m==\u001b[0m \u001b[0m_DatasetKind\u001b[0m\u001b[0;34m.\u001b[0m\u001b[0mIterable\u001b[0m \u001b[0;32mand\u001b[0m\u001b[0;31m \u001b[0m\u001b[0;31m\\\u001b[0m\u001b[0;34m\u001b[0m\u001b[0;34m\u001b[0m\u001b[0m\n",
      "\u001b[0;32m/opt/conda/lib/python3.7/site-packages/torch/utils/data/dataloader.py\u001b[0m in \u001b[0;36m_next_data\u001b[0;34m(self)\u001b[0m\n\u001b[1;32m   1184\u001b[0m \u001b[0;34m\u001b[0m\u001b[0m\n\u001b[1;32m   1185\u001b[0m             \u001b[0;32massert\u001b[0m \u001b[0;32mnot\u001b[0m \u001b[0mself\u001b[0m\u001b[0;34m.\u001b[0m\u001b[0m_shutdown\u001b[0m \u001b[0;32mand\u001b[0m \u001b[0mself\u001b[0m\u001b[0;34m.\u001b[0m\u001b[0m_tasks_outstanding\u001b[0m \u001b[0;34m>\u001b[0m \u001b[0;36m0\u001b[0m\u001b[0;34m\u001b[0m\u001b[0;34m\u001b[0m\u001b[0m\n\u001b[0;32m-> 1186\u001b[0;31m             \u001b[0midx\u001b[0m\u001b[0;34m,\u001b[0m \u001b[0mdata\u001b[0m \u001b[0;34m=\u001b[0m \u001b[0mself\u001b[0m\u001b[0;34m.\u001b[0m\u001b[0m_get_data\u001b[0m\u001b[0;34m(\u001b[0m\u001b[0;34m)\u001b[0m\u001b[0;34m\u001b[0m\u001b[0;34m\u001b[0m\u001b[0m\n\u001b[0m\u001b[1;32m   1187\u001b[0m             \u001b[0mself\u001b[0m\u001b[0;34m.\u001b[0m\u001b[0m_tasks_outstanding\u001b[0m \u001b[0;34m-=\u001b[0m \u001b[0;36m1\u001b[0m\u001b[0;34m\u001b[0m\u001b[0;34m\u001b[0m\u001b[0m\n\u001b[1;32m   1188\u001b[0m             \u001b[0;32mif\u001b[0m \u001b[0mself\u001b[0m\u001b[0;34m.\u001b[0m\u001b[0m_dataset_kind\u001b[0m \u001b[0;34m==\u001b[0m \u001b[0m_DatasetKind\u001b[0m\u001b[0;34m.\u001b[0m\u001b[0mIterable\u001b[0m\u001b[0;34m:\u001b[0m\u001b[0;34m\u001b[0m\u001b[0;34m\u001b[0m\u001b[0m\n",
      "\u001b[0;32m/opt/conda/lib/python3.7/site-packages/torch/utils/data/dataloader.py\u001b[0m in \u001b[0;36m_get_data\u001b[0;34m(self)\u001b[0m\n\u001b[1;32m   1150\u001b[0m         \u001b[0;32melse\u001b[0m\u001b[0;34m:\u001b[0m\u001b[0;34m\u001b[0m\u001b[0;34m\u001b[0m\u001b[0m\n\u001b[1;32m   1151\u001b[0m             \u001b[0;32mwhile\u001b[0m \u001b[0;32mTrue\u001b[0m\u001b[0;34m:\u001b[0m\u001b[0;34m\u001b[0m\u001b[0;34m\u001b[0m\u001b[0m\n\u001b[0;32m-> 1152\u001b[0;31m                 \u001b[0msuccess\u001b[0m\u001b[0;34m,\u001b[0m \u001b[0mdata\u001b[0m \u001b[0;34m=\u001b[0m \u001b[0mself\u001b[0m\u001b[0;34m.\u001b[0m\u001b[0m_try_get_data\u001b[0m\u001b[0;34m(\u001b[0m\u001b[0;34m)\u001b[0m\u001b[0;34m\u001b[0m\u001b[0;34m\u001b[0m\u001b[0m\n\u001b[0m\u001b[1;32m   1153\u001b[0m                 \u001b[0;32mif\u001b[0m \u001b[0msuccess\u001b[0m\u001b[0;34m:\u001b[0m\u001b[0;34m\u001b[0m\u001b[0;34m\u001b[0m\u001b[0m\n\u001b[1;32m   1154\u001b[0m                     \u001b[0;32mreturn\u001b[0m \u001b[0mdata\u001b[0m\u001b[0;34m\u001b[0m\u001b[0;34m\u001b[0m\u001b[0m\n",
      "\u001b[0;32m/opt/conda/lib/python3.7/site-packages/torch/utils/data/dataloader.py\u001b[0m in \u001b[0;36m_try_get_data\u001b[0;34m(self, timeout)\u001b[0m\n\u001b[1;32m   1001\u001b[0m             \u001b[0;32mif\u001b[0m \u001b[0mlen\u001b[0m\u001b[0;34m(\u001b[0m\u001b[0mfailed_workers\u001b[0m\u001b[0;34m)\u001b[0m \u001b[0;34m>\u001b[0m \u001b[0;36m0\u001b[0m\u001b[0;34m:\u001b[0m\u001b[0;34m\u001b[0m\u001b[0;34m\u001b[0m\u001b[0m\n\u001b[1;32m   1002\u001b[0m                 \u001b[0mpids_str\u001b[0m \u001b[0;34m=\u001b[0m \u001b[0;34m', '\u001b[0m\u001b[0;34m.\u001b[0m\u001b[0mjoin\u001b[0m\u001b[0;34m(\u001b[0m\u001b[0mstr\u001b[0m\u001b[0;34m(\u001b[0m\u001b[0mw\u001b[0m\u001b[0;34m.\u001b[0m\u001b[0mpid\u001b[0m\u001b[0;34m)\u001b[0m \u001b[0;32mfor\u001b[0m \u001b[0mw\u001b[0m \u001b[0;32min\u001b[0m \u001b[0mfailed_workers\u001b[0m\u001b[0;34m)\u001b[0m\u001b[0;34m\u001b[0m\u001b[0;34m\u001b[0m\u001b[0m\n\u001b[0;32m-> 1003\u001b[0;31m                 \u001b[0;32mraise\u001b[0m \u001b[0mRuntimeError\u001b[0m\u001b[0;34m(\u001b[0m\u001b[0;34m'DataLoader worker (pid(s) {}) exited unexpectedly'\u001b[0m\u001b[0;34m.\u001b[0m\u001b[0mformat\u001b[0m\u001b[0;34m(\u001b[0m\u001b[0mpids_str\u001b[0m\u001b[0;34m)\u001b[0m\u001b[0;34m)\u001b[0m \u001b[0;32mfrom\u001b[0m \u001b[0me\u001b[0m\u001b[0;34m\u001b[0m\u001b[0;34m\u001b[0m\u001b[0m\n\u001b[0m\u001b[1;32m   1004\u001b[0m             \u001b[0;32mif\u001b[0m \u001b[0misinstance\u001b[0m\u001b[0;34m(\u001b[0m\u001b[0me\u001b[0m\u001b[0;34m,\u001b[0m \u001b[0mqueue\u001b[0m\u001b[0;34m.\u001b[0m\u001b[0mEmpty\u001b[0m\u001b[0;34m)\u001b[0m\u001b[0;34m:\u001b[0m\u001b[0;34m\u001b[0m\u001b[0;34m\u001b[0m\u001b[0m\n\u001b[1;32m   1005\u001b[0m                 \u001b[0;32mreturn\u001b[0m \u001b[0;34m(\u001b[0m\u001b[0;32mFalse\u001b[0m\u001b[0;34m,\u001b[0m \u001b[0;32mNone\u001b[0m\u001b[0;34m)\u001b[0m\u001b[0;34m\u001b[0m\u001b[0;34m\u001b[0m\u001b[0m\n",
      "\u001b[0;31mRuntimeError\u001b[0m: DataLoader worker (pid(s) 24823, 24839) exited unexpectedly"
     ]
    }
   ],
   "source": [
    "class_weights = util.get_class_weights(torch.tensor(v600_target.values).view(-1))\n",
    "for i in range(10):\n",
    "    train_inds = list(pd.read_csv('../data/splits/ccle/train_set_{}.csv'.format(i))['indicies'])\n",
    "    test_inds = list(pd.read_csv('../data/splits/ccle/test_set_{}.csv'.format(i))['indicies'])\n",
    "    model, train_scores, test_scores, train_dataset, test_dataset = Pnet.run(genetic_data, v600_target, seed=0, dropout=0.2, input_dropout=0.5, lr=1e-3,\n",
    "                                                                             weight_decay=1e-3, batch_size=100, epochs=400, early_stopping=True, \n",
    "                                                                             loss_weight=class_weights, train_inds=train_inds, test_inds=test_inds,\n",
    "                                                                             save_path='../results/ccle_val_braf/model',\n",
    "                                                                             loss_fn=nn.BCEWithLogitsLoss(reduce=None), gene_set=canc_genes)\n",
    "    plt.clf()\n",
    "    Pnet.evaluate_interpret_save(model, test_dataset, '../results/ccle_val_braf/run{}'.format(i))"
   ]
  },
  {
   "cell_type": "code",
   "execution_count": 24,
   "id": "6ca7bad5-9c53-43e6-b23c-35e96a7aae1e",
   "metadata": {},
   "outputs": [
    {
     "name": "stderr",
     "output_type": "stream",
     "text": [
      "/opt/conda/lib/python3.7/site-packages/ipykernel_launcher.py:2: DtypeWarning: Columns (4,38,39,43,84) have mixed types.Specify dtype option on import or set low_memory=False.\n",
      "  \n",
      "/opt/conda/lib/python3.7/site-packages/IPython/core/interactiveshell.py:3524: DtypeWarning: Columns (4,38,39,43,84) have mixed types.Specify dtype option on import or set low_memory=False.\n",
      "  exec(code_obj, self.user_global_ns, self.user_ns)\n"
     ]
    }
   ],
   "source": [
    "datapath='/mnt/disks/pancan/data/'\n",
    "rna_val, cna_val, tumor_type, mut_val = util.load_tcga_dataset(datapath+'skcm_tcga_pan_can_atlas_2018', load_mut=True)\n",
    "\n",
    "muts_val = pd.read_csv('/mnt/disks/pancan/data/skcm_tcga_pan_can_atlas_2018/data_mutations.txt', delimiter='\\t')\n",
    "muts_val.dropna(subset=['Variant_Classification'], inplace=True)\n",
    "\n",
    "grouped_muts_val = muts_val[muts_val['Variant_Classification'].apply(lambda x: MUTATIONS_DICT[x]) != 'Silent'][['Hugo_Symbol',\n",
    "                                                                                                    'Variant_Classification',\n",
    "                                                                                                    'Tumor_Sample_Barcode']].groupby(['Tumor_Sample_Barcode',\n",
    "                                                                                                                                          'Hugo_Symbol']).count()\n",
    "mut_val = grouped_muts_val.unstack(level=-1).fillna(0).droplevel(0, axis=1)\n",
    "\n",
    "v600e_mut_samples_val = muts_val[muts_val['HGVSp_Short']=='p.V600E']['Tumor_Sample_Barcode'].values\n",
    "\n",
    "v600_target_val = pd.DataFrame(index=mut_val.index)\n",
    "v600_target_val['v600_mut'] = [int(x in v600e_mut_samples_val) for x in mut_val.index]\n",
    "\n",
    "canc_genes = list(pd.read_csv('../../pnet_database/genes/cancer_genes.txt').values.reshape(-1))\n",
    "canc_genes = list(set(rna_val.columns).intersection(canc_genes))\n",
    "canc_genes.remove('BRAF')\n",
    "\n",
    "genetic_data_val = {'rna': rna_val, 'mut': mut_val}"
   ]
  },
  {
   "cell_type": "code",
   "execution_count": 29,
   "id": "3ab0ea86-e457-4d94-9a47-1a674d81e7fc",
   "metadata": {},
   "outputs": [
    {
     "name": "stdout",
     "output_type": "stream",
     "text": [
      "Task defined: BC \n",
      " if this is not the intended task please specify task\n",
      "Given 2 Input modalities\n",
      "Found 1183 overlapping indicies\n",
      "Initializing Train Dataset\n",
      "Found 674 overlapping genes\n",
      "generated input DataFrame of size (1064, 1348)\n",
      "Initializing Test Dataset\n",
      "Found 674 overlapping genes\n",
      "generated input DataFrame of size (119, 1348)\n",
      "Found 674 overlapping genes\n",
      "Added regulatory layer\n",
      "We are sending to cuda\n",
      "Hit early stopping criteria\n"
     ]
    }
   ],
   "source": [
    "class_weights = util.get_class_weights(torch.tensor(v600_target.values).view(-1))\n",
    "model, train_scores, test_scores, train_dataset, test_dataset = Pnet.run_regulatory(genetic_data, v600_target, seed=0, dropout=0.2, input_dropout=0.5, lr=1e-3,\n",
    "                                                                             weight_decay=1e-3, batch_size=100, epochs=400, early_stopping=True, \n",
    "                                                                             loss_weight=class_weights, train_inds=train_inds, test_inds=test_inds,\n",
    "                                                                             save_path='../results/ccle_val_braf/model',\n",
    "                                                                             loss_fn=nn.BCEWithLogitsLoss(reduce=None), gene_set=canc_genes)"
   ]
  },
  {
   "cell_type": "code",
   "execution_count": 30,
   "id": "e80db04c-6363-4e08-bb88-d8aaa1a8d616",
   "metadata": {},
   "outputs": [
    {
     "name": "stdout",
     "output_type": "stream",
     "text": [
      "Found 439 overlapping indicies\n",
      "Found 674 overlapping genes\n",
      "generated input DataFrame of size (439, 1348)\n"
     ]
    }
   ],
   "source": [
    "inds = pnet_loader.get_indicies(genetic_data = genetic_data_val,\n",
    "                                target=v600_target_val)\n",
    "ext_val_dataset = pnet_loader.PnetDataset(genetic_data = genetic_data_val,\n",
    "                                          target=v600_target_val, indicies=inds, gene_set=canc_genes)"
   ]
  },
  {
   "cell_type": "code",
   "execution_count": 31,
   "id": "2f09db6e-98b2-4f26-9a4e-4601a815b34f",
   "metadata": {},
   "outputs": [
    {
     "data": {
      "image/png": "[encoded data removed]",
      "text/plain": [
       "<Figure size 432x288 with 1 Axes>"
      ]
     },
     "metadata": {
      "needs_background": "light"
     },
     "output_type": "display_data"
    }
   ],
   "source": [
    "Pnet.evaluate_interpret_save(model, ext_val_dataset, '../results/ccle_val_braf_ext'.format(i))"
   ]
  },
  {
   "cell_type": "code",
   "execution_count": 32,
   "id": "bc043b14-6a19-4815-b4ff-d0ed336ac43c",
   "metadata": {},
   "outputs": [
    {
     "data": {
      "application/vnd.plotly.v1+json": {
       "config": {
        "plotlyServerURL": "https://plot.ly"
       },
       "data": [
        {
         "link": {
          "color": [
           "#41B6E6",
           "#41B6E6",
           "#41B6E6",
           "#41B6E6",
           "#41B6E6",
           "#41B6E6",
           "#41B6E6",
           "#41B6E6",
           "#41B6E6",
           "#41B6E6",
           "#FFA300",
           "#41B6E6",
           "#FFA300",
           "#FFA300",
           "#41B6E6",
           "#41B6E6",
           "#41B6E6",
           "#41B6E6",
           "#41B6E6",
           "#41B6E6",
           "#FFA300",
           "#41B6E6",
           "#FFA300",
           "#FFA300",
           "#FFA300",
           "#FFA300",
           "#00629B",
           "#00629B",
           "#00629B",
           "#FFA300",
           "#00629B",
           "#00629B",
           "#00629B",
           "#00629B",
           "#00629B",
           "#FFA300",
           "#FFA300",
           "#FFA300",
           "#FFA300",
           "#FFA300",
           "#FFA300",
           "#FFA300",
           "#00629B",
           "#FFA300",
           "#FFA300",
           "#00629B",
           "#00629B",
           "#FFA300",
           "#FFA300",
           "#FFA300",
           "#FFA300",
           "#FFA300",
           "#FFA300",
           "#FFA300",
           "#FFA300",
           "#FFA300",
           "#FFA300",
           "#FFA300",
           "#FFA300",
           "#00629B",
           "#00629B",
           "#00629B",
           "#FFA300",
           "#FFA300",
           "#FFA300",
           "#FFA300",
           "#00629B",
           "#00629B",
           "#FFA300",
           "#FFA300",
           "#FFA300",
           "#FFA300",
           "#FFA300",
           "#FFA300",
           "#FFA300",
           "#FFA300",
           "#FFA300",
           "#00629B",
           "#00629B",
           "#FFA300",
           "#00629B",
           "#00629B",
           "#00629B",
           "#00629B",
           "#00629B",
           "#FFA300",
           "#00629B",
           "#FFA300",
           "#FFA300",
           "#FFA300",
           "#FFA300",
           "#00629B",
           "#00629B",
           "#00629B",
           "#00629B",
           "#00629B",
           "#00629B",
           "#00629B",
           "#00629B",
           "#00629B",
           "#00629B",
           "#FFA300"
          ],
          "source": [
           2,
           4,
           6,
           8,
           10,
           12,
           14,
           16,
           18,
           20,
           0,
           3,
           5,
           7,
           11,
           11,
           11,
           9,
           13,
           17,
           15,
           19,
           21,
           1,
           1,
           1,
           23,
           24,
           25,
           26,
           27,
           28,
           29,
           30,
           31,
           32,
           22,
           22,
           22,
           22,
           22,
           34,
           35,
           36,
           37,
           38,
           39,
           40,
           41,
           42,
           43,
           33,
           33,
           33,
           33,
           33,
           33,
           33,
           33,
           45,
           46,
           47,
           48,
           49,
           50,
           51,
           52,
           53,
           54,
           44,
           44,
           44,
           44,
           44,
           44,
           44,
           44,
           56,
           57,
           58,
           59,
           60,
           61,
           62,
           63,
           64,
           65,
           55,
           55,
           55,
           55,
           67,
           68,
           69,
           70,
           71,
           72,
           73,
           74,
           75,
           76,
           66
          ],
          "target": [
           3,
           5,
           7,
           9,
           11,
           13,
           15,
           17,
           19,
           21,
           1,
           32,
           22,
           22,
           28,
           31,
           30,
           23,
           27,
           25,
           22,
           24,
           22,
           26,
           29,
           22,
           34,
           36,
           37,
           33,
           38,
           35,
           39,
           35,
           35,
           33,
           40,
           41,
           42,
           43,
           33,
           44,
           49,
           44,
           44,
           50,
           54,
           44,
           44,
           44,
           44,
           45,
           46,
           47,
           48,
           51,
           52,
           53,
           44,
           57,
           64,
           56,
           55,
           55,
           55,
           55,
           56,
           64,
           55,
           58,
           59,
           60,
           61,
           62,
           63,
           65,
           55,
           74,
           75,
           66,
           69,
           70,
           67,
           73,
           75,
           66,
           72,
           68,
           71,
           76,
           66,
           77,
           77,
           77,
           77,
           77,
           77,
           77,
           77,
           77,
           77,
           77
          ],
          "value": [
           0.4449034432840077,
           0.2520434830136304,
           0.14335429248676232,
           0.10637032269495691,
           0.079668539227,
           0.07565080911553776,
           0.06666121596156957,
           0.06626273442298522,
           0.06115821688854036,
           0.058955627812988194,
           0.3967957960137299,
           0.455337571368631,
           0.25011472337722096,
           0.12066811166378133,
           0.09289753337266514,
           0.09289753337266514,
           0.09289753337266514,
           0.09180835302601366,
           0.07733664511211845,
           0.06923876359969476,
           0.06469158059567198,
           0.06354669297503417,
           0.06123813415261959,
           0.26210798508938477,
           0.26210798508938477,
           0.26210798508938477,
           0.047673390767904326,
           0.045228128650865604,
           0.031864320004054675,
           0.026726618230842825,
           0.024221999062482916,
           0.024035321548603647,
           0.022337570717767652,
           0.019568776414523915,
           0.01923702281207289,
           0.016270110902710706,
           0.0628018680344221,
           0.0628018680344221,
           0.0628018680344221,
           0.0628018680344221,
           0.0628018680344221,
           0.041052738112847376,
           0.040585456785649204,
           0.027567013922323462,
           0.021886645260410023,
           0.021003276625437356,
           0.019342921384601367,
           0.012952304752961274,
           0.011554545523451025,
           0.011056837458291573,
           0.010444191333061504,
           0.024545677236357383,
           0.024545677236357383,
           0.024545677236357383,
           0.024545677236357383,
           0.024545677236357383,
           0.024545677236357383,
           0.024545677236357383,
           0.024545677236357383,
           0.0509320775422779,
           0.01968373734848747,
           0.01845657902586788,
           0.018212655664920273,
           0.017460863297166285,
           0.01432250398361959,
           0.013895854580637813,
           0.009384588271878361,
           0.009301432591890662,
           0.009223476334965832,
           0.024480585699066484,
           0.024480585699066484,
           0.024480585699066484,
           0.024480585699066484,
           0.024480585699066484,
           0.024480585699066484,
           0.024480585699066484,
           0.024480585699066484,
           0.03436836238956947,
           0.031590261323826876,
           0.03058148902,
           0.03038300861621868,
           0.030171113224703873,
           0.023447969593307517,
           0.022125541726218678,
           0.021499013113895217,
           0.02052283565622779,
           0.018864359783788153,
           0.022205803027463656,
           0.022205803027463656,
           0.022205803027463656,
           0.022205803027463656,
           0.028790036796277906,
           0.025960856638041,
           0.02097851059271071,
           0.01985143133579271,
           0.014330229957608201,
           0.012854835735201823,
           0.012726684593872438,
           0.009585393946514807,
           0.0067464587945831435,
           0.00659150445628246,
           0.00659150445628246
          ]
         },
         "node": {
          "color": "silver",
          "label": [
           "Residual",
           "Residual",
           "NRAS_mut",
           "NRAS",
           "IL2_rna",
           "IL2",
           "ROS1_rna",
           "ROS1",
           "CACNA1D_rna",
           "CACNA1D",
           "MUC16_mut",
           "MUC16",
           "TP53_mut",
           "TP53",
           "MYOD1_rna",
           "MYOD1",
           "COL1A1_mut",
           "COL1A1",
           "GATA1_rna",
           "GATA1",
           "ZNF479_rna",
           "ZNF479",
           "Residual",
           "NCAM1 interactions",
           "RUNX1 regulates transcription of genes involved in differentiation of HSCs",
           "RUNX2 and bone",
           "Assembly and cell surface presentation of NMDA receptors",
           "p53-Dep. G1 DNA dmg resp.",
           "Defective GALNT12 causes colorectal cancer 1 (CRCS1)",
           "PI5P, PP2A and IER3 Regulate PI3K/AKT Signaling",
           "Defective C1GALT1C1 causes Tn polyagglutination syndrome (TNPS)",
           "Defective GALNT3 causes familial hyperphosphatemic tumoral calcinosis (HFTC)",
           "Post NMDA receptor activation events",
           "Residual",
           "NCAM signaling for neurite out-growth",
           "Diseases associated with O-glycosylation of proteins",
           "Transcriptional regulation by RUNX1",
           "RUNX2 transc. regulation",
           "p53-Dep. G1/S DNA dmg chkp",
           "Negative regulation of the PI3K/AKT network",
           "RHO GTPase cycle",
           "EPH-Ephrin signaling",
           "Class B/2 (Secretin family receptors)",
           "Transcriptional Regulation by MECP2",
           "Residual",
           "ESR-mediated signaling",
           "Fc epsilon receptor (FCERI) signaling",
           "Signaling by PDGFR in disease",
           "Neurotransmitter receptors and postsynaptic signal transmission",
           "Diseases of glycosylation",
           "G1/S DNA Damage Checkpoints",
           "Cellular response to hypoxia",
           "Oncogenic MAPK signaling",
           "C-type lectin receptors (CLRs)",
           "PIP3 activates AKT signaling",
           "Residual",
           "Diseases of sig. transd. by GFR",
           "Signaling by Nuclear Receptors",
           "Adaptive Immune System",
           "Sensory processing of sound",
           "Regulated Necrosis",
           "Activation of HOX genes during differentiation",
           "Mitochondrial biogenesis",
           "Signaling by Erythropoietin",
           "Innate Immune System",
           "Chromatin modifying enzymes",
           "Residual",
           "Developmental Biology",
           "Hemostasis",
           "Sensory Perception",
           "Programmed Cell Death",
           "Neuronal System",
           "Chromatin organization",
           "Organelle biogenesis and maintenance",
           "Disease",
           "Signal Transduction",
           "Cell Cycle",
           "Output"
          ],
          "line": {
           "color": "black",
           "width": 0.5
          },
          "pad": 15,
          "thickness": 20
         },
         "type": "sankey"
        }
       ],
       "layout": {
        "autosize": true,
        "font": {
         "size": 10
        },
        "template": {
         "data": {
          "bar": [
           {
            "error_x": {
             "color": "#2a3f5f"
            },
            "error_y": {
             "color": "#2a3f5f"
            },
            "marker": {
             "line": {
              "color": "#E5ECF6",
              "width": 0.5
             },
             "pattern": {
              "fillmode": "overlay",
              "size": 10,
              "solidity": 0.2
             }
            },
            "type": "bar"
           }
          ],
          "barpolar": [
           {
            "marker": {
             "line": {
              "color": "#E5ECF6",
              "width": 0.5
             },
             "pattern": {
              "fillmode": "overlay",
              "size": 10,
              "solidity": 0.2
             }
            },
            "type": "barpolar"
           }
          ],
          "carpet": [
           {
            "aaxis": {
             "endlinecolor": "#2a3f5f",
             "gridcolor": "white",
             "linecolor": "white",
             "minorgridcolor": "white",
             "startlinecolor": "#2a3f5f"
            },
            "baxis": {
             "endlinecolor": "#2a3f5f",
             "gridcolor": "white",
             "linecolor": "white",
             "minorgridcolor": "white",
             "startlinecolor": "#2a3f5f"
            },
            "type": "carpet"
           }
          ],
          "choropleth": [
           {
            "colorbar": {
             "outlinewidth": 0,
             "ticks": ""
            },
            "type": "choropleth"
           }
          ],
          "contour": [
           {
            "colorbar": {
             "outlinewidth": 0,
             "ticks": ""
            },
            "colorscale": [
             [
              0,
              "#0d0887"
             ],
             [
              0.1111111111111111,
              "#46039f"
             ],
             [
              0.2222222222222222,
              "#7201a8"
             ],
             [
              0.3333333333333333,
              "#9c179e"
             ],
             [
              0.4444444444444444,
              "#bd3786"
             ],
             [
              0.5555555555555556,
              "#d8576b"
             ],
             [
              0.6666666666666666,
              "#ed7953"
             ],
             [
              0.7777777777777778,
              "#fb9f3a"
             ],
             [
              0.8888888888888888,
              "#fdca26"
             ],
             [
              1,
              "#f0f921"
             ]
            ],
            "type": "contour"
           }
          ],
          "contourcarpet": [
           {
            "colorbar": {
             "outlinewidth": 0,
             "ticks": ""
            },
            "type": "contourcarpet"
           }
          ],
          "heatmap": [
           {
            "colorbar": {
             "outlinewidth": 0,
             "ticks": ""
            },
            "colorscale": [
             [
              0,
              "#0d0887"
             ],
             [
              0.1111111111111111,
              "#46039f"
             ],
             [
              0.2222222222222222,
              "#7201a8"
             ],
             [
              0.3333333333333333,
              "#9c179e"
             ],
             [
              0.4444444444444444,
              "#bd3786"
             ],
             [
              0.5555555555555556,
              "#d8576b"
             ],
             [
              0.6666666666666666,
              "#ed7953"
             ],
             [
              0.7777777777777778,
              "#fb9f3a"
             ],
             [
              0.8888888888888888,
              "#fdca26"
             ],
             [
              1,
              "#f0f921"
             ]
            ],
            "type": "heatmap"
           }
          ],
          "heatmapgl": [
           {
            "colorbar": {
             "outlinewidth": 0,
             "ticks": ""
            },
            "colorscale": [
             [
              0,
              "#0d0887"
             ],
             [
              0.1111111111111111,
              "#46039f"
             ],
             [
              0.2222222222222222,
              "#7201a8"
             ],
             [
              0.3333333333333333,
              "#9c179e"
             ],
             [
              0.4444444444444444,
              "#bd3786"
             ],
             [
              0.5555555555555556,
              "#d8576b"
             ],
             [
              0.6666666666666666,
              "#ed7953"
             ],
             [
              0.7777777777777778,
              "#fb9f3a"
             ],
             [
              0.8888888888888888,
              "#fdca26"
             ],
             [
              1,
              "#f0f921"
             ]
            ],
            "type": "heatmapgl"
           }
          ],
          "histogram": [
           {
            "marker": {
             "pattern": {
              "fillmode": "overlay",
              "size": 10,
              "solidity": 0.2
             }
            },
            "type": "histogram"
           }
          ],
          "histogram2d": [
           {
            "colorbar": {
             "outlinewidth": 0,
             "ticks": ""
            },
            "colorscale": [
             [
              0,
              "#0d0887"
             ],
             [
              0.1111111111111111,
              "#46039f"
             ],
             [
              0.2222222222222222,
              "#7201a8"
             ],
             [
              0.3333333333333333,
              "#9c179e"
             ],
             [
              0.4444444444444444,
              "#bd3786"
             ],
             [
              0.5555555555555556,
              "#d8576b"
             ],
             [
              0.6666666666666666,
              "#ed7953"
             ],
             [
              0.7777777777777778,
              "#fb9f3a"
             ],
             [
              0.8888888888888888,
              "#fdca26"
             ],
             [
              1,
              "#f0f921"
             ]
            ],
            "type": "histogram2d"
           }
          ],
          "histogram2dcontour": [
           {
            "colorbar": {
             "outlinewidth": 0,
             "ticks": ""
            },
            "colorscale": [
             [
              0,
              "#0d0887"
             ],
             [
              0.1111111111111111,
              "#46039f"
             ],
             [
              0.2222222222222222,
              "#7201a8"
             ],
             [
              0.3333333333333333,
              "#9c179e"
             ],
             [
              0.4444444444444444,
              "#bd3786"
             ],
             [
              0.5555555555555556,
              "#d8576b"
             ],
             [
              0.6666666666666666,
              "#ed7953"
             ],
             [
              0.7777777777777778,
              "#fb9f3a"
             ],
             [
              0.8888888888888888,
              "#fdca26"
             ],
             [
              1,
              "#f0f921"
             ]
            ],
            "type": "histogram2dcontour"
           }
          ],
          "mesh3d": [
           {
            "colorbar": {
             "outlinewidth": 0,
             "ticks": ""
            },
            "type": "mesh3d"
           }
          ],
          "parcoords": [
           {
            "line": {
             "colorbar": {
              "outlinewidth": 0,
              "ticks": ""
             }
            },
            "type": "parcoords"
           }
          ],
          "pie": [
           {
            "automargin": true,
            "type": "pie"
           }
          ],
          "scatter": [
           {
            "fillpattern": {
             "fillmode": "overlay",
             "size": 10,
             "solidity": 0.2
            },
            "type": "scatter"
           }
          ],
          "scatter3d": [
           {
            "line": {
             "colorbar": {
              "outlinewidth": 0,
              "ticks": ""
             }
            },
            "marker": {
             "colorbar": {
              "outlinewidth": 0,
              "ticks": ""
             }
            },
            "type": "scatter3d"
           }
          ],
          "scattercarpet": [
           {
            "marker": {
             "colorbar": {
              "outlinewidth": 0,
              "ticks": ""
             }
            },
            "type": "scattercarpet"
           }
          ],
          "scattergeo": [
           {
            "marker": {
             "colorbar": {
              "outlinewidth": 0,
              "ticks": ""
             }
            },
            "type": "scattergeo"
           }
          ],
          "scattergl": [
           {
            "marker": {
             "colorbar": {
              "outlinewidth": 0,
              "ticks": ""
             }
            },
            "type": "scattergl"
           }
          ],
          "scattermapbox": [
           {
            "marker": {
             "colorbar": {
              "outlinewidth": 0,
              "ticks": ""
             }
            },
            "type": "scattermapbox"
           }
          ],
          "scatterpolar": [
           {
            "marker": {
             "colorbar": {
              "outlinewidth": 0,
              "ticks": ""
             }
            },
            "type": "scatterpolar"
           }
          ],
          "scatterpolargl": [
           {
            "marker": {
             "colorbar": {
              "outlinewidth": 0,
              "ticks": ""
             }
            },
            "type": "scatterpolargl"
           }
          ],
          "scatterternary": [
           {
            "marker": {
             "colorbar": {
              "outlinewidth": 0,
              "ticks": ""
             }
            },
            "type": "scatterternary"
           }
          ],
          "surface": [
           {
            "colorbar": {
             "outlinewidth": 0,
             "ticks": ""
            },
            "colorscale": [
             [
              0,
              "#0d0887"
             ],
             [
              0.1111111111111111,
              "#46039f"
             ],
             [
              0.2222222222222222,
              "#7201a8"
             ],
             [
              0.3333333333333333,
              "#9c179e"
             ],
             [
              0.4444444444444444,
              "#bd3786"
             ],
             [
              0.5555555555555556,
              "#d8576b"
             ],
             [
              0.6666666666666666,
              "#ed7953"
             ],
             [
              0.7777777777777778,
              "#fb9f3a"
             ],
             [
              0.8888888888888888,
              "#fdca26"
             ],
             [
              1,
              "#f0f921"
             ]
            ],
            "type": "surface"
           }
          ],
          "table": [
           {
            "cells": {
             "fill": {
              "color": "#EBF0F8"
             },
             "line": {
              "color": "white"
             }
            },
            "header": {
             "fill": {
              "color": "#C8D4E3"
             },
             "line": {
              "color": "white"
             }
            },
            "type": "table"
           }
          ]
         },
         "layout": {
          "annotationdefaults": {
           "arrowcolor": "#2a3f5f",
           "arrowhead": 0,
           "arrowwidth": 1
          },
          "autotypenumbers": "strict",
          "coloraxis": {
           "colorbar": {
            "outlinewidth": 0,
            "ticks": ""
           }
          },
          "colorscale": {
           "diverging": [
            [
             0,
             "#8e0152"
            ],
            [
             0.1,
             "#c51b7d"
            ],
            [
             0.2,
             "#de77ae"
            ],
            [
             0.3,
             "#f1b6da"
            ],
            [
             0.4,
             "#fde0ef"
            ],
            [
             0.5,
             "#f7f7f7"
            ],
            [
             0.6,
             "#e6f5d0"
            ],
            [
             0.7,
             "#b8e186"
            ],
            [
             0.8,
             "#7fbc41"
            ],
            [
             0.9,
             "#4d9221"
            ],
            [
             1,
             "#276419"
            ]
           ],
           "sequential": [
            [
             0,
             "#0d0887"
            ],
            [
             0.1111111111111111,
             "#46039f"
            ],
            [
             0.2222222222222222,
             "#7201a8"
            ],
            [
             0.3333333333333333,
             "#9c179e"
            ],
            [
             0.4444444444444444,
             "#bd3786"
            ],
            [
             0.5555555555555556,
             "#d8576b"
            ],
            [
             0.6666666666666666,
             "#ed7953"
            ],
            [
             0.7777777777777778,
             "#fb9f3a"
            ],
            [
             0.8888888888888888,
             "#fdca26"
            ],
            [
             1,
             "#f0f921"
            ]
           ],
           "sequentialminus": [
            [
             0,
             "#0d0887"
            ],
            [
             0.1111111111111111,
             "#46039f"
            ],
            [
             0.2222222222222222,
             "#7201a8"
            ],
            [
             0.3333333333333333,
             "#9c179e"
            ],
            [
             0.4444444444444444,
             "#bd3786"
            ],
            [
             0.5555555555555556,
             "#d8576b"
            ],
            [
             0.6666666666666666,
             "#ed7953"
            ],
            [
             0.7777777777777778,
             "#fb9f3a"
            ],
            [
             0.8888888888888888,
             "#fdca26"
            ],
            [
             1,
             "#f0f921"
            ]
           ]
          },
          "colorway": [
           "#636efa",
           "#EF553B",
           "#00cc96",
           "#ab63fa",
           "#FFA15A",
           "#19d3f3",
           "#FF6692",
           "#B6E880",
           "#FF97FF",
           "#FECB52"
          ],
          "font": {
           "color": "#2a3f5f"
          },
          "geo": {
           "bgcolor": "white",
           "lakecolor": "white",
           "landcolor": "#E5ECF6",
           "showlakes": true,
           "showland": true,
           "subunitcolor": "white"
          },
          "hoverlabel": {
           "align": "left"
          },
          "hovermode": "closest",
          "mapbox": {
           "style": "light"
          },
          "paper_bgcolor": "white",
          "plot_bgcolor": "#E5ECF6",
          "polar": {
           "angularaxis": {
            "gridcolor": "white",
            "linecolor": "white",
            "ticks": ""
           },
           "bgcolor": "#E5ECF6",
           "radialaxis": {
            "gridcolor": "white",
            "linecolor": "white",
            "ticks": ""
           }
          },
          "scene": {
           "xaxis": {
            "backgroundcolor": "#E5ECF6",
            "gridcolor": "white",
            "gridwidth": 2,
            "linecolor": "white",
            "showbackground": true,
            "ticks": "",
            "zerolinecolor": "white"
           },
           "yaxis": {
            "backgroundcolor": "#E5ECF6",
            "gridcolor": "white",
            "gridwidth": 2,
            "linecolor": "white",
            "showbackground": true,
            "ticks": "",
            "zerolinecolor": "white"
           },
           "zaxis": {
            "backgroundcolor": "#E5ECF6",
            "gridcolor": "white",
            "gridwidth": 2,
            "linecolor": "white",
            "showbackground": true,
            "ticks": "",
            "zerolinecolor": "white"
           }
          },
          "shapedefaults": {
           "line": {
            "color": "#2a3f5f"
           }
          },
          "ternary": {
           "aaxis": {
            "gridcolor": "white",
            "linecolor": "white",
            "ticks": ""
           },
           "baxis": {
            "gridcolor": "white",
            "linecolor": "white",
            "ticks": ""
           },
           "bgcolor": "#E5ECF6",
           "caxis": {
            "gridcolor": "white",
            "linecolor": "white",
            "ticks": ""
           }
          },
          "title": {
           "x": 0.05
          },
          "xaxis": {
           "automargin": true,
           "gridcolor": "white",
           "linecolor": "white",
           "ticks": "",
           "title": {
            "standoff": 15
           },
           "zerolinecolor": "white",
           "zerolinewidth": 2
          },
          "yaxis": {
           "automargin": true,
           "gridcolor": "white",
           "linecolor": "white",
           "ticks": "",
           "title": {
            "standoff": 15
           },
           "zerolinecolor": "white",
           "zerolinewidth": 2
          }
         }
        }
       }
      },
      "image/png": "[encoded data removed]",
      "text/html": [
       "<div>                            <div id=\"c8007230-46d1-44a5-b4c9-aa7bf219fb9e\" class=\"plotly-graph-div\" style=\"height:525px; width:100%;\"></div>            <script type=\"text/javascript\">                require([\"plotly\"], function(Plotly) {                    window.PLOTLYENV=window.PLOTLYENV || {};                                    if (document.getElementById(\"c8007230-46d1-44a5-b4c9-aa7bf219fb9e\")) {                    Plotly.newPlot(                        \"c8007230-46d1-44a5-b4c9-aa7bf219fb9e\",                        [{\"link\":{\"color\":[\"#41B6E6\",\"#41B6E6\",\"#41B6E6\",\"#41B6E6\",\"#41B6E6\",\"#41B6E6\",\"#41B6E6\",\"#41B6E6\",\"#41B6E6\",\"#41B6E6\",\"#FFA300\",\"#41B6E6\",\"#FFA300\",\"#FFA300\",\"#41B6E6\",\"#41B6E6\",\"#41B6E6\",\"#41B6E6\",\"#41B6E6\",\"#41B6E6\",\"#FFA300\",\"#41B6E6\",\"#FFA300\",\"#FFA300\",\"#FFA300\",\"#FFA300\",\"#00629B\",\"#00629B\",\"#00629B\",\"#FFA300\",\"#00629B\",\"#00629B\",\"#00629B\",\"#00629B\",\"#00629B\",\"#FFA300\",\"#FFA300\",\"#FFA300\",\"#FFA300\",\"#FFA300\",\"#FFA300\",\"#FFA300\",\"#00629B\",\"#FFA300\",\"#FFA300\",\"#00629B\",\"#00629B\",\"#FFA300\",\"#FFA300\",\"#FFA300\",\"#FFA300\",\"#FFA300\",\"#FFA300\",\"#FFA300\",\"#FFA300\",\"#FFA300\",\"#FFA300\",\"#FFA300\",\"#FFA300\",\"#00629B\",\"#00629B\",\"#00629B\",\"#FFA300\",\"#FFA300\",\"#FFA300\",\"#FFA300\",\"#00629B\",\"#00629B\",\"#FFA300\",\"#FFA300\",\"#FFA300\",\"#FFA300\",\"#FFA300\",\"#FFA300\",\"#FFA300\",\"#FFA300\",\"#FFA300\",\"#00629B\",\"#00629B\",\"#FFA300\",\"#00629B\",\"#00629B\",\"#00629B\",\"#00629B\",\"#00629B\",\"#FFA300\",\"#00629B\",\"#FFA300\",\"#FFA300\",\"#FFA300\",\"#FFA300\",\"#00629B\",\"#00629B\",\"#00629B\",\"#00629B\",\"#00629B\",\"#00629B\",\"#00629B\",\"#00629B\",\"#00629B\",\"#00629B\",\"#FFA300\"],\"source\":[2,4,6,8,10,12,14,16,18,20,0,3,5,7,11,11,11,9,13,17,15,19,21,1,1,1,23,24,25,26,27,28,29,30,31,32,22,22,22,22,22,34,35,36,37,38,39,40,41,42,43,33,33,33,33,33,33,33,33,45,46,47,48,49,50,51,52,53,54,44,44,44,44,44,44,44,44,56,57,58,59,60,61,62,63,64,65,55,55,55,55,67,68,69,70,71,72,73,74,75,76,66],\"target\":[3,5,7,9,11,13,15,17,19,21,1,32,22,22,28,31,30,23,27,25,22,24,22,26,29,22,34,36,37,33,38,35,39,35,35,33,40,41,42,43,33,44,49,44,44,50,54,44,44,44,44,45,46,47,48,51,52,53,44,57,64,56,55,55,55,55,56,64,55,58,59,60,61,62,63,65,55,74,75,66,69,70,67,73,75,66,72,68,71,76,66,77,77,77,77,77,77,77,77,77,77,77],\"value\":[0.4449034432840077,0.2520434830136304,0.14335429248676232,0.10637032269495691,0.079668539227,0.07565080911553776,0.06666121596156957,0.06626273442298522,0.06115821688854036,0.058955627812988194,0.3967957960137299,0.455337571368631,0.25011472337722096,0.12066811166378133,0.09289753337266514,0.09289753337266514,0.09289753337266514,0.09180835302601366,0.07733664511211845,0.06923876359969476,0.06469158059567198,0.06354669297503417,0.06123813415261959,0.26210798508938477,0.26210798508938477,0.26210798508938477,0.047673390767904326,0.045228128650865604,0.031864320004054675,0.026726618230842825,0.024221999062482916,0.024035321548603647,0.022337570717767652,0.019568776414523915,0.01923702281207289,0.016270110902710706,0.0628018680344221,0.0628018680344221,0.0628018680344221,0.0628018680344221,0.0628018680344221,0.041052738112847376,0.040585456785649204,0.027567013922323462,0.021886645260410023,0.021003276625437356,0.019342921384601367,0.012952304752961274,0.011554545523451025,0.011056837458291573,0.010444191333061504,0.024545677236357383,0.024545677236357383,0.024545677236357383,0.024545677236357383,0.024545677236357383,0.024545677236357383,0.024545677236357383,0.024545677236357383,0.0509320775422779,0.01968373734848747,0.01845657902586788,0.018212655664920273,0.017460863297166285,0.01432250398361959,0.013895854580637813,0.009384588271878361,0.009301432591890662,0.009223476334965832,0.024480585699066484,0.024480585699066484,0.024480585699066484,0.024480585699066484,0.024480585699066484,0.024480585699066484,0.024480585699066484,0.024480585699066484,0.03436836238956947,0.031590261323826876,0.03058148902,0.03038300861621868,0.030171113224703873,0.023447969593307517,0.022125541726218678,0.021499013113895217,0.02052283565622779,0.018864359783788153,0.022205803027463656,0.022205803027463656,0.022205803027463656,0.022205803027463656,0.028790036796277906,0.025960856638041,0.02097851059271071,0.01985143133579271,0.014330229957608201,0.012854835735201823,0.012726684593872438,0.009585393946514807,0.0067464587945831435,0.00659150445628246,0.00659150445628246]},\"node\":{\"color\":\"silver\",\"label\":[\"Residual\",\"Residual\",\"NRAS_mut\",\"NRAS\",\"IL2_rna\",\"IL2\",\"ROS1_rna\",\"ROS1\",\"CACNA1D_rna\",\"CACNA1D\",\"MUC16_mut\",\"MUC16\",\"TP53_mut\",\"TP53\",\"MYOD1_rna\",\"MYOD1\",\"COL1A1_mut\",\"COL1A1\",\"GATA1_rna\",\"GATA1\",\"ZNF479_rna\",\"ZNF479\",\"Residual\",\"NCAM1 interactions\",\"RUNX1 regulates transcription of genes involved in differentiation of HSCs\",\"RUNX2 and bone\",\"Assembly and cell surface presentation of NMDA receptors\",\"p53-Dep. G1 DNA dmg resp.\",\"Defective GALNT12 causes colorectal cancer 1 (CRCS1)\",\"PI5P, PP2A and IER3 Regulate PI3K/AKT Signaling\",\"Defective C1GALT1C1 causes Tn polyagglutination syndrome (TNPS)\",\"Defective GALNT3 causes familial hyperphosphatemic tumoral calcinosis (HFTC)\",\"Post NMDA receptor activation events\",\"Residual\",\"NCAM signaling for neurite out-growth\",\"Diseases associated with O-glycosylation of proteins\",\"Transcriptional regulation by RUNX1\",\"RUNX2 transc. regulation\",\"p53-Dep. G1/S DNA dmg chkp\",\"Negative regulation of the PI3K/AKT network\",\"RHO GTPase cycle\",\"EPH-Ephrin signaling\",\"Class B/2 (Secretin family receptors)\",\"Transcriptional Regulation by MECP2\",\"Residual\",\"ESR-mediated signaling\",\"Fc epsilon receptor (FCERI) signaling\",\"Signaling by PDGFR in disease\",\"Neurotransmitter receptors and postsynaptic signal transmission\",\"Diseases of glycosylation\",\"G1/S DNA Damage Checkpoints\",\"Cellular response to hypoxia\",\"Oncogenic MAPK signaling\",\"C-type lectin receptors (CLRs)\",\"PIP3 activates AKT signaling\",\"Residual\",\"Diseases of sig. transd. by GFR\",\"Signaling by Nuclear Receptors\",\"Adaptive Immune System\",\"Sensory processing of sound\",\"Regulated Necrosis\",\"Activation of HOX genes during differentiation\",\"Mitochondrial biogenesis\",\"Signaling by Erythropoietin\",\"Innate Immune System\",\"Chromatin modifying enzymes\",\"Residual\",\"Developmental Biology\",\"Hemostasis\",\"Sensory Perception\",\"Programmed Cell Death\",\"Neuronal System\",\"Chromatin organization\",\"Organelle biogenesis and maintenance\",\"Disease\",\"Signal Transduction\",\"Cell Cycle\",\"Output\"],\"line\":{\"color\":\"black\",\"width\":0.5},\"pad\":15,\"thickness\":20},\"type\":\"sankey\"}],                        {\"template\":{\"data\":{\"histogram2dcontour\":[{\"type\":\"histogram2dcontour\",\"colorbar\":{\"outlinewidth\":0,\"ticks\":\"\"},\"colorscale\":[[0.0,\"#0d0887\"],[0.1111111111111111,\"#46039f\"],[0.2222222222222222,\"#7201a8\"],[0.3333333333333333,\"#9c179e\"],[0.4444444444444444,\"#bd3786\"],[0.5555555555555556,\"#d8576b\"],[0.6666666666666666,\"#ed7953\"],[0.7777777777777778,\"#fb9f3a\"],[0.8888888888888888,\"#fdca26\"],[1.0,\"#f0f921\"]]}],\"choropleth\":[{\"type\":\"choropleth\",\"colorbar\":{\"outlinewidth\":0,\"ticks\":\"\"}}],\"histogram2d\":[{\"type\":\"histogram2d\",\"colorbar\":{\"outlinewidth\":0,\"ticks\":\"\"},\"colorscale\":[[0.0,\"#0d0887\"],[0.1111111111111111,\"#46039f\"],[0.2222222222222222,\"#7201a8\"],[0.3333333333333333,\"#9c179e\"],[0.4444444444444444,\"#bd3786\"],[0.5555555555555556,\"#d8576b\"],[0.6666666666666666,\"#ed7953\"],[0.7777777777777778,\"#fb9f3a\"],[0.8888888888888888,\"#fdca26\"],[1.0,\"#f0f921\"]]}],\"heatmap\":[{\"type\":\"heatmap\",\"colorbar\":{\"outlinewidth\":0,\"ticks\":\"\"},\"colorscale\":[[0.0,\"#0d0887\"],[0.1111111111111111,\"#46039f\"],[0.2222222222222222,\"#7201a8\"],[0.3333333333333333,\"#9c179e\"],[0.4444444444444444,\"#bd3786\"],[0.5555555555555556,\"#d8576b\"],[0.6666666666666666,\"#ed7953\"],[0.7777777777777778,\"#fb9f3a\"],[0.8888888888888888,\"#fdca26\"],[1.0,\"#f0f921\"]]}],\"heatmapgl\":[{\"type\":\"heatmapgl\",\"colorbar\":{\"outlinewidth\":0,\"ticks\":\"\"},\"colorscale\":[[0.0,\"#0d0887\"],[0.1111111111111111,\"#46039f\"],[0.2222222222222222,\"#7201a8\"],[0.3333333333333333,\"#9c179e\"],[0.4444444444444444,\"#bd3786\"],[0.5555555555555556,\"#d8576b\"],[0.6666666666666666,\"#ed7953\"],[0.7777777777777778,\"#fb9f3a\"],[0.8888888888888888,\"#fdca26\"],[1.0,\"#f0f921\"]]}],\"contourcarpet\":[{\"type\":\"contourcarpet\",\"colorbar\":{\"outlinewidth\":0,\"ticks\":\"\"}}],\"contour\":[{\"type\":\"contour\",\"colorbar\":{\"outlinewidth\":0,\"ticks\":\"\"},\"colorscale\":[[0.0,\"#0d0887\"],[0.1111111111111111,\"#46039f\"],[0.2222222222222222,\"#7201a8\"],[0.3333333333333333,\"#9c179e\"],[0.4444444444444444,\"#bd3786\"],[0.5555555555555556,\"#d8576b\"],[0.6666666666666666,\"#ed7953\"],[0.7777777777777778,\"#fb9f3a\"],[0.8888888888888888,\"#fdca26\"],[1.0,\"#f0f921\"]]}],\"surface\":[{\"type\":\"surface\",\"colorbar\":{\"outlinewidth\":0,\"ticks\":\"\"},\"colorscale\":[[0.0,\"#0d0887\"],[0.1111111111111111,\"#46039f\"],[0.2222222222222222,\"#7201a8\"],[0.3333333333333333,\"#9c179e\"],[0.4444444444444444,\"#bd3786\"],[0.5555555555555556,\"#d8576b\"],[0.6666666666666666,\"#ed7953\"],[0.7777777777777778,\"#fb9f3a\"],[0.8888888888888888,\"#fdca26\"],[1.0,\"#f0f921\"]]}],\"mesh3d\":[{\"type\":\"mesh3d\",\"colorbar\":{\"outlinewidth\":0,\"ticks\":\"\"}}],\"scatter\":[{\"fillpattern\":{\"fillmode\":\"overlay\",\"size\":10,\"solidity\":0.2},\"type\":\"scatter\"}],\"parcoords\":[{\"type\":\"parcoords\",\"line\":{\"colorbar\":{\"outlinewidth\":0,\"ticks\":\"\"}}}],\"scatterpolargl\":[{\"type\":\"scatterpolargl\",\"marker\":{\"colorbar\":{\"outlinewidth\":0,\"ticks\":\"\"}}}],\"bar\":[{\"error_x\":{\"color\":\"#2a3f5f\"},\"error_y\":{\"color\":\"#2a3f5f\"},\"marker\":{\"line\":{\"color\":\"#E5ECF6\",\"width\":0.5},\"pattern\":{\"fillmode\":\"overlay\",\"size\":10,\"solidity\":0.2}},\"type\":\"bar\"}],\"scattergeo\":[{\"type\":\"scattergeo\",\"marker\":{\"colorbar\":{\"outlinewidth\":0,\"ticks\":\"\"}}}],\"scatterpolar\":[{\"type\":\"scatterpolar\",\"marker\":{\"colorbar\":{\"outlinewidth\":0,\"ticks\":\"\"}}}],\"histogram\":[{\"marker\":{\"pattern\":{\"fillmode\":\"overlay\",\"size\":10,\"solidity\":0.2}},\"type\":\"histogram\"}],\"scattergl\":[{\"type\":\"scattergl\",\"marker\":{\"colorbar\":{\"outlinewidth\":0,\"ticks\":\"\"}}}],\"scatter3d\":[{\"type\":\"scatter3d\",\"line\":{\"colorbar\":{\"outlinewidth\":0,\"ticks\":\"\"}},\"marker\":{\"colorbar\":{\"outlinewidth\":0,\"ticks\":\"\"}}}],\"scattermapbox\":[{\"type\":\"scattermapbox\",\"marker\":{\"colorbar\":{\"outlinewidth\":0,\"ticks\":\"\"}}}],\"scatterternary\":[{\"type\":\"scatterternary\",\"marker\":{\"colorbar\":{\"outlinewidth\":0,\"ticks\":\"\"}}}],\"scattercarpet\":[{\"type\":\"scattercarpet\",\"marker\":{\"colorbar\":{\"outlinewidth\":0,\"ticks\":\"\"}}}],\"carpet\":[{\"aaxis\":{\"endlinecolor\":\"#2a3f5f\",\"gridcolor\":\"white\",\"linecolor\":\"white\",\"minorgridcolor\":\"white\",\"startlinecolor\":\"#2a3f5f\"},\"baxis\":{\"endlinecolor\":\"#2a3f5f\",\"gridcolor\":\"white\",\"linecolor\":\"white\",\"minorgridcolor\":\"white\",\"startlinecolor\":\"#2a3f5f\"},\"type\":\"carpet\"}],\"table\":[{\"cells\":{\"fill\":{\"color\":\"#EBF0F8\"},\"line\":{\"color\":\"white\"}},\"header\":{\"fill\":{\"color\":\"#C8D4E3\"},\"line\":{\"color\":\"white\"}},\"type\":\"table\"}],\"barpolar\":[{\"marker\":{\"line\":{\"color\":\"#E5ECF6\",\"width\":0.5},\"pattern\":{\"fillmode\":\"overlay\",\"size\":10,\"solidity\":0.2}},\"type\":\"barpolar\"}],\"pie\":[{\"automargin\":true,\"type\":\"pie\"}]},\"layout\":{\"autotypenumbers\":\"strict\",\"colorway\":[\"#636efa\",\"#EF553B\",\"#00cc96\",\"#ab63fa\",\"#FFA15A\",\"#19d3f3\",\"#FF6692\",\"#B6E880\",\"#FF97FF\",\"#FECB52\"],\"font\":{\"color\":\"#2a3f5f\"},\"hovermode\":\"closest\",\"hoverlabel\":{\"align\":\"left\"},\"paper_bgcolor\":\"white\",\"plot_bgcolor\":\"#E5ECF6\",\"polar\":{\"bgcolor\":\"#E5ECF6\",\"angularaxis\":{\"gridcolor\":\"white\",\"linecolor\":\"white\",\"ticks\":\"\"},\"radialaxis\":{\"gridcolor\":\"white\",\"linecolor\":\"white\",\"ticks\":\"\"}},\"ternary\":{\"bgcolor\":\"#E5ECF6\",\"aaxis\":{\"gridcolor\":\"white\",\"linecolor\":\"white\",\"ticks\":\"\"},\"baxis\":{\"gridcolor\":\"white\",\"linecolor\":\"white\",\"ticks\":\"\"},\"caxis\":{\"gridcolor\":\"white\",\"linecolor\":\"white\",\"ticks\":\"\"}},\"coloraxis\":{\"colorbar\":{\"outlinewidth\":0,\"ticks\":\"\"}},\"colorscale\":{\"sequential\":[[0.0,\"#0d0887\"],[0.1111111111111111,\"#46039f\"],[0.2222222222222222,\"#7201a8\"],[0.3333333333333333,\"#9c179e\"],[0.4444444444444444,\"#bd3786\"],[0.5555555555555556,\"#d8576b\"],[0.6666666666666666,\"#ed7953\"],[0.7777777777777778,\"#fb9f3a\"],[0.8888888888888888,\"#fdca26\"],[1.0,\"#f0f921\"]],\"sequentialminus\":[[0.0,\"#0d0887\"],[0.1111111111111111,\"#46039f\"],[0.2222222222222222,\"#7201a8\"],[0.3333333333333333,\"#9c179e\"],[0.4444444444444444,\"#bd3786\"],[0.5555555555555556,\"#d8576b\"],[0.6666666666666666,\"#ed7953\"],[0.7777777777777778,\"#fb9f3a\"],[0.8888888888888888,\"#fdca26\"],[1.0,\"#f0f921\"]],\"diverging\":[[0,\"#8e0152\"],[0.1,\"#c51b7d\"],[0.2,\"#de77ae\"],[0.3,\"#f1b6da\"],[0.4,\"#fde0ef\"],[0.5,\"#f7f7f7\"],[0.6,\"#e6f5d0\"],[0.7,\"#b8e186\"],[0.8,\"#7fbc41\"],[0.9,\"#4d9221\"],[1,\"#276419\"]]},\"xaxis\":{\"gridcolor\":\"white\",\"linecolor\":\"white\",\"ticks\":\"\",\"title\":{\"standoff\":15},\"zerolinecolor\":\"white\",\"automargin\":true,\"zerolinewidth\":2},\"yaxis\":{\"gridcolor\":\"white\",\"linecolor\":\"white\",\"ticks\":\"\",\"title\":{\"standoff\":15},\"zerolinecolor\":\"white\",\"automargin\":true,\"zerolinewidth\":2},\"scene\":{\"xaxis\":{\"backgroundcolor\":\"#E5ECF6\",\"gridcolor\":\"white\",\"linecolor\":\"white\",\"showbackground\":true,\"ticks\":\"\",\"zerolinecolor\":\"white\",\"gridwidth\":2},\"yaxis\":{\"backgroundcolor\":\"#E5ECF6\",\"gridcolor\":\"white\",\"linecolor\":\"white\",\"showbackground\":true,\"ticks\":\"\",\"zerolinecolor\":\"white\",\"gridwidth\":2},\"zaxis\":{\"backgroundcolor\":\"#E5ECF6\",\"gridcolor\":\"white\",\"linecolor\":\"white\",\"showbackground\":true,\"ticks\":\"\",\"zerolinecolor\":\"white\",\"gridwidth\":2}},\"shapedefaults\":{\"line\":{\"color\":\"#2a3f5f\"}},\"annotationdefaults\":{\"arrowcolor\":\"#2a3f5f\",\"arrowhead\":0,\"arrowwidth\":1},\"geo\":{\"bgcolor\":\"white\",\"landcolor\":\"#E5ECF6\",\"subunitcolor\":\"white\",\"showland\":true,\"showlakes\":true,\"lakecolor\":\"white\"},\"title\":{\"x\":0.05},\"mapbox\":{\"style\":\"light\"}}},\"font\":{\"size\":10}},                        {\"responsive\": true}                    ).then(function(){\n",
       "                            \n",
       "var gd = document.getElementById('c8007230-46d1-44a5-b4c9-aa7bf219fb9e');\n",
       "var x = new MutationObserver(function (mutations, observer) {{\n",
       "        var display = window.getComputedStyle(gd).display;\n",
       "        if (!display || display === 'none') {{\n",
       "            console.log([gd, 'removed!']);\n",
       "            Plotly.purge(gd);\n",
       "            observer.disconnect();\n",
       "        }}\n",
       "}});\n",
       "\n",
       "// Listen for the removal of the full notebook cells\n",
       "var notebookContainer = gd.closest('#notebook-container');\n",
       "if (notebookContainer) {{\n",
       "    x.observe(notebookContainer, {childList: true});\n",
       "}}\n",
       "\n",
       "// Listen for the clearing of the current output cell\n",
       "var outputEl = gd.closest('.output');\n",
       "if (outputEl) {{\n",
       "    x.observe(outputEl, {childList: true});\n",
       "}}\n",
       "\n",
       "                        })                };                });            </script>        </div>"
      ]
     },
     "metadata": {},
     "output_type": "display_data"
    }
   ],
   "source": [
    "imps_dir = '/mnt/disks/pancan/pnet/results/ccle_val_braf_ext/'\n",
    "savepath = '/mnt/disks/pancan/pnet/figures/ccle_braf_ext_sankey_diagram.html'\n",
    "sk = sankey_diag.SankeyDiag(imps_dir, runs=1)\n",
    "fig = sk.get_sankey_diag(savepath)"
   ]
  },
  {
   "cell_type": "code",
   "execution_count": null,
   "id": "292404aa-ac4c-46ce-8695-abff68b5a109",
   "metadata": {},
   "outputs": [],
   "source": []
  },
  {
   "cell_type": "code",
   "execution_count": null,
   "id": "7e4e34de-994c-47f4-9378-09ef0ee4dfc6",
   "metadata": {},
   "outputs": [],
   "source": [
    "class_weights = util.get_class_weights(torch.tensor(v600_target.values).view(-1))\n",
    "for i in range(10):\n",
    "    train_inds = list(pd.read_csv('../data/splits/ccle/train_set_{}.csv'.format(i))['indicies'])\n",
    "    test_inds = list(pd.read_csv('../data/splits/ccle/test_set_{}.csv'.format(i))['indicies'])\n",
    "    model, train_scores, test_scores, train_dataset, test_dataset = Pnet.run_regulatory(genetic_data, v600_target, seed=0, dropout=0.2, input_dropout=0.5, lr=1e-3,\n",
    "                                                                             weight_decay=1e-3, batch_size=64, epochs=400, early_stopping=True, \n",
    "                                                                             loss_weight=class_weights, train_inds=train_inds, test_inds=test_inds,\n",
    "                                                                             save_path='../results/ccle_val_braf_reg/model',\n",
    "                                                                             loss_fn=nn.BCEWithLogitsLoss(reduce=None), gene_set=canc_genes)\n",
    "    plt.clf()\n",
    "    Pnet.evaluate_interpret_save(model, test_dataset, '../results/ccle_val_braf_reg/run{}'.format(i))"
   ]
  },
  {
   "cell_type": "code",
   "execution_count": 15,
   "id": "18bafeee-281e-47d2-8beb-653c3e5e8565",
   "metadata": {},
   "outputs": [],
   "source": [
    "models = ['ccle_val', 'ccle_val_rf', 'ccle_val_kmt2d', 'ccle_val_kmt2d_rf', 'ccle_val_reg', 'ccle_val_kmt2d_reg', 'ccle_val_braf', 'ccle_val_braf_rf', 'ccle_val_braf_reg']\n",
    "listl = []\n",
    "for ds in models:\n",
    "    for i in range(10):\n",
    "        auc = torch.load('../results/{}/run{}/AUC.pt'.format(ds, i))\n",
    "        m = ds.split('_')[-1]\n",
    "        ds_ = ds.split('_')[-2:]\n",
    "        if m == 'rf':\n",
    "            listl.append([auc.item(), ds_[0], 'RF'])\n",
    "        elif m == 'reg':\n",
    "            listl.append([auc.item(), ds_[0], 'P-Net-REG'])\n",
    "        else:\n",
    "            listl.append([auc.item(), ds_[1], 'P-Net'])\n",
    "\n",
    "auc_df = pd.DataFrame(listl, columns=['AUC', 'Mutation', 'Model'])\n",
    "auc_df['Mutation'] = auc_df['Mutation'].apply(lambda x: 'TP53' if x=='val' else x.upper())"
   ]
  },
  {
   "cell_type": "code",
   "execution_count": 16,
   "id": "f3b43985-6da3-4071-a04d-887c7a0248ce",
   "metadata": {},
   "outputs": [
    {
     "data": {
      "text/html": [
       "<div>\n",
       "<style scoped>\n",
       "    .dataframe tbody tr th:only-of-type {\n",
       "        vertical-align: middle;\n",
       "    }\n",
       "\n",
       "    .dataframe tbody tr th {\n",
       "        vertical-align: top;\n",
       "    }\n",
       "\n",
       "    .dataframe thead th {\n",
       "        text-align: right;\n",
       "    }\n",
       "</style>\n",
       "<table border=\"1\" class=\"dataframe\">\n",
       "  <thead>\n",
       "    <tr style=\"text-align: right;\">\n",
       "      <th></th>\n",
       "      <th></th>\n",
       "      <th>AUC</th>\n",
       "    </tr>\n",
       "    <tr>\n",
       "      <th>Mutation</th>\n",
       "      <th>Model</th>\n",
       "      <th></th>\n",
       "    </tr>\n",
       "  </thead>\n",
       "  <tbody>\n",
       "    <tr>\n",
       "      <th rowspan=\"3\" valign=\"top\">BRAF</th>\n",
       "      <th>P-Net</th>\n",
       "      <td>0.948029</td>\n",
       "    </tr>\n",
       "    <tr>\n",
       "      <th>P-Net-REG</th>\n",
       "      <td>0.961008</td>\n",
       "    </tr>\n",
       "    <tr>\n",
       "      <th>RF</th>\n",
       "      <td>0.878906</td>\n",
       "    </tr>\n",
       "    <tr>\n",
       "      <th rowspan=\"3\" valign=\"top\">KMT2D</th>\n",
       "      <th>P-Net</th>\n",
       "      <td>0.767320</td>\n",
       "    </tr>\n",
       "    <tr>\n",
       "      <th>P-Net-REG</th>\n",
       "      <td>0.765073</td>\n",
       "    </tr>\n",
       "    <tr>\n",
       "      <th>RF</th>\n",
       "      <td>0.732441</td>\n",
       "    </tr>\n",
       "    <tr>\n",
       "      <th rowspan=\"3\" valign=\"top\">TP53</th>\n",
       "      <th>P-Net</th>\n",
       "      <td>0.907241</td>\n",
       "    </tr>\n",
       "    <tr>\n",
       "      <th>P-Net-REG</th>\n",
       "      <td>0.910212</td>\n",
       "    </tr>\n",
       "    <tr>\n",
       "      <th>RF</th>\n",
       "      <td>0.882880</td>\n",
       "    </tr>\n",
       "  </tbody>\n",
       "</table>\n",
       "</div>"
      ],
      "text/plain": [
       "                         AUC\n",
       "Mutation Model              \n",
       "BRAF     P-Net      0.948029\n",
       "         P-Net-REG  0.961008\n",
       "         RF         0.878906\n",
       "KMT2D    P-Net      0.767320\n",
       "         P-Net-REG  0.765073\n",
       "         RF         0.732441\n",
       "TP53     P-Net      0.907241\n",
       "         P-Net-REG  0.910212\n",
       "         RF         0.882880"
      ]
     },
     "execution_count": 16,
     "metadata": {},
     "output_type": "execute_result"
    }
   ],
   "source": [
    "auc_df.groupby(['Mutation', 'Model']).mean()"
   ]
  },
  {
   "cell_type": "code",
   "execution_count": 17,
   "id": "b639b55b-2703-425d-b5d3-d282c4ab8ec0",
   "metadata": {},
   "outputs": [
    {
     "data": {
      "image/png": "[encoded data removed]",
      "text/plain": [
       "<Figure size 432x288 with 1 Axes>"
      ]
     },
     "metadata": {
      "needs_background": "light"
     },
     "output_type": "display_data"
    }
   ],
   "source": [
    "custom_colors = {'P-Net': '#41B6E6', 'RF': '#FFA300', 'P-Net-REG': '#00629B'}\n",
    "sns.boxplot(data=auc_df, y='AUC', x='Mutation', hue='Model', showfliers=False, palette=custom_colors, hue_order=['P-Net-REG', 'P-Net', 'RF'], order=['BRAF','TP53','KMT2D'],\n",
    "                      whiskerprops={'color': 'gainsboro'},\n",
    "                      capprops={'color': 'gainsboro'},\n",
    "                        boxprops={'edgecolor': 'none'},\n",
    "                      medianprops={'color': 'dimgrey'})\n",
    "ax = plt.gca()\n",
    "\n",
    "ax.spines[['top', 'right']].set_visible(False)\n",
    "ax.set_ylabel('AUC-ROC', size=14)\n",
    "ax.set_xlabel('Mutation', size=14)\n",
    "ax.set_ylim((0.5,1))\n",
    "plt.savefig('../figures/CCLE_mut_prediction_auc.pdf')\n",
    "plt.show()"
   ]
  },
  {
   "cell_type": "code",
   "execution_count": null,
   "id": "a28f4557-f062-472a-b949-987c34b92f14",
   "metadata": {},
   "outputs": [],
   "source": [
    "pd.read_csv('/mnt/disks/CCLE')"
   ]
  },
  {
   "cell_type": "code",
   "execution_count": null,
   "id": "6ab64ab2-7962-4d08-91d6-f12f585117fd",
   "metadata": {},
   "outputs": [],
   "source": [
    "imps_dir = '/mnt/disks/pancan/pnet/results/ccle_val_braf/'\n",
    "savepath = '/mnt/disks/pancan/pnet/figures/ccle_braf_sankey_diagram.html'\n",
    "sk = sankey_diag.SankeyDiag(imps_dir, runs=10)\n",
    "fig = sk.get_sankey_diag(savepath)"
   ]
  },
  {
   "cell_type": "code",
   "execution_count": null,
   "id": "65b71d86-b050-4e02-bf00-e276f1d0551a",
   "metadata": {},
   "outputs": [],
   "source": [
    "imps_dir = '/mnt/disks/pancan/pnet/results/ccle_val_braf/run4/'\n",
    "savepath = '/mnt/disks/pancan/pnet/figures/ccle_braf_sankey_diagram.html'\n",
    "sk = sankey_diag.SankeyDiag(imps_dir)\n",
    "fig = sk.get_sankey_diag(savepath)"
   ]
  },
  {
   "cell_type": "code",
   "execution_count": null,
   "id": "31f0a146-51df-4827-a790-b5ebd9c45fc8",
   "metadata": {},
   "outputs": [],
   "source": [
    "i=9\n",
    "class_weights = util.get_class_weights(torch.tensor(downsampled_target.values).view(-1))\n",
    "train_inds = list(pd.read_csv('../data/splits/ccle/train_set_{}.csv'.format(i))['indicies'])\n",
    "test_inds = list(pd.read_csv('../data/splits/ccle/test_set_{}.csv'.format(i))['indicies'])\n",
    "model, train_scores, test_scores, train_dataset, test_dataset = Pnet.run(genetic_data, downsampled_target, seed=0, dropout=0.2, input_dropout=0.5, lr=1e-3,\n",
    "                                                                         weight_decay=1e-3, batch_size=100, epochs=400, early_stopping=True, \n",
    "                                                                         loss_weight=class_weights, train_inds=train_inds, test_inds=test_inds,\n",
    "                                                                         save_path='../results/ccle_val_braf/model',\n",
    "                                                                         loss_fn=nn.BCEWithLogitsLoss(reduce=None), gene_set=canc_genes)"
   ]
  },
  {
   "cell_type": "code",
   "execution_count": null,
   "id": "148d0b92-dea8-4570-b8c7-00fb54e35364",
   "metadata": {},
   "outputs": [],
   "source": [
    "train_dataset, test_dataset = pnet_loader.generate_train_test(genetic_data, v600_target, canc_genes, test_split=1)"
   ]
  },
  {
   "cell_type": "code",
   "execution_count": null,
   "id": "163be0d7-7780-4c37-921b-2f39a604144b",
   "metadata": {},
   "outputs": [],
   "source": [
    "preds = model.predict(test_dataset.x, additional_data=test_dataset.additional)\n",
    "preds = pd.DataFrame(preds, index=test_dataset.target.index, columns=['pred']).astype(int)\n",
    "preds = preds.join(test_dataset.target)\n",
    "preds['misclass'] = preds['pred']-preds['v600_mut']"
   ]
  },
  {
   "cell_type": "code",
   "execution_count": null,
   "id": "9bb09cbb-d0d7-4836-a9f5-08c5c4b3f93f",
   "metadata": {},
   "outputs": [],
   "source": [
    "preds[preds['misclass'] != 0]"
   ]
  },
  {
   "cell_type": "code",
   "execution_count": null,
   "id": "62d27a30-27b1-42a7-bb6c-d7a8c97a163f",
   "metadata": {},
   "outputs": [],
   "source": []
  }
 ],
 "metadata": {
  "environment": {
   "kernel": "conda-root-py",
   "name": "pytorch-gpu.1-10.m90",
   "type": "gcloud",
   "uri": "gcr.io/deeplearning-platform-release/pytorch-gpu.1-10:m90"
  },
  "kernelspec": {
   "display_name": "Python [conda env:root] *",
   "language": "python",
   "name": "conda-root-py"
  },
  "language_info": {
   "codemirror_mode": {
    "name": "ipython",
    "version": 3
   },
   "file_extension": ".py",
   "mimetype": "text/x-python",
   "name": "python",
   "nbconvert_exporter": "python",
   "pygments_lexer": "ipython3",
   "version": "3.7.12"
  }
 },
 "nbformat": 4,
 "nbformat_minor": 5
}
