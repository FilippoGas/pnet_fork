{
 "cells": [
  {
   "cell_type": "code",
   "execution_count": 4,
   "id": "d020b2e4-9b73-4505-ab9c-1bfbf877a664",
   "metadata": {},
   "outputs": [
    {
     "name": "stdout",
     "output_type": "stream",
     "text": [
      "The autoreload extension is already loaded. To reload it, use:\n",
      "  %reload_ext autoreload\n"
     ]
    }
   ],
   "source": [
    "from pnet import pnet_loader, Pnet\n",
    "from util import util, sankey_diag\n",
    "\n",
    "import torch\n",
    "import seaborn as sns\n",
    "import pandas as pd\n",
    "import numpy as np\n",
    "import random\n",
    "from sklearn import metrics\n",
    "import matplotlib.pyplot as plt\n",
    "from sklearn.metrics import roc_auc_score\n",
    "from sklearn.ensemble import RandomForestClassifier\n",
    "from sklearn.mixture import GaussianMixture\n",
    "from sklearn.decomposition import PCA\n",
    "import torch.nn.functional as F\n",
    "import torch.nn as nn\n",
    "import os\n",
    "\n",
    "%load_ext autoreload\n",
    "%autoreload 2"
   ]
  },
  {
   "cell_type": "markdown",
   "id": "b3e87985-d7b1-4565-a950-e120aa580760",
   "metadata": {},
   "source": [
    "## Load CCLE"
   ]
  },
  {
   "cell_type": "code",
   "execution_count": 5,
   "id": "0324683b-5cc9-4f67-a521-4abca383c01b",
   "metadata": {},
   "outputs": [
    {
     "name": "stderr",
     "output_type": "stream",
     "text": [
      "/opt/conda/lib/python3.7/site-packages/IPython/core/interactiveshell.py:3524: DtypeWarning: Columns (5,21,27,28,29,30,31,32,33) have mixed types.Specify dtype option on import or set low_memory=False.\n",
      "  exec(code_obj, self.user_global_ns, self.user_ns)\n"
     ]
    }
   ],
   "source": [
    "gene_cn = pd.read_csv('/mnt/disks/pancan/CCLE/CCLE_gene_cn.csv').set_index('Unnamed: 0')\n",
    "gene_cn.rename(columns=dict(zip(gene_cn.columns, [x.split(' ')[0] for x in gene_cn.columns])), inplace=True)\n",
    "\n",
    "muts = pd.read_csv('/mnt/disks/pancan/CCLE/CCLE_mutations.csv')\n",
    "muts.dropna(subset=['Variant_Classification'], inplace=True)\n",
    "\n",
    "MUTATIONS_DICT = util.MUTATIONS_DICT\n",
    "\n",
    "grouped_muts = muts[muts['Variant_Classification'].apply(lambda x: MUTATIONS_DICT[x]) != 'Silent'][['Hugo_Symbol',\n",
    "                                                                                                    'Variant_Classification',\n",
    "                                                                                                    'Tumor_Sample_Barcode']].groupby(['Tumor_Sample_Barcode',\n",
    "                                                                                                                                          'Hugo_Symbol']).count()\n",
    "mut = grouped_muts.unstack(level=-1).fillna(0).droplevel(0, axis=1)\n",
    "\n",
    "v600e_mut_samples_ccle = muts[muts['Protein_Change']=='p.V600E']['Tumor_Sample_Barcode'].values\n",
    "\n",
    "v600_target_ccle = pd.DataFrame(index=mut.index)\n",
    "v600_target_ccle['v600_mut'] = [int(x in v600e_mut_samples_ccle) for x in mut.index]\n",
    "\n",
    "# braf_target = pd.DataFrame(mut['BRAF'] > 0).astype(int)\n",
    "# braf_target.rename(columns=dict.fromkeys(['BRAF'],'BRAF_mut'), inplace=True)\n",
    "\n",
    "# kmt2d_target = pd.DataFrame(mut['KMT2D'] > 0).astype(int)\n",
    "# kmt2d_target.rename(columns=dict.fromkeys(['KMT2D'],'KMT2D_mut'), inplace=True)\n",
    "\n",
    "# p53_target = pd.DataFrame(mut['TP53'] > 0).astype(int)\n",
    "# p53_target.rename(columns=dict.fromkeys(['TP53'],'TP53_mut'), inplace=True)\n",
    "\n",
    "rna = pd.read_csv('/mnt/disks/pancan/CCLE/CCLE_expression_full.csv').set_index('Unnamed: 0')\n",
    "rna.rename(columns=dict(zip(rna.columns, [x.split(' ')[0] for x in rna.columns])), inplace=True)\n",
    "\n",
    "genetic_data_ccle = {'rna': rna, 'mut': mut}"
   ]
  },
  {
   "cell_type": "markdown",
   "id": "9a338db5-8e01-4cdc-b073-e77719af67ba",
   "metadata": {},
   "source": [
    "## Load TCGA"
   ]
  },
  {
   "cell_type": "code",
   "execution_count": 6,
   "id": "4bb0d1ca-c7cf-4577-bd91-9b8f090c8087",
   "metadata": {},
   "outputs": [
    {
     "name": "stderr",
     "output_type": "stream",
     "text": [
      "/opt/conda/lib/python3.7/site-packages/ipykernel_launcher.py:2: DtypeWarning: Columns (4,38,39,43,84) have mixed types.Specify dtype option on import or set low_memory=False.\n",
      "  \n",
      "/opt/conda/lib/python3.7/site-packages/IPython/core/interactiveshell.py:3524: DtypeWarning: Columns (4,38,39,43,84) have mixed types.Specify dtype option on import or set low_memory=False.\n",
      "  exec(code_obj, self.user_global_ns, self.user_ns)\n"
     ]
    }
   ],
   "source": [
    "datapath='/mnt/disks/pancan/data/'\n",
    "rna, cna, tumor_type, mut = util.load_tcga_dataset(datapath+'skcm_tcga_pan_can_atlas_2018', load_mut=True)\n",
    "\n",
    "muts = pd.read_csv('/mnt/disks/pancan/data/skcm_tcga_pan_can_atlas_2018/data_mutations.txt', delimiter='\\t')\n",
    "muts.dropna(subset=['Variant_Classification'], inplace=True)\n",
    "\n",
    "MUTATIONS_DICT = util.MUTATIONS_DICT\n",
    "\n",
    "grouped_muts = muts[muts['Variant_Classification'].apply(lambda x: MUTATIONS_DICT[x]) != 'Silent'][['Hugo_Symbol',\n",
    "                                                                                                    'Variant_Classification',\n",
    "                                                                                                    'Tumor_Sample_Barcode']].groupby(['Tumor_Sample_Barcode',\n",
    "                                                                                                                                          'Hugo_Symbol']).count()\n",
    "mut = grouped_muts.unstack(level=-1).fillna(0).droplevel(0, axis=1)\n",
    "\n",
    "v600e_mut_samples_tcga = muts[muts['HGVSp_Short']=='p.V600E']['Tumor_Sample_Barcode'].values\n",
    "\n",
    "v600_target_tcga = pd.DataFrame(index=mut.index)\n",
    "v600_target_tcga['v600_mut'] = [int(x in v600e_mut_samples_tcga) for x in mut.index]\n",
    "\n",
    "genetic_data_tcga = {'rna': rna, 'mut': mut}"
   ]
  },
  {
   "cell_type": "code",
   "execution_count": 7,
   "id": "1c7b8ae6-c0ec-4949-ad74-73a5e2ae519e",
   "metadata": {},
   "outputs": [],
   "source": [
    "canc_genes = list(pd.read_csv('../../pnet_database/genes/cancer_genes.txt').values.reshape(-1))\n",
    "canc_genes.remove('TP53')\n",
    "canc_genes.remove('KMT2D')\n",
    "canc_genes.remove('BRAF')\n",
    "gene_overlap = set.intersection(set(genetic_data_ccle['rna'].columns), set(genetic_data_ccle['mut'].columns),\n",
    "                                set(genetic_data_tcga['rna'].columns), set(genetic_data_tcga['mut'].columns),\n",
    "                                canc_genes)"
   ]
  },
  {
   "cell_type": "code",
   "execution_count": 8,
   "id": "98130d79-05f1-4964-ba41-4483a847bb62",
   "metadata": {},
   "outputs": [
    {
     "name": "stdout",
     "output_type": "stream",
     "text": [
      "Found 439 overlapping indicies\n",
      "Found 673 overlapping genes\n",
      "generated input DataFrame of size (439, 1346)\n"
     ]
    }
   ],
   "source": [
    "inds = pnet_loader.get_indicies(genetic_data = genetic_data_tcga,\n",
    "                                target=v600_target_tcga)\n",
    "ext_val_dataset = pnet_loader.PnetDataset(genetic_data = genetic_data_tcga,\n",
    "                                          target=v600_target_tcga, indicies=inds, gene_set=gene_overlap)"
   ]
  },
  {
   "cell_type": "code",
   "execution_count": 9,
   "id": "ae208989-0198-48c2-81ee-dbebf5e87b92",
   "metadata": {},
   "outputs": [
    {
     "name": "stdout",
     "output_type": "stream",
     "text": [
      "Task defined: BC \n",
      " if this is not the intended task please specify task\n",
      "Given 2 Input modalities\n",
      "Found 1183 overlapping indicies\n",
      "Initializing Train Dataset\n",
      "Found 673 overlapping genes\n",
      "generated input DataFrame of size (947, 1346)\n",
      "Initializing Test Dataset\n",
      "Found 673 overlapping genes\n",
      "generated input DataFrame of size (236, 1346)\n",
      "Found 673 overlapping genes\n",
      "/mnt/disks/pancan/pnet/notebooks\n",
      "We are sending to cuda\n",
      "Hit early stopping criteria\n",
      "Task defined: BC \n",
      " if this is not the intended task please specify task\n",
      "Given 2 Input modalities\n",
      "Found 1183 overlapping indicies\n",
      "Initializing Train Dataset\n",
      "Found 673 overlapping genes\n",
      "generated input DataFrame of size (947, 1346)\n",
      "Initializing Test Dataset\n",
      "Found 673 overlapping genes\n",
      "generated input DataFrame of size (236, 1346)\n",
      "Found 673 overlapping genes\n",
      "/mnt/disks/pancan/pnet/notebooks\n",
      "We are sending to cuda\n",
      "Hit early stopping criteria\n",
      "Task defined: BC \n",
      " if this is not the intended task please specify task\n",
      "Given 2 Input modalities\n",
      "Found 1183 overlapping indicies\n",
      "Initializing Train Dataset\n",
      "Found 673 overlapping genes\n",
      "generated input DataFrame of size (947, 1346)\n",
      "Initializing Test Dataset\n",
      "Found 673 overlapping genes\n",
      "generated input DataFrame of size (236, 1346)\n",
      "Found 673 overlapping genes\n",
      "/mnt/disks/pancan/pnet/notebooks\n",
      "We are sending to cuda\n",
      "Hit early stopping criteria\n",
      "Task defined: BC \n",
      " if this is not the intended task please specify task\n",
      "Given 2 Input modalities\n",
      "Found 1183 overlapping indicies\n",
      "Initializing Train Dataset\n",
      "Found 673 overlapping genes\n",
      "generated input DataFrame of size (947, 1346)\n",
      "Initializing Test Dataset\n",
      "Found 673 overlapping genes\n",
      "generated input DataFrame of size (236, 1346)\n",
      "Found 673 overlapping genes\n",
      "/mnt/disks/pancan/pnet/notebooks\n",
      "We are sending to cuda\n",
      "Hit early stopping criteria\n",
      "Task defined: BC \n",
      " if this is not the intended task please specify task\n",
      "Given 2 Input modalities\n",
      "Found 1183 overlapping indicies\n",
      "Initializing Train Dataset\n",
      "Found 673 overlapping genes\n",
      "generated input DataFrame of size (947, 1346)\n",
      "Initializing Test Dataset\n",
      "Found 673 overlapping genes\n",
      "generated input DataFrame of size (236, 1346)\n",
      "Found 673 overlapping genes\n",
      "/mnt/disks/pancan/pnet/notebooks\n",
      "We are sending to cuda\n",
      "Hit early stopping criteria\n",
      "Task defined: BC \n",
      " if this is not the intended task please specify task\n",
      "Given 2 Input modalities\n",
      "Found 1183 overlapping indicies\n",
      "Initializing Train Dataset\n",
      "Found 673 overlapping genes\n",
      "generated input DataFrame of size (947, 1346)\n",
      "Initializing Test Dataset\n",
      "Found 673 overlapping genes\n",
      "generated input DataFrame of size (236, 1346)\n",
      "Found 673 overlapping genes\n",
      "/mnt/disks/pancan/pnet/notebooks\n",
      "We are sending to cuda\n",
      "Hit early stopping criteria\n",
      "Task defined: BC \n",
      " if this is not the intended task please specify task\n",
      "Given 2 Input modalities\n",
      "Found 1183 overlapping indicies\n",
      "Initializing Train Dataset\n",
      "Found 673 overlapping genes\n",
      "generated input DataFrame of size (947, 1346)\n",
      "Initializing Test Dataset\n",
      "Found 673 overlapping genes\n",
      "generated input DataFrame of size (236, 1346)\n",
      "Found 673 overlapping genes\n",
      "/mnt/disks/pancan/pnet/notebooks\n",
      "We are sending to cuda\n",
      "Hit early stopping criteria\n",
      "Task defined: BC \n",
      " if this is not the intended task please specify task\n",
      "Given 2 Input modalities\n",
      "Found 1183 overlapping indicies\n",
      "Initializing Train Dataset\n",
      "Found 673 overlapping genes\n",
      "generated input DataFrame of size (947, 1346)\n",
      "Initializing Test Dataset\n",
      "Found 673 overlapping genes\n",
      "generated input DataFrame of size (236, 1346)\n",
      "Found 673 overlapping genes\n",
      "/mnt/disks/pancan/pnet/notebooks\n",
      "We are sending to cuda\n",
      "Hit early stopping criteria\n",
      "Task defined: BC \n",
      " if this is not the intended task please specify task\n",
      "Given 2 Input modalities\n",
      "Found 1183 overlapping indicies\n",
      "Initializing Train Dataset\n",
      "Found 673 overlapping genes\n",
      "generated input DataFrame of size (947, 1346)\n",
      "Initializing Test Dataset\n",
      "Found 673 overlapping genes\n",
      "generated input DataFrame of size (236, 1346)\n",
      "Found 673 overlapping genes\n",
      "/mnt/disks/pancan/pnet/notebooks\n",
      "We are sending to cuda\n",
      "Hit early stopping criteria\n",
      "Task defined: BC \n",
      " if this is not the intended task please specify task\n",
      "Given 2 Input modalities\n",
      "Found 1183 overlapping indicies\n",
      "Initializing Train Dataset\n",
      "Found 673 overlapping genes\n",
      "generated input DataFrame of size (947, 1346)\n",
      "Initializing Test Dataset\n",
      "Found 673 overlapping genes\n",
      "generated input DataFrame of size (236, 1346)\n",
      "Found 673 overlapping genes\n",
      "/mnt/disks/pancan/pnet/notebooks\n",
      "We are sending to cuda\n",
      "Hit early stopping criteria\n"
     ]
    },
    {
     "data": {
      "image/png": "[encoded data removed]",
      "text/plain": [
       "<Figure size 432x288 with 1 Axes>"
      ]
     },
     "metadata": {
      "needs_background": "light"
     },
     "output_type": "display_data"
    }
   ],
   "source": [
    "class_weights = util.get_class_weights(torch.tensor(v600_target_ccle.values).view(-1))\n",
    "for i in range(10):\n",
    "    model, train_scores, test_scores, train_dataset, test_dataset = Pnet.run(genetic_data_ccle, v600_target_ccle, seed=0,\n",
    "                                                                                         dropout=0.2, input_dropout=0.5, lr=1e-3,\n",
    "                                                                             weight_decay=1e-3, batch_size=64, epochs=400, early_stopping=True, \n",
    "                                                                             loss_weight=class_weights,\n",
    "                                                                             save_path='../results/ccle_braf/model',\n",
    "                                                                             loss_fn=nn.BCEWithLogitsLoss(reduce=None), gene_set=gene_overlap)\n",
    "    plt.clf()\n",
    "    Pnet.evaluate_interpret_save(model, test_dataset, '../results/ccle_braf/run{}'.format(i))\n",
    "    Pnet.evaluate_interpret_save(model, ext_val_dataset, '../results/tcga_braf/run{}'.format(i))"
   ]
  },
  {
   "cell_type": "code",
   "execution_count": 10,
   "id": "fb33ee2f-d84e-4d77-b3d4-80d7b2212091",
   "metadata": {},
   "outputs": [],
   "source": [
    "ccle_ann = pd.read_csv('/mnt/disks/pancan/CCLE/Cell_lines_annotations_20181226.txt', delimiter='\\t')"
   ]
  },
  {
   "cell_type": "code",
   "execution_count": 11,
   "id": "8a835e05-0869-4c60-bfc4-4b067ad94677",
   "metadata": {},
   "outputs": [],
   "source": [
    "annot_target = ccle_ann.join(v600_target_ccle, on='depMapID')"
   ]
  },
  {
   "cell_type": "code",
   "execution_count": 12,
   "id": "569cd02c-ddcc-46a4-8cc7-b102ca5300ab",
   "metadata": {},
   "outputs": [
    {
     "data": {
      "image/png": "[encoded data removed]",
      "text/plain": [
       "<Figure size 576x432 with 1 Axes>"
      ]
     },
     "metadata": {
      "needs_background": "light"
     },
     "output_type": "display_data"
    }
   ],
   "source": [
    "value_counts = annot_target[annot_target['v600_mut'] == 1]['type_refined'].value_counts().reset_index()\n",
    "value_counts.columns = ['Category', 'Count']\n",
    "pivot_df = value_counts.pivot(index=None, columns='Category', values='Count').fillna(0)\n",
    "\n",
    "# Create stacked bar plot\n",
    "pivot_df.plot(kind='bar', stacked=True, figsize=(8, 6))\n",
    "\n",
    "# Add labels and title\n",
    "plt.xlabel('Index')\n",
    "plt.ylabel('Count')\n",
    "plt.title('Stacked Bar Plot of Value Counts')\n",
    "\n",
    "# Show plot\n",
    "plt.legend(title='Category')\n",
    "plt.show()"
   ]
  },
  {
   "cell_type": "code",
   "execution_count": 57,
   "id": "e2319efd-2101-43d5-bfed-bb950a9e29f6",
   "metadata": {},
   "outputs": [
    {
     "data": {
      "text/plain": [
       "1.0    946\n",
       "0.0    471\n",
       "Name: TP53_mut, dtype: int64"
      ]
     },
     "execution_count": 57,
     "metadata": {},
     "output_type": "execute_result"
    }
   ],
   "source": [
    "ccle_ann.join(p53_target, on='depMapID')['TP53_mut'].value_counts()"
   ]
  },
  {
   "cell_type": "code",
   "execution_count": 38,
   "id": "412f2d99-070a-4ab7-a596-862f8015fe7d",
   "metadata": {},
   "outputs": [
    {
     "data": {
      "text/plain": [
       "primary             722\n",
       "metastasis          296\n",
       "benign_neoplasia      1\n",
       "normal                1\n",
       "Name: Pathology, dtype: int64"
      ]
     },
     "execution_count": 38,
     "metadata": {},
     "output_type": "execute_result"
    }
   ],
   "source": [
    "ccle_ann['Pathology'].value_counts()"
   ]
  },
  {
   "cell_type": "code",
   "execution_count": 63,
   "id": "9c20ceb9-cfe9-4473-b23c-c89dfd522426",
   "metadata": {},
   "outputs": [
    {
     "data": {
      "text/plain": [
       "v600_mut    108\n",
       "dtype: int64"
      ]
     },
     "execution_count": 63,
     "metadata": {},
     "output_type": "execute_result"
    }
   ],
   "source": [
    "v600_target_ccle.sum()"
   ]
  },
  {
   "cell_type": "code",
   "execution_count": 70,
   "id": "c0981966-360b-479b-992d-87b6e4139dce",
   "metadata": {},
   "outputs": [],
   "source": [
    "data_sets = ['tcga_braf', 'ccle_braf']\n",
    "listl = []\n",
    "for ds in data_sets:\n",
    "    for i in range(10):\n",
    "        auc = torch.load('../results/{}/run{}/AUC.pt'.format(ds, i))\n",
    "        rf = ds.split('_')[-1]\n",
    "        ds_ = ds.split('_')[0]\n",
    "        if rf == 'rf':\n",
    "            listl.append([auc.item(), ds_, 'RF'])\n",
    "        else:\n",
    "            listl.append([auc.item(), ds_, 'P-Net'])\n",
    "\n",
    "auc_df = pd.DataFrame(listl, columns=['AUC', 'Data Set', 'Model'])\n",
    "auc_df['Data Set'] = auc_df['Data Set'].apply(lambda x: x.upper() if x=='tcga' else x.upper())"
   ]
  },
  {
   "cell_type": "code",
   "execution_count": 75,
   "id": "e0cb98aa-a0c2-48c0-abb3-52815328e719",
   "metadata": {},
   "outputs": [
    {
     "data": {
      "image/png": "[encoded data removed]",
      "text/plain": [
       "<Figure size 432x288 with 1 Axes>"
      ]
     },
     "metadata": {
      "needs_background": "light"
     },
     "output_type": "display_data"
    }
   ],
   "source": [
    "median_values = auc_df.groupby('Data Set')['AUC'].median().sort_values(ascending=False)\n",
    "median_order = median_values.index.tolist()\n",
    "\n",
    "custom_colors = {'P-Net': '#41B6E6', 'RF': '#FFA300'}\n",
    "sns.boxplot(data=auc_df, y='AUC', x='Data Set', hue='Model', showfliers=False, palette=custom_colors,\n",
    "                      whiskerprops={'color': 'gainsboro'},\n",
    "                      capprops={'color': 'gainsboro'},\n",
    "                        boxprops={'edgecolor': 'none'},\n",
    "                      medianprops={'color': 'dimgrey'},\n",
    "           order = median_order)\n",
    "ax = plt.gca()\n",
    "\n",
    "ax.spines[['top', 'right']].set_visible(False)\n",
    "ax.set_ylabel('AUC-ROC', size=14)\n",
    "ax.set_xlabel('Data Set', size=14)\n",
    "ax.set_ylim((0.5,1))\n",
    "plt.savefig('../figures/SKCM_BRAF_CCLE_vs_TCGA.pdf')\n",
    "plt.show()"
   ]
  },
  {
   "cell_type": "code",
   "execution_count": null,
   "id": "46c73a83-a4ce-45e9-8b7a-9593a5a38f57",
   "metadata": {},
   "outputs": [],
   "source": []
  }
 ],
 "metadata": {
  "environment": {
   "kernel": "python3",
   "name": "pytorch-gpu.1-10.m90",
   "type": "gcloud",
   "uri": "gcr.io/deeplearning-platform-release/pytorch-gpu.1-10:m90"
  },
  "kernelspec": {
   "display_name": "Python 3",
   "language": "python",
   "name": "python3"
  },
  "language_info": {
   "codemirror_mode": {
    "name": "ipython",
    "version": 3
   },
   "file_extension": ".py",
   "mimetype": "text/x-python",
   "name": "python",
   "nbconvert_exporter": "python",
   "pygments_lexer": "ipython3",
   "version": "3.7.12"
  }
 },
 "nbformat": 4,
 "nbformat_minor": 5
}
