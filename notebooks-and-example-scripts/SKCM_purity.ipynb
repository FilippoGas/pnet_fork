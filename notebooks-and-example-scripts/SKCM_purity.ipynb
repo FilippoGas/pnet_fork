{
 "cells": [
  {
   "cell_type": "markdown",
   "id": "b6e2f0a8-6b0f-4017-ab72-dd95b3132f5a",
   "metadata": {},
   "source": [
    "# P-Net Example Notebook: SKCM tumor purity prediction"
   ]
  },
  {
   "cell_type": "markdown",
   "id": "728e026b-5fe2-455d-a67c-750260360c26",
   "metadata": {},
   "source": [
    "Imports:"
   ]
  },
  {
   "cell_type": "code",
   "execution_count": null,
   "id": "7556505a",
   "metadata": {
    "tags": []
   },
   "outputs": [],
   "source": [
    "# Add pnet and util to path otherwise they can't be seen\n",
    "import sys\n",
    "sys.path.append(\"/home/filippo.gastaldello/code/pnet_fork/src/\")\n",
    "\n",
    "from pnet import pnet_loader, Pnet\n",
    "from util import util, sankey_diag\n",
    "\n",
    "import torch\n",
    "import seaborn as sns\n",
    "import pandas as pd\n",
    "import numpy as np\n",
    "import random\n",
    "from sklearn import metrics\n",
    "import matplotlib.pyplot as plt\n",
    "from sklearn.metrics import roc_auc_score\n",
    "import os\n",
    "import warnings\n",
    "warnings.filterwarnings('ignore')\n",
    "\n",
    "pd.set_option('display.max_columns', None)\n",
    "\n",
    "%load_ext autoreload\n",
    "%autoreload 2"
   ]
  },
  {
   "cell_type": "markdown",
   "id": "97701739-fa4b-4155-b1f5-57d96280f8bb",
   "metadata": {},
   "source": [
    "### Load Input"
   ]
  },
  {
   "cell_type": "markdown",
   "id": "a4e57a3c-80a3-412a-adf9-1a70955cd9fa",
   "metadata": {},
   "source": [
    "The input in this case is a count matrix from rna expression and copy number amplifications on a gene level of the SKCM dataset from TCGA. We use a custom function for some formatting, but pandas would work fine too. \n",
    "\n",
    "The data is then put into a dictionary shape required for pnet, this is especially useful when using multiple data modalities. "
   ]
  },
  {
   "cell_type": "code",
   "execution_count": null,
   "id": "f50d9af5-b861-48ad-87f3-3460ec8ddf97",
   "metadata": {},
   "outputs": [],
   "source": [
    "datapath='/mnt/disks/pancan/data/'\n",
    "rna, cna, tumor_type = util.load_tcga_dataset(datapath+'skcm_tcga_pan_can_atlas_2018')\n",
    "genetic_data = {'rna': rna, 'cna': cna}                         # Bring input into dictionary shape"
   ]
  },
  {
   "cell_type": "markdown",
   "id": "1684f112-3648-44a7-ad34-366340bef6a8",
   "metadata": {
    "tags": []
   },
   "source": [
    "### Load Target"
   ]
  },
  {
   "cell_type": "markdown",
   "id": "c97e7f5f-557e-4b41-85d8-a775bf0987b3",
   "metadata": {},
   "source": [
    "In this example notebook we use tumor purity as a target, which serves as a good example for a regression task with gene level data. We use the tumor purity called by  Taylor et al. 2018, available here https://gdc.cancer.gov/about-data/publications/pancanatlas"
   ]
  },
  {
   "cell_type": "code",
   "execution_count": null,
   "id": "9dbfc79f-cfd5-4970-950d-792b4482764b",
   "metadata": {},
   "outputs": [],
   "source": [
    "purity_TCGA = pd.read_csv(datapath+'TCGA_mastercalls.abs_tables_JSedit.fixed.txt', delimiter='\\t').set_index('array')\n",
    "purity = pd.DataFrame(purity_TCGA.join(rna, how='inner')['purity'])"
   ]
  },
  {
   "cell_type": "markdown",
   "id": "89d0a3d3-4578-48ed-b9ba-00dcfac7d6fb",
   "metadata": {},
   "source": [
    "We have the tumor purity as a continuous number in [0,1] and can use this for a regression task"
   ]
  },
  {
   "cell_type": "code",
   "execution_count": null,
   "id": "32bfe4f7-8e3c-40b1-8736-ac1ba84b450d",
   "metadata": {},
   "outputs": [],
   "source": [
    "purity.head()"
   ]
  },
  {
   "cell_type": "markdown",
   "id": "93155c79",
   "metadata": {},
   "source": []
  },
  {
   "cell_type": "markdown",
   "id": "3ca670b3",
   "metadata": {},
   "source": [
    "## Run pnet"
   ]
  },
  {
   "cell_type": "markdown",
   "id": "a64bf7ae-aeea-47ff-8d86-c7481ead1aac",
   "metadata": {},
   "source": [
    "We limit the number of genes used for prediction to some subset of informative cancer genes"
   ]
  },
  {
   "cell_type": "code",
   "execution_count": null,
   "id": "ce70a3fe-fdc9-41a1-ac42-9edf084e7fb2",
   "metadata": {},
   "outputs": [],
   "source": [
    "canc_genes = list(pd.read_csv('../../pnet_database/genes/cancer_genes_demo.txt'))\n",
    "canc_genes[:5]"
   ]
  },
  {
   "cell_type": "markdown",
   "id": "85545813-2fd7-4117-bf38-668f96789a01",
   "metadata": {},
   "source": [
    "The Pnet model can then be trained by simply calling Pnet.run() with the input dictionairy and the target dataframe. Additionally, here we use the cancer gene list. Many more options are available to specific training."
   ]
  },
  {
   "cell_type": "code",
   "execution_count": null,
   "id": "ac97485e",
   "metadata": {},
   "outputs": [],
   "source": [
    "model, train_scores, test_scores, train_dataset, test_dataset = Pnet.run(genetic_data,\n",
    "                                                                         purity,\n",
    "                                                                         gene_set=canc_genes)"
   ]
  },
  {
   "cell_type": "markdown",
   "id": "ec8552e3-0a62-4b1b-9505-3295718ff5a7",
   "metadata": {},
   "source": [
    "The Pnet model automatically generates a train and test dataset from the input. Here we can use these for illustration of the results on the test dataset:"
   ]
  },
  {
   "cell_type": "code",
   "execution_count": null,
   "id": "1f500058",
   "metadata": {},
   "outputs": [],
   "source": [
    "x_train = train_dataset.x\n",
    "additional_train = train_dataset.additional\n",
    "y_train = train_dataset.y\n",
    "x_test = test_dataset.x\n",
    "additional_test = test_dataset.additional\n",
    "y_test = test_dataset.y"
   ]
  },
  {
   "cell_type": "code",
   "execution_count": null,
   "id": "edb73f26",
   "metadata": {},
   "outputs": [],
   "source": [
    "model.to('cpu')\n",
    "\n",
    "y_pred = model.predict(test_dataset.x, test_dataset.additional).detach()\n",
    "\n",
    "df = pd.DataFrame(index=test_dataset.input_df.index)\n",
    "df['y_test'] = test_dataset.y\n",
    "df['y_pred'] = y_pred\n",
    "\n",
    "sns.regplot(data=df, x='y_test', y='y_pred', color='#41B6E6')\n",
    "correlation_coefficient = round(df['y_test'].corr(df['y_pred']), 2)\n",
    "plt.text(0.95, 0.05, f'Correlation: {correlation_coefficient}', ha='right', va='center', transform=plt.gca().transAxes)\n",
    "plt.plot(y_test, y_test, color='#FFA300', linestyle='--', label='Diagonal Line')\n",
    "sns.despine()\n",
    "plt.show()"
   ]
  },
  {
   "cell_type": "markdown",
   "id": "247036a6-2680-446b-853d-446a9506ff38",
   "metadata": {},
   "source": [
    "For a quick look at the importance scores we can run model.interpret with the test dataset. We recommend however, to use multiple folds of cross validation before inspecting feature and pathway importances, since individual runs can drastically differ and only stable features across runs can be considered important."
   ]
  },
  {
   "cell_type": "code",
   "execution_count": null,
   "id": "94d4ca4b-3bc5-4fde-a44f-f38d4e254260",
   "metadata": {},
   "outputs": [],
   "source": [
    "gene_feature_importances, additional_feature_importances, gene_importances, layer_importance_scores = model.interpret(test_dataset)\n",
    "layer_list = [gene_feature_importances, additional_feature_importances, gene_importances] + layer_importance_scores\n",
    "layer_list_names = ['gene_feature', 'additional_feature', 'gene'] + [f'layer_{i}' for i in range(5)]\n",
    "layer_list_dict = dict(zip(layer_list_names, layer_list))"
   ]
  },
  {
   "cell_type": "markdown",
   "id": "063a3629-1534-4af0-94f2-fe0b864eec7a",
   "metadata": {},
   "source": [
    "To visualize feature importances, one can generate a Sankey Diagram across all layers of the model:"
   ]
  },
  {
   "cell_type": "code",
   "execution_count": null,
   "id": "4864e955-0e28-41b0-b3be-f1b278ae684c",
   "metadata": {},
   "outputs": [],
   "source": [
    "savepath = '/mnt/disks/pancan/pnet/figures/skcm_purity_sankey.html'\n",
    "sk = sankey_diag.SankeyDiag(layer_list_dict, runs=1)\n",
    "fig = sk.get_sankey_diag(savepath)"
   ]
  },
  {
   "cell_type": "markdown",
   "id": "881ede55",
   "metadata": {},
   "source": [
    "### External Validation"
   ]
  },
  {
   "cell_type": "markdown",
   "id": "b78896b1-ef8d-4be5-a632-79e735091034",
   "metadata": {},
   "source": [
    "#### Data Loading"
   ]
  },
  {
   "cell_type": "markdown",
   "id": "111f97a3-27c4-47a2-8afa-8eb40f5ab6ac",
   "metadata": {},
   "source": [
    "To show generalizability of Pnet we show the performance on an external validation dataset. The Liu 2019 cohort (https://doi.org/10.1038/s41591-019-0654-5) was used. Where purity has also been identified with the Absolute algorithm."
   ]
  },
  {
   "cell_type": "code",
   "execution_count": null,
   "id": "c0f3663e-8794-4e45-aa33-1aa93fbe4919",
   "metadata": {},
   "outputs": [],
   "source": [
    "rna_ext_val = pd.read_csv('/mnt/disks/pancan/data/mel_dfci_2019/data_RNA_Seq_expression_tpm_all_sample_Zscores.txt',\n",
    "                          delimiter='\\t').set_index('Hugo_Symbol').T.drop('Entrez_Gene_Id').dropna(axis=1)\n",
    "cna_ext_val = pd.read_csv('/mnt/disks/pancan/data/mel_dfci_2019/data_CNA.txt',\n",
    "                          delimiter='\\t').set_index('Hugo_Symbol').T.dropna(axis=1)\n",
    "\n",
    "ext_val = pd.read_csv('/mnt/disks/pancan/data/mel_dfci_2019/data_clinical_sample.txt',\n",
    "                             delimiter='\\t').set_index('Sample Identifier').iloc[4:]\n",
    "\n",
    "ext_val_target = ext_val['Purity'].astype('float')\n",
    "\n",
    "inds = pnet_loader.get_indicies(genetic_data = {'rna': rna_ext_val, 'cna': cna_ext_val},\n",
    "                                target=ext_val_target)\n",
    "\n",
    "ext_val_dataset = pnet_loader.PnetDataset(genetic_data = {'rna': rna_ext_val, 'cna': cna_ext_val},\n",
    "                                          target=ext_val_target, indicies=inds, gene_set=canc_genes)\n",
    "\n",
    "x_val = ext_val_dataset.x\n",
    "additional_val = ext_val_dataset.additional\n",
    "y_val = ext_val_dataset.y"
   ]
  },
  {
   "cell_type": "markdown",
   "id": "d240c212-27be-4dbc-8358-30102c6ad9f4",
   "metadata": {},
   "source": [
    "#### Predict Validation Samples"
   ]
  },
  {
   "cell_type": "code",
   "execution_count": null,
   "id": "de8df683-f8a6-4ca5-81e2-d89aefb6db09",
   "metadata": {
    "tags": []
   },
   "outputs": [],
   "source": [
    "y_pred = model.predict(x_val, additional_val).detach()"
   ]
  },
  {
   "cell_type": "markdown",
   "id": "e68a26cb-8dd4-4328-8e2a-4d2183557241",
   "metadata": {},
   "source": [
    "#### Plot Validation Samples"
   ]
  },
  {
   "cell_type": "code",
   "execution_count": null,
   "id": "576a017a-4757-4b91-a291-b3e1bc0e5336",
   "metadata": {},
   "outputs": [],
   "source": [
    "df = pd.DataFrame(index=ext_val_dataset.input_df.index)\n",
    "df['y_test'] = y_val\n",
    "df['y_pred'] = y_pred\n",
    "\n",
    "sns.regplot(data=df, x='y_test', y='y_pred', color='#41B6E6')\n",
    "correlation_coefficient = round(df['y_test'].corr(df['y_pred']), 2)\n",
    "plt.text(0.95, 0.05, f'Correlation: {correlation_coefficient}', ha='right', va='center', transform=plt.gca().transAxes)\n",
    "plt.plot(y_test, y_test, color='#FFA300', linestyle='--', label='Diagonal Line')\n",
    "sns.despine()\n",
    "plt.show()"
   ]
  },
  {
   "cell_type": "markdown",
   "id": "63bedc7b-5729-4fc7-966e-fbe3175445c9",
   "metadata": {},
   "source": [
    "We can see that even in a independent dataset Pnet is generally predicting purity well. It is overestimating the purity in the validation set slightly, especially for lower purity samples. Maybe the performance could be improved by using a customary loss function for the problem at hand."
   ]
  },
  {
   "cell_type": "markdown",
   "id": "a564b067-1d0a-4327-ab7d-93bef191e479",
   "metadata": {},
   "source": [
    "## Use custom loss function"
   ]
  },
  {
   "cell_type": "markdown",
   "id": "7d93b2cc-67c2-455c-ad1a-f0f66a480a74",
   "metadata": {},
   "source": [
    "We define a weighted MSE loss that penalizes bad predictions in extreme samples more. Bad predictions in a sample with very high or very low purity would be more influencial to the model than in average purity samples."
   ]
  },
  {
   "cell_type": "code",
   "execution_count": null,
   "id": "984f4734-b2c9-449f-ba69-127e0a9f2447",
   "metadata": {},
   "outputs": [],
   "source": [
    "import torch.nn as nn\n",
    "import torch.nn.functional as F\n",
    "\n",
    "class WeightedMSELoss(nn.Module):\n",
    "    def __init__(self):\n",
    "        super(WeightedMSELoss, self).__init__()\n",
    "\n",
    "    def forward(self, input, target):\n",
    "        # Calculate the absolute distance of the true values from 0.5\n",
    "        distance_from_center = torch.abs(target - 0.5)\n",
    "        # Scale weights as needed; further from 0.5 gets higher weight\n",
    "        # This example linearly increases the weight as the distance from 0.5 increases\n",
    "        weights = 1 + distance_from_center \n",
    "        # Calculate weighted MSE\n",
    "        se = (input - target) ** 2\n",
    "        weighted_se = weights * se\n",
    "        loss = weighted_se.mean()\n",
    "        return loss\n"
   ]
  },
  {
   "cell_type": "markdown",
   "id": "1d23678d-1697-4bb0-a8cb-0884f99cb4e8",
   "metadata": {},
   "source": [
    "The custom loss function easily integrates into the model training."
   ]
  },
  {
   "cell_type": "code",
   "execution_count": null,
   "id": "29db35bc-e336-4d2d-83f9-496c8a7d89b7",
   "metadata": {},
   "outputs": [],
   "source": [
    "model, train_scores, test_scores, train_dataset, test_dataset = Pnet.run(genetic_data,\n",
    "                                                                         purity,\n",
    "                                                                         gene_set=canc_genes,\n",
    "                                                                         loss_fn = WeightedMSELoss())"
   ]
  },
  {
   "cell_type": "code",
   "execution_count": null,
   "id": "14a86ff9-69ce-428c-878a-1a01c7f836bf",
   "metadata": {},
   "outputs": [],
   "source": [
    "model.to('cpu')\n",
    "\n",
    "y_pred = model.predict(x_test, additional_test).detach()\n",
    "\n",
    "df = pd.DataFrame(index=test_dataset.input_df.index)\n",
    "df['y_test'] = y_test\n",
    "df['y_pred'] = y_pred\n",
    "\n",
    "sns.regplot(data=df, x='y_test', y='y_pred', color='#41B6E6')\n",
    "correlation_coefficient = round(df['y_test'].corr(df['y_pred']), 2)\n",
    "plt.text(0.95, 0.05, f'Correlation: {correlation_coefficient}', ha='right', va='center', transform=plt.gca().transAxes)\n",
    "plt.plot(y_test, y_test, color='#FFA300', linestyle='--', label='Diagonal Line')\n",
    "sns.despine()\n",
    "plt.show()"
   ]
  },
  {
   "cell_type": "markdown",
   "id": "a2f71700-9c76-43bb-ab70-7a16ad821028",
   "metadata": {},
   "source": [
    "Performance in the test dataset is already much higher. Especially in extreme samples."
   ]
  },
  {
   "cell_type": "code",
   "execution_count": null,
   "id": "332baaeb-2c5e-4678-b407-f8ad05e3cf20",
   "metadata": {},
   "outputs": [],
   "source": [
    "y_pred = model.predict(x_val, additional_val).detach()\n",
    "df = pd.DataFrame(index=ext_val_dataset.input_df.index)\n",
    "df['y_test'] = y_val\n",
    "df['y_pred'] = y_pred\n",
    "\n",
    "sns.regplot(data=df, x='y_test', y='y_pred', color='#41B6E6')\n",
    "correlation_coefficient = round(df['y_test'].corr(df['y_pred']), 2)\n",
    "plt.text(0.95, 0.05, f'Correlation: {correlation_coefficient}', ha='right', va='center', transform=plt.gca().transAxes)\n",
    "plt.plot(y_test, y_test, color='#FFA300', linestyle='--', label='Diagonal Line')\n",
    "sns.despine()\n",
    "plt.show()"
   ]
  }
 ],
 "metadata": {
  "environment": {
   "kernel": "conda-env-pnet-py",
   "name": "pytorch-gpu.1-10.m90",
   "type": "gcloud",
   "uri": "gcr.io/deeplearning-platform-release/pytorch-gpu.1-10:m90"
  },
  "kernelspec": {
   "display_name": "P-NET",
   "language": "python",
   "name": "python3"
  },
  "language_info": {
   "codemirror_mode": {
    "name": "ipython",
    "version": 3
   },
   "file_extension": ".py",
   "mimetype": "text/x-python",
   "name": "python",
   "nbconvert_exporter": "python",
   "pygments_lexer": "ipython3",
   "version": "3.10.16"
  }
 },
 "nbformat": 4,
 "nbformat_minor": 5
}
